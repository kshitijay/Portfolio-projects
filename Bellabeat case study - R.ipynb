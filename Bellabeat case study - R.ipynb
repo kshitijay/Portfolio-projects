{
 "cells": [
  {
   "cell_type": "markdown",
   "id": "bc1be5a4",
   "metadata": {
    "papermill": {
     "duration": 0.051628,
     "end_time": "2022-03-14T13:32:57.874218",
     "exception": false,
     "start_time": "2022-03-14T13:32:57.822590",
     "status": "completed"
    },
    "tags": []
   },
   "source": [
    "\n"
   ]
  },
  {
   "cell_type": "markdown",
   "id": "021f6e38",
   "metadata": {
    "papermill": {
     "duration": 0.049867,
     "end_time": "2022-03-14T13:32:57.974055",
     "exception": false,
     "start_time": "2022-03-14T13:32:57.924188",
     "status": "completed"
    },
    "tags": []
   },
   "source": [
    "# Bellabeat Case Study"
   ]
  },
  {
   "cell_type": "markdown",
   "id": "61f2d959",
   "metadata": {
    "papermill": {
     "duration": 0.050417,
     "end_time": "2022-03-14T13:32:58.073495",
     "exception": false,
     "start_time": "2022-03-14T13:32:58.023078",
     "status": "completed"
    },
    "tags": []
   },
   "source": [
    "**<h3>1. Introduction**"
   ]
  },
  {
   "cell_type": "markdown",
   "id": "d609e562",
   "metadata": {
    "papermill": {
     "duration": 0.049055,
     "end_time": "2022-03-14T13:32:58.171597",
     "exception": false,
     "start_time": "2022-03-14T13:32:58.122542",
     "status": "completed"
    },
    "tags": []
   },
   "source": [
    "Bellabeat is a high-tech manufacturer of health-focused products for women.Beallabeat is a successful small company, and they have the potential to become a larger player in the global smart device market.Urska Srsen, CoFounder and Chief Creative Office of Bellabeat,believes that analysing smart device fitness data could help the company unlock new growth opportunities. The CoFounder has asked the marketing analytics team to analyse the smart device usage data in order to gain insights into how people are using their smart devices.Then using this information, the Bellabeat company's panel will like to receive high- level recommendations for how these trends can inform the Bellabeat marketing strategy."
   ]
  },
  {
   "cell_type": "markdown",
   "id": "10b664c0",
   "metadata": {
    "papermill": {
     "duration": 0.050578,
     "end_time": "2022-03-14T13:32:58.271516",
     "exception": false,
     "start_time": "2022-03-14T13:32:58.220938",
     "status": "completed"
    },
    "tags": []
   },
   "source": [
    "**<h3>2.  Objective**"
   ]
  },
  {
   "cell_type": "markdown",
   "id": "b7ca5c81",
   "metadata": {
    "papermill": {
     "duration": 0.049727,
     "end_time": "2022-03-14T13:32:58.371298",
     "exception": false,
     "start_time": "2022-03-14T13:32:58.321571",
     "status": "completed"
    },
    "tags": []
   },
   "source": [
    "**<h4> Business Task**"
   ]
  },
  {
   "cell_type": "markdown",
   "id": "488c1f1b",
   "metadata": {
    "papermill": {
     "duration": 0.050126,
     "end_time": "2022-03-14T13:32:58.470655",
     "exception": false,
     "start_time": "2022-03-14T13:32:58.420529",
     "status": "completed"
    },
    "tags": []
   },
   "source": [
    ">   Analyse the smart device data to gain insights into how customers are using their smart devices.The insights discovered along with few high-level recommendations can guide the marketing strategy of the company thus making it a large player in smart device market."
   ]
  },
  {
   "cell_type": "markdown",
   "id": "7a275100",
   "metadata": {
    "papermill": {
     "duration": 0.050166,
     "end_time": "2022-03-14T13:32:58.570927",
     "exception": false,
     "start_time": "2022-03-14T13:32:58.520761",
     "status": "completed"
    },
    "tags": []
   },
   "source": [
    "**<h4> Ask**"
   ]
  },
  {
   "cell_type": "markdown",
   "id": "ef55b3bb",
   "metadata": {
    "papermill": {
     "duration": 0.049967,
     "end_time": "2022-03-14T13:32:58.670482",
     "exception": false,
     "start_time": "2022-03-14T13:32:58.620515",
     "status": "completed"
    },
    "tags": []
   },
   "source": [
    "> *  What are some trends in smart device usage?\n",
    "> *  How could these trends apply to Bellabeat customers?\n",
    ">*  How could these trends help influence Bellabeat marketing strategy?\n"
   ]
  },
  {
   "cell_type": "markdown",
   "id": "eb96a1f8",
   "metadata": {
    "papermill": {
     "duration": 0.049005,
     "end_time": "2022-03-14T13:32:58.768654",
     "exception": false,
     "start_time": "2022-03-14T13:32:58.719649",
     "status": "completed"
    },
    "tags": []
   },
   "source": [
    "**<H3>3. Prepare**"
   ]
  },
  {
   "cell_type": "markdown",
   "id": "6db6a96d",
   "metadata": {
    "papermill": {
     "duration": 0.04905,
     "end_time": "2022-03-14T13:32:58.867228",
     "exception": false,
     "start_time": "2022-03-14T13:32:58.818178",
     "status": "completed"
    },
    "tags": []
   },
   "source": [
    "The Co-founder of Bellabeat has encouraged to use this Kaggle dataset - [FitBit Tracker Data](http://kaggle.com/arashnic/fitbit). This Kaggle dataset contains perosnal fitness tracker from thirty fitbit users who consented to submit their data. These users consented to the submission of personal tracker data, including minute level output for physical activity,heart rate and sleep monitoring."
   ]
  },
  {
   "cell_type": "markdown",
   "id": "9987d580",
   "metadata": {
    "papermill": {
     "duration": 0.049603,
     "end_time": "2022-03-14T13:32:58.965705",
     "exception": false,
     "start_time": "2022-03-14T13:32:58.916102",
     "status": "completed"
    },
    "tags": []
   },
   "source": [
    "> After reviewing the datasets, I have decided to use the below five datasets:\n",
    "> \n",
    "> 1. daily_activity_merged.csv : This datasetcontains the daily activity duration,total steps covered in a day and calories burnt.\n",
    "> 2. hourlyCAlries_merged.csv : collects data about calories burnt in an hour\n",
    "> 3. hourlyIntensities_merged.csv : contains total and average intensity per hour\n",
    "> 4. hourlySteps_merged.csv : contains total steps walked per hour in a day\n",
    "> 5. sleepDay_merged.csv : collects data about total sleep duration per day\n",
    "> 6. weightLogInfo_merged.csv : has data about weight and BMI count per day for each customer."
   ]
  },
  {
   "cell_type": "markdown",
   "id": "49427d97",
   "metadata": {
    "papermill": {
     "duration": 0.049355,
     "end_time": "2022-03-14T13:32:59.065174",
     "exception": false,
     "start_time": "2022-03-14T13:32:59.015819",
     "status": "completed"
    },
    "tags": []
   },
   "source": [
    "**<h3>4. Project Set-Up:**"
   ]
  },
  {
   "cell_type": "markdown",
   "id": "043be9d3",
   "metadata": {
    "papermill": {
     "duration": 0.049377,
     "end_time": "2022-03-14T13:32:59.164591",
     "exception": false,
     "start_time": "2022-03-14T13:32:59.115214",
     "status": "completed"
    },
    "tags": []
   },
   "source": [
    " **<h4> 4.1 Installing the required packages:**"
   ]
  },
  {
   "cell_type": "code",
   "execution_count": 1,
   "id": "d2bb7155",
   "metadata": {
    "_execution_state": "idle",
    "_uuid": "051d70d956493feee0c6d64651c6a088724dca2a",
    "execution": {
     "iopub.execute_input": "2022-03-14T13:32:59.273833Z",
     "iopub.status.busy": "2022-03-14T13:32:59.270613Z",
     "iopub.status.idle": "2022-03-14T13:33:00.786537Z",
     "shell.execute_reply": "2022-03-14T13:33:00.784565Z"
    },
    "papermill": {
     "duration": 1.573015,
     "end_time": "2022-03-14T13:33:00.786704",
     "exception": false,
     "start_time": "2022-03-14T13:32:59.213689",
     "status": "completed"
    },
    "tags": []
   },
   "outputs": [
    {
     "name": "stderr",
     "output_type": "stream",
     "text": [
      "── \u001b[1mAttaching packages\u001b[22m ─────────────────────────────────────── tidyverse 1.3.1 ──\n",
      "\n",
      "\u001b[32m✔\u001b[39m \u001b[34mggplot2\u001b[39m 3.3.4     \u001b[32m✔\u001b[39m \u001b[34mpurrr  \u001b[39m 0.3.4\n",
      "\u001b[32m✔\u001b[39m \u001b[34mtibble \u001b[39m 3.1.2     \u001b[32m✔\u001b[39m \u001b[34mdplyr  \u001b[39m 1.0.7\n",
      "\u001b[32m✔\u001b[39m \u001b[34mtidyr  \u001b[39m 1.1.3     \u001b[32m✔\u001b[39m \u001b[34mstringr\u001b[39m 1.4.0\n",
      "\u001b[32m✔\u001b[39m \u001b[34mreadr  \u001b[39m 1.4.0     \u001b[32m✔\u001b[39m \u001b[34mforcats\u001b[39m 0.5.1\n",
      "\n",
      "── \u001b[1mConflicts\u001b[22m ────────────────────────────────────────── tidyverse_conflicts() ──\n",
      "\u001b[31m✖\u001b[39m \u001b[34mdplyr\u001b[39m::\u001b[32mfilter()\u001b[39m masks \u001b[34mstats\u001b[39m::filter()\n",
      "\u001b[31m✖\u001b[39m \u001b[34mdplyr\u001b[39m::\u001b[32mlag()\u001b[39m    masks \u001b[34mstats\u001b[39m::lag()\n",
      "\n",
      "\n",
      "Attaching package: ‘lubridate’\n",
      "\n",
      "\n",
      "The following objects are masked from ‘package:base’:\n",
      "\n",
      "    date, intersect, setdiff, union\n",
      "\n",
      "\n",
      "\n",
      "Attaching package: ‘janitor’\n",
      "\n",
      "\n",
      "The following objects are masked from ‘package:stats’:\n",
      "\n",
      "    chisq.test, fisher.test\n",
      "\n",
      "\n",
      "\n",
      "Attaching package: ‘hms’\n",
      "\n",
      "\n",
      "The following object is masked from ‘package:lubridate’:\n",
      "\n",
      "    hms\n",
      "\n",
      "\n"
     ]
    }
   ],
   "source": [
    "library(tidyverse)\n",
    "library(dplyr)\n",
    "library(lubridate)\n",
    "library(ggplot2)\n",
    "library(skimr)\n",
    "library(tidyr)\n",
    "library(janitor)\n",
    "library(hms)\n",
    "\n"
   ]
  },
  {
   "cell_type": "markdown",
   "id": "6e560375",
   "metadata": {
    "papermill": {
     "duration": 0.051957,
     "end_time": "2022-03-14T13:33:00.890984",
     "exception": false,
     "start_time": "2022-03-14T13:33:00.839027",
     "status": "completed"
    },
    "tags": []
   },
   "source": [
    "**<h4>4.2 Importing the datasets :**"
   ]
  },
  {
   "cell_type": "code",
   "execution_count": 2,
   "id": "a94c2b91",
   "metadata": {
    "_execution_state": "idle",
    "_uuid": "051d70d956493feee0c6d64651c6a088724dca2a",
    "execution": {
     "iopub.execute_input": "2022-03-14T13:33:01.035059Z",
     "iopub.status.busy": "2022-03-14T13:33:01.001041Z",
     "iopub.status.idle": "2022-03-14T13:33:01.454609Z",
     "shell.execute_reply": "2022-03-14T13:33:01.452903Z"
    },
    "papermill": {
     "duration": 0.511604,
     "end_time": "2022-03-14T13:33:01.454766",
     "exception": false,
     "start_time": "2022-03-14T13:33:00.943162",
     "status": "completed"
    },
    "tags": []
   },
   "outputs": [
    {
     "name": "stderr",
     "output_type": "stream",
     "text": [
      "\n",
      "\u001b[36m──\u001b[39m \u001b[1m\u001b[1mColumn specification\u001b[1m\u001b[22m \u001b[36m────────────────────────────────────────────────────────\u001b[39m\n",
      "cols(\n",
      "  Id = \u001b[32mcol_double()\u001b[39m,\n",
      "  ActivityDate = \u001b[31mcol_character()\u001b[39m,\n",
      "  TotalSteps = \u001b[32mcol_double()\u001b[39m,\n",
      "  TotalDistance = \u001b[32mcol_double()\u001b[39m,\n",
      "  TrackerDistance = \u001b[32mcol_double()\u001b[39m,\n",
      "  LoggedActivitiesDistance = \u001b[32mcol_double()\u001b[39m,\n",
      "  VeryActiveDistance = \u001b[32mcol_double()\u001b[39m,\n",
      "  ModeratelyActiveDistance = \u001b[32mcol_double()\u001b[39m,\n",
      "  LightActiveDistance = \u001b[32mcol_double()\u001b[39m,\n",
      "  SedentaryActiveDistance = \u001b[32mcol_double()\u001b[39m,\n",
      "  VeryActiveMinutes = \u001b[32mcol_double()\u001b[39m,\n",
      "  FairlyActiveMinutes = \u001b[32mcol_double()\u001b[39m,\n",
      "  LightlyActiveMinutes = \u001b[32mcol_double()\u001b[39m,\n",
      "  SedentaryMinutes = \u001b[32mcol_double()\u001b[39m,\n",
      "  Calories = \u001b[32mcol_double()\u001b[39m\n",
      ")\n",
      "\n",
      "\n",
      "\n",
      "\u001b[36m──\u001b[39m \u001b[1m\u001b[1mColumn specification\u001b[1m\u001b[22m \u001b[36m────────────────────────────────────────────────────────\u001b[39m\n",
      "cols(\n",
      "  Id = \u001b[32mcol_double()\u001b[39m,\n",
      "  ActivityHour = \u001b[31mcol_character()\u001b[39m,\n",
      "  Calories = \u001b[32mcol_double()\u001b[39m\n",
      ")\n",
      "\n",
      "\n",
      "\n",
      "\u001b[36m──\u001b[39m \u001b[1m\u001b[1mColumn specification\u001b[1m\u001b[22m \u001b[36m────────────────────────────────────────────────────────\u001b[39m\n",
      "cols(\n",
      "  Id = \u001b[32mcol_double()\u001b[39m,\n",
      "  ActivityHour = \u001b[31mcol_character()\u001b[39m,\n",
      "  TotalIntensity = \u001b[32mcol_double()\u001b[39m,\n",
      "  AverageIntensity = \u001b[32mcol_double()\u001b[39m\n",
      ")\n",
      "\n",
      "\n",
      "\n",
      "\u001b[36m──\u001b[39m \u001b[1m\u001b[1mColumn specification\u001b[1m\u001b[22m \u001b[36m────────────────────────────────────────────────────────\u001b[39m\n",
      "cols(\n",
      "  Id = \u001b[32mcol_double()\u001b[39m,\n",
      "  ActivityHour = \u001b[31mcol_character()\u001b[39m,\n",
      "  StepTotal = \u001b[32mcol_double()\u001b[39m\n",
      ")\n",
      "\n",
      "\n",
      "\n",
      "\u001b[36m──\u001b[39m \u001b[1m\u001b[1mColumn specification\u001b[1m\u001b[22m \u001b[36m────────────────────────────────────────────────────────\u001b[39m\n",
      "cols(\n",
      "  Id = \u001b[32mcol_double()\u001b[39m,\n",
      "  SleepDay = \u001b[31mcol_character()\u001b[39m,\n",
      "  TotalSleepRecords = \u001b[32mcol_double()\u001b[39m,\n",
      "  TotalMinutesAsleep = \u001b[32mcol_double()\u001b[39m,\n",
      "  TotalTimeInBed = \u001b[32mcol_double()\u001b[39m\n",
      ")\n",
      "\n",
      "\n",
      "\n",
      "\u001b[36m──\u001b[39m \u001b[1m\u001b[1mColumn specification\u001b[1m\u001b[22m \u001b[36m────────────────────────────────────────────────────────\u001b[39m\n",
      "cols(\n",
      "  Id = \u001b[32mcol_double()\u001b[39m,\n",
      "  Date = \u001b[31mcol_character()\u001b[39m,\n",
      "  WeightKg = \u001b[32mcol_double()\u001b[39m,\n",
      "  WeightPounds = \u001b[32mcol_double()\u001b[39m,\n",
      "  Fat = \u001b[32mcol_double()\u001b[39m,\n",
      "  BMI = \u001b[32mcol_double()\u001b[39m,\n",
      "  IsManualReport = \u001b[33mcol_logical()\u001b[39m,\n",
      "  LogId = \u001b[32mcol_double()\u001b[39m\n",
      ")\n",
      "\n",
      "\n"
     ]
    }
   ],
   "source": [
    "daily_activity <- read_csv(\"../input/fitbit/Fitabase Data 4.12.16-5.12.16/dailyActivity_merged.csv\")\n",
    "hourly_calories <- read_csv(\"../input/fitbit/Fitabase Data 4.12.16-5.12.16/hourlyCalories_merged.csv\")\n",
    "hourly_intensity <- read_csv(\"../input/fitbit/Fitabase Data 4.12.16-5.12.16/hourlyIntensities_merged.csv\")\n",
    "hourly_steps <- read_csv(\"../input/fitbit/Fitabase Data 4.12.16-5.12.16/hourlySteps_merged.csv\")\n",
    "sleepDay <- read_csv(\"../input/fitbit/Fitabase Data 4.12.16-5.12.16/sleepDay_merged.csv\")\n",
    "weightLog <- read_csv(\"../input/fitbit/Fitabase Data 4.12.16-5.12.16/weightLogInfo_merged.csv\")"
   ]
  },
  {
   "cell_type": "markdown",
   "id": "b10b7c93",
   "metadata": {
    "papermill": {
     "duration": 0.055385,
     "end_time": "2022-03-14T13:33:01.564980",
     "exception": false,
     "start_time": "2022-03-14T13:33:01.509595",
     "status": "completed"
    },
    "tags": []
   },
   "source": [
    "**<h3> 5. Process the data**"
   ]
  },
  {
   "cell_type": "markdown",
   "id": "9e56ceaa",
   "metadata": {
    "papermill": {
     "duration": 0.05458,
     "end_time": "2022-03-14T13:33:01.673584",
     "exception": false,
     "start_time": "2022-03-14T13:33:01.619004",
     "status": "completed"
    },
    "tags": []
   },
   "source": [
    "**<h4>5.1 Exploring the datasets:**"
   ]
  },
  {
   "cell_type": "code",
   "execution_count": 3,
   "id": "f38aa098",
   "metadata": {
    "_execution_state": "idle",
    "_uuid": "051d70d956493feee0c6d64651c6a088724dca2a",
    "execution": {
     "iopub.execute_input": "2022-03-14T13:33:01.787404Z",
     "iopub.status.busy": "2022-03-14T13:33:01.785735Z",
     "iopub.status.idle": "2022-03-14T13:33:01.958569Z",
     "shell.execute_reply": "2022-03-14T13:33:01.956835Z"
    },
    "papermill": {
     "duration": 0.230872,
     "end_time": "2022-03-14T13:33:01.958722",
     "exception": false,
     "start_time": "2022-03-14T13:33:01.727850",
     "status": "completed"
    },
    "tags": []
   },
   "outputs": [
    {
     "data": {
      "text/html": [
       "<table class=\"dataframe\">\n",
       "<caption>A tibble: 6 × 15</caption>\n",
       "<thead>\n",
       "\t<tr><th scope=col>Id</th><th scope=col>ActivityDate</th><th scope=col>TotalSteps</th><th scope=col>TotalDistance</th><th scope=col>TrackerDistance</th><th scope=col>LoggedActivitiesDistance</th><th scope=col>VeryActiveDistance</th><th scope=col>ModeratelyActiveDistance</th><th scope=col>LightActiveDistance</th><th scope=col>SedentaryActiveDistance</th><th scope=col>VeryActiveMinutes</th><th scope=col>FairlyActiveMinutes</th><th scope=col>LightlyActiveMinutes</th><th scope=col>SedentaryMinutes</th><th scope=col>Calories</th></tr>\n",
       "\t<tr><th scope=col>&lt;dbl&gt;</th><th scope=col>&lt;chr&gt;</th><th scope=col>&lt;dbl&gt;</th><th scope=col>&lt;dbl&gt;</th><th scope=col>&lt;dbl&gt;</th><th scope=col>&lt;dbl&gt;</th><th scope=col>&lt;dbl&gt;</th><th scope=col>&lt;dbl&gt;</th><th scope=col>&lt;dbl&gt;</th><th scope=col>&lt;dbl&gt;</th><th scope=col>&lt;dbl&gt;</th><th scope=col>&lt;dbl&gt;</th><th scope=col>&lt;dbl&gt;</th><th scope=col>&lt;dbl&gt;</th><th scope=col>&lt;dbl&gt;</th></tr>\n",
       "</thead>\n",
       "<tbody>\n",
       "\t<tr><td>1503960366</td><td>4/12/2016</td><td>13162</td><td>8.50</td><td>8.50</td><td>0</td><td>1.88</td><td>0.55</td><td>6.06</td><td>0</td><td>25</td><td>13</td><td>328</td><td> 728</td><td>1985</td></tr>\n",
       "\t<tr><td>1503960366</td><td>4/13/2016</td><td>10735</td><td>6.97</td><td>6.97</td><td>0</td><td>1.57</td><td>0.69</td><td>4.71</td><td>0</td><td>21</td><td>19</td><td>217</td><td> 776</td><td>1797</td></tr>\n",
       "\t<tr><td>1503960366</td><td>4/14/2016</td><td>10460</td><td>6.74</td><td>6.74</td><td>0</td><td>2.44</td><td>0.40</td><td>3.91</td><td>0</td><td>30</td><td>11</td><td>181</td><td>1218</td><td>1776</td></tr>\n",
       "\t<tr><td>1503960366</td><td>4/15/2016</td><td> 9762</td><td>6.28</td><td>6.28</td><td>0</td><td>2.14</td><td>1.26</td><td>2.83</td><td>0</td><td>29</td><td>34</td><td>209</td><td> 726</td><td>1745</td></tr>\n",
       "\t<tr><td>1503960366</td><td>4/16/2016</td><td>12669</td><td>8.16</td><td>8.16</td><td>0</td><td>2.71</td><td>0.41</td><td>5.04</td><td>0</td><td>36</td><td>10</td><td>221</td><td> 773</td><td>1863</td></tr>\n",
       "\t<tr><td>1503960366</td><td>4/17/2016</td><td> 9705</td><td>6.48</td><td>6.48</td><td>0</td><td>3.19</td><td>0.78</td><td>2.51</td><td>0</td><td>38</td><td>20</td><td>164</td><td> 539</td><td>1728</td></tr>\n",
       "</tbody>\n",
       "</table>\n"
      ],
      "text/latex": [
       "A tibble: 6 × 15\n",
       "\\begin{tabular}{lllllllllllllll}\n",
       " Id & ActivityDate & TotalSteps & TotalDistance & TrackerDistance & LoggedActivitiesDistance & VeryActiveDistance & ModeratelyActiveDistance & LightActiveDistance & SedentaryActiveDistance & VeryActiveMinutes & FairlyActiveMinutes & LightlyActiveMinutes & SedentaryMinutes & Calories\\\\\n",
       " <dbl> & <chr> & <dbl> & <dbl> & <dbl> & <dbl> & <dbl> & <dbl> & <dbl> & <dbl> & <dbl> & <dbl> & <dbl> & <dbl> & <dbl>\\\\\n",
       "\\hline\n",
       "\t 1503960366 & 4/12/2016 & 13162 & 8.50 & 8.50 & 0 & 1.88 & 0.55 & 6.06 & 0 & 25 & 13 & 328 &  728 & 1985\\\\\n",
       "\t 1503960366 & 4/13/2016 & 10735 & 6.97 & 6.97 & 0 & 1.57 & 0.69 & 4.71 & 0 & 21 & 19 & 217 &  776 & 1797\\\\\n",
       "\t 1503960366 & 4/14/2016 & 10460 & 6.74 & 6.74 & 0 & 2.44 & 0.40 & 3.91 & 0 & 30 & 11 & 181 & 1218 & 1776\\\\\n",
       "\t 1503960366 & 4/15/2016 &  9762 & 6.28 & 6.28 & 0 & 2.14 & 1.26 & 2.83 & 0 & 29 & 34 & 209 &  726 & 1745\\\\\n",
       "\t 1503960366 & 4/16/2016 & 12669 & 8.16 & 8.16 & 0 & 2.71 & 0.41 & 5.04 & 0 & 36 & 10 & 221 &  773 & 1863\\\\\n",
       "\t 1503960366 & 4/17/2016 &  9705 & 6.48 & 6.48 & 0 & 3.19 & 0.78 & 2.51 & 0 & 38 & 20 & 164 &  539 & 1728\\\\\n",
       "\\end{tabular}\n"
      ],
      "text/markdown": [
       "\n",
       "A tibble: 6 × 15\n",
       "\n",
       "| Id &lt;dbl&gt; | ActivityDate &lt;chr&gt; | TotalSteps &lt;dbl&gt; | TotalDistance &lt;dbl&gt; | TrackerDistance &lt;dbl&gt; | LoggedActivitiesDistance &lt;dbl&gt; | VeryActiveDistance &lt;dbl&gt; | ModeratelyActiveDistance &lt;dbl&gt; | LightActiveDistance &lt;dbl&gt; | SedentaryActiveDistance &lt;dbl&gt; | VeryActiveMinutes &lt;dbl&gt; | FairlyActiveMinutes &lt;dbl&gt; | LightlyActiveMinutes &lt;dbl&gt; | SedentaryMinutes &lt;dbl&gt; | Calories &lt;dbl&gt; |\n",
       "|---|---|---|---|---|---|---|---|---|---|---|---|---|---|---|\n",
       "| 1503960366 | 4/12/2016 | 13162 | 8.50 | 8.50 | 0 | 1.88 | 0.55 | 6.06 | 0 | 25 | 13 | 328 |  728 | 1985 |\n",
       "| 1503960366 | 4/13/2016 | 10735 | 6.97 | 6.97 | 0 | 1.57 | 0.69 | 4.71 | 0 | 21 | 19 | 217 |  776 | 1797 |\n",
       "| 1503960366 | 4/14/2016 | 10460 | 6.74 | 6.74 | 0 | 2.44 | 0.40 | 3.91 | 0 | 30 | 11 | 181 | 1218 | 1776 |\n",
       "| 1503960366 | 4/15/2016 |  9762 | 6.28 | 6.28 | 0 | 2.14 | 1.26 | 2.83 | 0 | 29 | 34 | 209 |  726 | 1745 |\n",
       "| 1503960366 | 4/16/2016 | 12669 | 8.16 | 8.16 | 0 | 2.71 | 0.41 | 5.04 | 0 | 36 | 10 | 221 |  773 | 1863 |\n",
       "| 1503960366 | 4/17/2016 |  9705 | 6.48 | 6.48 | 0 | 3.19 | 0.78 | 2.51 | 0 | 38 | 20 | 164 |  539 | 1728 |\n",
       "\n"
      ],
      "text/plain": [
       "  Id         ActivityDate TotalSteps TotalDistance TrackerDistance\n",
       "1 1503960366 4/12/2016    13162      8.50          8.50           \n",
       "2 1503960366 4/13/2016    10735      6.97          6.97           \n",
       "3 1503960366 4/14/2016    10460      6.74          6.74           \n",
       "4 1503960366 4/15/2016     9762      6.28          6.28           \n",
       "5 1503960366 4/16/2016    12669      8.16          8.16           \n",
       "6 1503960366 4/17/2016     9705      6.48          6.48           \n",
       "  LoggedActivitiesDistance VeryActiveDistance ModeratelyActiveDistance\n",
       "1 0                        1.88               0.55                    \n",
       "2 0                        1.57               0.69                    \n",
       "3 0                        2.44               0.40                    \n",
       "4 0                        2.14               1.26                    \n",
       "5 0                        2.71               0.41                    \n",
       "6 0                        3.19               0.78                    \n",
       "  LightActiveDistance SedentaryActiveDistance VeryActiveMinutes\n",
       "1 6.06                0                       25               \n",
       "2 4.71                0                       21               \n",
       "3 3.91                0                       30               \n",
       "4 2.83                0                       29               \n",
       "5 5.04                0                       36               \n",
       "6 2.51                0                       38               \n",
       "  FairlyActiveMinutes LightlyActiveMinutes SedentaryMinutes Calories\n",
       "1 13                  328                   728             1985    \n",
       "2 19                  217                   776             1797    \n",
       "3 11                  181                  1218             1776    \n",
       "4 34                  209                   726             1745    \n",
       "5 10                  221                   773             1863    \n",
       "6 20                  164                   539             1728    "
      ]
     },
     "metadata": {},
     "output_type": "display_data"
    },
    {
     "data": {
      "text/html": [
       "<table class=\"dataframe\">\n",
       "<caption>A tibble: 6 × 3</caption>\n",
       "<thead>\n",
       "\t<tr><th scope=col>Id</th><th scope=col>ActivityHour</th><th scope=col>Calories</th></tr>\n",
       "\t<tr><th scope=col>&lt;dbl&gt;</th><th scope=col>&lt;chr&gt;</th><th scope=col>&lt;dbl&gt;</th></tr>\n",
       "</thead>\n",
       "<tbody>\n",
       "\t<tr><td>1503960366</td><td>4/12/2016 12:00:00 AM</td><td>81</td></tr>\n",
       "\t<tr><td>1503960366</td><td>4/12/2016 1:00:00 AM </td><td>61</td></tr>\n",
       "\t<tr><td>1503960366</td><td>4/12/2016 2:00:00 AM </td><td>59</td></tr>\n",
       "\t<tr><td>1503960366</td><td>4/12/2016 3:00:00 AM </td><td>47</td></tr>\n",
       "\t<tr><td>1503960366</td><td>4/12/2016 4:00:00 AM </td><td>48</td></tr>\n",
       "\t<tr><td>1503960366</td><td>4/12/2016 5:00:00 AM </td><td>48</td></tr>\n",
       "</tbody>\n",
       "</table>\n"
      ],
      "text/latex": [
       "A tibble: 6 × 3\n",
       "\\begin{tabular}{lll}\n",
       " Id & ActivityHour & Calories\\\\\n",
       " <dbl> & <chr> & <dbl>\\\\\n",
       "\\hline\n",
       "\t 1503960366 & 4/12/2016 12:00:00 AM & 81\\\\\n",
       "\t 1503960366 & 4/12/2016 1:00:00 AM  & 61\\\\\n",
       "\t 1503960366 & 4/12/2016 2:00:00 AM  & 59\\\\\n",
       "\t 1503960366 & 4/12/2016 3:00:00 AM  & 47\\\\\n",
       "\t 1503960366 & 4/12/2016 4:00:00 AM  & 48\\\\\n",
       "\t 1503960366 & 4/12/2016 5:00:00 AM  & 48\\\\\n",
       "\\end{tabular}\n"
      ],
      "text/markdown": [
       "\n",
       "A tibble: 6 × 3\n",
       "\n",
       "| Id &lt;dbl&gt; | ActivityHour &lt;chr&gt; | Calories &lt;dbl&gt; |\n",
       "|---|---|---|\n",
       "| 1503960366 | 4/12/2016 12:00:00 AM | 81 |\n",
       "| 1503960366 | 4/12/2016 1:00:00 AM  | 61 |\n",
       "| 1503960366 | 4/12/2016 2:00:00 AM  | 59 |\n",
       "| 1503960366 | 4/12/2016 3:00:00 AM  | 47 |\n",
       "| 1503960366 | 4/12/2016 4:00:00 AM  | 48 |\n",
       "| 1503960366 | 4/12/2016 5:00:00 AM  | 48 |\n",
       "\n"
      ],
      "text/plain": [
       "  Id         ActivityHour          Calories\n",
       "1 1503960366 4/12/2016 12:00:00 AM 81      \n",
       "2 1503960366 4/12/2016 1:00:00 AM  61      \n",
       "3 1503960366 4/12/2016 2:00:00 AM  59      \n",
       "4 1503960366 4/12/2016 3:00:00 AM  47      \n",
       "5 1503960366 4/12/2016 4:00:00 AM  48      \n",
       "6 1503960366 4/12/2016 5:00:00 AM  48      "
      ]
     },
     "metadata": {},
     "output_type": "display_data"
    },
    {
     "data": {
      "text/html": [
       "<table class=\"dataframe\">\n",
       "<caption>A tibble: 6 × 4</caption>\n",
       "<thead>\n",
       "\t<tr><th scope=col>Id</th><th scope=col>ActivityHour</th><th scope=col>TotalIntensity</th><th scope=col>AverageIntensity</th></tr>\n",
       "\t<tr><th scope=col>&lt;dbl&gt;</th><th scope=col>&lt;chr&gt;</th><th scope=col>&lt;dbl&gt;</th><th scope=col>&lt;dbl&gt;</th></tr>\n",
       "</thead>\n",
       "<tbody>\n",
       "\t<tr><td>1503960366</td><td>4/12/2016 12:00:00 AM</td><td>20</td><td>0.333333</td></tr>\n",
       "\t<tr><td>1503960366</td><td>4/12/2016 1:00:00 AM </td><td> 8</td><td>0.133333</td></tr>\n",
       "\t<tr><td>1503960366</td><td>4/12/2016 2:00:00 AM </td><td> 7</td><td>0.116667</td></tr>\n",
       "\t<tr><td>1503960366</td><td>4/12/2016 3:00:00 AM </td><td> 0</td><td>0.000000</td></tr>\n",
       "\t<tr><td>1503960366</td><td>4/12/2016 4:00:00 AM </td><td> 0</td><td>0.000000</td></tr>\n",
       "\t<tr><td>1503960366</td><td>4/12/2016 5:00:00 AM </td><td> 0</td><td>0.000000</td></tr>\n",
       "</tbody>\n",
       "</table>\n"
      ],
      "text/latex": [
       "A tibble: 6 × 4\n",
       "\\begin{tabular}{llll}\n",
       " Id & ActivityHour & TotalIntensity & AverageIntensity\\\\\n",
       " <dbl> & <chr> & <dbl> & <dbl>\\\\\n",
       "\\hline\n",
       "\t 1503960366 & 4/12/2016 12:00:00 AM & 20 & 0.333333\\\\\n",
       "\t 1503960366 & 4/12/2016 1:00:00 AM  &  8 & 0.133333\\\\\n",
       "\t 1503960366 & 4/12/2016 2:00:00 AM  &  7 & 0.116667\\\\\n",
       "\t 1503960366 & 4/12/2016 3:00:00 AM  &  0 & 0.000000\\\\\n",
       "\t 1503960366 & 4/12/2016 4:00:00 AM  &  0 & 0.000000\\\\\n",
       "\t 1503960366 & 4/12/2016 5:00:00 AM  &  0 & 0.000000\\\\\n",
       "\\end{tabular}\n"
      ],
      "text/markdown": [
       "\n",
       "A tibble: 6 × 4\n",
       "\n",
       "| Id &lt;dbl&gt; | ActivityHour &lt;chr&gt; | TotalIntensity &lt;dbl&gt; | AverageIntensity &lt;dbl&gt; |\n",
       "|---|---|---|---|\n",
       "| 1503960366 | 4/12/2016 12:00:00 AM | 20 | 0.333333 |\n",
       "| 1503960366 | 4/12/2016 1:00:00 AM  |  8 | 0.133333 |\n",
       "| 1503960366 | 4/12/2016 2:00:00 AM  |  7 | 0.116667 |\n",
       "| 1503960366 | 4/12/2016 3:00:00 AM  |  0 | 0.000000 |\n",
       "| 1503960366 | 4/12/2016 4:00:00 AM  |  0 | 0.000000 |\n",
       "| 1503960366 | 4/12/2016 5:00:00 AM  |  0 | 0.000000 |\n",
       "\n"
      ],
      "text/plain": [
       "  Id         ActivityHour          TotalIntensity AverageIntensity\n",
       "1 1503960366 4/12/2016 12:00:00 AM 20             0.333333        \n",
       "2 1503960366 4/12/2016 1:00:00 AM   8             0.133333        \n",
       "3 1503960366 4/12/2016 2:00:00 AM   7             0.116667        \n",
       "4 1503960366 4/12/2016 3:00:00 AM   0             0.000000        \n",
       "5 1503960366 4/12/2016 4:00:00 AM   0             0.000000        \n",
       "6 1503960366 4/12/2016 5:00:00 AM   0             0.000000        "
      ]
     },
     "metadata": {},
     "output_type": "display_data"
    },
    {
     "data": {
      "text/html": [
       "<table class=\"dataframe\">\n",
       "<caption>A tibble: 6 × 3</caption>\n",
       "<thead>\n",
       "\t<tr><th scope=col>Id</th><th scope=col>ActivityHour</th><th scope=col>StepTotal</th></tr>\n",
       "\t<tr><th scope=col>&lt;dbl&gt;</th><th scope=col>&lt;chr&gt;</th><th scope=col>&lt;dbl&gt;</th></tr>\n",
       "</thead>\n",
       "<tbody>\n",
       "\t<tr><td>1503960366</td><td>4/12/2016 12:00:00 AM</td><td>373</td></tr>\n",
       "\t<tr><td>1503960366</td><td>4/12/2016 1:00:00 AM </td><td>160</td></tr>\n",
       "\t<tr><td>1503960366</td><td>4/12/2016 2:00:00 AM </td><td>151</td></tr>\n",
       "\t<tr><td>1503960366</td><td>4/12/2016 3:00:00 AM </td><td>  0</td></tr>\n",
       "\t<tr><td>1503960366</td><td>4/12/2016 4:00:00 AM </td><td>  0</td></tr>\n",
       "\t<tr><td>1503960366</td><td>4/12/2016 5:00:00 AM </td><td>  0</td></tr>\n",
       "</tbody>\n",
       "</table>\n"
      ],
      "text/latex": [
       "A tibble: 6 × 3\n",
       "\\begin{tabular}{lll}\n",
       " Id & ActivityHour & StepTotal\\\\\n",
       " <dbl> & <chr> & <dbl>\\\\\n",
       "\\hline\n",
       "\t 1503960366 & 4/12/2016 12:00:00 AM & 373\\\\\n",
       "\t 1503960366 & 4/12/2016 1:00:00 AM  & 160\\\\\n",
       "\t 1503960366 & 4/12/2016 2:00:00 AM  & 151\\\\\n",
       "\t 1503960366 & 4/12/2016 3:00:00 AM  &   0\\\\\n",
       "\t 1503960366 & 4/12/2016 4:00:00 AM  &   0\\\\\n",
       "\t 1503960366 & 4/12/2016 5:00:00 AM  &   0\\\\\n",
       "\\end{tabular}\n"
      ],
      "text/markdown": [
       "\n",
       "A tibble: 6 × 3\n",
       "\n",
       "| Id &lt;dbl&gt; | ActivityHour &lt;chr&gt; | StepTotal &lt;dbl&gt; |\n",
       "|---|---|---|\n",
       "| 1503960366 | 4/12/2016 12:00:00 AM | 373 |\n",
       "| 1503960366 | 4/12/2016 1:00:00 AM  | 160 |\n",
       "| 1503960366 | 4/12/2016 2:00:00 AM  | 151 |\n",
       "| 1503960366 | 4/12/2016 3:00:00 AM  |   0 |\n",
       "| 1503960366 | 4/12/2016 4:00:00 AM  |   0 |\n",
       "| 1503960366 | 4/12/2016 5:00:00 AM  |   0 |\n",
       "\n"
      ],
      "text/plain": [
       "  Id         ActivityHour          StepTotal\n",
       "1 1503960366 4/12/2016 12:00:00 AM 373      \n",
       "2 1503960366 4/12/2016 1:00:00 AM  160      \n",
       "3 1503960366 4/12/2016 2:00:00 AM  151      \n",
       "4 1503960366 4/12/2016 3:00:00 AM    0      \n",
       "5 1503960366 4/12/2016 4:00:00 AM    0      \n",
       "6 1503960366 4/12/2016 5:00:00 AM    0      "
      ]
     },
     "metadata": {},
     "output_type": "display_data"
    },
    {
     "data": {
      "text/html": [
       "<table class=\"dataframe\">\n",
       "<caption>A tibble: 6 × 5</caption>\n",
       "<thead>\n",
       "\t<tr><th scope=col>Id</th><th scope=col>SleepDay</th><th scope=col>TotalSleepRecords</th><th scope=col>TotalMinutesAsleep</th><th scope=col>TotalTimeInBed</th></tr>\n",
       "\t<tr><th scope=col>&lt;dbl&gt;</th><th scope=col>&lt;chr&gt;</th><th scope=col>&lt;dbl&gt;</th><th scope=col>&lt;dbl&gt;</th><th scope=col>&lt;dbl&gt;</th></tr>\n",
       "</thead>\n",
       "<tbody>\n",
       "\t<tr><td>1503960366</td><td>4/12/2016 12:00:00 AM</td><td>1</td><td>327</td><td>346</td></tr>\n",
       "\t<tr><td>1503960366</td><td>4/13/2016 12:00:00 AM</td><td>2</td><td>384</td><td>407</td></tr>\n",
       "\t<tr><td>1503960366</td><td>4/15/2016 12:00:00 AM</td><td>1</td><td>412</td><td>442</td></tr>\n",
       "\t<tr><td>1503960366</td><td>4/16/2016 12:00:00 AM</td><td>2</td><td>340</td><td>367</td></tr>\n",
       "\t<tr><td>1503960366</td><td>4/17/2016 12:00:00 AM</td><td>1</td><td>700</td><td>712</td></tr>\n",
       "\t<tr><td>1503960366</td><td>4/19/2016 12:00:00 AM</td><td>1</td><td>304</td><td>320</td></tr>\n",
       "</tbody>\n",
       "</table>\n"
      ],
      "text/latex": [
       "A tibble: 6 × 5\n",
       "\\begin{tabular}{lllll}\n",
       " Id & SleepDay & TotalSleepRecords & TotalMinutesAsleep & TotalTimeInBed\\\\\n",
       " <dbl> & <chr> & <dbl> & <dbl> & <dbl>\\\\\n",
       "\\hline\n",
       "\t 1503960366 & 4/12/2016 12:00:00 AM & 1 & 327 & 346\\\\\n",
       "\t 1503960366 & 4/13/2016 12:00:00 AM & 2 & 384 & 407\\\\\n",
       "\t 1503960366 & 4/15/2016 12:00:00 AM & 1 & 412 & 442\\\\\n",
       "\t 1503960366 & 4/16/2016 12:00:00 AM & 2 & 340 & 367\\\\\n",
       "\t 1503960366 & 4/17/2016 12:00:00 AM & 1 & 700 & 712\\\\\n",
       "\t 1503960366 & 4/19/2016 12:00:00 AM & 1 & 304 & 320\\\\\n",
       "\\end{tabular}\n"
      ],
      "text/markdown": [
       "\n",
       "A tibble: 6 × 5\n",
       "\n",
       "| Id &lt;dbl&gt; | SleepDay &lt;chr&gt; | TotalSleepRecords &lt;dbl&gt; | TotalMinutesAsleep &lt;dbl&gt; | TotalTimeInBed &lt;dbl&gt; |\n",
       "|---|---|---|---|---|\n",
       "| 1503960366 | 4/12/2016 12:00:00 AM | 1 | 327 | 346 |\n",
       "| 1503960366 | 4/13/2016 12:00:00 AM | 2 | 384 | 407 |\n",
       "| 1503960366 | 4/15/2016 12:00:00 AM | 1 | 412 | 442 |\n",
       "| 1503960366 | 4/16/2016 12:00:00 AM | 2 | 340 | 367 |\n",
       "| 1503960366 | 4/17/2016 12:00:00 AM | 1 | 700 | 712 |\n",
       "| 1503960366 | 4/19/2016 12:00:00 AM | 1 | 304 | 320 |\n",
       "\n"
      ],
      "text/plain": [
       "  Id         SleepDay              TotalSleepRecords TotalMinutesAsleep\n",
       "1 1503960366 4/12/2016 12:00:00 AM 1                 327               \n",
       "2 1503960366 4/13/2016 12:00:00 AM 2                 384               \n",
       "3 1503960366 4/15/2016 12:00:00 AM 1                 412               \n",
       "4 1503960366 4/16/2016 12:00:00 AM 2                 340               \n",
       "5 1503960366 4/17/2016 12:00:00 AM 1                 700               \n",
       "6 1503960366 4/19/2016 12:00:00 AM 1                 304               \n",
       "  TotalTimeInBed\n",
       "1 346           \n",
       "2 407           \n",
       "3 442           \n",
       "4 367           \n",
       "5 712           \n",
       "6 320           "
      ]
     },
     "metadata": {},
     "output_type": "display_data"
    },
    {
     "data": {
      "text/html": [
       "<table class=\"dataframe\">\n",
       "<caption>A tibble: 6 × 8</caption>\n",
       "<thead>\n",
       "\t<tr><th scope=col>Id</th><th scope=col>Date</th><th scope=col>WeightKg</th><th scope=col>WeightPounds</th><th scope=col>Fat</th><th scope=col>BMI</th><th scope=col>IsManualReport</th><th scope=col>LogId</th></tr>\n",
       "\t<tr><th scope=col>&lt;dbl&gt;</th><th scope=col>&lt;chr&gt;</th><th scope=col>&lt;dbl&gt;</th><th scope=col>&lt;dbl&gt;</th><th scope=col>&lt;dbl&gt;</th><th scope=col>&lt;dbl&gt;</th><th scope=col>&lt;lgl&gt;</th><th scope=col>&lt;dbl&gt;</th></tr>\n",
       "</thead>\n",
       "<tbody>\n",
       "\t<tr><td>1503960366</td><td>5/2/2016 11:59:59 PM </td><td> 52.6</td><td>115.9631</td><td>22</td><td>22.65</td><td> TRUE</td><td>1.462234e+12</td></tr>\n",
       "\t<tr><td>1503960366</td><td>5/3/2016 11:59:59 PM </td><td> 52.6</td><td>115.9631</td><td>NA</td><td>22.65</td><td> TRUE</td><td>1.462320e+12</td></tr>\n",
       "\t<tr><td>1927972279</td><td>4/13/2016 1:08:52 AM </td><td>133.5</td><td>294.3171</td><td>NA</td><td>47.54</td><td>FALSE</td><td>1.460510e+12</td></tr>\n",
       "\t<tr><td>2873212765</td><td>4/21/2016 11:59:59 PM</td><td> 56.7</td><td>125.0021</td><td>NA</td><td>21.45</td><td> TRUE</td><td>1.461283e+12</td></tr>\n",
       "\t<tr><td>2873212765</td><td>5/12/2016 11:59:59 PM</td><td> 57.3</td><td>126.3249</td><td>NA</td><td>21.69</td><td> TRUE</td><td>1.463098e+12</td></tr>\n",
       "\t<tr><td>4319703577</td><td>4/17/2016 11:59:59 PM</td><td> 72.4</td><td>159.6147</td><td>25</td><td>27.45</td><td> TRUE</td><td>1.460938e+12</td></tr>\n",
       "</tbody>\n",
       "</table>\n"
      ],
      "text/latex": [
       "A tibble: 6 × 8\n",
       "\\begin{tabular}{llllllll}\n",
       " Id & Date & WeightKg & WeightPounds & Fat & BMI & IsManualReport & LogId\\\\\n",
       " <dbl> & <chr> & <dbl> & <dbl> & <dbl> & <dbl> & <lgl> & <dbl>\\\\\n",
       "\\hline\n",
       "\t 1503960366 & 5/2/2016 11:59:59 PM  &  52.6 & 115.9631 & 22 & 22.65 &  TRUE & 1.462234e+12\\\\\n",
       "\t 1503960366 & 5/3/2016 11:59:59 PM  &  52.6 & 115.9631 & NA & 22.65 &  TRUE & 1.462320e+12\\\\\n",
       "\t 1927972279 & 4/13/2016 1:08:52 AM  & 133.5 & 294.3171 & NA & 47.54 & FALSE & 1.460510e+12\\\\\n",
       "\t 2873212765 & 4/21/2016 11:59:59 PM &  56.7 & 125.0021 & NA & 21.45 &  TRUE & 1.461283e+12\\\\\n",
       "\t 2873212765 & 5/12/2016 11:59:59 PM &  57.3 & 126.3249 & NA & 21.69 &  TRUE & 1.463098e+12\\\\\n",
       "\t 4319703577 & 4/17/2016 11:59:59 PM &  72.4 & 159.6147 & 25 & 27.45 &  TRUE & 1.460938e+12\\\\\n",
       "\\end{tabular}\n"
      ],
      "text/markdown": [
       "\n",
       "A tibble: 6 × 8\n",
       "\n",
       "| Id &lt;dbl&gt; | Date &lt;chr&gt; | WeightKg &lt;dbl&gt; | WeightPounds &lt;dbl&gt; | Fat &lt;dbl&gt; | BMI &lt;dbl&gt; | IsManualReport &lt;lgl&gt; | LogId &lt;dbl&gt; |\n",
       "|---|---|---|---|---|---|---|---|\n",
       "| 1503960366 | 5/2/2016 11:59:59 PM  |  52.6 | 115.9631 | 22 | 22.65 |  TRUE | 1.462234e+12 |\n",
       "| 1503960366 | 5/3/2016 11:59:59 PM  |  52.6 | 115.9631 | NA | 22.65 |  TRUE | 1.462320e+12 |\n",
       "| 1927972279 | 4/13/2016 1:08:52 AM  | 133.5 | 294.3171 | NA | 47.54 | FALSE | 1.460510e+12 |\n",
       "| 2873212765 | 4/21/2016 11:59:59 PM |  56.7 | 125.0021 | NA | 21.45 |  TRUE | 1.461283e+12 |\n",
       "| 2873212765 | 5/12/2016 11:59:59 PM |  57.3 | 126.3249 | NA | 21.69 |  TRUE | 1.463098e+12 |\n",
       "| 4319703577 | 4/17/2016 11:59:59 PM |  72.4 | 159.6147 | 25 | 27.45 |  TRUE | 1.460938e+12 |\n",
       "\n"
      ],
      "text/plain": [
       "  Id         Date                  WeightKg WeightPounds Fat BMI  \n",
       "1 1503960366 5/2/2016 11:59:59 PM   52.6    115.9631     22  22.65\n",
       "2 1503960366 5/3/2016 11:59:59 PM   52.6    115.9631     NA  22.65\n",
       "3 1927972279 4/13/2016 1:08:52 AM  133.5    294.3171     NA  47.54\n",
       "4 2873212765 4/21/2016 11:59:59 PM  56.7    125.0021     NA  21.45\n",
       "5 2873212765 5/12/2016 11:59:59 PM  57.3    126.3249     NA  21.69\n",
       "6 4319703577 4/17/2016 11:59:59 PM  72.4    159.6147     25  27.45\n",
       "  IsManualReport LogId       \n",
       "1  TRUE          1.462234e+12\n",
       "2  TRUE          1.462320e+12\n",
       "3 FALSE          1.460510e+12\n",
       "4  TRUE          1.461283e+12\n",
       "5  TRUE          1.463098e+12\n",
       "6  TRUE          1.460938e+12"
      ]
     },
     "metadata": {},
     "output_type": "display_data"
    },
    {
     "name": "stdout",
     "output_type": "stream",
     "text": [
      "Rows: 940\n",
      "Columns: 15\n",
      "$ Id                       \u001b[3m\u001b[90m<dbl>\u001b[39m\u001b[23m 1503960366, 1503960366, 1503960366, 150396036…\n",
      "$ ActivityDate             \u001b[3m\u001b[90m<chr>\u001b[39m\u001b[23m \"4/12/2016\", \"4/13/2016\", \"4/14/2016\", \"4/15/…\n",
      "$ TotalSteps               \u001b[3m\u001b[90m<dbl>\u001b[39m\u001b[23m 13162, 10735, 10460, 9762, 12669, 9705, 13019…\n",
      "$ TotalDistance            \u001b[3m\u001b[90m<dbl>\u001b[39m\u001b[23m 8.50, 6.97, 6.74, 6.28, 8.16, 6.48, 8.59, 9.8…\n",
      "$ TrackerDistance          \u001b[3m\u001b[90m<dbl>\u001b[39m\u001b[23m 8.50, 6.97, 6.74, 6.28, 8.16, 6.48, 8.59, 9.8…\n",
      "$ LoggedActivitiesDistance \u001b[3m\u001b[90m<dbl>\u001b[39m\u001b[23m 0, 0, 0, 0, 0, 0, 0, 0, 0, 0, 0, 0, 0, 0, 0, …\n",
      "$ VeryActiveDistance       \u001b[3m\u001b[90m<dbl>\u001b[39m\u001b[23m 1.88, 1.57, 2.44, 2.14, 2.71, 3.19, 3.25, 3.5…\n",
      "$ ModeratelyActiveDistance \u001b[3m\u001b[90m<dbl>\u001b[39m\u001b[23m 0.55, 0.69, 0.40, 1.26, 0.41, 0.78, 0.64, 1.3…\n",
      "$ LightActiveDistance      \u001b[3m\u001b[90m<dbl>\u001b[39m\u001b[23m 6.06, 4.71, 3.91, 2.83, 5.04, 2.51, 4.71, 5.0…\n",
      "$ SedentaryActiveDistance  \u001b[3m\u001b[90m<dbl>\u001b[39m\u001b[23m 0, 0, 0, 0, 0, 0, 0, 0, 0, 0, 0, 0, 0, 0, 0, …\n",
      "$ VeryActiveMinutes        \u001b[3m\u001b[90m<dbl>\u001b[39m\u001b[23m 25, 21, 30, 29, 36, 38, 42, 50, 28, 19, 66, 4…\n",
      "$ FairlyActiveMinutes      \u001b[3m\u001b[90m<dbl>\u001b[39m\u001b[23m 13, 19, 11, 34, 10, 20, 16, 31, 12, 8, 27, 21…\n",
      "$ LightlyActiveMinutes     \u001b[3m\u001b[90m<dbl>\u001b[39m\u001b[23m 328, 217, 181, 209, 221, 164, 233, 264, 205, …\n",
      "$ SedentaryMinutes         \u001b[3m\u001b[90m<dbl>\u001b[39m\u001b[23m 728, 776, 1218, 726, 773, 539, 1149, 775, 818…\n",
      "$ Calories                 \u001b[3m\u001b[90m<dbl>\u001b[39m\u001b[23m 1985, 1797, 1776, 1745, 1863, 1728, 1921, 203…\n",
      "Rows: 22,099\n",
      "Columns: 3\n",
      "$ Id           \u001b[3m\u001b[90m<dbl>\u001b[39m\u001b[23m 1503960366, 1503960366, 1503960366, 1503960366, 150396036…\n",
      "$ ActivityHour \u001b[3m\u001b[90m<chr>\u001b[39m\u001b[23m \"4/12/2016 12:00:00 AM\", \"4/12/2016 1:00:00 AM\", \"4/12/20…\n",
      "$ Calories     \u001b[3m\u001b[90m<dbl>\u001b[39m\u001b[23m 81, 61, 59, 47, 48, 48, 48, 47, 68, 141, 99, 76, 73, 66, …\n",
      "Rows: 22,099\n",
      "Columns: 4\n",
      "$ Id               \u001b[3m\u001b[90m<dbl>\u001b[39m\u001b[23m 1503960366, 1503960366, 1503960366, 1503960366, 15039…\n",
      "$ ActivityHour     \u001b[3m\u001b[90m<chr>\u001b[39m\u001b[23m \"4/12/2016 12:00:00 AM\", \"4/12/2016 1:00:00 AM\", \"4/1…\n",
      "$ TotalIntensity   \u001b[3m\u001b[90m<dbl>\u001b[39m\u001b[23m 20, 8, 7, 0, 0, 0, 0, 0, 13, 30, 29, 12, 11, 6, 36, 5…\n",
      "$ AverageIntensity \u001b[3m\u001b[90m<dbl>\u001b[39m\u001b[23m 0.333333, 0.133333, 0.116667, 0.000000, 0.000000, 0.0…\n",
      "Rows: 22,099\n",
      "Columns: 3\n",
      "$ Id           \u001b[3m\u001b[90m<dbl>\u001b[39m\u001b[23m 1503960366, 1503960366, 1503960366, 1503960366, 150396036…\n",
      "$ ActivityHour \u001b[3m\u001b[90m<chr>\u001b[39m\u001b[23m \"4/12/2016 12:00:00 AM\", \"4/12/2016 1:00:00 AM\", \"4/12/20…\n",
      "$ StepTotal    \u001b[3m\u001b[90m<dbl>\u001b[39m\u001b[23m 373, 160, 151, 0, 0, 0, 0, 0, 250, 1864, 676, 360, 253, 2…\n",
      "Rows: 413\n",
      "Columns: 5\n",
      "$ Id                 \u001b[3m\u001b[90m<dbl>\u001b[39m\u001b[23m 1503960366, 1503960366, 1503960366, 1503960366, 150…\n",
      "$ SleepDay           \u001b[3m\u001b[90m<chr>\u001b[39m\u001b[23m \"4/12/2016 12:00:00 AM\", \"4/13/2016 12:00:00 AM\", \"…\n",
      "$ TotalSleepRecords  \u001b[3m\u001b[90m<dbl>\u001b[39m\u001b[23m 1, 2, 1, 2, 1, 1, 1, 1, 1, 1, 1, 1, 1, 1, 1, 1, 1, …\n",
      "$ TotalMinutesAsleep \u001b[3m\u001b[90m<dbl>\u001b[39m\u001b[23m 327, 384, 412, 340, 700, 304, 360, 325, 361, 430, 2…\n",
      "$ TotalTimeInBed     \u001b[3m\u001b[90m<dbl>\u001b[39m\u001b[23m 346, 407, 442, 367, 712, 320, 377, 364, 384, 449, 3…\n",
      "Rows: 67\n",
      "Columns: 8\n",
      "$ Id             \u001b[3m\u001b[90m<dbl>\u001b[39m\u001b[23m 1503960366, 1503960366, 1927972279, 2873212765, 2873212…\n",
      "$ Date           \u001b[3m\u001b[90m<chr>\u001b[39m\u001b[23m \"5/2/2016 11:59:59 PM\", \"5/3/2016 11:59:59 PM\", \"4/13/2…\n",
      "$ WeightKg       \u001b[3m\u001b[90m<dbl>\u001b[39m\u001b[23m 52.6, 52.6, 133.5, 56.7, 57.3, 72.4, 72.3, 69.7, 70.3, …\n",
      "$ WeightPounds   \u001b[3m\u001b[90m<dbl>\u001b[39m\u001b[23m 115.9631, 115.9631, 294.3171, 125.0021, 126.3249, 159.6…\n",
      "$ Fat            \u001b[3m\u001b[90m<dbl>\u001b[39m\u001b[23m 22, NA, NA, NA, NA, 25, NA, NA, NA, NA, NA, NA, NA, NA,…\n",
      "$ BMI            \u001b[3m\u001b[90m<dbl>\u001b[39m\u001b[23m 22.65, 22.65, 47.54, 21.45, 21.69, 27.45, 27.38, 27.25,…\n",
      "$ IsManualReport \u001b[3m\u001b[90m<lgl>\u001b[39m\u001b[23m TRUE, TRUE, FALSE, TRUE, TRUE, TRUE, TRUE, TRUE, TRUE, …\n",
      "$ LogId          \u001b[3m\u001b[90m<dbl>\u001b[39m\u001b[23m 1.462234e+12, 1.462320e+12, 1.460510e+12, 1.461283e+12,…\n"
     ]
    }
   ],
   "source": [
    "head(daily_activity)\n",
    "head(hourly_calories)\n",
    "head(hourly_intensity)\n",
    "head(hourly_steps)\n",
    "head(sleepDay)\n",
    "head(weightLog)\n",
    "\n",
    "\n",
    "glimpse(daily_activity)\n",
    "glimpse(hourly_calories)\n",
    "glimpse(hourly_intensity)\n",
    "glimpse(hourly_steps)\n",
    "glimpse(sleepDay)\n",
    "glimpse(weightLog)"
   ]
  },
  {
   "cell_type": "markdown",
   "id": "0fed53b1",
   "metadata": {
    "papermill": {
     "duration": 0.061992,
     "end_time": "2022-03-14T13:33:02.081896",
     "exception": false,
     "start_time": "2022-03-14T13:33:02.019904",
     "status": "completed"
    },
    "tags": []
   },
   "source": [
    "**<h5>To know the no. of Fitbit users involved in each dataset:**"
   ]
  },
  {
   "cell_type": "code",
   "execution_count": 4,
   "id": "81e28f54",
   "metadata": {
    "execution": {
     "iopub.execute_input": "2022-03-14T13:33:02.209830Z",
     "iopub.status.busy": "2022-03-14T13:33:02.208433Z",
     "iopub.status.idle": "2022-03-14T13:33:02.234227Z",
     "shell.execute_reply": "2022-03-14T13:33:02.232720Z"
    },
    "papermill": {
     "duration": 0.091418,
     "end_time": "2022-03-14T13:33:02.234434",
     "exception": false,
     "start_time": "2022-03-14T13:33:02.143016",
     "status": "completed"
    },
    "tags": []
   },
   "outputs": [
    {
     "data": {
      "text/html": [
       "<table class=\"dataframe\">\n",
       "<caption>A data.frame: 5 × 2</caption>\n",
       "<thead>\n",
       "\t<tr><th scope=col>dataset_name</th><th scope=col>count</th></tr>\n",
       "\t<tr><th scope=col>&lt;chr&gt;</th><th scope=col>&lt;int&gt;</th></tr>\n",
       "</thead>\n",
       "<tbody>\n",
       "\t<tr><td>daily_activity  </td><td>33</td></tr>\n",
       "\t<tr><td>hourly_calories </td><td>33</td></tr>\n",
       "\t<tr><td>hourly_intensity</td><td>33</td></tr>\n",
       "\t<tr><td>hourly_steps    </td><td>33</td></tr>\n",
       "\t<tr><td>sleepDay        </td><td>24</td></tr>\n",
       "</tbody>\n",
       "</table>\n"
      ],
      "text/latex": [
       "A data.frame: 5 × 2\n",
       "\\begin{tabular}{ll}\n",
       " dataset\\_name & count\\\\\n",
       " <chr> & <int>\\\\\n",
       "\\hline\n",
       "\t daily\\_activity   & 33\\\\\n",
       "\t hourly\\_calories  & 33\\\\\n",
       "\t hourly\\_intensity & 33\\\\\n",
       "\t hourly\\_steps     & 33\\\\\n",
       "\t sleepDay         & 24\\\\\n",
       "\\end{tabular}\n"
      ],
      "text/markdown": [
       "\n",
       "A data.frame: 5 × 2\n",
       "\n",
       "| dataset_name &lt;chr&gt; | count &lt;int&gt; |\n",
       "|---|---|\n",
       "| daily_activity   | 33 |\n",
       "| hourly_calories  | 33 |\n",
       "| hourly_intensity | 33 |\n",
       "| hourly_steps     | 33 |\n",
       "| sleepDay         | 24 |\n",
       "\n"
      ],
      "text/plain": [
       "  dataset_name     count\n",
       "1 daily_activity   33   \n",
       "2 hourly_calories  33   \n",
       "3 hourly_intensity 33   \n",
       "4 hourly_steps     33   \n",
       "5 sleepDay         24   "
      ]
     },
     "metadata": {},
     "output_type": "display_data"
    }
   ],
   "source": [
    "\n",
    "no_users <- data.frame(\n",
    "           dataset_name = c(\"daily_activity\",\"hourly_calories\",\"hourly_intensity\",\"hourly_steps\",\"sleepDay\"),\n",
    "    count=c(n_distinct(daily_activity $ Id),n_distinct(hourly_calories $ Id), n_distinct(hourly_intensity $ Id), n_distinct(hourly_steps $ Id), n_distinct(sleepDay $ Id)))\n",
    "\n",
    "\n",
    "no_users\n"
   ]
  },
  {
   "cell_type": "markdown",
   "id": "761bc6b1",
   "metadata": {
    "papermill": {
     "duration": 0.060981,
     "end_time": "2022-03-14T13:33:02.357587",
     "exception": false,
     "start_time": "2022-03-14T13:33:02.296606",
     "status": "completed"
    },
    "tags": []
   },
   "source": [
    "It is observed that 33 users have consented Fitbit to track their daily and hourly activities(daily and hourly datasets)with 24 users contributing to the sleep data(sleep dataset)."
   ]
  },
  {
   "cell_type": "markdown",
   "id": "6cdd2cbb",
   "metadata": {
    "papermill": {
     "duration": 0.061089,
     "end_time": "2022-03-14T13:33:02.479680",
     "exception": false,
     "start_time": "2022-03-14T13:33:02.418591",
     "status": "completed"
    },
    "tags": []
   },
   "source": [
    "**Finding the no. of days one users was included in the DailyActivity dataset:**"
   ]
  },
  {
   "cell_type": "code",
   "execution_count": 5,
   "id": "a790688d",
   "metadata": {
    "execution": {
     "iopub.execute_input": "2022-03-14T13:33:02.608007Z",
     "iopub.status.busy": "2022-03-14T13:33:02.606109Z",
     "iopub.status.idle": "2022-03-14T13:33:02.656523Z",
     "shell.execute_reply": "2022-03-14T13:33:02.654877Z"
    },
    "papermill": {
     "duration": 0.115961,
     "end_time": "2022-03-14T13:33:02.656668",
     "exception": false,
     "start_time": "2022-03-14T13:33:02.540707",
     "status": "completed"
    },
    "tags": []
   },
   "outputs": [
    {
     "data": {
      "text/html": [
       "<table class=\"dataframe\">\n",
       "<caption>A tibble: 6 × 2</caption>\n",
       "<thead>\n",
       "\t<tr><th scope=col>Id</th><th scope=col>total_days</th></tr>\n",
       "\t<tr><th scope=col>&lt;dbl&gt;</th><th scope=col>&lt;int&gt;</th></tr>\n",
       "</thead>\n",
       "<tbody>\n",
       "\t<tr><td>4057192912</td><td> 4</td></tr>\n",
       "\t<tr><td>2347167796</td><td>18</td></tr>\n",
       "\t<tr><td>8253242879</td><td>19</td></tr>\n",
       "\t<tr><td>3372868164</td><td>20</td></tr>\n",
       "\t<tr><td>6775888955</td><td>26</td></tr>\n",
       "\t<tr><td>7007744171</td><td>26</td></tr>\n",
       "</tbody>\n",
       "</table>\n"
      ],
      "text/latex": [
       "A tibble: 6 × 2\n",
       "\\begin{tabular}{ll}\n",
       " Id & total\\_days\\\\\n",
       " <dbl> & <int>\\\\\n",
       "\\hline\n",
       "\t 4057192912 &  4\\\\\n",
       "\t 2347167796 & 18\\\\\n",
       "\t 8253242879 & 19\\\\\n",
       "\t 3372868164 & 20\\\\\n",
       "\t 6775888955 & 26\\\\\n",
       "\t 7007744171 & 26\\\\\n",
       "\\end{tabular}\n"
      ],
      "text/markdown": [
       "\n",
       "A tibble: 6 × 2\n",
       "\n",
       "| Id &lt;dbl&gt; | total_days &lt;int&gt; |\n",
       "|---|---|\n",
       "| 4057192912 |  4 |\n",
       "| 2347167796 | 18 |\n",
       "| 8253242879 | 19 |\n",
       "| 3372868164 | 20 |\n",
       "| 6775888955 | 26 |\n",
       "| 7007744171 | 26 |\n",
       "\n"
      ],
      "text/plain": [
       "  Id         total_days\n",
       "1 4057192912  4        \n",
       "2 2347167796 18        \n",
       "3 8253242879 19        \n",
       "4 3372868164 20        \n",
       "5 6775888955 26        \n",
       "6 7007744171 26        "
      ]
     },
     "metadata": {},
     "output_type": "display_data"
    }
   ],
   "source": [
    "no_users <- (group_by(daily_activity , Id) %>%\n",
    "            summarise (total_days = n_distinct(ActivityDate)))\n",
    "(head(arrange(no_users,total_days)))"
   ]
  },
  {
   "cell_type": "markdown",
   "id": "4b7842d9",
   "metadata": {
    "papermill": {
     "duration": 0.06167,
     "end_time": "2022-03-14T13:33:02.780131",
     "exception": false,
     "start_time": "2022-03-14T13:33:02.718461",
     "status": "completed"
    },
    "tags": []
   },
   "source": [
    "**<H4>5.2 Checking for null values in each dataset:**"
   ]
  },
  {
   "cell_type": "code",
   "execution_count": 6,
   "id": "52126b52",
   "metadata": {
    "execution": {
     "iopub.execute_input": "2022-03-14T13:33:02.910734Z",
     "iopub.status.busy": "2022-03-14T13:33:02.909013Z",
     "iopub.status.idle": "2022-03-14T13:33:03.287554Z",
     "shell.execute_reply": "2022-03-14T13:33:03.286086Z"
    },
    "papermill": {
     "duration": 0.445904,
     "end_time": "2022-03-14T13:33:03.287739",
     "exception": false,
     "start_time": "2022-03-14T13:33:02.841835",
     "status": "completed"
    },
    "tags": []
   },
   "outputs": [
    {
     "data": {
      "text/html": [
       "<table class=\"dataframe\">\n",
       "<caption>A matrix: 940 × 15 of type lgl</caption>\n",
       "<thead>\n",
       "\t<tr><th scope=col>Id</th><th scope=col>ActivityDate</th><th scope=col>TotalSteps</th><th scope=col>TotalDistance</th><th scope=col>TrackerDistance</th><th scope=col>LoggedActivitiesDistance</th><th scope=col>VeryActiveDistance</th><th scope=col>ModeratelyActiveDistance</th><th scope=col>LightActiveDistance</th><th scope=col>SedentaryActiveDistance</th><th scope=col>VeryActiveMinutes</th><th scope=col>FairlyActiveMinutes</th><th scope=col>LightlyActiveMinutes</th><th scope=col>SedentaryMinutes</th><th scope=col>Calories</th></tr>\n",
       "</thead>\n",
       "<tbody>\n",
       "\t<tr><td>FALSE</td><td>FALSE</td><td>FALSE</td><td>FALSE</td><td>FALSE</td><td>FALSE</td><td>FALSE</td><td>FALSE</td><td>FALSE</td><td>FALSE</td><td>FALSE</td><td>FALSE</td><td>FALSE</td><td>FALSE</td><td>FALSE</td></tr>\n",
       "\t<tr><td>FALSE</td><td>FALSE</td><td>FALSE</td><td>FALSE</td><td>FALSE</td><td>FALSE</td><td>FALSE</td><td>FALSE</td><td>FALSE</td><td>FALSE</td><td>FALSE</td><td>FALSE</td><td>FALSE</td><td>FALSE</td><td>FALSE</td></tr>\n",
       "\t<tr><td>FALSE</td><td>FALSE</td><td>FALSE</td><td>FALSE</td><td>FALSE</td><td>FALSE</td><td>FALSE</td><td>FALSE</td><td>FALSE</td><td>FALSE</td><td>FALSE</td><td>FALSE</td><td>FALSE</td><td>FALSE</td><td>FALSE</td></tr>\n",
       "\t<tr><td>FALSE</td><td>FALSE</td><td>FALSE</td><td>FALSE</td><td>FALSE</td><td>FALSE</td><td>FALSE</td><td>FALSE</td><td>FALSE</td><td>FALSE</td><td>FALSE</td><td>FALSE</td><td>FALSE</td><td>FALSE</td><td>FALSE</td></tr>\n",
       "\t<tr><td>FALSE</td><td>FALSE</td><td>FALSE</td><td>FALSE</td><td>FALSE</td><td>FALSE</td><td>FALSE</td><td>FALSE</td><td>FALSE</td><td>FALSE</td><td>FALSE</td><td>FALSE</td><td>FALSE</td><td>FALSE</td><td>FALSE</td></tr>\n",
       "\t<tr><td>FALSE</td><td>FALSE</td><td>FALSE</td><td>FALSE</td><td>FALSE</td><td>FALSE</td><td>FALSE</td><td>FALSE</td><td>FALSE</td><td>FALSE</td><td>FALSE</td><td>FALSE</td><td>FALSE</td><td>FALSE</td><td>FALSE</td></tr>\n",
       "\t<tr><td>FALSE</td><td>FALSE</td><td>FALSE</td><td>FALSE</td><td>FALSE</td><td>FALSE</td><td>FALSE</td><td>FALSE</td><td>FALSE</td><td>FALSE</td><td>FALSE</td><td>FALSE</td><td>FALSE</td><td>FALSE</td><td>FALSE</td></tr>\n",
       "\t<tr><td>FALSE</td><td>FALSE</td><td>FALSE</td><td>FALSE</td><td>FALSE</td><td>FALSE</td><td>FALSE</td><td>FALSE</td><td>FALSE</td><td>FALSE</td><td>FALSE</td><td>FALSE</td><td>FALSE</td><td>FALSE</td><td>FALSE</td></tr>\n",
       "\t<tr><td>FALSE</td><td>FALSE</td><td>FALSE</td><td>FALSE</td><td>FALSE</td><td>FALSE</td><td>FALSE</td><td>FALSE</td><td>FALSE</td><td>FALSE</td><td>FALSE</td><td>FALSE</td><td>FALSE</td><td>FALSE</td><td>FALSE</td></tr>\n",
       "\t<tr><td>FALSE</td><td>FALSE</td><td>FALSE</td><td>FALSE</td><td>FALSE</td><td>FALSE</td><td>FALSE</td><td>FALSE</td><td>FALSE</td><td>FALSE</td><td>FALSE</td><td>FALSE</td><td>FALSE</td><td>FALSE</td><td>FALSE</td></tr>\n",
       "\t<tr><td>FALSE</td><td>FALSE</td><td>FALSE</td><td>FALSE</td><td>FALSE</td><td>FALSE</td><td>FALSE</td><td>FALSE</td><td>FALSE</td><td>FALSE</td><td>FALSE</td><td>FALSE</td><td>FALSE</td><td>FALSE</td><td>FALSE</td></tr>\n",
       "\t<tr><td>FALSE</td><td>FALSE</td><td>FALSE</td><td>FALSE</td><td>FALSE</td><td>FALSE</td><td>FALSE</td><td>FALSE</td><td>FALSE</td><td>FALSE</td><td>FALSE</td><td>FALSE</td><td>FALSE</td><td>FALSE</td><td>FALSE</td></tr>\n",
       "\t<tr><td>FALSE</td><td>FALSE</td><td>FALSE</td><td>FALSE</td><td>FALSE</td><td>FALSE</td><td>FALSE</td><td>FALSE</td><td>FALSE</td><td>FALSE</td><td>FALSE</td><td>FALSE</td><td>FALSE</td><td>FALSE</td><td>FALSE</td></tr>\n",
       "\t<tr><td>FALSE</td><td>FALSE</td><td>FALSE</td><td>FALSE</td><td>FALSE</td><td>FALSE</td><td>FALSE</td><td>FALSE</td><td>FALSE</td><td>FALSE</td><td>FALSE</td><td>FALSE</td><td>FALSE</td><td>FALSE</td><td>FALSE</td></tr>\n",
       "\t<tr><td>FALSE</td><td>FALSE</td><td>FALSE</td><td>FALSE</td><td>FALSE</td><td>FALSE</td><td>FALSE</td><td>FALSE</td><td>FALSE</td><td>FALSE</td><td>FALSE</td><td>FALSE</td><td>FALSE</td><td>FALSE</td><td>FALSE</td></tr>\n",
       "\t<tr><td>FALSE</td><td>FALSE</td><td>FALSE</td><td>FALSE</td><td>FALSE</td><td>FALSE</td><td>FALSE</td><td>FALSE</td><td>FALSE</td><td>FALSE</td><td>FALSE</td><td>FALSE</td><td>FALSE</td><td>FALSE</td><td>FALSE</td></tr>\n",
       "\t<tr><td>FALSE</td><td>FALSE</td><td>FALSE</td><td>FALSE</td><td>FALSE</td><td>FALSE</td><td>FALSE</td><td>FALSE</td><td>FALSE</td><td>FALSE</td><td>FALSE</td><td>FALSE</td><td>FALSE</td><td>FALSE</td><td>FALSE</td></tr>\n",
       "\t<tr><td>FALSE</td><td>FALSE</td><td>FALSE</td><td>FALSE</td><td>FALSE</td><td>FALSE</td><td>FALSE</td><td>FALSE</td><td>FALSE</td><td>FALSE</td><td>FALSE</td><td>FALSE</td><td>FALSE</td><td>FALSE</td><td>FALSE</td></tr>\n",
       "\t<tr><td>FALSE</td><td>FALSE</td><td>FALSE</td><td>FALSE</td><td>FALSE</td><td>FALSE</td><td>FALSE</td><td>FALSE</td><td>FALSE</td><td>FALSE</td><td>FALSE</td><td>FALSE</td><td>FALSE</td><td>FALSE</td><td>FALSE</td></tr>\n",
       "\t<tr><td>FALSE</td><td>FALSE</td><td>FALSE</td><td>FALSE</td><td>FALSE</td><td>FALSE</td><td>FALSE</td><td>FALSE</td><td>FALSE</td><td>FALSE</td><td>FALSE</td><td>FALSE</td><td>FALSE</td><td>FALSE</td><td>FALSE</td></tr>\n",
       "\t<tr><td>FALSE</td><td>FALSE</td><td>FALSE</td><td>FALSE</td><td>FALSE</td><td>FALSE</td><td>FALSE</td><td>FALSE</td><td>FALSE</td><td>FALSE</td><td>FALSE</td><td>FALSE</td><td>FALSE</td><td>FALSE</td><td>FALSE</td></tr>\n",
       "\t<tr><td>FALSE</td><td>FALSE</td><td>FALSE</td><td>FALSE</td><td>FALSE</td><td>FALSE</td><td>FALSE</td><td>FALSE</td><td>FALSE</td><td>FALSE</td><td>FALSE</td><td>FALSE</td><td>FALSE</td><td>FALSE</td><td>FALSE</td></tr>\n",
       "\t<tr><td>FALSE</td><td>FALSE</td><td>FALSE</td><td>FALSE</td><td>FALSE</td><td>FALSE</td><td>FALSE</td><td>FALSE</td><td>FALSE</td><td>FALSE</td><td>FALSE</td><td>FALSE</td><td>FALSE</td><td>FALSE</td><td>FALSE</td></tr>\n",
       "\t<tr><td>FALSE</td><td>FALSE</td><td>FALSE</td><td>FALSE</td><td>FALSE</td><td>FALSE</td><td>FALSE</td><td>FALSE</td><td>FALSE</td><td>FALSE</td><td>FALSE</td><td>FALSE</td><td>FALSE</td><td>FALSE</td><td>FALSE</td></tr>\n",
       "\t<tr><td>FALSE</td><td>FALSE</td><td>FALSE</td><td>FALSE</td><td>FALSE</td><td>FALSE</td><td>FALSE</td><td>FALSE</td><td>FALSE</td><td>FALSE</td><td>FALSE</td><td>FALSE</td><td>FALSE</td><td>FALSE</td><td>FALSE</td></tr>\n",
       "\t<tr><td>FALSE</td><td>FALSE</td><td>FALSE</td><td>FALSE</td><td>FALSE</td><td>FALSE</td><td>FALSE</td><td>FALSE</td><td>FALSE</td><td>FALSE</td><td>FALSE</td><td>FALSE</td><td>FALSE</td><td>FALSE</td><td>FALSE</td></tr>\n",
       "\t<tr><td>FALSE</td><td>FALSE</td><td>FALSE</td><td>FALSE</td><td>FALSE</td><td>FALSE</td><td>FALSE</td><td>FALSE</td><td>FALSE</td><td>FALSE</td><td>FALSE</td><td>FALSE</td><td>FALSE</td><td>FALSE</td><td>FALSE</td></tr>\n",
       "\t<tr><td>FALSE</td><td>FALSE</td><td>FALSE</td><td>FALSE</td><td>FALSE</td><td>FALSE</td><td>FALSE</td><td>FALSE</td><td>FALSE</td><td>FALSE</td><td>FALSE</td><td>FALSE</td><td>FALSE</td><td>FALSE</td><td>FALSE</td></tr>\n",
       "\t<tr><td>FALSE</td><td>FALSE</td><td>FALSE</td><td>FALSE</td><td>FALSE</td><td>FALSE</td><td>FALSE</td><td>FALSE</td><td>FALSE</td><td>FALSE</td><td>FALSE</td><td>FALSE</td><td>FALSE</td><td>FALSE</td><td>FALSE</td></tr>\n",
       "\t<tr><td>FALSE</td><td>FALSE</td><td>FALSE</td><td>FALSE</td><td>FALSE</td><td>FALSE</td><td>FALSE</td><td>FALSE</td><td>FALSE</td><td>FALSE</td><td>FALSE</td><td>FALSE</td><td>FALSE</td><td>FALSE</td><td>FALSE</td></tr>\n",
       "\t<tr><td>⋮</td><td>⋮</td><td>⋮</td><td>⋮</td><td>⋮</td><td>⋮</td><td>⋮</td><td>⋮</td><td>⋮</td><td>⋮</td><td>⋮</td><td>⋮</td><td>⋮</td><td>⋮</td><td>⋮</td></tr>\n",
       "\t<tr><td>FALSE</td><td>FALSE</td><td>FALSE</td><td>FALSE</td><td>FALSE</td><td>FALSE</td><td>FALSE</td><td>FALSE</td><td>FALSE</td><td>FALSE</td><td>FALSE</td><td>FALSE</td><td>FALSE</td><td>FALSE</td><td>FALSE</td></tr>\n",
       "\t<tr><td>FALSE</td><td>FALSE</td><td>FALSE</td><td>FALSE</td><td>FALSE</td><td>FALSE</td><td>FALSE</td><td>FALSE</td><td>FALSE</td><td>FALSE</td><td>FALSE</td><td>FALSE</td><td>FALSE</td><td>FALSE</td><td>FALSE</td></tr>\n",
       "\t<tr><td>FALSE</td><td>FALSE</td><td>FALSE</td><td>FALSE</td><td>FALSE</td><td>FALSE</td><td>FALSE</td><td>FALSE</td><td>FALSE</td><td>FALSE</td><td>FALSE</td><td>FALSE</td><td>FALSE</td><td>FALSE</td><td>FALSE</td></tr>\n",
       "\t<tr><td>FALSE</td><td>FALSE</td><td>FALSE</td><td>FALSE</td><td>FALSE</td><td>FALSE</td><td>FALSE</td><td>FALSE</td><td>FALSE</td><td>FALSE</td><td>FALSE</td><td>FALSE</td><td>FALSE</td><td>FALSE</td><td>FALSE</td></tr>\n",
       "\t<tr><td>FALSE</td><td>FALSE</td><td>FALSE</td><td>FALSE</td><td>FALSE</td><td>FALSE</td><td>FALSE</td><td>FALSE</td><td>FALSE</td><td>FALSE</td><td>FALSE</td><td>FALSE</td><td>FALSE</td><td>FALSE</td><td>FALSE</td></tr>\n",
       "\t<tr><td>FALSE</td><td>FALSE</td><td>FALSE</td><td>FALSE</td><td>FALSE</td><td>FALSE</td><td>FALSE</td><td>FALSE</td><td>FALSE</td><td>FALSE</td><td>FALSE</td><td>FALSE</td><td>FALSE</td><td>FALSE</td><td>FALSE</td></tr>\n",
       "\t<tr><td>FALSE</td><td>FALSE</td><td>FALSE</td><td>FALSE</td><td>FALSE</td><td>FALSE</td><td>FALSE</td><td>FALSE</td><td>FALSE</td><td>FALSE</td><td>FALSE</td><td>FALSE</td><td>FALSE</td><td>FALSE</td><td>FALSE</td></tr>\n",
       "\t<tr><td>FALSE</td><td>FALSE</td><td>FALSE</td><td>FALSE</td><td>FALSE</td><td>FALSE</td><td>FALSE</td><td>FALSE</td><td>FALSE</td><td>FALSE</td><td>FALSE</td><td>FALSE</td><td>FALSE</td><td>FALSE</td><td>FALSE</td></tr>\n",
       "\t<tr><td>FALSE</td><td>FALSE</td><td>FALSE</td><td>FALSE</td><td>FALSE</td><td>FALSE</td><td>FALSE</td><td>FALSE</td><td>FALSE</td><td>FALSE</td><td>FALSE</td><td>FALSE</td><td>FALSE</td><td>FALSE</td><td>FALSE</td></tr>\n",
       "\t<tr><td>FALSE</td><td>FALSE</td><td>FALSE</td><td>FALSE</td><td>FALSE</td><td>FALSE</td><td>FALSE</td><td>FALSE</td><td>FALSE</td><td>FALSE</td><td>FALSE</td><td>FALSE</td><td>FALSE</td><td>FALSE</td><td>FALSE</td></tr>\n",
       "\t<tr><td>FALSE</td><td>FALSE</td><td>FALSE</td><td>FALSE</td><td>FALSE</td><td>FALSE</td><td>FALSE</td><td>FALSE</td><td>FALSE</td><td>FALSE</td><td>FALSE</td><td>FALSE</td><td>FALSE</td><td>FALSE</td><td>FALSE</td></tr>\n",
       "\t<tr><td>FALSE</td><td>FALSE</td><td>FALSE</td><td>FALSE</td><td>FALSE</td><td>FALSE</td><td>FALSE</td><td>FALSE</td><td>FALSE</td><td>FALSE</td><td>FALSE</td><td>FALSE</td><td>FALSE</td><td>FALSE</td><td>FALSE</td></tr>\n",
       "\t<tr><td>FALSE</td><td>FALSE</td><td>FALSE</td><td>FALSE</td><td>FALSE</td><td>FALSE</td><td>FALSE</td><td>FALSE</td><td>FALSE</td><td>FALSE</td><td>FALSE</td><td>FALSE</td><td>FALSE</td><td>FALSE</td><td>FALSE</td></tr>\n",
       "\t<tr><td>FALSE</td><td>FALSE</td><td>FALSE</td><td>FALSE</td><td>FALSE</td><td>FALSE</td><td>FALSE</td><td>FALSE</td><td>FALSE</td><td>FALSE</td><td>FALSE</td><td>FALSE</td><td>FALSE</td><td>FALSE</td><td>FALSE</td></tr>\n",
       "\t<tr><td>FALSE</td><td>FALSE</td><td>FALSE</td><td>FALSE</td><td>FALSE</td><td>FALSE</td><td>FALSE</td><td>FALSE</td><td>FALSE</td><td>FALSE</td><td>FALSE</td><td>FALSE</td><td>FALSE</td><td>FALSE</td><td>FALSE</td></tr>\n",
       "\t<tr><td>FALSE</td><td>FALSE</td><td>FALSE</td><td>FALSE</td><td>FALSE</td><td>FALSE</td><td>FALSE</td><td>FALSE</td><td>FALSE</td><td>FALSE</td><td>FALSE</td><td>FALSE</td><td>FALSE</td><td>FALSE</td><td>FALSE</td></tr>\n",
       "\t<tr><td>FALSE</td><td>FALSE</td><td>FALSE</td><td>FALSE</td><td>FALSE</td><td>FALSE</td><td>FALSE</td><td>FALSE</td><td>FALSE</td><td>FALSE</td><td>FALSE</td><td>FALSE</td><td>FALSE</td><td>FALSE</td><td>FALSE</td></tr>\n",
       "\t<tr><td>FALSE</td><td>FALSE</td><td>FALSE</td><td>FALSE</td><td>FALSE</td><td>FALSE</td><td>FALSE</td><td>FALSE</td><td>FALSE</td><td>FALSE</td><td>FALSE</td><td>FALSE</td><td>FALSE</td><td>FALSE</td><td>FALSE</td></tr>\n",
       "\t<tr><td>FALSE</td><td>FALSE</td><td>FALSE</td><td>FALSE</td><td>FALSE</td><td>FALSE</td><td>FALSE</td><td>FALSE</td><td>FALSE</td><td>FALSE</td><td>FALSE</td><td>FALSE</td><td>FALSE</td><td>FALSE</td><td>FALSE</td></tr>\n",
       "\t<tr><td>FALSE</td><td>FALSE</td><td>FALSE</td><td>FALSE</td><td>FALSE</td><td>FALSE</td><td>FALSE</td><td>FALSE</td><td>FALSE</td><td>FALSE</td><td>FALSE</td><td>FALSE</td><td>FALSE</td><td>FALSE</td><td>FALSE</td></tr>\n",
       "\t<tr><td>FALSE</td><td>FALSE</td><td>FALSE</td><td>FALSE</td><td>FALSE</td><td>FALSE</td><td>FALSE</td><td>FALSE</td><td>FALSE</td><td>FALSE</td><td>FALSE</td><td>FALSE</td><td>FALSE</td><td>FALSE</td><td>FALSE</td></tr>\n",
       "\t<tr><td>FALSE</td><td>FALSE</td><td>FALSE</td><td>FALSE</td><td>FALSE</td><td>FALSE</td><td>FALSE</td><td>FALSE</td><td>FALSE</td><td>FALSE</td><td>FALSE</td><td>FALSE</td><td>FALSE</td><td>FALSE</td><td>FALSE</td></tr>\n",
       "\t<tr><td>FALSE</td><td>FALSE</td><td>FALSE</td><td>FALSE</td><td>FALSE</td><td>FALSE</td><td>FALSE</td><td>FALSE</td><td>FALSE</td><td>FALSE</td><td>FALSE</td><td>FALSE</td><td>FALSE</td><td>FALSE</td><td>FALSE</td></tr>\n",
       "\t<tr><td>FALSE</td><td>FALSE</td><td>FALSE</td><td>FALSE</td><td>FALSE</td><td>FALSE</td><td>FALSE</td><td>FALSE</td><td>FALSE</td><td>FALSE</td><td>FALSE</td><td>FALSE</td><td>FALSE</td><td>FALSE</td><td>FALSE</td></tr>\n",
       "\t<tr><td>FALSE</td><td>FALSE</td><td>FALSE</td><td>FALSE</td><td>FALSE</td><td>FALSE</td><td>FALSE</td><td>FALSE</td><td>FALSE</td><td>FALSE</td><td>FALSE</td><td>FALSE</td><td>FALSE</td><td>FALSE</td><td>FALSE</td></tr>\n",
       "\t<tr><td>FALSE</td><td>FALSE</td><td>FALSE</td><td>FALSE</td><td>FALSE</td><td>FALSE</td><td>FALSE</td><td>FALSE</td><td>FALSE</td><td>FALSE</td><td>FALSE</td><td>FALSE</td><td>FALSE</td><td>FALSE</td><td>FALSE</td></tr>\n",
       "\t<tr><td>FALSE</td><td>FALSE</td><td>FALSE</td><td>FALSE</td><td>FALSE</td><td>FALSE</td><td>FALSE</td><td>FALSE</td><td>FALSE</td><td>FALSE</td><td>FALSE</td><td>FALSE</td><td>FALSE</td><td>FALSE</td><td>FALSE</td></tr>\n",
       "\t<tr><td>FALSE</td><td>FALSE</td><td>FALSE</td><td>FALSE</td><td>FALSE</td><td>FALSE</td><td>FALSE</td><td>FALSE</td><td>FALSE</td><td>FALSE</td><td>FALSE</td><td>FALSE</td><td>FALSE</td><td>FALSE</td><td>FALSE</td></tr>\n",
       "\t<tr><td>FALSE</td><td>FALSE</td><td>FALSE</td><td>FALSE</td><td>FALSE</td><td>FALSE</td><td>FALSE</td><td>FALSE</td><td>FALSE</td><td>FALSE</td><td>FALSE</td><td>FALSE</td><td>FALSE</td><td>FALSE</td><td>FALSE</td></tr>\n",
       "\t<tr><td>FALSE</td><td>FALSE</td><td>FALSE</td><td>FALSE</td><td>FALSE</td><td>FALSE</td><td>FALSE</td><td>FALSE</td><td>FALSE</td><td>FALSE</td><td>FALSE</td><td>FALSE</td><td>FALSE</td><td>FALSE</td><td>FALSE</td></tr>\n",
       "</tbody>\n",
       "</table>\n"
      ],
      "text/latex": [
       "A matrix: 940 × 15 of type lgl\n",
       "\\begin{tabular}{lllllllllllllll}\n",
       " Id & ActivityDate & TotalSteps & TotalDistance & TrackerDistance & LoggedActivitiesDistance & VeryActiveDistance & ModeratelyActiveDistance & LightActiveDistance & SedentaryActiveDistance & VeryActiveMinutes & FairlyActiveMinutes & LightlyActiveMinutes & SedentaryMinutes & Calories\\\\\n",
       "\\hline\n",
       "\t FALSE & FALSE & FALSE & FALSE & FALSE & FALSE & FALSE & FALSE & FALSE & FALSE & FALSE & FALSE & FALSE & FALSE & FALSE\\\\\n",
       "\t FALSE & FALSE & FALSE & FALSE & FALSE & FALSE & FALSE & FALSE & FALSE & FALSE & FALSE & FALSE & FALSE & FALSE & FALSE\\\\\n",
       "\t FALSE & FALSE & FALSE & FALSE & FALSE & FALSE & FALSE & FALSE & FALSE & FALSE & FALSE & FALSE & FALSE & FALSE & FALSE\\\\\n",
       "\t FALSE & FALSE & FALSE & FALSE & FALSE & FALSE & FALSE & FALSE & FALSE & FALSE & FALSE & FALSE & FALSE & FALSE & FALSE\\\\\n",
       "\t FALSE & FALSE & FALSE & FALSE & FALSE & FALSE & FALSE & FALSE & FALSE & FALSE & FALSE & FALSE & FALSE & FALSE & FALSE\\\\\n",
       "\t FALSE & FALSE & FALSE & FALSE & FALSE & FALSE & FALSE & FALSE & FALSE & FALSE & FALSE & FALSE & FALSE & FALSE & FALSE\\\\\n",
       "\t FALSE & FALSE & FALSE & FALSE & FALSE & FALSE & FALSE & FALSE & FALSE & FALSE & FALSE & FALSE & FALSE & FALSE & FALSE\\\\\n",
       "\t FALSE & FALSE & FALSE & FALSE & FALSE & FALSE & FALSE & FALSE & FALSE & FALSE & FALSE & FALSE & FALSE & FALSE & FALSE\\\\\n",
       "\t FALSE & FALSE & FALSE & FALSE & FALSE & FALSE & FALSE & FALSE & FALSE & FALSE & FALSE & FALSE & FALSE & FALSE & FALSE\\\\\n",
       "\t FALSE & FALSE & FALSE & FALSE & FALSE & FALSE & FALSE & FALSE & FALSE & FALSE & FALSE & FALSE & FALSE & FALSE & FALSE\\\\\n",
       "\t FALSE & FALSE & FALSE & FALSE & FALSE & FALSE & FALSE & FALSE & FALSE & FALSE & FALSE & FALSE & FALSE & FALSE & FALSE\\\\\n",
       "\t FALSE & FALSE & FALSE & FALSE & FALSE & FALSE & FALSE & FALSE & FALSE & FALSE & FALSE & FALSE & FALSE & FALSE & FALSE\\\\\n",
       "\t FALSE & FALSE & FALSE & FALSE & FALSE & FALSE & FALSE & FALSE & FALSE & FALSE & FALSE & FALSE & FALSE & FALSE & FALSE\\\\\n",
       "\t FALSE & FALSE & FALSE & FALSE & FALSE & FALSE & FALSE & FALSE & FALSE & FALSE & FALSE & FALSE & FALSE & FALSE & FALSE\\\\\n",
       "\t FALSE & FALSE & FALSE & FALSE & FALSE & FALSE & FALSE & FALSE & FALSE & FALSE & FALSE & FALSE & FALSE & FALSE & FALSE\\\\\n",
       "\t FALSE & FALSE & FALSE & FALSE & FALSE & FALSE & FALSE & FALSE & FALSE & FALSE & FALSE & FALSE & FALSE & FALSE & FALSE\\\\\n",
       "\t FALSE & FALSE & FALSE & FALSE & FALSE & FALSE & FALSE & FALSE & FALSE & FALSE & FALSE & FALSE & FALSE & FALSE & FALSE\\\\\n",
       "\t FALSE & FALSE & FALSE & FALSE & FALSE & FALSE & FALSE & FALSE & FALSE & FALSE & FALSE & FALSE & FALSE & FALSE & FALSE\\\\\n",
       "\t FALSE & FALSE & FALSE & FALSE & FALSE & FALSE & FALSE & FALSE & FALSE & FALSE & FALSE & FALSE & FALSE & FALSE & FALSE\\\\\n",
       "\t FALSE & FALSE & FALSE & FALSE & FALSE & FALSE & FALSE & FALSE & FALSE & FALSE & FALSE & FALSE & FALSE & FALSE & FALSE\\\\\n",
       "\t FALSE & FALSE & FALSE & FALSE & FALSE & FALSE & FALSE & FALSE & FALSE & FALSE & FALSE & FALSE & FALSE & FALSE & FALSE\\\\\n",
       "\t FALSE & FALSE & FALSE & FALSE & FALSE & FALSE & FALSE & FALSE & FALSE & FALSE & FALSE & FALSE & FALSE & FALSE & FALSE\\\\\n",
       "\t FALSE & FALSE & FALSE & FALSE & FALSE & FALSE & FALSE & FALSE & FALSE & FALSE & FALSE & FALSE & FALSE & FALSE & FALSE\\\\\n",
       "\t FALSE & FALSE & FALSE & FALSE & FALSE & FALSE & FALSE & FALSE & FALSE & FALSE & FALSE & FALSE & FALSE & FALSE & FALSE\\\\\n",
       "\t FALSE & FALSE & FALSE & FALSE & FALSE & FALSE & FALSE & FALSE & FALSE & FALSE & FALSE & FALSE & FALSE & FALSE & FALSE\\\\\n",
       "\t FALSE & FALSE & FALSE & FALSE & FALSE & FALSE & FALSE & FALSE & FALSE & FALSE & FALSE & FALSE & FALSE & FALSE & FALSE\\\\\n",
       "\t FALSE & FALSE & FALSE & FALSE & FALSE & FALSE & FALSE & FALSE & FALSE & FALSE & FALSE & FALSE & FALSE & FALSE & FALSE\\\\\n",
       "\t FALSE & FALSE & FALSE & FALSE & FALSE & FALSE & FALSE & FALSE & FALSE & FALSE & FALSE & FALSE & FALSE & FALSE & FALSE\\\\\n",
       "\t FALSE & FALSE & FALSE & FALSE & FALSE & FALSE & FALSE & FALSE & FALSE & FALSE & FALSE & FALSE & FALSE & FALSE & FALSE\\\\\n",
       "\t FALSE & FALSE & FALSE & FALSE & FALSE & FALSE & FALSE & FALSE & FALSE & FALSE & FALSE & FALSE & FALSE & FALSE & FALSE\\\\\n",
       "\t ⋮ & ⋮ & ⋮ & ⋮ & ⋮ & ⋮ & ⋮ & ⋮ & ⋮ & ⋮ & ⋮ & ⋮ & ⋮ & ⋮ & ⋮\\\\\n",
       "\t FALSE & FALSE & FALSE & FALSE & FALSE & FALSE & FALSE & FALSE & FALSE & FALSE & FALSE & FALSE & FALSE & FALSE & FALSE\\\\\n",
       "\t FALSE & FALSE & FALSE & FALSE & FALSE & FALSE & FALSE & FALSE & FALSE & FALSE & FALSE & FALSE & FALSE & FALSE & FALSE\\\\\n",
       "\t FALSE & FALSE & FALSE & FALSE & FALSE & FALSE & FALSE & FALSE & FALSE & FALSE & FALSE & FALSE & FALSE & FALSE & FALSE\\\\\n",
       "\t FALSE & FALSE & FALSE & FALSE & FALSE & FALSE & FALSE & FALSE & FALSE & FALSE & FALSE & FALSE & FALSE & FALSE & FALSE\\\\\n",
       "\t FALSE & FALSE & FALSE & FALSE & FALSE & FALSE & FALSE & FALSE & FALSE & FALSE & FALSE & FALSE & FALSE & FALSE & FALSE\\\\\n",
       "\t FALSE & FALSE & FALSE & FALSE & FALSE & FALSE & FALSE & FALSE & FALSE & FALSE & FALSE & FALSE & FALSE & FALSE & FALSE\\\\\n",
       "\t FALSE & FALSE & FALSE & FALSE & FALSE & FALSE & FALSE & FALSE & FALSE & FALSE & FALSE & FALSE & FALSE & FALSE & FALSE\\\\\n",
       "\t FALSE & FALSE & FALSE & FALSE & FALSE & FALSE & FALSE & FALSE & FALSE & FALSE & FALSE & FALSE & FALSE & FALSE & FALSE\\\\\n",
       "\t FALSE & FALSE & FALSE & FALSE & FALSE & FALSE & FALSE & FALSE & FALSE & FALSE & FALSE & FALSE & FALSE & FALSE & FALSE\\\\\n",
       "\t FALSE & FALSE & FALSE & FALSE & FALSE & FALSE & FALSE & FALSE & FALSE & FALSE & FALSE & FALSE & FALSE & FALSE & FALSE\\\\\n",
       "\t FALSE & FALSE & FALSE & FALSE & FALSE & FALSE & FALSE & FALSE & FALSE & FALSE & FALSE & FALSE & FALSE & FALSE & FALSE\\\\\n",
       "\t FALSE & FALSE & FALSE & FALSE & FALSE & FALSE & FALSE & FALSE & FALSE & FALSE & FALSE & FALSE & FALSE & FALSE & FALSE\\\\\n",
       "\t FALSE & FALSE & FALSE & FALSE & FALSE & FALSE & FALSE & FALSE & FALSE & FALSE & FALSE & FALSE & FALSE & FALSE & FALSE\\\\\n",
       "\t FALSE & FALSE & FALSE & FALSE & FALSE & FALSE & FALSE & FALSE & FALSE & FALSE & FALSE & FALSE & FALSE & FALSE & FALSE\\\\\n",
       "\t FALSE & FALSE & FALSE & FALSE & FALSE & FALSE & FALSE & FALSE & FALSE & FALSE & FALSE & FALSE & FALSE & FALSE & FALSE\\\\\n",
       "\t FALSE & FALSE & FALSE & FALSE & FALSE & FALSE & FALSE & FALSE & FALSE & FALSE & FALSE & FALSE & FALSE & FALSE & FALSE\\\\\n",
       "\t FALSE & FALSE & FALSE & FALSE & FALSE & FALSE & FALSE & FALSE & FALSE & FALSE & FALSE & FALSE & FALSE & FALSE & FALSE\\\\\n",
       "\t FALSE & FALSE & FALSE & FALSE & FALSE & FALSE & FALSE & FALSE & FALSE & FALSE & FALSE & FALSE & FALSE & FALSE & FALSE\\\\\n",
       "\t FALSE & FALSE & FALSE & FALSE & FALSE & FALSE & FALSE & FALSE & FALSE & FALSE & FALSE & FALSE & FALSE & FALSE & FALSE\\\\\n",
       "\t FALSE & FALSE & FALSE & FALSE & FALSE & FALSE & FALSE & FALSE & FALSE & FALSE & FALSE & FALSE & FALSE & FALSE & FALSE\\\\\n",
       "\t FALSE & FALSE & FALSE & FALSE & FALSE & FALSE & FALSE & FALSE & FALSE & FALSE & FALSE & FALSE & FALSE & FALSE & FALSE\\\\\n",
       "\t FALSE & FALSE & FALSE & FALSE & FALSE & FALSE & FALSE & FALSE & FALSE & FALSE & FALSE & FALSE & FALSE & FALSE & FALSE\\\\\n",
       "\t FALSE & FALSE & FALSE & FALSE & FALSE & FALSE & FALSE & FALSE & FALSE & FALSE & FALSE & FALSE & FALSE & FALSE & FALSE\\\\\n",
       "\t FALSE & FALSE & FALSE & FALSE & FALSE & FALSE & FALSE & FALSE & FALSE & FALSE & FALSE & FALSE & FALSE & FALSE & FALSE\\\\\n",
       "\t FALSE & FALSE & FALSE & FALSE & FALSE & FALSE & FALSE & FALSE & FALSE & FALSE & FALSE & FALSE & FALSE & FALSE & FALSE\\\\\n",
       "\t FALSE & FALSE & FALSE & FALSE & FALSE & FALSE & FALSE & FALSE & FALSE & FALSE & FALSE & FALSE & FALSE & FALSE & FALSE\\\\\n",
       "\t FALSE & FALSE & FALSE & FALSE & FALSE & FALSE & FALSE & FALSE & FALSE & FALSE & FALSE & FALSE & FALSE & FALSE & FALSE\\\\\n",
       "\t FALSE & FALSE & FALSE & FALSE & FALSE & FALSE & FALSE & FALSE & FALSE & FALSE & FALSE & FALSE & FALSE & FALSE & FALSE\\\\\n",
       "\t FALSE & FALSE & FALSE & FALSE & FALSE & FALSE & FALSE & FALSE & FALSE & FALSE & FALSE & FALSE & FALSE & FALSE & FALSE\\\\\n",
       "\t FALSE & FALSE & FALSE & FALSE & FALSE & FALSE & FALSE & FALSE & FALSE & FALSE & FALSE & FALSE & FALSE & FALSE & FALSE\\\\\n",
       "\\end{tabular}\n"
      ],
      "text/markdown": [
       "\n",
       "A matrix: 940 × 15 of type lgl\n",
       "\n",
       "| Id | ActivityDate | TotalSteps | TotalDistance | TrackerDistance | LoggedActivitiesDistance | VeryActiveDistance | ModeratelyActiveDistance | LightActiveDistance | SedentaryActiveDistance | VeryActiveMinutes | FairlyActiveMinutes | LightlyActiveMinutes | SedentaryMinutes | Calories |\n",
       "|---|---|---|---|---|---|---|---|---|---|---|---|---|---|---|\n",
       "| FALSE | FALSE | FALSE | FALSE | FALSE | FALSE | FALSE | FALSE | FALSE | FALSE | FALSE | FALSE | FALSE | FALSE | FALSE |\n",
       "| FALSE | FALSE | FALSE | FALSE | FALSE | FALSE | FALSE | FALSE | FALSE | FALSE | FALSE | FALSE | FALSE | FALSE | FALSE |\n",
       "| FALSE | FALSE | FALSE | FALSE | FALSE | FALSE | FALSE | FALSE | FALSE | FALSE | FALSE | FALSE | FALSE | FALSE | FALSE |\n",
       "| FALSE | FALSE | FALSE | FALSE | FALSE | FALSE | FALSE | FALSE | FALSE | FALSE | FALSE | FALSE | FALSE | FALSE | FALSE |\n",
       "| FALSE | FALSE | FALSE | FALSE | FALSE | FALSE | FALSE | FALSE | FALSE | FALSE | FALSE | FALSE | FALSE | FALSE | FALSE |\n",
       "| FALSE | FALSE | FALSE | FALSE | FALSE | FALSE | FALSE | FALSE | FALSE | FALSE | FALSE | FALSE | FALSE | FALSE | FALSE |\n",
       "| FALSE | FALSE | FALSE | FALSE | FALSE | FALSE | FALSE | FALSE | FALSE | FALSE | FALSE | FALSE | FALSE | FALSE | FALSE |\n",
       "| FALSE | FALSE | FALSE | FALSE | FALSE | FALSE | FALSE | FALSE | FALSE | FALSE | FALSE | FALSE | FALSE | FALSE | FALSE |\n",
       "| FALSE | FALSE | FALSE | FALSE | FALSE | FALSE | FALSE | FALSE | FALSE | FALSE | FALSE | FALSE | FALSE | FALSE | FALSE |\n",
       "| FALSE | FALSE | FALSE | FALSE | FALSE | FALSE | FALSE | FALSE | FALSE | FALSE | FALSE | FALSE | FALSE | FALSE | FALSE |\n",
       "| FALSE | FALSE | FALSE | FALSE | FALSE | FALSE | FALSE | FALSE | FALSE | FALSE | FALSE | FALSE | FALSE | FALSE | FALSE |\n",
       "| FALSE | FALSE | FALSE | FALSE | FALSE | FALSE | FALSE | FALSE | FALSE | FALSE | FALSE | FALSE | FALSE | FALSE | FALSE |\n",
       "| FALSE | FALSE | FALSE | FALSE | FALSE | FALSE | FALSE | FALSE | FALSE | FALSE | FALSE | FALSE | FALSE | FALSE | FALSE |\n",
       "| FALSE | FALSE | FALSE | FALSE | FALSE | FALSE | FALSE | FALSE | FALSE | FALSE | FALSE | FALSE | FALSE | FALSE | FALSE |\n",
       "| FALSE | FALSE | FALSE | FALSE | FALSE | FALSE | FALSE | FALSE | FALSE | FALSE | FALSE | FALSE | FALSE | FALSE | FALSE |\n",
       "| FALSE | FALSE | FALSE | FALSE | FALSE | FALSE | FALSE | FALSE | FALSE | FALSE | FALSE | FALSE | FALSE | FALSE | FALSE |\n",
       "| FALSE | FALSE | FALSE | FALSE | FALSE | FALSE | FALSE | FALSE | FALSE | FALSE | FALSE | FALSE | FALSE | FALSE | FALSE |\n",
       "| FALSE | FALSE | FALSE | FALSE | FALSE | FALSE | FALSE | FALSE | FALSE | FALSE | FALSE | FALSE | FALSE | FALSE | FALSE |\n",
       "| FALSE | FALSE | FALSE | FALSE | FALSE | FALSE | FALSE | FALSE | FALSE | FALSE | FALSE | FALSE | FALSE | FALSE | FALSE |\n",
       "| FALSE | FALSE | FALSE | FALSE | FALSE | FALSE | FALSE | FALSE | FALSE | FALSE | FALSE | FALSE | FALSE | FALSE | FALSE |\n",
       "| FALSE | FALSE | FALSE | FALSE | FALSE | FALSE | FALSE | FALSE | FALSE | FALSE | FALSE | FALSE | FALSE | FALSE | FALSE |\n",
       "| FALSE | FALSE | FALSE | FALSE | FALSE | FALSE | FALSE | FALSE | FALSE | FALSE | FALSE | FALSE | FALSE | FALSE | FALSE |\n",
       "| FALSE | FALSE | FALSE | FALSE | FALSE | FALSE | FALSE | FALSE | FALSE | FALSE | FALSE | FALSE | FALSE | FALSE | FALSE |\n",
       "| FALSE | FALSE | FALSE | FALSE | FALSE | FALSE | FALSE | FALSE | FALSE | FALSE | FALSE | FALSE | FALSE | FALSE | FALSE |\n",
       "| FALSE | FALSE | FALSE | FALSE | FALSE | FALSE | FALSE | FALSE | FALSE | FALSE | FALSE | FALSE | FALSE | FALSE | FALSE |\n",
       "| FALSE | FALSE | FALSE | FALSE | FALSE | FALSE | FALSE | FALSE | FALSE | FALSE | FALSE | FALSE | FALSE | FALSE | FALSE |\n",
       "| FALSE | FALSE | FALSE | FALSE | FALSE | FALSE | FALSE | FALSE | FALSE | FALSE | FALSE | FALSE | FALSE | FALSE | FALSE |\n",
       "| FALSE | FALSE | FALSE | FALSE | FALSE | FALSE | FALSE | FALSE | FALSE | FALSE | FALSE | FALSE | FALSE | FALSE | FALSE |\n",
       "| FALSE | FALSE | FALSE | FALSE | FALSE | FALSE | FALSE | FALSE | FALSE | FALSE | FALSE | FALSE | FALSE | FALSE | FALSE |\n",
       "| FALSE | FALSE | FALSE | FALSE | FALSE | FALSE | FALSE | FALSE | FALSE | FALSE | FALSE | FALSE | FALSE | FALSE | FALSE |\n",
       "| ⋮ | ⋮ | ⋮ | ⋮ | ⋮ | ⋮ | ⋮ | ⋮ | ⋮ | ⋮ | ⋮ | ⋮ | ⋮ | ⋮ | ⋮ |\n",
       "| FALSE | FALSE | FALSE | FALSE | FALSE | FALSE | FALSE | FALSE | FALSE | FALSE | FALSE | FALSE | FALSE | FALSE | FALSE |\n",
       "| FALSE | FALSE | FALSE | FALSE | FALSE | FALSE | FALSE | FALSE | FALSE | FALSE | FALSE | FALSE | FALSE | FALSE | FALSE |\n",
       "| FALSE | FALSE | FALSE | FALSE | FALSE | FALSE | FALSE | FALSE | FALSE | FALSE | FALSE | FALSE | FALSE | FALSE | FALSE |\n",
       "| FALSE | FALSE | FALSE | FALSE | FALSE | FALSE | FALSE | FALSE | FALSE | FALSE | FALSE | FALSE | FALSE | FALSE | FALSE |\n",
       "| FALSE | FALSE | FALSE | FALSE | FALSE | FALSE | FALSE | FALSE | FALSE | FALSE | FALSE | FALSE | FALSE | FALSE | FALSE |\n",
       "| FALSE | FALSE | FALSE | FALSE | FALSE | FALSE | FALSE | FALSE | FALSE | FALSE | FALSE | FALSE | FALSE | FALSE | FALSE |\n",
       "| FALSE | FALSE | FALSE | FALSE | FALSE | FALSE | FALSE | FALSE | FALSE | FALSE | FALSE | FALSE | FALSE | FALSE | FALSE |\n",
       "| FALSE | FALSE | FALSE | FALSE | FALSE | FALSE | FALSE | FALSE | FALSE | FALSE | FALSE | FALSE | FALSE | FALSE | FALSE |\n",
       "| FALSE | FALSE | FALSE | FALSE | FALSE | FALSE | FALSE | FALSE | FALSE | FALSE | FALSE | FALSE | FALSE | FALSE | FALSE |\n",
       "| FALSE | FALSE | FALSE | FALSE | FALSE | FALSE | FALSE | FALSE | FALSE | FALSE | FALSE | FALSE | FALSE | FALSE | FALSE |\n",
       "| FALSE | FALSE | FALSE | FALSE | FALSE | FALSE | FALSE | FALSE | FALSE | FALSE | FALSE | FALSE | FALSE | FALSE | FALSE |\n",
       "| FALSE | FALSE | FALSE | FALSE | FALSE | FALSE | FALSE | FALSE | FALSE | FALSE | FALSE | FALSE | FALSE | FALSE | FALSE |\n",
       "| FALSE | FALSE | FALSE | FALSE | FALSE | FALSE | FALSE | FALSE | FALSE | FALSE | FALSE | FALSE | FALSE | FALSE | FALSE |\n",
       "| FALSE | FALSE | FALSE | FALSE | FALSE | FALSE | FALSE | FALSE | FALSE | FALSE | FALSE | FALSE | FALSE | FALSE | FALSE |\n",
       "| FALSE | FALSE | FALSE | FALSE | FALSE | FALSE | FALSE | FALSE | FALSE | FALSE | FALSE | FALSE | FALSE | FALSE | FALSE |\n",
       "| FALSE | FALSE | FALSE | FALSE | FALSE | FALSE | FALSE | FALSE | FALSE | FALSE | FALSE | FALSE | FALSE | FALSE | FALSE |\n",
       "| FALSE | FALSE | FALSE | FALSE | FALSE | FALSE | FALSE | FALSE | FALSE | FALSE | FALSE | FALSE | FALSE | FALSE | FALSE |\n",
       "| FALSE | FALSE | FALSE | FALSE | FALSE | FALSE | FALSE | FALSE | FALSE | FALSE | FALSE | FALSE | FALSE | FALSE | FALSE |\n",
       "| FALSE | FALSE | FALSE | FALSE | FALSE | FALSE | FALSE | FALSE | FALSE | FALSE | FALSE | FALSE | FALSE | FALSE | FALSE |\n",
       "| FALSE | FALSE | FALSE | FALSE | FALSE | FALSE | FALSE | FALSE | FALSE | FALSE | FALSE | FALSE | FALSE | FALSE | FALSE |\n",
       "| FALSE | FALSE | FALSE | FALSE | FALSE | FALSE | FALSE | FALSE | FALSE | FALSE | FALSE | FALSE | FALSE | FALSE | FALSE |\n",
       "| FALSE | FALSE | FALSE | FALSE | FALSE | FALSE | FALSE | FALSE | FALSE | FALSE | FALSE | FALSE | FALSE | FALSE | FALSE |\n",
       "| FALSE | FALSE | FALSE | FALSE | FALSE | FALSE | FALSE | FALSE | FALSE | FALSE | FALSE | FALSE | FALSE | FALSE | FALSE |\n",
       "| FALSE | FALSE | FALSE | FALSE | FALSE | FALSE | FALSE | FALSE | FALSE | FALSE | FALSE | FALSE | FALSE | FALSE | FALSE |\n",
       "| FALSE | FALSE | FALSE | FALSE | FALSE | FALSE | FALSE | FALSE | FALSE | FALSE | FALSE | FALSE | FALSE | FALSE | FALSE |\n",
       "| FALSE | FALSE | FALSE | FALSE | FALSE | FALSE | FALSE | FALSE | FALSE | FALSE | FALSE | FALSE | FALSE | FALSE | FALSE |\n",
       "| FALSE | FALSE | FALSE | FALSE | FALSE | FALSE | FALSE | FALSE | FALSE | FALSE | FALSE | FALSE | FALSE | FALSE | FALSE |\n",
       "| FALSE | FALSE | FALSE | FALSE | FALSE | FALSE | FALSE | FALSE | FALSE | FALSE | FALSE | FALSE | FALSE | FALSE | FALSE |\n",
       "| FALSE | FALSE | FALSE | FALSE | FALSE | FALSE | FALSE | FALSE | FALSE | FALSE | FALSE | FALSE | FALSE | FALSE | FALSE |\n",
       "| FALSE | FALSE | FALSE | FALSE | FALSE | FALSE | FALSE | FALSE | FALSE | FALSE | FALSE | FALSE | FALSE | FALSE | FALSE |\n",
       "\n"
      ],
      "text/plain": [
       "      Id    ActivityDate TotalSteps TotalDistance TrackerDistance\n",
       " [1,] FALSE FALSE        FALSE      FALSE         FALSE          \n",
       " [2,] FALSE FALSE        FALSE      FALSE         FALSE          \n",
       " [3,] FALSE FALSE        FALSE      FALSE         FALSE          \n",
       " [4,] FALSE FALSE        FALSE      FALSE         FALSE          \n",
       " [5,] FALSE FALSE        FALSE      FALSE         FALSE          \n",
       " [6,] FALSE FALSE        FALSE      FALSE         FALSE          \n",
       " [7,] FALSE FALSE        FALSE      FALSE         FALSE          \n",
       " [8,] FALSE FALSE        FALSE      FALSE         FALSE          \n",
       " [9,] FALSE FALSE        FALSE      FALSE         FALSE          \n",
       "[10,] FALSE FALSE        FALSE      FALSE         FALSE          \n",
       "[11,] FALSE FALSE        FALSE      FALSE         FALSE          \n",
       "[12,] FALSE FALSE        FALSE      FALSE         FALSE          \n",
       "[13,] FALSE FALSE        FALSE      FALSE         FALSE          \n",
       "[14,] FALSE FALSE        FALSE      FALSE         FALSE          \n",
       "[15,] FALSE FALSE        FALSE      FALSE         FALSE          \n",
       "[16,] FALSE FALSE        FALSE      FALSE         FALSE          \n",
       "[17,] FALSE FALSE        FALSE      FALSE         FALSE          \n",
       "[18,] FALSE FALSE        FALSE      FALSE         FALSE          \n",
       "[19,] FALSE FALSE        FALSE      FALSE         FALSE          \n",
       "[20,] FALSE FALSE        FALSE      FALSE         FALSE          \n",
       "[21,] FALSE FALSE        FALSE      FALSE         FALSE          \n",
       "[22,] FALSE FALSE        FALSE      FALSE         FALSE          \n",
       "[23,] FALSE FALSE        FALSE      FALSE         FALSE          \n",
       "[24,] FALSE FALSE        FALSE      FALSE         FALSE          \n",
       "[25,] FALSE FALSE        FALSE      FALSE         FALSE          \n",
       "[26,] FALSE FALSE        FALSE      FALSE         FALSE          \n",
       "[27,] FALSE FALSE        FALSE      FALSE         FALSE          \n",
       "[28,] FALSE FALSE        FALSE      FALSE         FALSE          \n",
       "[29,] FALSE FALSE        FALSE      FALSE         FALSE          \n",
       "[30,] FALSE FALSE        FALSE      FALSE         FALSE          \n",
       "[31,] ⋮     ⋮            ⋮          ⋮             ⋮              \n",
       "[32,] FALSE FALSE        FALSE      FALSE         FALSE          \n",
       "[33,] FALSE FALSE        FALSE      FALSE         FALSE          \n",
       "[34,] FALSE FALSE        FALSE      FALSE         FALSE          \n",
       "[35,] FALSE FALSE        FALSE      FALSE         FALSE          \n",
       "[36,] FALSE FALSE        FALSE      FALSE         FALSE          \n",
       "[37,] FALSE FALSE        FALSE      FALSE         FALSE          \n",
       "[38,] FALSE FALSE        FALSE      FALSE         FALSE          \n",
       "[39,] FALSE FALSE        FALSE      FALSE         FALSE          \n",
       "[40,] FALSE FALSE        FALSE      FALSE         FALSE          \n",
       "[41,] FALSE FALSE        FALSE      FALSE         FALSE          \n",
       "[42,] FALSE FALSE        FALSE      FALSE         FALSE          \n",
       "[43,] FALSE FALSE        FALSE      FALSE         FALSE          \n",
       "[44,] FALSE FALSE        FALSE      FALSE         FALSE          \n",
       "[45,] FALSE FALSE        FALSE      FALSE         FALSE          \n",
       "[46,] FALSE FALSE        FALSE      FALSE         FALSE          \n",
       "[47,] FALSE FALSE        FALSE      FALSE         FALSE          \n",
       "[48,] FALSE FALSE        FALSE      FALSE         FALSE          \n",
       "[49,] FALSE FALSE        FALSE      FALSE         FALSE          \n",
       "[50,] FALSE FALSE        FALSE      FALSE         FALSE          \n",
       "[51,] FALSE FALSE        FALSE      FALSE         FALSE          \n",
       "[52,] FALSE FALSE        FALSE      FALSE         FALSE          \n",
       "[53,] FALSE FALSE        FALSE      FALSE         FALSE          \n",
       "[54,] FALSE FALSE        FALSE      FALSE         FALSE          \n",
       "[55,] FALSE FALSE        FALSE      FALSE         FALSE          \n",
       "[56,] FALSE FALSE        FALSE      FALSE         FALSE          \n",
       "[57,] FALSE FALSE        FALSE      FALSE         FALSE          \n",
       "[58,] FALSE FALSE        FALSE      FALSE         FALSE          \n",
       "[59,] FALSE FALSE        FALSE      FALSE         FALSE          \n",
       "[60,] FALSE FALSE        FALSE      FALSE         FALSE          \n",
       "[61,] FALSE FALSE        FALSE      FALSE         FALSE          \n",
       "      LoggedActivitiesDistance VeryActiveDistance ModeratelyActiveDistance\n",
       " [1,] FALSE                    FALSE              FALSE                   \n",
       " [2,] FALSE                    FALSE              FALSE                   \n",
       " [3,] FALSE                    FALSE              FALSE                   \n",
       " [4,] FALSE                    FALSE              FALSE                   \n",
       " [5,] FALSE                    FALSE              FALSE                   \n",
       " [6,] FALSE                    FALSE              FALSE                   \n",
       " [7,] FALSE                    FALSE              FALSE                   \n",
       " [8,] FALSE                    FALSE              FALSE                   \n",
       " [9,] FALSE                    FALSE              FALSE                   \n",
       "[10,] FALSE                    FALSE              FALSE                   \n",
       "[11,] FALSE                    FALSE              FALSE                   \n",
       "[12,] FALSE                    FALSE              FALSE                   \n",
       "[13,] FALSE                    FALSE              FALSE                   \n",
       "[14,] FALSE                    FALSE              FALSE                   \n",
       "[15,] FALSE                    FALSE              FALSE                   \n",
       "[16,] FALSE                    FALSE              FALSE                   \n",
       "[17,] FALSE                    FALSE              FALSE                   \n",
       "[18,] FALSE                    FALSE              FALSE                   \n",
       "[19,] FALSE                    FALSE              FALSE                   \n",
       "[20,] FALSE                    FALSE              FALSE                   \n",
       "[21,] FALSE                    FALSE              FALSE                   \n",
       "[22,] FALSE                    FALSE              FALSE                   \n",
       "[23,] FALSE                    FALSE              FALSE                   \n",
       "[24,] FALSE                    FALSE              FALSE                   \n",
       "[25,] FALSE                    FALSE              FALSE                   \n",
       "[26,] FALSE                    FALSE              FALSE                   \n",
       "[27,] FALSE                    FALSE              FALSE                   \n",
       "[28,] FALSE                    FALSE              FALSE                   \n",
       "[29,] FALSE                    FALSE              FALSE                   \n",
       "[30,] FALSE                    FALSE              FALSE                   \n",
       "[31,] ⋮                        ⋮                  ⋮                       \n",
       "[32,] FALSE                    FALSE              FALSE                   \n",
       "[33,] FALSE                    FALSE              FALSE                   \n",
       "[34,] FALSE                    FALSE              FALSE                   \n",
       "[35,] FALSE                    FALSE              FALSE                   \n",
       "[36,] FALSE                    FALSE              FALSE                   \n",
       "[37,] FALSE                    FALSE              FALSE                   \n",
       "[38,] FALSE                    FALSE              FALSE                   \n",
       "[39,] FALSE                    FALSE              FALSE                   \n",
       "[40,] FALSE                    FALSE              FALSE                   \n",
       "[41,] FALSE                    FALSE              FALSE                   \n",
       "[42,] FALSE                    FALSE              FALSE                   \n",
       "[43,] FALSE                    FALSE              FALSE                   \n",
       "[44,] FALSE                    FALSE              FALSE                   \n",
       "[45,] FALSE                    FALSE              FALSE                   \n",
       "[46,] FALSE                    FALSE              FALSE                   \n",
       "[47,] FALSE                    FALSE              FALSE                   \n",
       "[48,] FALSE                    FALSE              FALSE                   \n",
       "[49,] FALSE                    FALSE              FALSE                   \n",
       "[50,] FALSE                    FALSE              FALSE                   \n",
       "[51,] FALSE                    FALSE              FALSE                   \n",
       "[52,] FALSE                    FALSE              FALSE                   \n",
       "[53,] FALSE                    FALSE              FALSE                   \n",
       "[54,] FALSE                    FALSE              FALSE                   \n",
       "[55,] FALSE                    FALSE              FALSE                   \n",
       "[56,] FALSE                    FALSE              FALSE                   \n",
       "[57,] FALSE                    FALSE              FALSE                   \n",
       "[58,] FALSE                    FALSE              FALSE                   \n",
       "[59,] FALSE                    FALSE              FALSE                   \n",
       "[60,] FALSE                    FALSE              FALSE                   \n",
       "[61,] FALSE                    FALSE              FALSE                   \n",
       "      LightActiveDistance SedentaryActiveDistance VeryActiveMinutes\n",
       " [1,] FALSE               FALSE                   FALSE            \n",
       " [2,] FALSE               FALSE                   FALSE            \n",
       " [3,] FALSE               FALSE                   FALSE            \n",
       " [4,] FALSE               FALSE                   FALSE            \n",
       " [5,] FALSE               FALSE                   FALSE            \n",
       " [6,] FALSE               FALSE                   FALSE            \n",
       " [7,] FALSE               FALSE                   FALSE            \n",
       " [8,] FALSE               FALSE                   FALSE            \n",
       " [9,] FALSE               FALSE                   FALSE            \n",
       "[10,] FALSE               FALSE                   FALSE            \n",
       "[11,] FALSE               FALSE                   FALSE            \n",
       "[12,] FALSE               FALSE                   FALSE            \n",
       "[13,] FALSE               FALSE                   FALSE            \n",
       "[14,] FALSE               FALSE                   FALSE            \n",
       "[15,] FALSE               FALSE                   FALSE            \n",
       "[16,] FALSE               FALSE                   FALSE            \n",
       "[17,] FALSE               FALSE                   FALSE            \n",
       "[18,] FALSE               FALSE                   FALSE            \n",
       "[19,] FALSE               FALSE                   FALSE            \n",
       "[20,] FALSE               FALSE                   FALSE            \n",
       "[21,] FALSE               FALSE                   FALSE            \n",
       "[22,] FALSE               FALSE                   FALSE            \n",
       "[23,] FALSE               FALSE                   FALSE            \n",
       "[24,] FALSE               FALSE                   FALSE            \n",
       "[25,] FALSE               FALSE                   FALSE            \n",
       "[26,] FALSE               FALSE                   FALSE            \n",
       "[27,] FALSE               FALSE                   FALSE            \n",
       "[28,] FALSE               FALSE                   FALSE            \n",
       "[29,] FALSE               FALSE                   FALSE            \n",
       "[30,] FALSE               FALSE                   FALSE            \n",
       "[31,] ⋮                   ⋮                       ⋮                \n",
       "[32,] FALSE               FALSE                   FALSE            \n",
       "[33,] FALSE               FALSE                   FALSE            \n",
       "[34,] FALSE               FALSE                   FALSE            \n",
       "[35,] FALSE               FALSE                   FALSE            \n",
       "[36,] FALSE               FALSE                   FALSE            \n",
       "[37,] FALSE               FALSE                   FALSE            \n",
       "[38,] FALSE               FALSE                   FALSE            \n",
       "[39,] FALSE               FALSE                   FALSE            \n",
       "[40,] FALSE               FALSE                   FALSE            \n",
       "[41,] FALSE               FALSE                   FALSE            \n",
       "[42,] FALSE               FALSE                   FALSE            \n",
       "[43,] FALSE               FALSE                   FALSE            \n",
       "[44,] FALSE               FALSE                   FALSE            \n",
       "[45,] FALSE               FALSE                   FALSE            \n",
       "[46,] FALSE               FALSE                   FALSE            \n",
       "[47,] FALSE               FALSE                   FALSE            \n",
       "[48,] FALSE               FALSE                   FALSE            \n",
       "[49,] FALSE               FALSE                   FALSE            \n",
       "[50,] FALSE               FALSE                   FALSE            \n",
       "[51,] FALSE               FALSE                   FALSE            \n",
       "[52,] FALSE               FALSE                   FALSE            \n",
       "[53,] FALSE               FALSE                   FALSE            \n",
       "[54,] FALSE               FALSE                   FALSE            \n",
       "[55,] FALSE               FALSE                   FALSE            \n",
       "[56,] FALSE               FALSE                   FALSE            \n",
       "[57,] FALSE               FALSE                   FALSE            \n",
       "[58,] FALSE               FALSE                   FALSE            \n",
       "[59,] FALSE               FALSE                   FALSE            \n",
       "[60,] FALSE               FALSE                   FALSE            \n",
       "[61,] FALSE               FALSE                   FALSE            \n",
       "      FairlyActiveMinutes LightlyActiveMinutes SedentaryMinutes Calories\n",
       " [1,] FALSE               FALSE                FALSE            FALSE   \n",
       " [2,] FALSE               FALSE                FALSE            FALSE   \n",
       " [3,] FALSE               FALSE                FALSE            FALSE   \n",
       " [4,] FALSE               FALSE                FALSE            FALSE   \n",
       " [5,] FALSE               FALSE                FALSE            FALSE   \n",
       " [6,] FALSE               FALSE                FALSE            FALSE   \n",
       " [7,] FALSE               FALSE                FALSE            FALSE   \n",
       " [8,] FALSE               FALSE                FALSE            FALSE   \n",
       " [9,] FALSE               FALSE                FALSE            FALSE   \n",
       "[10,] FALSE               FALSE                FALSE            FALSE   \n",
       "[11,] FALSE               FALSE                FALSE            FALSE   \n",
       "[12,] FALSE               FALSE                FALSE            FALSE   \n",
       "[13,] FALSE               FALSE                FALSE            FALSE   \n",
       "[14,] FALSE               FALSE                FALSE            FALSE   \n",
       "[15,] FALSE               FALSE                FALSE            FALSE   \n",
       "[16,] FALSE               FALSE                FALSE            FALSE   \n",
       "[17,] FALSE               FALSE                FALSE            FALSE   \n",
       "[18,] FALSE               FALSE                FALSE            FALSE   \n",
       "[19,] FALSE               FALSE                FALSE            FALSE   \n",
       "[20,] FALSE               FALSE                FALSE            FALSE   \n",
       "[21,] FALSE               FALSE                FALSE            FALSE   \n",
       "[22,] FALSE               FALSE                FALSE            FALSE   \n",
       "[23,] FALSE               FALSE                FALSE            FALSE   \n",
       "[24,] FALSE               FALSE                FALSE            FALSE   \n",
       "[25,] FALSE               FALSE                FALSE            FALSE   \n",
       "[26,] FALSE               FALSE                FALSE            FALSE   \n",
       "[27,] FALSE               FALSE                FALSE            FALSE   \n",
       "[28,] FALSE               FALSE                FALSE            FALSE   \n",
       "[29,] FALSE               FALSE                FALSE            FALSE   \n",
       "[30,] FALSE               FALSE                FALSE            FALSE   \n",
       "[31,] ⋮                   ⋮                    ⋮                ⋮       \n",
       "[32,] FALSE               FALSE                FALSE            FALSE   \n",
       "[33,] FALSE               FALSE                FALSE            FALSE   \n",
       "[34,] FALSE               FALSE                FALSE            FALSE   \n",
       "[35,] FALSE               FALSE                FALSE            FALSE   \n",
       "[36,] FALSE               FALSE                FALSE            FALSE   \n",
       "[37,] FALSE               FALSE                FALSE            FALSE   \n",
       "[38,] FALSE               FALSE                FALSE            FALSE   \n",
       "[39,] FALSE               FALSE                FALSE            FALSE   \n",
       "[40,] FALSE               FALSE                FALSE            FALSE   \n",
       "[41,] FALSE               FALSE                FALSE            FALSE   \n",
       "[42,] FALSE               FALSE                FALSE            FALSE   \n",
       "[43,] FALSE               FALSE                FALSE            FALSE   \n",
       "[44,] FALSE               FALSE                FALSE            FALSE   \n",
       "[45,] FALSE               FALSE                FALSE            FALSE   \n",
       "[46,] FALSE               FALSE                FALSE            FALSE   \n",
       "[47,] FALSE               FALSE                FALSE            FALSE   \n",
       "[48,] FALSE               FALSE                FALSE            FALSE   \n",
       "[49,] FALSE               FALSE                FALSE            FALSE   \n",
       "[50,] FALSE               FALSE                FALSE            FALSE   \n",
       "[51,] FALSE               FALSE                FALSE            FALSE   \n",
       "[52,] FALSE               FALSE                FALSE            FALSE   \n",
       "[53,] FALSE               FALSE                FALSE            FALSE   \n",
       "[54,] FALSE               FALSE                FALSE            FALSE   \n",
       "[55,] FALSE               FALSE                FALSE            FALSE   \n",
       "[56,] FALSE               FALSE                FALSE            FALSE   \n",
       "[57,] FALSE               FALSE                FALSE            FALSE   \n",
       "[58,] FALSE               FALSE                FALSE            FALSE   \n",
       "[59,] FALSE               FALSE                FALSE            FALSE   \n",
       "[60,] FALSE               FALSE                FALSE            FALSE   \n",
       "[61,] FALSE               FALSE                FALSE            FALSE   "
      ]
     },
     "metadata": {},
     "output_type": "display_data"
    },
    {
     "data": {
      "text/html": [
       "<table class=\"dataframe\">\n",
       "<caption>A matrix: 22099 × 3 of type lgl</caption>\n",
       "<thead>\n",
       "\t<tr><th scope=col>Id</th><th scope=col>ActivityHour</th><th scope=col>Calories</th></tr>\n",
       "</thead>\n",
       "<tbody>\n",
       "\t<tr><td>FALSE</td><td>FALSE</td><td>FALSE</td></tr>\n",
       "\t<tr><td>FALSE</td><td>FALSE</td><td>FALSE</td></tr>\n",
       "\t<tr><td>FALSE</td><td>FALSE</td><td>FALSE</td></tr>\n",
       "\t<tr><td>FALSE</td><td>FALSE</td><td>FALSE</td></tr>\n",
       "\t<tr><td>FALSE</td><td>FALSE</td><td>FALSE</td></tr>\n",
       "\t<tr><td>FALSE</td><td>FALSE</td><td>FALSE</td></tr>\n",
       "\t<tr><td>FALSE</td><td>FALSE</td><td>FALSE</td></tr>\n",
       "\t<tr><td>FALSE</td><td>FALSE</td><td>FALSE</td></tr>\n",
       "\t<tr><td>FALSE</td><td>FALSE</td><td>FALSE</td></tr>\n",
       "\t<tr><td>FALSE</td><td>FALSE</td><td>FALSE</td></tr>\n",
       "\t<tr><td>FALSE</td><td>FALSE</td><td>FALSE</td></tr>\n",
       "\t<tr><td>FALSE</td><td>FALSE</td><td>FALSE</td></tr>\n",
       "\t<tr><td>FALSE</td><td>FALSE</td><td>FALSE</td></tr>\n",
       "\t<tr><td>FALSE</td><td>FALSE</td><td>FALSE</td></tr>\n",
       "\t<tr><td>FALSE</td><td>FALSE</td><td>FALSE</td></tr>\n",
       "\t<tr><td>FALSE</td><td>FALSE</td><td>FALSE</td></tr>\n",
       "\t<tr><td>FALSE</td><td>FALSE</td><td>FALSE</td></tr>\n",
       "\t<tr><td>FALSE</td><td>FALSE</td><td>FALSE</td></tr>\n",
       "\t<tr><td>FALSE</td><td>FALSE</td><td>FALSE</td></tr>\n",
       "\t<tr><td>FALSE</td><td>FALSE</td><td>FALSE</td></tr>\n",
       "\t<tr><td>FALSE</td><td>FALSE</td><td>FALSE</td></tr>\n",
       "\t<tr><td>FALSE</td><td>FALSE</td><td>FALSE</td></tr>\n",
       "\t<tr><td>FALSE</td><td>FALSE</td><td>FALSE</td></tr>\n",
       "\t<tr><td>FALSE</td><td>FALSE</td><td>FALSE</td></tr>\n",
       "\t<tr><td>FALSE</td><td>FALSE</td><td>FALSE</td></tr>\n",
       "\t<tr><td>FALSE</td><td>FALSE</td><td>FALSE</td></tr>\n",
       "\t<tr><td>FALSE</td><td>FALSE</td><td>FALSE</td></tr>\n",
       "\t<tr><td>FALSE</td><td>FALSE</td><td>FALSE</td></tr>\n",
       "\t<tr><td>FALSE</td><td>FALSE</td><td>FALSE</td></tr>\n",
       "\t<tr><td>FALSE</td><td>FALSE</td><td>FALSE</td></tr>\n",
       "\t<tr><td>⋮</td><td>⋮</td><td>⋮</td></tr>\n",
       "\t<tr><td>FALSE</td><td>FALSE</td><td>FALSE</td></tr>\n",
       "\t<tr><td>FALSE</td><td>FALSE</td><td>FALSE</td></tr>\n",
       "\t<tr><td>FALSE</td><td>FALSE</td><td>FALSE</td></tr>\n",
       "\t<tr><td>FALSE</td><td>FALSE</td><td>FALSE</td></tr>\n",
       "\t<tr><td>FALSE</td><td>FALSE</td><td>FALSE</td></tr>\n",
       "\t<tr><td>FALSE</td><td>FALSE</td><td>FALSE</td></tr>\n",
       "\t<tr><td>FALSE</td><td>FALSE</td><td>FALSE</td></tr>\n",
       "\t<tr><td>FALSE</td><td>FALSE</td><td>FALSE</td></tr>\n",
       "\t<tr><td>FALSE</td><td>FALSE</td><td>FALSE</td></tr>\n",
       "\t<tr><td>FALSE</td><td>FALSE</td><td>FALSE</td></tr>\n",
       "\t<tr><td>FALSE</td><td>FALSE</td><td>FALSE</td></tr>\n",
       "\t<tr><td>FALSE</td><td>FALSE</td><td>FALSE</td></tr>\n",
       "\t<tr><td>FALSE</td><td>FALSE</td><td>FALSE</td></tr>\n",
       "\t<tr><td>FALSE</td><td>FALSE</td><td>FALSE</td></tr>\n",
       "\t<tr><td>FALSE</td><td>FALSE</td><td>FALSE</td></tr>\n",
       "\t<tr><td>FALSE</td><td>FALSE</td><td>FALSE</td></tr>\n",
       "\t<tr><td>FALSE</td><td>FALSE</td><td>FALSE</td></tr>\n",
       "\t<tr><td>FALSE</td><td>FALSE</td><td>FALSE</td></tr>\n",
       "\t<tr><td>FALSE</td><td>FALSE</td><td>FALSE</td></tr>\n",
       "\t<tr><td>FALSE</td><td>FALSE</td><td>FALSE</td></tr>\n",
       "\t<tr><td>FALSE</td><td>FALSE</td><td>FALSE</td></tr>\n",
       "\t<tr><td>FALSE</td><td>FALSE</td><td>FALSE</td></tr>\n",
       "\t<tr><td>FALSE</td><td>FALSE</td><td>FALSE</td></tr>\n",
       "\t<tr><td>FALSE</td><td>FALSE</td><td>FALSE</td></tr>\n",
       "\t<tr><td>FALSE</td><td>FALSE</td><td>FALSE</td></tr>\n",
       "\t<tr><td>FALSE</td><td>FALSE</td><td>FALSE</td></tr>\n",
       "\t<tr><td>FALSE</td><td>FALSE</td><td>FALSE</td></tr>\n",
       "\t<tr><td>FALSE</td><td>FALSE</td><td>FALSE</td></tr>\n",
       "\t<tr><td>FALSE</td><td>FALSE</td><td>FALSE</td></tr>\n",
       "\t<tr><td>FALSE</td><td>FALSE</td><td>FALSE</td></tr>\n",
       "</tbody>\n",
       "</table>\n"
      ],
      "text/latex": [
       "A matrix: 22099 × 3 of type lgl\n",
       "\\begin{tabular}{lll}\n",
       " Id & ActivityHour & Calories\\\\\n",
       "\\hline\n",
       "\t FALSE & FALSE & FALSE\\\\\n",
       "\t FALSE & FALSE & FALSE\\\\\n",
       "\t FALSE & FALSE & FALSE\\\\\n",
       "\t FALSE & FALSE & FALSE\\\\\n",
       "\t FALSE & FALSE & FALSE\\\\\n",
       "\t FALSE & FALSE & FALSE\\\\\n",
       "\t FALSE & FALSE & FALSE\\\\\n",
       "\t FALSE & FALSE & FALSE\\\\\n",
       "\t FALSE & FALSE & FALSE\\\\\n",
       "\t FALSE & FALSE & FALSE\\\\\n",
       "\t FALSE & FALSE & FALSE\\\\\n",
       "\t FALSE & FALSE & FALSE\\\\\n",
       "\t FALSE & FALSE & FALSE\\\\\n",
       "\t FALSE & FALSE & FALSE\\\\\n",
       "\t FALSE & FALSE & FALSE\\\\\n",
       "\t FALSE & FALSE & FALSE\\\\\n",
       "\t FALSE & FALSE & FALSE\\\\\n",
       "\t FALSE & FALSE & FALSE\\\\\n",
       "\t FALSE & FALSE & FALSE\\\\\n",
       "\t FALSE & FALSE & FALSE\\\\\n",
       "\t FALSE & FALSE & FALSE\\\\\n",
       "\t FALSE & FALSE & FALSE\\\\\n",
       "\t FALSE & FALSE & FALSE\\\\\n",
       "\t FALSE & FALSE & FALSE\\\\\n",
       "\t FALSE & FALSE & FALSE\\\\\n",
       "\t FALSE & FALSE & FALSE\\\\\n",
       "\t FALSE & FALSE & FALSE\\\\\n",
       "\t FALSE & FALSE & FALSE\\\\\n",
       "\t FALSE & FALSE & FALSE\\\\\n",
       "\t FALSE & FALSE & FALSE\\\\\n",
       "\t ⋮ & ⋮ & ⋮\\\\\n",
       "\t FALSE & FALSE & FALSE\\\\\n",
       "\t FALSE & FALSE & FALSE\\\\\n",
       "\t FALSE & FALSE & FALSE\\\\\n",
       "\t FALSE & FALSE & FALSE\\\\\n",
       "\t FALSE & FALSE & FALSE\\\\\n",
       "\t FALSE & FALSE & FALSE\\\\\n",
       "\t FALSE & FALSE & FALSE\\\\\n",
       "\t FALSE & FALSE & FALSE\\\\\n",
       "\t FALSE & FALSE & FALSE\\\\\n",
       "\t FALSE & FALSE & FALSE\\\\\n",
       "\t FALSE & FALSE & FALSE\\\\\n",
       "\t FALSE & FALSE & FALSE\\\\\n",
       "\t FALSE & FALSE & FALSE\\\\\n",
       "\t FALSE & FALSE & FALSE\\\\\n",
       "\t FALSE & FALSE & FALSE\\\\\n",
       "\t FALSE & FALSE & FALSE\\\\\n",
       "\t FALSE & FALSE & FALSE\\\\\n",
       "\t FALSE & FALSE & FALSE\\\\\n",
       "\t FALSE & FALSE & FALSE\\\\\n",
       "\t FALSE & FALSE & FALSE\\\\\n",
       "\t FALSE & FALSE & FALSE\\\\\n",
       "\t FALSE & FALSE & FALSE\\\\\n",
       "\t FALSE & FALSE & FALSE\\\\\n",
       "\t FALSE & FALSE & FALSE\\\\\n",
       "\t FALSE & FALSE & FALSE\\\\\n",
       "\t FALSE & FALSE & FALSE\\\\\n",
       "\t FALSE & FALSE & FALSE\\\\\n",
       "\t FALSE & FALSE & FALSE\\\\\n",
       "\t FALSE & FALSE & FALSE\\\\\n",
       "\t FALSE & FALSE & FALSE\\\\\n",
       "\\end{tabular}\n"
      ],
      "text/markdown": [
       "\n",
       "A matrix: 22099 × 3 of type lgl\n",
       "\n",
       "| Id | ActivityHour | Calories |\n",
       "|---|---|---|\n",
       "| FALSE | FALSE | FALSE |\n",
       "| FALSE | FALSE | FALSE |\n",
       "| FALSE | FALSE | FALSE |\n",
       "| FALSE | FALSE | FALSE |\n",
       "| FALSE | FALSE | FALSE |\n",
       "| FALSE | FALSE | FALSE |\n",
       "| FALSE | FALSE | FALSE |\n",
       "| FALSE | FALSE | FALSE |\n",
       "| FALSE | FALSE | FALSE |\n",
       "| FALSE | FALSE | FALSE |\n",
       "| FALSE | FALSE | FALSE |\n",
       "| FALSE | FALSE | FALSE |\n",
       "| FALSE | FALSE | FALSE |\n",
       "| FALSE | FALSE | FALSE |\n",
       "| FALSE | FALSE | FALSE |\n",
       "| FALSE | FALSE | FALSE |\n",
       "| FALSE | FALSE | FALSE |\n",
       "| FALSE | FALSE | FALSE |\n",
       "| FALSE | FALSE | FALSE |\n",
       "| FALSE | FALSE | FALSE |\n",
       "| FALSE | FALSE | FALSE |\n",
       "| FALSE | FALSE | FALSE |\n",
       "| FALSE | FALSE | FALSE |\n",
       "| FALSE | FALSE | FALSE |\n",
       "| FALSE | FALSE | FALSE |\n",
       "| FALSE | FALSE | FALSE |\n",
       "| FALSE | FALSE | FALSE |\n",
       "| FALSE | FALSE | FALSE |\n",
       "| FALSE | FALSE | FALSE |\n",
       "| FALSE | FALSE | FALSE |\n",
       "| ⋮ | ⋮ | ⋮ |\n",
       "| FALSE | FALSE | FALSE |\n",
       "| FALSE | FALSE | FALSE |\n",
       "| FALSE | FALSE | FALSE |\n",
       "| FALSE | FALSE | FALSE |\n",
       "| FALSE | FALSE | FALSE |\n",
       "| FALSE | FALSE | FALSE |\n",
       "| FALSE | FALSE | FALSE |\n",
       "| FALSE | FALSE | FALSE |\n",
       "| FALSE | FALSE | FALSE |\n",
       "| FALSE | FALSE | FALSE |\n",
       "| FALSE | FALSE | FALSE |\n",
       "| FALSE | FALSE | FALSE |\n",
       "| FALSE | FALSE | FALSE |\n",
       "| FALSE | FALSE | FALSE |\n",
       "| FALSE | FALSE | FALSE |\n",
       "| FALSE | FALSE | FALSE |\n",
       "| FALSE | FALSE | FALSE |\n",
       "| FALSE | FALSE | FALSE |\n",
       "| FALSE | FALSE | FALSE |\n",
       "| FALSE | FALSE | FALSE |\n",
       "| FALSE | FALSE | FALSE |\n",
       "| FALSE | FALSE | FALSE |\n",
       "| FALSE | FALSE | FALSE |\n",
       "| FALSE | FALSE | FALSE |\n",
       "| FALSE | FALSE | FALSE |\n",
       "| FALSE | FALSE | FALSE |\n",
       "| FALSE | FALSE | FALSE |\n",
       "| FALSE | FALSE | FALSE |\n",
       "| FALSE | FALSE | FALSE |\n",
       "| FALSE | FALSE | FALSE |\n",
       "\n"
      ],
      "text/plain": [
       "      Id    ActivityHour Calories\n",
       " [1,] FALSE FALSE        FALSE   \n",
       " [2,] FALSE FALSE        FALSE   \n",
       " [3,] FALSE FALSE        FALSE   \n",
       " [4,] FALSE FALSE        FALSE   \n",
       " [5,] FALSE FALSE        FALSE   \n",
       " [6,] FALSE FALSE        FALSE   \n",
       " [7,] FALSE FALSE        FALSE   \n",
       " [8,] FALSE FALSE        FALSE   \n",
       " [9,] FALSE FALSE        FALSE   \n",
       "[10,] FALSE FALSE        FALSE   \n",
       "[11,] FALSE FALSE        FALSE   \n",
       "[12,] FALSE FALSE        FALSE   \n",
       "[13,] FALSE FALSE        FALSE   \n",
       "[14,] FALSE FALSE        FALSE   \n",
       "[15,] FALSE FALSE        FALSE   \n",
       "[16,] FALSE FALSE        FALSE   \n",
       "[17,] FALSE FALSE        FALSE   \n",
       "[18,] FALSE FALSE        FALSE   \n",
       "[19,] FALSE FALSE        FALSE   \n",
       "[20,] FALSE FALSE        FALSE   \n",
       "[21,] FALSE FALSE        FALSE   \n",
       "[22,] FALSE FALSE        FALSE   \n",
       "[23,] FALSE FALSE        FALSE   \n",
       "[24,] FALSE FALSE        FALSE   \n",
       "[25,] FALSE FALSE        FALSE   \n",
       "[26,] FALSE FALSE        FALSE   \n",
       "[27,] FALSE FALSE        FALSE   \n",
       "[28,] FALSE FALSE        FALSE   \n",
       "[29,] FALSE FALSE        FALSE   \n",
       "[30,] FALSE FALSE        FALSE   \n",
       "[31,] ⋮     ⋮            ⋮       \n",
       "[32,] FALSE FALSE        FALSE   \n",
       "[33,] FALSE FALSE        FALSE   \n",
       "[34,] FALSE FALSE        FALSE   \n",
       "[35,] FALSE FALSE        FALSE   \n",
       "[36,] FALSE FALSE        FALSE   \n",
       "[37,] FALSE FALSE        FALSE   \n",
       "[38,] FALSE FALSE        FALSE   \n",
       "[39,] FALSE FALSE        FALSE   \n",
       "[40,] FALSE FALSE        FALSE   \n",
       "[41,] FALSE FALSE        FALSE   \n",
       "[42,] FALSE FALSE        FALSE   \n",
       "[43,] FALSE FALSE        FALSE   \n",
       "[44,] FALSE FALSE        FALSE   \n",
       "[45,] FALSE FALSE        FALSE   \n",
       "[46,] FALSE FALSE        FALSE   \n",
       "[47,] FALSE FALSE        FALSE   \n",
       "[48,] FALSE FALSE        FALSE   \n",
       "[49,] FALSE FALSE        FALSE   \n",
       "[50,] FALSE FALSE        FALSE   \n",
       "[51,] FALSE FALSE        FALSE   \n",
       "[52,] FALSE FALSE        FALSE   \n",
       "[53,] FALSE FALSE        FALSE   \n",
       "[54,] FALSE FALSE        FALSE   \n",
       "[55,] FALSE FALSE        FALSE   \n",
       "[56,] FALSE FALSE        FALSE   \n",
       "[57,] FALSE FALSE        FALSE   \n",
       "[58,] FALSE FALSE        FALSE   \n",
       "[59,] FALSE FALSE        FALSE   \n",
       "[60,] FALSE FALSE        FALSE   \n",
       "[61,] FALSE FALSE        FALSE   "
      ]
     },
     "metadata": {},
     "output_type": "display_data"
    },
    {
     "data": {
      "text/html": [
       "<table class=\"dataframe\">\n",
       "<caption>A matrix: 22099 × 4 of type lgl</caption>\n",
       "<thead>\n",
       "\t<tr><th scope=col>Id</th><th scope=col>ActivityHour</th><th scope=col>TotalIntensity</th><th scope=col>AverageIntensity</th></tr>\n",
       "</thead>\n",
       "<tbody>\n",
       "\t<tr><td>FALSE</td><td>FALSE</td><td>FALSE</td><td>FALSE</td></tr>\n",
       "\t<tr><td>FALSE</td><td>FALSE</td><td>FALSE</td><td>FALSE</td></tr>\n",
       "\t<tr><td>FALSE</td><td>FALSE</td><td>FALSE</td><td>FALSE</td></tr>\n",
       "\t<tr><td>FALSE</td><td>FALSE</td><td>FALSE</td><td>FALSE</td></tr>\n",
       "\t<tr><td>FALSE</td><td>FALSE</td><td>FALSE</td><td>FALSE</td></tr>\n",
       "\t<tr><td>FALSE</td><td>FALSE</td><td>FALSE</td><td>FALSE</td></tr>\n",
       "\t<tr><td>FALSE</td><td>FALSE</td><td>FALSE</td><td>FALSE</td></tr>\n",
       "\t<tr><td>FALSE</td><td>FALSE</td><td>FALSE</td><td>FALSE</td></tr>\n",
       "\t<tr><td>FALSE</td><td>FALSE</td><td>FALSE</td><td>FALSE</td></tr>\n",
       "\t<tr><td>FALSE</td><td>FALSE</td><td>FALSE</td><td>FALSE</td></tr>\n",
       "\t<tr><td>FALSE</td><td>FALSE</td><td>FALSE</td><td>FALSE</td></tr>\n",
       "\t<tr><td>FALSE</td><td>FALSE</td><td>FALSE</td><td>FALSE</td></tr>\n",
       "\t<tr><td>FALSE</td><td>FALSE</td><td>FALSE</td><td>FALSE</td></tr>\n",
       "\t<tr><td>FALSE</td><td>FALSE</td><td>FALSE</td><td>FALSE</td></tr>\n",
       "\t<tr><td>FALSE</td><td>FALSE</td><td>FALSE</td><td>FALSE</td></tr>\n",
       "\t<tr><td>FALSE</td><td>FALSE</td><td>FALSE</td><td>FALSE</td></tr>\n",
       "\t<tr><td>FALSE</td><td>FALSE</td><td>FALSE</td><td>FALSE</td></tr>\n",
       "\t<tr><td>FALSE</td><td>FALSE</td><td>FALSE</td><td>FALSE</td></tr>\n",
       "\t<tr><td>FALSE</td><td>FALSE</td><td>FALSE</td><td>FALSE</td></tr>\n",
       "\t<tr><td>FALSE</td><td>FALSE</td><td>FALSE</td><td>FALSE</td></tr>\n",
       "\t<tr><td>FALSE</td><td>FALSE</td><td>FALSE</td><td>FALSE</td></tr>\n",
       "\t<tr><td>FALSE</td><td>FALSE</td><td>FALSE</td><td>FALSE</td></tr>\n",
       "\t<tr><td>FALSE</td><td>FALSE</td><td>FALSE</td><td>FALSE</td></tr>\n",
       "\t<tr><td>FALSE</td><td>FALSE</td><td>FALSE</td><td>FALSE</td></tr>\n",
       "\t<tr><td>FALSE</td><td>FALSE</td><td>FALSE</td><td>FALSE</td></tr>\n",
       "\t<tr><td>FALSE</td><td>FALSE</td><td>FALSE</td><td>FALSE</td></tr>\n",
       "\t<tr><td>FALSE</td><td>FALSE</td><td>FALSE</td><td>FALSE</td></tr>\n",
       "\t<tr><td>FALSE</td><td>FALSE</td><td>FALSE</td><td>FALSE</td></tr>\n",
       "\t<tr><td>FALSE</td><td>FALSE</td><td>FALSE</td><td>FALSE</td></tr>\n",
       "\t<tr><td>FALSE</td><td>FALSE</td><td>FALSE</td><td>FALSE</td></tr>\n",
       "\t<tr><td>⋮</td><td>⋮</td><td>⋮</td><td>⋮</td></tr>\n",
       "\t<tr><td>FALSE</td><td>FALSE</td><td>FALSE</td><td>FALSE</td></tr>\n",
       "\t<tr><td>FALSE</td><td>FALSE</td><td>FALSE</td><td>FALSE</td></tr>\n",
       "\t<tr><td>FALSE</td><td>FALSE</td><td>FALSE</td><td>FALSE</td></tr>\n",
       "\t<tr><td>FALSE</td><td>FALSE</td><td>FALSE</td><td>FALSE</td></tr>\n",
       "\t<tr><td>FALSE</td><td>FALSE</td><td>FALSE</td><td>FALSE</td></tr>\n",
       "\t<tr><td>FALSE</td><td>FALSE</td><td>FALSE</td><td>FALSE</td></tr>\n",
       "\t<tr><td>FALSE</td><td>FALSE</td><td>FALSE</td><td>FALSE</td></tr>\n",
       "\t<tr><td>FALSE</td><td>FALSE</td><td>FALSE</td><td>FALSE</td></tr>\n",
       "\t<tr><td>FALSE</td><td>FALSE</td><td>FALSE</td><td>FALSE</td></tr>\n",
       "\t<tr><td>FALSE</td><td>FALSE</td><td>FALSE</td><td>FALSE</td></tr>\n",
       "\t<tr><td>FALSE</td><td>FALSE</td><td>FALSE</td><td>FALSE</td></tr>\n",
       "\t<tr><td>FALSE</td><td>FALSE</td><td>FALSE</td><td>FALSE</td></tr>\n",
       "\t<tr><td>FALSE</td><td>FALSE</td><td>FALSE</td><td>FALSE</td></tr>\n",
       "\t<tr><td>FALSE</td><td>FALSE</td><td>FALSE</td><td>FALSE</td></tr>\n",
       "\t<tr><td>FALSE</td><td>FALSE</td><td>FALSE</td><td>FALSE</td></tr>\n",
       "\t<tr><td>FALSE</td><td>FALSE</td><td>FALSE</td><td>FALSE</td></tr>\n",
       "\t<tr><td>FALSE</td><td>FALSE</td><td>FALSE</td><td>FALSE</td></tr>\n",
       "\t<tr><td>FALSE</td><td>FALSE</td><td>FALSE</td><td>FALSE</td></tr>\n",
       "\t<tr><td>FALSE</td><td>FALSE</td><td>FALSE</td><td>FALSE</td></tr>\n",
       "\t<tr><td>FALSE</td><td>FALSE</td><td>FALSE</td><td>FALSE</td></tr>\n",
       "\t<tr><td>FALSE</td><td>FALSE</td><td>FALSE</td><td>FALSE</td></tr>\n",
       "\t<tr><td>FALSE</td><td>FALSE</td><td>FALSE</td><td>FALSE</td></tr>\n",
       "\t<tr><td>FALSE</td><td>FALSE</td><td>FALSE</td><td>FALSE</td></tr>\n",
       "\t<tr><td>FALSE</td><td>FALSE</td><td>FALSE</td><td>FALSE</td></tr>\n",
       "\t<tr><td>FALSE</td><td>FALSE</td><td>FALSE</td><td>FALSE</td></tr>\n",
       "\t<tr><td>FALSE</td><td>FALSE</td><td>FALSE</td><td>FALSE</td></tr>\n",
       "\t<tr><td>FALSE</td><td>FALSE</td><td>FALSE</td><td>FALSE</td></tr>\n",
       "\t<tr><td>FALSE</td><td>FALSE</td><td>FALSE</td><td>FALSE</td></tr>\n",
       "\t<tr><td>FALSE</td><td>FALSE</td><td>FALSE</td><td>FALSE</td></tr>\n",
       "\t<tr><td>FALSE</td><td>FALSE</td><td>FALSE</td><td>FALSE</td></tr>\n",
       "</tbody>\n",
       "</table>\n"
      ],
      "text/latex": [
       "A matrix: 22099 × 4 of type lgl\n",
       "\\begin{tabular}{llll}\n",
       " Id & ActivityHour & TotalIntensity & AverageIntensity\\\\\n",
       "\\hline\n",
       "\t FALSE & FALSE & FALSE & FALSE\\\\\n",
       "\t FALSE & FALSE & FALSE & FALSE\\\\\n",
       "\t FALSE & FALSE & FALSE & FALSE\\\\\n",
       "\t FALSE & FALSE & FALSE & FALSE\\\\\n",
       "\t FALSE & FALSE & FALSE & FALSE\\\\\n",
       "\t FALSE & FALSE & FALSE & FALSE\\\\\n",
       "\t FALSE & FALSE & FALSE & FALSE\\\\\n",
       "\t FALSE & FALSE & FALSE & FALSE\\\\\n",
       "\t FALSE & FALSE & FALSE & FALSE\\\\\n",
       "\t FALSE & FALSE & FALSE & FALSE\\\\\n",
       "\t FALSE & FALSE & FALSE & FALSE\\\\\n",
       "\t FALSE & FALSE & FALSE & FALSE\\\\\n",
       "\t FALSE & FALSE & FALSE & FALSE\\\\\n",
       "\t FALSE & FALSE & FALSE & FALSE\\\\\n",
       "\t FALSE & FALSE & FALSE & FALSE\\\\\n",
       "\t FALSE & FALSE & FALSE & FALSE\\\\\n",
       "\t FALSE & FALSE & FALSE & FALSE\\\\\n",
       "\t FALSE & FALSE & FALSE & FALSE\\\\\n",
       "\t FALSE & FALSE & FALSE & FALSE\\\\\n",
       "\t FALSE & FALSE & FALSE & FALSE\\\\\n",
       "\t FALSE & FALSE & FALSE & FALSE\\\\\n",
       "\t FALSE & FALSE & FALSE & FALSE\\\\\n",
       "\t FALSE & FALSE & FALSE & FALSE\\\\\n",
       "\t FALSE & FALSE & FALSE & FALSE\\\\\n",
       "\t FALSE & FALSE & FALSE & FALSE\\\\\n",
       "\t FALSE & FALSE & FALSE & FALSE\\\\\n",
       "\t FALSE & FALSE & FALSE & FALSE\\\\\n",
       "\t FALSE & FALSE & FALSE & FALSE\\\\\n",
       "\t FALSE & FALSE & FALSE & FALSE\\\\\n",
       "\t FALSE & FALSE & FALSE & FALSE\\\\\n",
       "\t ⋮ & ⋮ & ⋮ & ⋮\\\\\n",
       "\t FALSE & FALSE & FALSE & FALSE\\\\\n",
       "\t FALSE & FALSE & FALSE & FALSE\\\\\n",
       "\t FALSE & FALSE & FALSE & FALSE\\\\\n",
       "\t FALSE & FALSE & FALSE & FALSE\\\\\n",
       "\t FALSE & FALSE & FALSE & FALSE\\\\\n",
       "\t FALSE & FALSE & FALSE & FALSE\\\\\n",
       "\t FALSE & FALSE & FALSE & FALSE\\\\\n",
       "\t FALSE & FALSE & FALSE & FALSE\\\\\n",
       "\t FALSE & FALSE & FALSE & FALSE\\\\\n",
       "\t FALSE & FALSE & FALSE & FALSE\\\\\n",
       "\t FALSE & FALSE & FALSE & FALSE\\\\\n",
       "\t FALSE & FALSE & FALSE & FALSE\\\\\n",
       "\t FALSE & FALSE & FALSE & FALSE\\\\\n",
       "\t FALSE & FALSE & FALSE & FALSE\\\\\n",
       "\t FALSE & FALSE & FALSE & FALSE\\\\\n",
       "\t FALSE & FALSE & FALSE & FALSE\\\\\n",
       "\t FALSE & FALSE & FALSE & FALSE\\\\\n",
       "\t FALSE & FALSE & FALSE & FALSE\\\\\n",
       "\t FALSE & FALSE & FALSE & FALSE\\\\\n",
       "\t FALSE & FALSE & FALSE & FALSE\\\\\n",
       "\t FALSE & FALSE & FALSE & FALSE\\\\\n",
       "\t FALSE & FALSE & FALSE & FALSE\\\\\n",
       "\t FALSE & FALSE & FALSE & FALSE\\\\\n",
       "\t FALSE & FALSE & FALSE & FALSE\\\\\n",
       "\t FALSE & FALSE & FALSE & FALSE\\\\\n",
       "\t FALSE & FALSE & FALSE & FALSE\\\\\n",
       "\t FALSE & FALSE & FALSE & FALSE\\\\\n",
       "\t FALSE & FALSE & FALSE & FALSE\\\\\n",
       "\t FALSE & FALSE & FALSE & FALSE\\\\\n",
       "\t FALSE & FALSE & FALSE & FALSE\\\\\n",
       "\\end{tabular}\n"
      ],
      "text/markdown": [
       "\n",
       "A matrix: 22099 × 4 of type lgl\n",
       "\n",
       "| Id | ActivityHour | TotalIntensity | AverageIntensity |\n",
       "|---|---|---|---|\n",
       "| FALSE | FALSE | FALSE | FALSE |\n",
       "| FALSE | FALSE | FALSE | FALSE |\n",
       "| FALSE | FALSE | FALSE | FALSE |\n",
       "| FALSE | FALSE | FALSE | FALSE |\n",
       "| FALSE | FALSE | FALSE | FALSE |\n",
       "| FALSE | FALSE | FALSE | FALSE |\n",
       "| FALSE | FALSE | FALSE | FALSE |\n",
       "| FALSE | FALSE | FALSE | FALSE |\n",
       "| FALSE | FALSE | FALSE | FALSE |\n",
       "| FALSE | FALSE | FALSE | FALSE |\n",
       "| FALSE | FALSE | FALSE | FALSE |\n",
       "| FALSE | FALSE | FALSE | FALSE |\n",
       "| FALSE | FALSE | FALSE | FALSE |\n",
       "| FALSE | FALSE | FALSE | FALSE |\n",
       "| FALSE | FALSE | FALSE | FALSE |\n",
       "| FALSE | FALSE | FALSE | FALSE |\n",
       "| FALSE | FALSE | FALSE | FALSE |\n",
       "| FALSE | FALSE | FALSE | FALSE |\n",
       "| FALSE | FALSE | FALSE | FALSE |\n",
       "| FALSE | FALSE | FALSE | FALSE |\n",
       "| FALSE | FALSE | FALSE | FALSE |\n",
       "| FALSE | FALSE | FALSE | FALSE |\n",
       "| FALSE | FALSE | FALSE | FALSE |\n",
       "| FALSE | FALSE | FALSE | FALSE |\n",
       "| FALSE | FALSE | FALSE | FALSE |\n",
       "| FALSE | FALSE | FALSE | FALSE |\n",
       "| FALSE | FALSE | FALSE | FALSE |\n",
       "| FALSE | FALSE | FALSE | FALSE |\n",
       "| FALSE | FALSE | FALSE | FALSE |\n",
       "| FALSE | FALSE | FALSE | FALSE |\n",
       "| ⋮ | ⋮ | ⋮ | ⋮ |\n",
       "| FALSE | FALSE | FALSE | FALSE |\n",
       "| FALSE | FALSE | FALSE | FALSE |\n",
       "| FALSE | FALSE | FALSE | FALSE |\n",
       "| FALSE | FALSE | FALSE | FALSE |\n",
       "| FALSE | FALSE | FALSE | FALSE |\n",
       "| FALSE | FALSE | FALSE | FALSE |\n",
       "| FALSE | FALSE | FALSE | FALSE |\n",
       "| FALSE | FALSE | FALSE | FALSE |\n",
       "| FALSE | FALSE | FALSE | FALSE |\n",
       "| FALSE | FALSE | FALSE | FALSE |\n",
       "| FALSE | FALSE | FALSE | FALSE |\n",
       "| FALSE | FALSE | FALSE | FALSE |\n",
       "| FALSE | FALSE | FALSE | FALSE |\n",
       "| FALSE | FALSE | FALSE | FALSE |\n",
       "| FALSE | FALSE | FALSE | FALSE |\n",
       "| FALSE | FALSE | FALSE | FALSE |\n",
       "| FALSE | FALSE | FALSE | FALSE |\n",
       "| FALSE | FALSE | FALSE | FALSE |\n",
       "| FALSE | FALSE | FALSE | FALSE |\n",
       "| FALSE | FALSE | FALSE | FALSE |\n",
       "| FALSE | FALSE | FALSE | FALSE |\n",
       "| FALSE | FALSE | FALSE | FALSE |\n",
       "| FALSE | FALSE | FALSE | FALSE |\n",
       "| FALSE | FALSE | FALSE | FALSE |\n",
       "| FALSE | FALSE | FALSE | FALSE |\n",
       "| FALSE | FALSE | FALSE | FALSE |\n",
       "| FALSE | FALSE | FALSE | FALSE |\n",
       "| FALSE | FALSE | FALSE | FALSE |\n",
       "| FALSE | FALSE | FALSE | FALSE |\n",
       "| FALSE | FALSE | FALSE | FALSE |\n",
       "\n"
      ],
      "text/plain": [
       "      Id    ActivityHour TotalIntensity AverageIntensity\n",
       " [1,] FALSE FALSE        FALSE          FALSE           \n",
       " [2,] FALSE FALSE        FALSE          FALSE           \n",
       " [3,] FALSE FALSE        FALSE          FALSE           \n",
       " [4,] FALSE FALSE        FALSE          FALSE           \n",
       " [5,] FALSE FALSE        FALSE          FALSE           \n",
       " [6,] FALSE FALSE        FALSE          FALSE           \n",
       " [7,] FALSE FALSE        FALSE          FALSE           \n",
       " [8,] FALSE FALSE        FALSE          FALSE           \n",
       " [9,] FALSE FALSE        FALSE          FALSE           \n",
       "[10,] FALSE FALSE        FALSE          FALSE           \n",
       "[11,] FALSE FALSE        FALSE          FALSE           \n",
       "[12,] FALSE FALSE        FALSE          FALSE           \n",
       "[13,] FALSE FALSE        FALSE          FALSE           \n",
       "[14,] FALSE FALSE        FALSE          FALSE           \n",
       "[15,] FALSE FALSE        FALSE          FALSE           \n",
       "[16,] FALSE FALSE        FALSE          FALSE           \n",
       "[17,] FALSE FALSE        FALSE          FALSE           \n",
       "[18,] FALSE FALSE        FALSE          FALSE           \n",
       "[19,] FALSE FALSE        FALSE          FALSE           \n",
       "[20,] FALSE FALSE        FALSE          FALSE           \n",
       "[21,] FALSE FALSE        FALSE          FALSE           \n",
       "[22,] FALSE FALSE        FALSE          FALSE           \n",
       "[23,] FALSE FALSE        FALSE          FALSE           \n",
       "[24,] FALSE FALSE        FALSE          FALSE           \n",
       "[25,] FALSE FALSE        FALSE          FALSE           \n",
       "[26,] FALSE FALSE        FALSE          FALSE           \n",
       "[27,] FALSE FALSE        FALSE          FALSE           \n",
       "[28,] FALSE FALSE        FALSE          FALSE           \n",
       "[29,] FALSE FALSE        FALSE          FALSE           \n",
       "[30,] FALSE FALSE        FALSE          FALSE           \n",
       "[31,] ⋮     ⋮            ⋮              ⋮               \n",
       "[32,] FALSE FALSE        FALSE          FALSE           \n",
       "[33,] FALSE FALSE        FALSE          FALSE           \n",
       "[34,] FALSE FALSE        FALSE          FALSE           \n",
       "[35,] FALSE FALSE        FALSE          FALSE           \n",
       "[36,] FALSE FALSE        FALSE          FALSE           \n",
       "[37,] FALSE FALSE        FALSE          FALSE           \n",
       "[38,] FALSE FALSE        FALSE          FALSE           \n",
       "[39,] FALSE FALSE        FALSE          FALSE           \n",
       "[40,] FALSE FALSE        FALSE          FALSE           \n",
       "[41,] FALSE FALSE        FALSE          FALSE           \n",
       "[42,] FALSE FALSE        FALSE          FALSE           \n",
       "[43,] FALSE FALSE        FALSE          FALSE           \n",
       "[44,] FALSE FALSE        FALSE          FALSE           \n",
       "[45,] FALSE FALSE        FALSE          FALSE           \n",
       "[46,] FALSE FALSE        FALSE          FALSE           \n",
       "[47,] FALSE FALSE        FALSE          FALSE           \n",
       "[48,] FALSE FALSE        FALSE          FALSE           \n",
       "[49,] FALSE FALSE        FALSE          FALSE           \n",
       "[50,] FALSE FALSE        FALSE          FALSE           \n",
       "[51,] FALSE FALSE        FALSE          FALSE           \n",
       "[52,] FALSE FALSE        FALSE          FALSE           \n",
       "[53,] FALSE FALSE        FALSE          FALSE           \n",
       "[54,] FALSE FALSE        FALSE          FALSE           \n",
       "[55,] FALSE FALSE        FALSE          FALSE           \n",
       "[56,] FALSE FALSE        FALSE          FALSE           \n",
       "[57,] FALSE FALSE        FALSE          FALSE           \n",
       "[58,] FALSE FALSE        FALSE          FALSE           \n",
       "[59,] FALSE FALSE        FALSE          FALSE           \n",
       "[60,] FALSE FALSE        FALSE          FALSE           \n",
       "[61,] FALSE FALSE        FALSE          FALSE           "
      ]
     },
     "metadata": {},
     "output_type": "display_data"
    },
    {
     "data": {
      "text/html": [
       "<table class=\"dataframe\">\n",
       "<caption>A matrix: 22099 × 3 of type lgl</caption>\n",
       "<thead>\n",
       "\t<tr><th scope=col>Id</th><th scope=col>ActivityHour</th><th scope=col>StepTotal</th></tr>\n",
       "</thead>\n",
       "<tbody>\n",
       "\t<tr><td>FALSE</td><td>FALSE</td><td>FALSE</td></tr>\n",
       "\t<tr><td>FALSE</td><td>FALSE</td><td>FALSE</td></tr>\n",
       "\t<tr><td>FALSE</td><td>FALSE</td><td>FALSE</td></tr>\n",
       "\t<tr><td>FALSE</td><td>FALSE</td><td>FALSE</td></tr>\n",
       "\t<tr><td>FALSE</td><td>FALSE</td><td>FALSE</td></tr>\n",
       "\t<tr><td>FALSE</td><td>FALSE</td><td>FALSE</td></tr>\n",
       "\t<tr><td>FALSE</td><td>FALSE</td><td>FALSE</td></tr>\n",
       "\t<tr><td>FALSE</td><td>FALSE</td><td>FALSE</td></tr>\n",
       "\t<tr><td>FALSE</td><td>FALSE</td><td>FALSE</td></tr>\n",
       "\t<tr><td>FALSE</td><td>FALSE</td><td>FALSE</td></tr>\n",
       "\t<tr><td>FALSE</td><td>FALSE</td><td>FALSE</td></tr>\n",
       "\t<tr><td>FALSE</td><td>FALSE</td><td>FALSE</td></tr>\n",
       "\t<tr><td>FALSE</td><td>FALSE</td><td>FALSE</td></tr>\n",
       "\t<tr><td>FALSE</td><td>FALSE</td><td>FALSE</td></tr>\n",
       "\t<tr><td>FALSE</td><td>FALSE</td><td>FALSE</td></tr>\n",
       "\t<tr><td>FALSE</td><td>FALSE</td><td>FALSE</td></tr>\n",
       "\t<tr><td>FALSE</td><td>FALSE</td><td>FALSE</td></tr>\n",
       "\t<tr><td>FALSE</td><td>FALSE</td><td>FALSE</td></tr>\n",
       "\t<tr><td>FALSE</td><td>FALSE</td><td>FALSE</td></tr>\n",
       "\t<tr><td>FALSE</td><td>FALSE</td><td>FALSE</td></tr>\n",
       "\t<tr><td>FALSE</td><td>FALSE</td><td>FALSE</td></tr>\n",
       "\t<tr><td>FALSE</td><td>FALSE</td><td>FALSE</td></tr>\n",
       "\t<tr><td>FALSE</td><td>FALSE</td><td>FALSE</td></tr>\n",
       "\t<tr><td>FALSE</td><td>FALSE</td><td>FALSE</td></tr>\n",
       "\t<tr><td>FALSE</td><td>FALSE</td><td>FALSE</td></tr>\n",
       "\t<tr><td>FALSE</td><td>FALSE</td><td>FALSE</td></tr>\n",
       "\t<tr><td>FALSE</td><td>FALSE</td><td>FALSE</td></tr>\n",
       "\t<tr><td>FALSE</td><td>FALSE</td><td>FALSE</td></tr>\n",
       "\t<tr><td>FALSE</td><td>FALSE</td><td>FALSE</td></tr>\n",
       "\t<tr><td>FALSE</td><td>FALSE</td><td>FALSE</td></tr>\n",
       "\t<tr><td>⋮</td><td>⋮</td><td>⋮</td></tr>\n",
       "\t<tr><td>FALSE</td><td>FALSE</td><td>FALSE</td></tr>\n",
       "\t<tr><td>FALSE</td><td>FALSE</td><td>FALSE</td></tr>\n",
       "\t<tr><td>FALSE</td><td>FALSE</td><td>FALSE</td></tr>\n",
       "\t<tr><td>FALSE</td><td>FALSE</td><td>FALSE</td></tr>\n",
       "\t<tr><td>FALSE</td><td>FALSE</td><td>FALSE</td></tr>\n",
       "\t<tr><td>FALSE</td><td>FALSE</td><td>FALSE</td></tr>\n",
       "\t<tr><td>FALSE</td><td>FALSE</td><td>FALSE</td></tr>\n",
       "\t<tr><td>FALSE</td><td>FALSE</td><td>FALSE</td></tr>\n",
       "\t<tr><td>FALSE</td><td>FALSE</td><td>FALSE</td></tr>\n",
       "\t<tr><td>FALSE</td><td>FALSE</td><td>FALSE</td></tr>\n",
       "\t<tr><td>FALSE</td><td>FALSE</td><td>FALSE</td></tr>\n",
       "\t<tr><td>FALSE</td><td>FALSE</td><td>FALSE</td></tr>\n",
       "\t<tr><td>FALSE</td><td>FALSE</td><td>FALSE</td></tr>\n",
       "\t<tr><td>FALSE</td><td>FALSE</td><td>FALSE</td></tr>\n",
       "\t<tr><td>FALSE</td><td>FALSE</td><td>FALSE</td></tr>\n",
       "\t<tr><td>FALSE</td><td>FALSE</td><td>FALSE</td></tr>\n",
       "\t<tr><td>FALSE</td><td>FALSE</td><td>FALSE</td></tr>\n",
       "\t<tr><td>FALSE</td><td>FALSE</td><td>FALSE</td></tr>\n",
       "\t<tr><td>FALSE</td><td>FALSE</td><td>FALSE</td></tr>\n",
       "\t<tr><td>FALSE</td><td>FALSE</td><td>FALSE</td></tr>\n",
       "\t<tr><td>FALSE</td><td>FALSE</td><td>FALSE</td></tr>\n",
       "\t<tr><td>FALSE</td><td>FALSE</td><td>FALSE</td></tr>\n",
       "\t<tr><td>FALSE</td><td>FALSE</td><td>FALSE</td></tr>\n",
       "\t<tr><td>FALSE</td><td>FALSE</td><td>FALSE</td></tr>\n",
       "\t<tr><td>FALSE</td><td>FALSE</td><td>FALSE</td></tr>\n",
       "\t<tr><td>FALSE</td><td>FALSE</td><td>FALSE</td></tr>\n",
       "\t<tr><td>FALSE</td><td>FALSE</td><td>FALSE</td></tr>\n",
       "\t<tr><td>FALSE</td><td>FALSE</td><td>FALSE</td></tr>\n",
       "\t<tr><td>FALSE</td><td>FALSE</td><td>FALSE</td></tr>\n",
       "\t<tr><td>FALSE</td><td>FALSE</td><td>FALSE</td></tr>\n",
       "</tbody>\n",
       "</table>\n"
      ],
      "text/latex": [
       "A matrix: 22099 × 3 of type lgl\n",
       "\\begin{tabular}{lll}\n",
       " Id & ActivityHour & StepTotal\\\\\n",
       "\\hline\n",
       "\t FALSE & FALSE & FALSE\\\\\n",
       "\t FALSE & FALSE & FALSE\\\\\n",
       "\t FALSE & FALSE & FALSE\\\\\n",
       "\t FALSE & FALSE & FALSE\\\\\n",
       "\t FALSE & FALSE & FALSE\\\\\n",
       "\t FALSE & FALSE & FALSE\\\\\n",
       "\t FALSE & FALSE & FALSE\\\\\n",
       "\t FALSE & FALSE & FALSE\\\\\n",
       "\t FALSE & FALSE & FALSE\\\\\n",
       "\t FALSE & FALSE & FALSE\\\\\n",
       "\t FALSE & FALSE & FALSE\\\\\n",
       "\t FALSE & FALSE & FALSE\\\\\n",
       "\t FALSE & FALSE & FALSE\\\\\n",
       "\t FALSE & FALSE & FALSE\\\\\n",
       "\t FALSE & FALSE & FALSE\\\\\n",
       "\t FALSE & FALSE & FALSE\\\\\n",
       "\t FALSE & FALSE & FALSE\\\\\n",
       "\t FALSE & FALSE & FALSE\\\\\n",
       "\t FALSE & FALSE & FALSE\\\\\n",
       "\t FALSE & FALSE & FALSE\\\\\n",
       "\t FALSE & FALSE & FALSE\\\\\n",
       "\t FALSE & FALSE & FALSE\\\\\n",
       "\t FALSE & FALSE & FALSE\\\\\n",
       "\t FALSE & FALSE & FALSE\\\\\n",
       "\t FALSE & FALSE & FALSE\\\\\n",
       "\t FALSE & FALSE & FALSE\\\\\n",
       "\t FALSE & FALSE & FALSE\\\\\n",
       "\t FALSE & FALSE & FALSE\\\\\n",
       "\t FALSE & FALSE & FALSE\\\\\n",
       "\t FALSE & FALSE & FALSE\\\\\n",
       "\t ⋮ & ⋮ & ⋮\\\\\n",
       "\t FALSE & FALSE & FALSE\\\\\n",
       "\t FALSE & FALSE & FALSE\\\\\n",
       "\t FALSE & FALSE & FALSE\\\\\n",
       "\t FALSE & FALSE & FALSE\\\\\n",
       "\t FALSE & FALSE & FALSE\\\\\n",
       "\t FALSE & FALSE & FALSE\\\\\n",
       "\t FALSE & FALSE & FALSE\\\\\n",
       "\t FALSE & FALSE & FALSE\\\\\n",
       "\t FALSE & FALSE & FALSE\\\\\n",
       "\t FALSE & FALSE & FALSE\\\\\n",
       "\t FALSE & FALSE & FALSE\\\\\n",
       "\t FALSE & FALSE & FALSE\\\\\n",
       "\t FALSE & FALSE & FALSE\\\\\n",
       "\t FALSE & FALSE & FALSE\\\\\n",
       "\t FALSE & FALSE & FALSE\\\\\n",
       "\t FALSE & FALSE & FALSE\\\\\n",
       "\t FALSE & FALSE & FALSE\\\\\n",
       "\t FALSE & FALSE & FALSE\\\\\n",
       "\t FALSE & FALSE & FALSE\\\\\n",
       "\t FALSE & FALSE & FALSE\\\\\n",
       "\t FALSE & FALSE & FALSE\\\\\n",
       "\t FALSE & FALSE & FALSE\\\\\n",
       "\t FALSE & FALSE & FALSE\\\\\n",
       "\t FALSE & FALSE & FALSE\\\\\n",
       "\t FALSE & FALSE & FALSE\\\\\n",
       "\t FALSE & FALSE & FALSE\\\\\n",
       "\t FALSE & FALSE & FALSE\\\\\n",
       "\t FALSE & FALSE & FALSE\\\\\n",
       "\t FALSE & FALSE & FALSE\\\\\n",
       "\t FALSE & FALSE & FALSE\\\\\n",
       "\\end{tabular}\n"
      ],
      "text/markdown": [
       "\n",
       "A matrix: 22099 × 3 of type lgl\n",
       "\n",
       "| Id | ActivityHour | StepTotal |\n",
       "|---|---|---|\n",
       "| FALSE | FALSE | FALSE |\n",
       "| FALSE | FALSE | FALSE |\n",
       "| FALSE | FALSE | FALSE |\n",
       "| FALSE | FALSE | FALSE |\n",
       "| FALSE | FALSE | FALSE |\n",
       "| FALSE | FALSE | FALSE |\n",
       "| FALSE | FALSE | FALSE |\n",
       "| FALSE | FALSE | FALSE |\n",
       "| FALSE | FALSE | FALSE |\n",
       "| FALSE | FALSE | FALSE |\n",
       "| FALSE | FALSE | FALSE |\n",
       "| FALSE | FALSE | FALSE |\n",
       "| FALSE | FALSE | FALSE |\n",
       "| FALSE | FALSE | FALSE |\n",
       "| FALSE | FALSE | FALSE |\n",
       "| FALSE | FALSE | FALSE |\n",
       "| FALSE | FALSE | FALSE |\n",
       "| FALSE | FALSE | FALSE |\n",
       "| FALSE | FALSE | FALSE |\n",
       "| FALSE | FALSE | FALSE |\n",
       "| FALSE | FALSE | FALSE |\n",
       "| FALSE | FALSE | FALSE |\n",
       "| FALSE | FALSE | FALSE |\n",
       "| FALSE | FALSE | FALSE |\n",
       "| FALSE | FALSE | FALSE |\n",
       "| FALSE | FALSE | FALSE |\n",
       "| FALSE | FALSE | FALSE |\n",
       "| FALSE | FALSE | FALSE |\n",
       "| FALSE | FALSE | FALSE |\n",
       "| FALSE | FALSE | FALSE |\n",
       "| ⋮ | ⋮ | ⋮ |\n",
       "| FALSE | FALSE | FALSE |\n",
       "| FALSE | FALSE | FALSE |\n",
       "| FALSE | FALSE | FALSE |\n",
       "| FALSE | FALSE | FALSE |\n",
       "| FALSE | FALSE | FALSE |\n",
       "| FALSE | FALSE | FALSE |\n",
       "| FALSE | FALSE | FALSE |\n",
       "| FALSE | FALSE | FALSE |\n",
       "| FALSE | FALSE | FALSE |\n",
       "| FALSE | FALSE | FALSE |\n",
       "| FALSE | FALSE | FALSE |\n",
       "| FALSE | FALSE | FALSE |\n",
       "| FALSE | FALSE | FALSE |\n",
       "| FALSE | FALSE | FALSE |\n",
       "| FALSE | FALSE | FALSE |\n",
       "| FALSE | FALSE | FALSE |\n",
       "| FALSE | FALSE | FALSE |\n",
       "| FALSE | FALSE | FALSE |\n",
       "| FALSE | FALSE | FALSE |\n",
       "| FALSE | FALSE | FALSE |\n",
       "| FALSE | FALSE | FALSE |\n",
       "| FALSE | FALSE | FALSE |\n",
       "| FALSE | FALSE | FALSE |\n",
       "| FALSE | FALSE | FALSE |\n",
       "| FALSE | FALSE | FALSE |\n",
       "| FALSE | FALSE | FALSE |\n",
       "| FALSE | FALSE | FALSE |\n",
       "| FALSE | FALSE | FALSE |\n",
       "| FALSE | FALSE | FALSE |\n",
       "| FALSE | FALSE | FALSE |\n",
       "\n"
      ],
      "text/plain": [
       "      Id    ActivityHour StepTotal\n",
       " [1,] FALSE FALSE        FALSE    \n",
       " [2,] FALSE FALSE        FALSE    \n",
       " [3,] FALSE FALSE        FALSE    \n",
       " [4,] FALSE FALSE        FALSE    \n",
       " [5,] FALSE FALSE        FALSE    \n",
       " [6,] FALSE FALSE        FALSE    \n",
       " [7,] FALSE FALSE        FALSE    \n",
       " [8,] FALSE FALSE        FALSE    \n",
       " [9,] FALSE FALSE        FALSE    \n",
       "[10,] FALSE FALSE        FALSE    \n",
       "[11,] FALSE FALSE        FALSE    \n",
       "[12,] FALSE FALSE        FALSE    \n",
       "[13,] FALSE FALSE        FALSE    \n",
       "[14,] FALSE FALSE        FALSE    \n",
       "[15,] FALSE FALSE        FALSE    \n",
       "[16,] FALSE FALSE        FALSE    \n",
       "[17,] FALSE FALSE        FALSE    \n",
       "[18,] FALSE FALSE        FALSE    \n",
       "[19,] FALSE FALSE        FALSE    \n",
       "[20,] FALSE FALSE        FALSE    \n",
       "[21,] FALSE FALSE        FALSE    \n",
       "[22,] FALSE FALSE        FALSE    \n",
       "[23,] FALSE FALSE        FALSE    \n",
       "[24,] FALSE FALSE        FALSE    \n",
       "[25,] FALSE FALSE        FALSE    \n",
       "[26,] FALSE FALSE        FALSE    \n",
       "[27,] FALSE FALSE        FALSE    \n",
       "[28,] FALSE FALSE        FALSE    \n",
       "[29,] FALSE FALSE        FALSE    \n",
       "[30,] FALSE FALSE        FALSE    \n",
       "[31,] ⋮     ⋮            ⋮        \n",
       "[32,] FALSE FALSE        FALSE    \n",
       "[33,] FALSE FALSE        FALSE    \n",
       "[34,] FALSE FALSE        FALSE    \n",
       "[35,] FALSE FALSE        FALSE    \n",
       "[36,] FALSE FALSE        FALSE    \n",
       "[37,] FALSE FALSE        FALSE    \n",
       "[38,] FALSE FALSE        FALSE    \n",
       "[39,] FALSE FALSE        FALSE    \n",
       "[40,] FALSE FALSE        FALSE    \n",
       "[41,] FALSE FALSE        FALSE    \n",
       "[42,] FALSE FALSE        FALSE    \n",
       "[43,] FALSE FALSE        FALSE    \n",
       "[44,] FALSE FALSE        FALSE    \n",
       "[45,] FALSE FALSE        FALSE    \n",
       "[46,] FALSE FALSE        FALSE    \n",
       "[47,] FALSE FALSE        FALSE    \n",
       "[48,] FALSE FALSE        FALSE    \n",
       "[49,] FALSE FALSE        FALSE    \n",
       "[50,] FALSE FALSE        FALSE    \n",
       "[51,] FALSE FALSE        FALSE    \n",
       "[52,] FALSE FALSE        FALSE    \n",
       "[53,] FALSE FALSE        FALSE    \n",
       "[54,] FALSE FALSE        FALSE    \n",
       "[55,] FALSE FALSE        FALSE    \n",
       "[56,] FALSE FALSE        FALSE    \n",
       "[57,] FALSE FALSE        FALSE    \n",
       "[58,] FALSE FALSE        FALSE    \n",
       "[59,] FALSE FALSE        FALSE    \n",
       "[60,] FALSE FALSE        FALSE    \n",
       "[61,] FALSE FALSE        FALSE    "
      ]
     },
     "metadata": {},
     "output_type": "display_data"
    },
    {
     "data": {
      "text/html": [
       "<table class=\"dataframe\">\n",
       "<caption>A matrix: 413 × 5 of type lgl</caption>\n",
       "<thead>\n",
       "\t<tr><th scope=col>Id</th><th scope=col>SleepDay</th><th scope=col>TotalSleepRecords</th><th scope=col>TotalMinutesAsleep</th><th scope=col>TotalTimeInBed</th></tr>\n",
       "</thead>\n",
       "<tbody>\n",
       "\t<tr><td>FALSE</td><td>FALSE</td><td>FALSE</td><td>FALSE</td><td>FALSE</td></tr>\n",
       "\t<tr><td>FALSE</td><td>FALSE</td><td>FALSE</td><td>FALSE</td><td>FALSE</td></tr>\n",
       "\t<tr><td>FALSE</td><td>FALSE</td><td>FALSE</td><td>FALSE</td><td>FALSE</td></tr>\n",
       "\t<tr><td>FALSE</td><td>FALSE</td><td>FALSE</td><td>FALSE</td><td>FALSE</td></tr>\n",
       "\t<tr><td>FALSE</td><td>FALSE</td><td>FALSE</td><td>FALSE</td><td>FALSE</td></tr>\n",
       "\t<tr><td>FALSE</td><td>FALSE</td><td>FALSE</td><td>FALSE</td><td>FALSE</td></tr>\n",
       "\t<tr><td>FALSE</td><td>FALSE</td><td>FALSE</td><td>FALSE</td><td>FALSE</td></tr>\n",
       "\t<tr><td>FALSE</td><td>FALSE</td><td>FALSE</td><td>FALSE</td><td>FALSE</td></tr>\n",
       "\t<tr><td>FALSE</td><td>FALSE</td><td>FALSE</td><td>FALSE</td><td>FALSE</td></tr>\n",
       "\t<tr><td>FALSE</td><td>FALSE</td><td>FALSE</td><td>FALSE</td><td>FALSE</td></tr>\n",
       "\t<tr><td>FALSE</td><td>FALSE</td><td>FALSE</td><td>FALSE</td><td>FALSE</td></tr>\n",
       "\t<tr><td>FALSE</td><td>FALSE</td><td>FALSE</td><td>FALSE</td><td>FALSE</td></tr>\n",
       "\t<tr><td>FALSE</td><td>FALSE</td><td>FALSE</td><td>FALSE</td><td>FALSE</td></tr>\n",
       "\t<tr><td>FALSE</td><td>FALSE</td><td>FALSE</td><td>FALSE</td><td>FALSE</td></tr>\n",
       "\t<tr><td>FALSE</td><td>FALSE</td><td>FALSE</td><td>FALSE</td><td>FALSE</td></tr>\n",
       "\t<tr><td>FALSE</td><td>FALSE</td><td>FALSE</td><td>FALSE</td><td>FALSE</td></tr>\n",
       "\t<tr><td>FALSE</td><td>FALSE</td><td>FALSE</td><td>FALSE</td><td>FALSE</td></tr>\n",
       "\t<tr><td>FALSE</td><td>FALSE</td><td>FALSE</td><td>FALSE</td><td>FALSE</td></tr>\n",
       "\t<tr><td>FALSE</td><td>FALSE</td><td>FALSE</td><td>FALSE</td><td>FALSE</td></tr>\n",
       "\t<tr><td>FALSE</td><td>FALSE</td><td>FALSE</td><td>FALSE</td><td>FALSE</td></tr>\n",
       "\t<tr><td>FALSE</td><td>FALSE</td><td>FALSE</td><td>FALSE</td><td>FALSE</td></tr>\n",
       "\t<tr><td>FALSE</td><td>FALSE</td><td>FALSE</td><td>FALSE</td><td>FALSE</td></tr>\n",
       "\t<tr><td>FALSE</td><td>FALSE</td><td>FALSE</td><td>FALSE</td><td>FALSE</td></tr>\n",
       "\t<tr><td>FALSE</td><td>FALSE</td><td>FALSE</td><td>FALSE</td><td>FALSE</td></tr>\n",
       "\t<tr><td>FALSE</td><td>FALSE</td><td>FALSE</td><td>FALSE</td><td>FALSE</td></tr>\n",
       "\t<tr><td>FALSE</td><td>FALSE</td><td>FALSE</td><td>FALSE</td><td>FALSE</td></tr>\n",
       "\t<tr><td>FALSE</td><td>FALSE</td><td>FALSE</td><td>FALSE</td><td>FALSE</td></tr>\n",
       "\t<tr><td>FALSE</td><td>FALSE</td><td>FALSE</td><td>FALSE</td><td>FALSE</td></tr>\n",
       "\t<tr><td>FALSE</td><td>FALSE</td><td>FALSE</td><td>FALSE</td><td>FALSE</td></tr>\n",
       "\t<tr><td>FALSE</td><td>FALSE</td><td>FALSE</td><td>FALSE</td><td>FALSE</td></tr>\n",
       "\t<tr><td>⋮</td><td>⋮</td><td>⋮</td><td>⋮</td><td>⋮</td></tr>\n",
       "\t<tr><td>FALSE</td><td>FALSE</td><td>FALSE</td><td>FALSE</td><td>FALSE</td></tr>\n",
       "\t<tr><td>FALSE</td><td>FALSE</td><td>FALSE</td><td>FALSE</td><td>FALSE</td></tr>\n",
       "\t<tr><td>FALSE</td><td>FALSE</td><td>FALSE</td><td>FALSE</td><td>FALSE</td></tr>\n",
       "\t<tr><td>FALSE</td><td>FALSE</td><td>FALSE</td><td>FALSE</td><td>FALSE</td></tr>\n",
       "\t<tr><td>FALSE</td><td>FALSE</td><td>FALSE</td><td>FALSE</td><td>FALSE</td></tr>\n",
       "\t<tr><td>FALSE</td><td>FALSE</td><td>FALSE</td><td>FALSE</td><td>FALSE</td></tr>\n",
       "\t<tr><td>FALSE</td><td>FALSE</td><td>FALSE</td><td>FALSE</td><td>FALSE</td></tr>\n",
       "\t<tr><td>FALSE</td><td>FALSE</td><td>FALSE</td><td>FALSE</td><td>FALSE</td></tr>\n",
       "\t<tr><td>FALSE</td><td>FALSE</td><td>FALSE</td><td>FALSE</td><td>FALSE</td></tr>\n",
       "\t<tr><td>FALSE</td><td>FALSE</td><td>FALSE</td><td>FALSE</td><td>FALSE</td></tr>\n",
       "\t<tr><td>FALSE</td><td>FALSE</td><td>FALSE</td><td>FALSE</td><td>FALSE</td></tr>\n",
       "\t<tr><td>FALSE</td><td>FALSE</td><td>FALSE</td><td>FALSE</td><td>FALSE</td></tr>\n",
       "\t<tr><td>FALSE</td><td>FALSE</td><td>FALSE</td><td>FALSE</td><td>FALSE</td></tr>\n",
       "\t<tr><td>FALSE</td><td>FALSE</td><td>FALSE</td><td>FALSE</td><td>FALSE</td></tr>\n",
       "\t<tr><td>FALSE</td><td>FALSE</td><td>FALSE</td><td>FALSE</td><td>FALSE</td></tr>\n",
       "\t<tr><td>FALSE</td><td>FALSE</td><td>FALSE</td><td>FALSE</td><td>FALSE</td></tr>\n",
       "\t<tr><td>FALSE</td><td>FALSE</td><td>FALSE</td><td>FALSE</td><td>FALSE</td></tr>\n",
       "\t<tr><td>FALSE</td><td>FALSE</td><td>FALSE</td><td>FALSE</td><td>FALSE</td></tr>\n",
       "\t<tr><td>FALSE</td><td>FALSE</td><td>FALSE</td><td>FALSE</td><td>FALSE</td></tr>\n",
       "\t<tr><td>FALSE</td><td>FALSE</td><td>FALSE</td><td>FALSE</td><td>FALSE</td></tr>\n",
       "\t<tr><td>FALSE</td><td>FALSE</td><td>FALSE</td><td>FALSE</td><td>FALSE</td></tr>\n",
       "\t<tr><td>FALSE</td><td>FALSE</td><td>FALSE</td><td>FALSE</td><td>FALSE</td></tr>\n",
       "\t<tr><td>FALSE</td><td>FALSE</td><td>FALSE</td><td>FALSE</td><td>FALSE</td></tr>\n",
       "\t<tr><td>FALSE</td><td>FALSE</td><td>FALSE</td><td>FALSE</td><td>FALSE</td></tr>\n",
       "\t<tr><td>FALSE</td><td>FALSE</td><td>FALSE</td><td>FALSE</td><td>FALSE</td></tr>\n",
       "\t<tr><td>FALSE</td><td>FALSE</td><td>FALSE</td><td>FALSE</td><td>FALSE</td></tr>\n",
       "\t<tr><td>FALSE</td><td>FALSE</td><td>FALSE</td><td>FALSE</td><td>FALSE</td></tr>\n",
       "\t<tr><td>FALSE</td><td>FALSE</td><td>FALSE</td><td>FALSE</td><td>FALSE</td></tr>\n",
       "\t<tr><td>FALSE</td><td>FALSE</td><td>FALSE</td><td>FALSE</td><td>FALSE</td></tr>\n",
       "\t<tr><td>FALSE</td><td>FALSE</td><td>FALSE</td><td>FALSE</td><td>FALSE</td></tr>\n",
       "</tbody>\n",
       "</table>\n"
      ],
      "text/latex": [
       "A matrix: 413 × 5 of type lgl\n",
       "\\begin{tabular}{lllll}\n",
       " Id & SleepDay & TotalSleepRecords & TotalMinutesAsleep & TotalTimeInBed\\\\\n",
       "\\hline\n",
       "\t FALSE & FALSE & FALSE & FALSE & FALSE\\\\\n",
       "\t FALSE & FALSE & FALSE & FALSE & FALSE\\\\\n",
       "\t FALSE & FALSE & FALSE & FALSE & FALSE\\\\\n",
       "\t FALSE & FALSE & FALSE & FALSE & FALSE\\\\\n",
       "\t FALSE & FALSE & FALSE & FALSE & FALSE\\\\\n",
       "\t FALSE & FALSE & FALSE & FALSE & FALSE\\\\\n",
       "\t FALSE & FALSE & FALSE & FALSE & FALSE\\\\\n",
       "\t FALSE & FALSE & FALSE & FALSE & FALSE\\\\\n",
       "\t FALSE & FALSE & FALSE & FALSE & FALSE\\\\\n",
       "\t FALSE & FALSE & FALSE & FALSE & FALSE\\\\\n",
       "\t FALSE & FALSE & FALSE & FALSE & FALSE\\\\\n",
       "\t FALSE & FALSE & FALSE & FALSE & FALSE\\\\\n",
       "\t FALSE & FALSE & FALSE & FALSE & FALSE\\\\\n",
       "\t FALSE & FALSE & FALSE & FALSE & FALSE\\\\\n",
       "\t FALSE & FALSE & FALSE & FALSE & FALSE\\\\\n",
       "\t FALSE & FALSE & FALSE & FALSE & FALSE\\\\\n",
       "\t FALSE & FALSE & FALSE & FALSE & FALSE\\\\\n",
       "\t FALSE & FALSE & FALSE & FALSE & FALSE\\\\\n",
       "\t FALSE & FALSE & FALSE & FALSE & FALSE\\\\\n",
       "\t FALSE & FALSE & FALSE & FALSE & FALSE\\\\\n",
       "\t FALSE & FALSE & FALSE & FALSE & FALSE\\\\\n",
       "\t FALSE & FALSE & FALSE & FALSE & FALSE\\\\\n",
       "\t FALSE & FALSE & FALSE & FALSE & FALSE\\\\\n",
       "\t FALSE & FALSE & FALSE & FALSE & FALSE\\\\\n",
       "\t FALSE & FALSE & FALSE & FALSE & FALSE\\\\\n",
       "\t FALSE & FALSE & FALSE & FALSE & FALSE\\\\\n",
       "\t FALSE & FALSE & FALSE & FALSE & FALSE\\\\\n",
       "\t FALSE & FALSE & FALSE & FALSE & FALSE\\\\\n",
       "\t FALSE & FALSE & FALSE & FALSE & FALSE\\\\\n",
       "\t FALSE & FALSE & FALSE & FALSE & FALSE\\\\\n",
       "\t ⋮ & ⋮ & ⋮ & ⋮ & ⋮\\\\\n",
       "\t FALSE & FALSE & FALSE & FALSE & FALSE\\\\\n",
       "\t FALSE & FALSE & FALSE & FALSE & FALSE\\\\\n",
       "\t FALSE & FALSE & FALSE & FALSE & FALSE\\\\\n",
       "\t FALSE & FALSE & FALSE & FALSE & FALSE\\\\\n",
       "\t FALSE & FALSE & FALSE & FALSE & FALSE\\\\\n",
       "\t FALSE & FALSE & FALSE & FALSE & FALSE\\\\\n",
       "\t FALSE & FALSE & FALSE & FALSE & FALSE\\\\\n",
       "\t FALSE & FALSE & FALSE & FALSE & FALSE\\\\\n",
       "\t FALSE & FALSE & FALSE & FALSE & FALSE\\\\\n",
       "\t FALSE & FALSE & FALSE & FALSE & FALSE\\\\\n",
       "\t FALSE & FALSE & FALSE & FALSE & FALSE\\\\\n",
       "\t FALSE & FALSE & FALSE & FALSE & FALSE\\\\\n",
       "\t FALSE & FALSE & FALSE & FALSE & FALSE\\\\\n",
       "\t FALSE & FALSE & FALSE & FALSE & FALSE\\\\\n",
       "\t FALSE & FALSE & FALSE & FALSE & FALSE\\\\\n",
       "\t FALSE & FALSE & FALSE & FALSE & FALSE\\\\\n",
       "\t FALSE & FALSE & FALSE & FALSE & FALSE\\\\\n",
       "\t FALSE & FALSE & FALSE & FALSE & FALSE\\\\\n",
       "\t FALSE & FALSE & FALSE & FALSE & FALSE\\\\\n",
       "\t FALSE & FALSE & FALSE & FALSE & FALSE\\\\\n",
       "\t FALSE & FALSE & FALSE & FALSE & FALSE\\\\\n",
       "\t FALSE & FALSE & FALSE & FALSE & FALSE\\\\\n",
       "\t FALSE & FALSE & FALSE & FALSE & FALSE\\\\\n",
       "\t FALSE & FALSE & FALSE & FALSE & FALSE\\\\\n",
       "\t FALSE & FALSE & FALSE & FALSE & FALSE\\\\\n",
       "\t FALSE & FALSE & FALSE & FALSE & FALSE\\\\\n",
       "\t FALSE & FALSE & FALSE & FALSE & FALSE\\\\\n",
       "\t FALSE & FALSE & FALSE & FALSE & FALSE\\\\\n",
       "\t FALSE & FALSE & FALSE & FALSE & FALSE\\\\\n",
       "\t FALSE & FALSE & FALSE & FALSE & FALSE\\\\\n",
       "\\end{tabular}\n"
      ],
      "text/markdown": [
       "\n",
       "A matrix: 413 × 5 of type lgl\n",
       "\n",
       "| Id | SleepDay | TotalSleepRecords | TotalMinutesAsleep | TotalTimeInBed |\n",
       "|---|---|---|---|---|\n",
       "| FALSE | FALSE | FALSE | FALSE | FALSE |\n",
       "| FALSE | FALSE | FALSE | FALSE | FALSE |\n",
       "| FALSE | FALSE | FALSE | FALSE | FALSE |\n",
       "| FALSE | FALSE | FALSE | FALSE | FALSE |\n",
       "| FALSE | FALSE | FALSE | FALSE | FALSE |\n",
       "| FALSE | FALSE | FALSE | FALSE | FALSE |\n",
       "| FALSE | FALSE | FALSE | FALSE | FALSE |\n",
       "| FALSE | FALSE | FALSE | FALSE | FALSE |\n",
       "| FALSE | FALSE | FALSE | FALSE | FALSE |\n",
       "| FALSE | FALSE | FALSE | FALSE | FALSE |\n",
       "| FALSE | FALSE | FALSE | FALSE | FALSE |\n",
       "| FALSE | FALSE | FALSE | FALSE | FALSE |\n",
       "| FALSE | FALSE | FALSE | FALSE | FALSE |\n",
       "| FALSE | FALSE | FALSE | FALSE | FALSE |\n",
       "| FALSE | FALSE | FALSE | FALSE | FALSE |\n",
       "| FALSE | FALSE | FALSE | FALSE | FALSE |\n",
       "| FALSE | FALSE | FALSE | FALSE | FALSE |\n",
       "| FALSE | FALSE | FALSE | FALSE | FALSE |\n",
       "| FALSE | FALSE | FALSE | FALSE | FALSE |\n",
       "| FALSE | FALSE | FALSE | FALSE | FALSE |\n",
       "| FALSE | FALSE | FALSE | FALSE | FALSE |\n",
       "| FALSE | FALSE | FALSE | FALSE | FALSE |\n",
       "| FALSE | FALSE | FALSE | FALSE | FALSE |\n",
       "| FALSE | FALSE | FALSE | FALSE | FALSE |\n",
       "| FALSE | FALSE | FALSE | FALSE | FALSE |\n",
       "| FALSE | FALSE | FALSE | FALSE | FALSE |\n",
       "| FALSE | FALSE | FALSE | FALSE | FALSE |\n",
       "| FALSE | FALSE | FALSE | FALSE | FALSE |\n",
       "| FALSE | FALSE | FALSE | FALSE | FALSE |\n",
       "| FALSE | FALSE | FALSE | FALSE | FALSE |\n",
       "| ⋮ | ⋮ | ⋮ | ⋮ | ⋮ |\n",
       "| FALSE | FALSE | FALSE | FALSE | FALSE |\n",
       "| FALSE | FALSE | FALSE | FALSE | FALSE |\n",
       "| FALSE | FALSE | FALSE | FALSE | FALSE |\n",
       "| FALSE | FALSE | FALSE | FALSE | FALSE |\n",
       "| FALSE | FALSE | FALSE | FALSE | FALSE |\n",
       "| FALSE | FALSE | FALSE | FALSE | FALSE |\n",
       "| FALSE | FALSE | FALSE | FALSE | FALSE |\n",
       "| FALSE | FALSE | FALSE | FALSE | FALSE |\n",
       "| FALSE | FALSE | FALSE | FALSE | FALSE |\n",
       "| FALSE | FALSE | FALSE | FALSE | FALSE |\n",
       "| FALSE | FALSE | FALSE | FALSE | FALSE |\n",
       "| FALSE | FALSE | FALSE | FALSE | FALSE |\n",
       "| FALSE | FALSE | FALSE | FALSE | FALSE |\n",
       "| FALSE | FALSE | FALSE | FALSE | FALSE |\n",
       "| FALSE | FALSE | FALSE | FALSE | FALSE |\n",
       "| FALSE | FALSE | FALSE | FALSE | FALSE |\n",
       "| FALSE | FALSE | FALSE | FALSE | FALSE |\n",
       "| FALSE | FALSE | FALSE | FALSE | FALSE |\n",
       "| FALSE | FALSE | FALSE | FALSE | FALSE |\n",
       "| FALSE | FALSE | FALSE | FALSE | FALSE |\n",
       "| FALSE | FALSE | FALSE | FALSE | FALSE |\n",
       "| FALSE | FALSE | FALSE | FALSE | FALSE |\n",
       "| FALSE | FALSE | FALSE | FALSE | FALSE |\n",
       "| FALSE | FALSE | FALSE | FALSE | FALSE |\n",
       "| FALSE | FALSE | FALSE | FALSE | FALSE |\n",
       "| FALSE | FALSE | FALSE | FALSE | FALSE |\n",
       "| FALSE | FALSE | FALSE | FALSE | FALSE |\n",
       "| FALSE | FALSE | FALSE | FALSE | FALSE |\n",
       "| FALSE | FALSE | FALSE | FALSE | FALSE |\n",
       "| FALSE | FALSE | FALSE | FALSE | FALSE |\n",
       "\n"
      ],
      "text/plain": [
       "      Id    SleepDay TotalSleepRecords TotalMinutesAsleep TotalTimeInBed\n",
       " [1,] FALSE FALSE    FALSE             FALSE              FALSE         \n",
       " [2,] FALSE FALSE    FALSE             FALSE              FALSE         \n",
       " [3,] FALSE FALSE    FALSE             FALSE              FALSE         \n",
       " [4,] FALSE FALSE    FALSE             FALSE              FALSE         \n",
       " [5,] FALSE FALSE    FALSE             FALSE              FALSE         \n",
       " [6,] FALSE FALSE    FALSE             FALSE              FALSE         \n",
       " [7,] FALSE FALSE    FALSE             FALSE              FALSE         \n",
       " [8,] FALSE FALSE    FALSE             FALSE              FALSE         \n",
       " [9,] FALSE FALSE    FALSE             FALSE              FALSE         \n",
       "[10,] FALSE FALSE    FALSE             FALSE              FALSE         \n",
       "[11,] FALSE FALSE    FALSE             FALSE              FALSE         \n",
       "[12,] FALSE FALSE    FALSE             FALSE              FALSE         \n",
       "[13,] FALSE FALSE    FALSE             FALSE              FALSE         \n",
       "[14,] FALSE FALSE    FALSE             FALSE              FALSE         \n",
       "[15,] FALSE FALSE    FALSE             FALSE              FALSE         \n",
       "[16,] FALSE FALSE    FALSE             FALSE              FALSE         \n",
       "[17,] FALSE FALSE    FALSE             FALSE              FALSE         \n",
       "[18,] FALSE FALSE    FALSE             FALSE              FALSE         \n",
       "[19,] FALSE FALSE    FALSE             FALSE              FALSE         \n",
       "[20,] FALSE FALSE    FALSE             FALSE              FALSE         \n",
       "[21,] FALSE FALSE    FALSE             FALSE              FALSE         \n",
       "[22,] FALSE FALSE    FALSE             FALSE              FALSE         \n",
       "[23,] FALSE FALSE    FALSE             FALSE              FALSE         \n",
       "[24,] FALSE FALSE    FALSE             FALSE              FALSE         \n",
       "[25,] FALSE FALSE    FALSE             FALSE              FALSE         \n",
       "[26,] FALSE FALSE    FALSE             FALSE              FALSE         \n",
       "[27,] FALSE FALSE    FALSE             FALSE              FALSE         \n",
       "[28,] FALSE FALSE    FALSE             FALSE              FALSE         \n",
       "[29,] FALSE FALSE    FALSE             FALSE              FALSE         \n",
       "[30,] FALSE FALSE    FALSE             FALSE              FALSE         \n",
       "[31,] ⋮     ⋮        ⋮                 ⋮                  ⋮             \n",
       "[32,] FALSE FALSE    FALSE             FALSE              FALSE         \n",
       "[33,] FALSE FALSE    FALSE             FALSE              FALSE         \n",
       "[34,] FALSE FALSE    FALSE             FALSE              FALSE         \n",
       "[35,] FALSE FALSE    FALSE             FALSE              FALSE         \n",
       "[36,] FALSE FALSE    FALSE             FALSE              FALSE         \n",
       "[37,] FALSE FALSE    FALSE             FALSE              FALSE         \n",
       "[38,] FALSE FALSE    FALSE             FALSE              FALSE         \n",
       "[39,] FALSE FALSE    FALSE             FALSE              FALSE         \n",
       "[40,] FALSE FALSE    FALSE             FALSE              FALSE         \n",
       "[41,] FALSE FALSE    FALSE             FALSE              FALSE         \n",
       "[42,] FALSE FALSE    FALSE             FALSE              FALSE         \n",
       "[43,] FALSE FALSE    FALSE             FALSE              FALSE         \n",
       "[44,] FALSE FALSE    FALSE             FALSE              FALSE         \n",
       "[45,] FALSE FALSE    FALSE             FALSE              FALSE         \n",
       "[46,] FALSE FALSE    FALSE             FALSE              FALSE         \n",
       "[47,] FALSE FALSE    FALSE             FALSE              FALSE         \n",
       "[48,] FALSE FALSE    FALSE             FALSE              FALSE         \n",
       "[49,] FALSE FALSE    FALSE             FALSE              FALSE         \n",
       "[50,] FALSE FALSE    FALSE             FALSE              FALSE         \n",
       "[51,] FALSE FALSE    FALSE             FALSE              FALSE         \n",
       "[52,] FALSE FALSE    FALSE             FALSE              FALSE         \n",
       "[53,] FALSE FALSE    FALSE             FALSE              FALSE         \n",
       "[54,] FALSE FALSE    FALSE             FALSE              FALSE         \n",
       "[55,] FALSE FALSE    FALSE             FALSE              FALSE         \n",
       "[56,] FALSE FALSE    FALSE             FALSE              FALSE         \n",
       "[57,] FALSE FALSE    FALSE             FALSE              FALSE         \n",
       "[58,] FALSE FALSE    FALSE             FALSE              FALSE         \n",
       "[59,] FALSE FALSE    FALSE             FALSE              FALSE         \n",
       "[60,] FALSE FALSE    FALSE             FALSE              FALSE         \n",
       "[61,] FALSE FALSE    FALSE             FALSE              FALSE         "
      ]
     },
     "metadata": {},
     "output_type": "display_data"
    },
    {
     "data": {
      "text/html": [
       "<table class=\"dataframe\">\n",
       "<caption>A matrix: 67 × 8 of type lgl</caption>\n",
       "<thead>\n",
       "\t<tr><th scope=col>Id</th><th scope=col>Date</th><th scope=col>WeightKg</th><th scope=col>WeightPounds</th><th scope=col>Fat</th><th scope=col>BMI</th><th scope=col>IsManualReport</th><th scope=col>LogId</th></tr>\n",
       "</thead>\n",
       "<tbody>\n",
       "\t<tr><td>FALSE</td><td>FALSE</td><td>FALSE</td><td>FALSE</td><td>FALSE</td><td>FALSE</td><td>FALSE</td><td>FALSE</td></tr>\n",
       "\t<tr><td>FALSE</td><td>FALSE</td><td>FALSE</td><td>FALSE</td><td> TRUE</td><td>FALSE</td><td>FALSE</td><td>FALSE</td></tr>\n",
       "\t<tr><td>FALSE</td><td>FALSE</td><td>FALSE</td><td>FALSE</td><td> TRUE</td><td>FALSE</td><td>FALSE</td><td>FALSE</td></tr>\n",
       "\t<tr><td>FALSE</td><td>FALSE</td><td>FALSE</td><td>FALSE</td><td> TRUE</td><td>FALSE</td><td>FALSE</td><td>FALSE</td></tr>\n",
       "\t<tr><td>FALSE</td><td>FALSE</td><td>FALSE</td><td>FALSE</td><td> TRUE</td><td>FALSE</td><td>FALSE</td><td>FALSE</td></tr>\n",
       "\t<tr><td>FALSE</td><td>FALSE</td><td>FALSE</td><td>FALSE</td><td>FALSE</td><td>FALSE</td><td>FALSE</td><td>FALSE</td></tr>\n",
       "\t<tr><td>FALSE</td><td>FALSE</td><td>FALSE</td><td>FALSE</td><td> TRUE</td><td>FALSE</td><td>FALSE</td><td>FALSE</td></tr>\n",
       "\t<tr><td>FALSE</td><td>FALSE</td><td>FALSE</td><td>FALSE</td><td> TRUE</td><td>FALSE</td><td>FALSE</td><td>FALSE</td></tr>\n",
       "\t<tr><td>FALSE</td><td>FALSE</td><td>FALSE</td><td>FALSE</td><td> TRUE</td><td>FALSE</td><td>FALSE</td><td>FALSE</td></tr>\n",
       "\t<tr><td>FALSE</td><td>FALSE</td><td>FALSE</td><td>FALSE</td><td> TRUE</td><td>FALSE</td><td>FALSE</td><td>FALSE</td></tr>\n",
       "\t<tr><td>FALSE</td><td>FALSE</td><td>FALSE</td><td>FALSE</td><td> TRUE</td><td>FALSE</td><td>FALSE</td><td>FALSE</td></tr>\n",
       "\t<tr><td>FALSE</td><td>FALSE</td><td>FALSE</td><td>FALSE</td><td> TRUE</td><td>FALSE</td><td>FALSE</td><td>FALSE</td></tr>\n",
       "\t<tr><td>FALSE</td><td>FALSE</td><td>FALSE</td><td>FALSE</td><td> TRUE</td><td>FALSE</td><td>FALSE</td><td>FALSE</td></tr>\n",
       "\t<tr><td>FALSE</td><td>FALSE</td><td>FALSE</td><td>FALSE</td><td> TRUE</td><td>FALSE</td><td>FALSE</td><td>FALSE</td></tr>\n",
       "\t<tr><td>FALSE</td><td>FALSE</td><td>FALSE</td><td>FALSE</td><td> TRUE</td><td>FALSE</td><td>FALSE</td><td>FALSE</td></tr>\n",
       "\t<tr><td>FALSE</td><td>FALSE</td><td>FALSE</td><td>FALSE</td><td> TRUE</td><td>FALSE</td><td>FALSE</td><td>FALSE</td></tr>\n",
       "\t<tr><td>FALSE</td><td>FALSE</td><td>FALSE</td><td>FALSE</td><td> TRUE</td><td>FALSE</td><td>FALSE</td><td>FALSE</td></tr>\n",
       "\t<tr><td>FALSE</td><td>FALSE</td><td>FALSE</td><td>FALSE</td><td> TRUE</td><td>FALSE</td><td>FALSE</td><td>FALSE</td></tr>\n",
       "\t<tr><td>FALSE</td><td>FALSE</td><td>FALSE</td><td>FALSE</td><td> TRUE</td><td>FALSE</td><td>FALSE</td><td>FALSE</td></tr>\n",
       "\t<tr><td>FALSE</td><td>FALSE</td><td>FALSE</td><td>FALSE</td><td> TRUE</td><td>FALSE</td><td>FALSE</td><td>FALSE</td></tr>\n",
       "\t<tr><td>FALSE</td><td>FALSE</td><td>FALSE</td><td>FALSE</td><td> TRUE</td><td>FALSE</td><td>FALSE</td><td>FALSE</td></tr>\n",
       "\t<tr><td>FALSE</td><td>FALSE</td><td>FALSE</td><td>FALSE</td><td> TRUE</td><td>FALSE</td><td>FALSE</td><td>FALSE</td></tr>\n",
       "\t<tr><td>FALSE</td><td>FALSE</td><td>FALSE</td><td>FALSE</td><td> TRUE</td><td>FALSE</td><td>FALSE</td><td>FALSE</td></tr>\n",
       "\t<tr><td>FALSE</td><td>FALSE</td><td>FALSE</td><td>FALSE</td><td> TRUE</td><td>FALSE</td><td>FALSE</td><td>FALSE</td></tr>\n",
       "\t<tr><td>FALSE</td><td>FALSE</td><td>FALSE</td><td>FALSE</td><td> TRUE</td><td>FALSE</td><td>FALSE</td><td>FALSE</td></tr>\n",
       "\t<tr><td>FALSE</td><td>FALSE</td><td>FALSE</td><td>FALSE</td><td> TRUE</td><td>FALSE</td><td>FALSE</td><td>FALSE</td></tr>\n",
       "\t<tr><td>FALSE</td><td>FALSE</td><td>FALSE</td><td>FALSE</td><td> TRUE</td><td>FALSE</td><td>FALSE</td><td>FALSE</td></tr>\n",
       "\t<tr><td>FALSE</td><td>FALSE</td><td>FALSE</td><td>FALSE</td><td> TRUE</td><td>FALSE</td><td>FALSE</td><td>FALSE</td></tr>\n",
       "\t<tr><td>FALSE</td><td>FALSE</td><td>FALSE</td><td>FALSE</td><td> TRUE</td><td>FALSE</td><td>FALSE</td><td>FALSE</td></tr>\n",
       "\t<tr><td>FALSE</td><td>FALSE</td><td>FALSE</td><td>FALSE</td><td> TRUE</td><td>FALSE</td><td>FALSE</td><td>FALSE</td></tr>\n",
       "\t<tr><td>⋮</td><td>⋮</td><td>⋮</td><td>⋮</td><td>⋮</td><td>⋮</td><td>⋮</td><td>⋮</td></tr>\n",
       "\t<tr><td>FALSE</td><td>FALSE</td><td>FALSE</td><td>FALSE</td><td>TRUE</td><td>FALSE</td><td>FALSE</td><td>FALSE</td></tr>\n",
       "\t<tr><td>FALSE</td><td>FALSE</td><td>FALSE</td><td>FALSE</td><td>TRUE</td><td>FALSE</td><td>FALSE</td><td>FALSE</td></tr>\n",
       "\t<tr><td>FALSE</td><td>FALSE</td><td>FALSE</td><td>FALSE</td><td>TRUE</td><td>FALSE</td><td>FALSE</td><td>FALSE</td></tr>\n",
       "\t<tr><td>FALSE</td><td>FALSE</td><td>FALSE</td><td>FALSE</td><td>TRUE</td><td>FALSE</td><td>FALSE</td><td>FALSE</td></tr>\n",
       "\t<tr><td>FALSE</td><td>FALSE</td><td>FALSE</td><td>FALSE</td><td>TRUE</td><td>FALSE</td><td>FALSE</td><td>FALSE</td></tr>\n",
       "\t<tr><td>FALSE</td><td>FALSE</td><td>FALSE</td><td>FALSE</td><td>TRUE</td><td>FALSE</td><td>FALSE</td><td>FALSE</td></tr>\n",
       "\t<tr><td>FALSE</td><td>FALSE</td><td>FALSE</td><td>FALSE</td><td>TRUE</td><td>FALSE</td><td>FALSE</td><td>FALSE</td></tr>\n",
       "\t<tr><td>FALSE</td><td>FALSE</td><td>FALSE</td><td>FALSE</td><td>TRUE</td><td>FALSE</td><td>FALSE</td><td>FALSE</td></tr>\n",
       "\t<tr><td>FALSE</td><td>FALSE</td><td>FALSE</td><td>FALSE</td><td>TRUE</td><td>FALSE</td><td>FALSE</td><td>FALSE</td></tr>\n",
       "\t<tr><td>FALSE</td><td>FALSE</td><td>FALSE</td><td>FALSE</td><td>TRUE</td><td>FALSE</td><td>FALSE</td><td>FALSE</td></tr>\n",
       "\t<tr><td>FALSE</td><td>FALSE</td><td>FALSE</td><td>FALSE</td><td>TRUE</td><td>FALSE</td><td>FALSE</td><td>FALSE</td></tr>\n",
       "\t<tr><td>FALSE</td><td>FALSE</td><td>FALSE</td><td>FALSE</td><td>TRUE</td><td>FALSE</td><td>FALSE</td><td>FALSE</td></tr>\n",
       "\t<tr><td>FALSE</td><td>FALSE</td><td>FALSE</td><td>FALSE</td><td>TRUE</td><td>FALSE</td><td>FALSE</td><td>FALSE</td></tr>\n",
       "\t<tr><td>FALSE</td><td>FALSE</td><td>FALSE</td><td>FALSE</td><td>TRUE</td><td>FALSE</td><td>FALSE</td><td>FALSE</td></tr>\n",
       "\t<tr><td>FALSE</td><td>FALSE</td><td>FALSE</td><td>FALSE</td><td>TRUE</td><td>FALSE</td><td>FALSE</td><td>FALSE</td></tr>\n",
       "\t<tr><td>FALSE</td><td>FALSE</td><td>FALSE</td><td>FALSE</td><td>TRUE</td><td>FALSE</td><td>FALSE</td><td>FALSE</td></tr>\n",
       "\t<tr><td>FALSE</td><td>FALSE</td><td>FALSE</td><td>FALSE</td><td>TRUE</td><td>FALSE</td><td>FALSE</td><td>FALSE</td></tr>\n",
       "\t<tr><td>FALSE</td><td>FALSE</td><td>FALSE</td><td>FALSE</td><td>TRUE</td><td>FALSE</td><td>FALSE</td><td>FALSE</td></tr>\n",
       "\t<tr><td>FALSE</td><td>FALSE</td><td>FALSE</td><td>FALSE</td><td>TRUE</td><td>FALSE</td><td>FALSE</td><td>FALSE</td></tr>\n",
       "\t<tr><td>FALSE</td><td>FALSE</td><td>FALSE</td><td>FALSE</td><td>TRUE</td><td>FALSE</td><td>FALSE</td><td>FALSE</td></tr>\n",
       "\t<tr><td>FALSE</td><td>FALSE</td><td>FALSE</td><td>FALSE</td><td>TRUE</td><td>FALSE</td><td>FALSE</td><td>FALSE</td></tr>\n",
       "\t<tr><td>FALSE</td><td>FALSE</td><td>FALSE</td><td>FALSE</td><td>TRUE</td><td>FALSE</td><td>FALSE</td><td>FALSE</td></tr>\n",
       "\t<tr><td>FALSE</td><td>FALSE</td><td>FALSE</td><td>FALSE</td><td>TRUE</td><td>FALSE</td><td>FALSE</td><td>FALSE</td></tr>\n",
       "\t<tr><td>FALSE</td><td>FALSE</td><td>FALSE</td><td>FALSE</td><td>TRUE</td><td>FALSE</td><td>FALSE</td><td>FALSE</td></tr>\n",
       "\t<tr><td>FALSE</td><td>FALSE</td><td>FALSE</td><td>FALSE</td><td>TRUE</td><td>FALSE</td><td>FALSE</td><td>FALSE</td></tr>\n",
       "\t<tr><td>FALSE</td><td>FALSE</td><td>FALSE</td><td>FALSE</td><td>TRUE</td><td>FALSE</td><td>FALSE</td><td>FALSE</td></tr>\n",
       "\t<tr><td>FALSE</td><td>FALSE</td><td>FALSE</td><td>FALSE</td><td>TRUE</td><td>FALSE</td><td>FALSE</td><td>FALSE</td></tr>\n",
       "\t<tr><td>FALSE</td><td>FALSE</td><td>FALSE</td><td>FALSE</td><td>TRUE</td><td>FALSE</td><td>FALSE</td><td>FALSE</td></tr>\n",
       "\t<tr><td>FALSE</td><td>FALSE</td><td>FALSE</td><td>FALSE</td><td>TRUE</td><td>FALSE</td><td>FALSE</td><td>FALSE</td></tr>\n",
       "\t<tr><td>FALSE</td><td>FALSE</td><td>FALSE</td><td>FALSE</td><td>TRUE</td><td>FALSE</td><td>FALSE</td><td>FALSE</td></tr>\n",
       "</tbody>\n",
       "</table>\n"
      ],
      "text/latex": [
       "A matrix: 67 × 8 of type lgl\n",
       "\\begin{tabular}{llllllll}\n",
       " Id & Date & WeightKg & WeightPounds & Fat & BMI & IsManualReport & LogId\\\\\n",
       "\\hline\n",
       "\t FALSE & FALSE & FALSE & FALSE & FALSE & FALSE & FALSE & FALSE\\\\\n",
       "\t FALSE & FALSE & FALSE & FALSE &  TRUE & FALSE & FALSE & FALSE\\\\\n",
       "\t FALSE & FALSE & FALSE & FALSE &  TRUE & FALSE & FALSE & FALSE\\\\\n",
       "\t FALSE & FALSE & FALSE & FALSE &  TRUE & FALSE & FALSE & FALSE\\\\\n",
       "\t FALSE & FALSE & FALSE & FALSE &  TRUE & FALSE & FALSE & FALSE\\\\\n",
       "\t FALSE & FALSE & FALSE & FALSE & FALSE & FALSE & FALSE & FALSE\\\\\n",
       "\t FALSE & FALSE & FALSE & FALSE &  TRUE & FALSE & FALSE & FALSE\\\\\n",
       "\t FALSE & FALSE & FALSE & FALSE &  TRUE & FALSE & FALSE & FALSE\\\\\n",
       "\t FALSE & FALSE & FALSE & FALSE &  TRUE & FALSE & FALSE & FALSE\\\\\n",
       "\t FALSE & FALSE & FALSE & FALSE &  TRUE & FALSE & FALSE & FALSE\\\\\n",
       "\t FALSE & FALSE & FALSE & FALSE &  TRUE & FALSE & FALSE & FALSE\\\\\n",
       "\t FALSE & FALSE & FALSE & FALSE &  TRUE & FALSE & FALSE & FALSE\\\\\n",
       "\t FALSE & FALSE & FALSE & FALSE &  TRUE & FALSE & FALSE & FALSE\\\\\n",
       "\t FALSE & FALSE & FALSE & FALSE &  TRUE & FALSE & FALSE & FALSE\\\\\n",
       "\t FALSE & FALSE & FALSE & FALSE &  TRUE & FALSE & FALSE & FALSE\\\\\n",
       "\t FALSE & FALSE & FALSE & FALSE &  TRUE & FALSE & FALSE & FALSE\\\\\n",
       "\t FALSE & FALSE & FALSE & FALSE &  TRUE & FALSE & FALSE & FALSE\\\\\n",
       "\t FALSE & FALSE & FALSE & FALSE &  TRUE & FALSE & FALSE & FALSE\\\\\n",
       "\t FALSE & FALSE & FALSE & FALSE &  TRUE & FALSE & FALSE & FALSE\\\\\n",
       "\t FALSE & FALSE & FALSE & FALSE &  TRUE & FALSE & FALSE & FALSE\\\\\n",
       "\t FALSE & FALSE & FALSE & FALSE &  TRUE & FALSE & FALSE & FALSE\\\\\n",
       "\t FALSE & FALSE & FALSE & FALSE &  TRUE & FALSE & FALSE & FALSE\\\\\n",
       "\t FALSE & FALSE & FALSE & FALSE &  TRUE & FALSE & FALSE & FALSE\\\\\n",
       "\t FALSE & FALSE & FALSE & FALSE &  TRUE & FALSE & FALSE & FALSE\\\\\n",
       "\t FALSE & FALSE & FALSE & FALSE &  TRUE & FALSE & FALSE & FALSE\\\\\n",
       "\t FALSE & FALSE & FALSE & FALSE &  TRUE & FALSE & FALSE & FALSE\\\\\n",
       "\t FALSE & FALSE & FALSE & FALSE &  TRUE & FALSE & FALSE & FALSE\\\\\n",
       "\t FALSE & FALSE & FALSE & FALSE &  TRUE & FALSE & FALSE & FALSE\\\\\n",
       "\t FALSE & FALSE & FALSE & FALSE &  TRUE & FALSE & FALSE & FALSE\\\\\n",
       "\t FALSE & FALSE & FALSE & FALSE &  TRUE & FALSE & FALSE & FALSE\\\\\n",
       "\t ⋮ & ⋮ & ⋮ & ⋮ & ⋮ & ⋮ & ⋮ & ⋮\\\\\n",
       "\t FALSE & FALSE & FALSE & FALSE & TRUE & FALSE & FALSE & FALSE\\\\\n",
       "\t FALSE & FALSE & FALSE & FALSE & TRUE & FALSE & FALSE & FALSE\\\\\n",
       "\t FALSE & FALSE & FALSE & FALSE & TRUE & FALSE & FALSE & FALSE\\\\\n",
       "\t FALSE & FALSE & FALSE & FALSE & TRUE & FALSE & FALSE & FALSE\\\\\n",
       "\t FALSE & FALSE & FALSE & FALSE & TRUE & FALSE & FALSE & FALSE\\\\\n",
       "\t FALSE & FALSE & FALSE & FALSE & TRUE & FALSE & FALSE & FALSE\\\\\n",
       "\t FALSE & FALSE & FALSE & FALSE & TRUE & FALSE & FALSE & FALSE\\\\\n",
       "\t FALSE & FALSE & FALSE & FALSE & TRUE & FALSE & FALSE & FALSE\\\\\n",
       "\t FALSE & FALSE & FALSE & FALSE & TRUE & FALSE & FALSE & FALSE\\\\\n",
       "\t FALSE & FALSE & FALSE & FALSE & TRUE & FALSE & FALSE & FALSE\\\\\n",
       "\t FALSE & FALSE & FALSE & FALSE & TRUE & FALSE & FALSE & FALSE\\\\\n",
       "\t FALSE & FALSE & FALSE & FALSE & TRUE & FALSE & FALSE & FALSE\\\\\n",
       "\t FALSE & FALSE & FALSE & FALSE & TRUE & FALSE & FALSE & FALSE\\\\\n",
       "\t FALSE & FALSE & FALSE & FALSE & TRUE & FALSE & FALSE & FALSE\\\\\n",
       "\t FALSE & FALSE & FALSE & FALSE & TRUE & FALSE & FALSE & FALSE\\\\\n",
       "\t FALSE & FALSE & FALSE & FALSE & TRUE & FALSE & FALSE & FALSE\\\\\n",
       "\t FALSE & FALSE & FALSE & FALSE & TRUE & FALSE & FALSE & FALSE\\\\\n",
       "\t FALSE & FALSE & FALSE & FALSE & TRUE & FALSE & FALSE & FALSE\\\\\n",
       "\t FALSE & FALSE & FALSE & FALSE & TRUE & FALSE & FALSE & FALSE\\\\\n",
       "\t FALSE & FALSE & FALSE & FALSE & TRUE & FALSE & FALSE & FALSE\\\\\n",
       "\t FALSE & FALSE & FALSE & FALSE & TRUE & FALSE & FALSE & FALSE\\\\\n",
       "\t FALSE & FALSE & FALSE & FALSE & TRUE & FALSE & FALSE & FALSE\\\\\n",
       "\t FALSE & FALSE & FALSE & FALSE & TRUE & FALSE & FALSE & FALSE\\\\\n",
       "\t FALSE & FALSE & FALSE & FALSE & TRUE & FALSE & FALSE & FALSE\\\\\n",
       "\t FALSE & FALSE & FALSE & FALSE & TRUE & FALSE & FALSE & FALSE\\\\\n",
       "\t FALSE & FALSE & FALSE & FALSE & TRUE & FALSE & FALSE & FALSE\\\\\n",
       "\t FALSE & FALSE & FALSE & FALSE & TRUE & FALSE & FALSE & FALSE\\\\\n",
       "\t FALSE & FALSE & FALSE & FALSE & TRUE & FALSE & FALSE & FALSE\\\\\n",
       "\t FALSE & FALSE & FALSE & FALSE & TRUE & FALSE & FALSE & FALSE\\\\\n",
       "\t FALSE & FALSE & FALSE & FALSE & TRUE & FALSE & FALSE & FALSE\\\\\n",
       "\\end{tabular}\n"
      ],
      "text/markdown": [
       "\n",
       "A matrix: 67 × 8 of type lgl\n",
       "\n",
       "| Id | Date | WeightKg | WeightPounds | Fat | BMI | IsManualReport | LogId |\n",
       "|---|---|---|---|---|---|---|---|\n",
       "| FALSE | FALSE | FALSE | FALSE | FALSE | FALSE | FALSE | FALSE |\n",
       "| FALSE | FALSE | FALSE | FALSE |  TRUE | FALSE | FALSE | FALSE |\n",
       "| FALSE | FALSE | FALSE | FALSE |  TRUE | FALSE | FALSE | FALSE |\n",
       "| FALSE | FALSE | FALSE | FALSE |  TRUE | FALSE | FALSE | FALSE |\n",
       "| FALSE | FALSE | FALSE | FALSE |  TRUE | FALSE | FALSE | FALSE |\n",
       "| FALSE | FALSE | FALSE | FALSE | FALSE | FALSE | FALSE | FALSE |\n",
       "| FALSE | FALSE | FALSE | FALSE |  TRUE | FALSE | FALSE | FALSE |\n",
       "| FALSE | FALSE | FALSE | FALSE |  TRUE | FALSE | FALSE | FALSE |\n",
       "| FALSE | FALSE | FALSE | FALSE |  TRUE | FALSE | FALSE | FALSE |\n",
       "| FALSE | FALSE | FALSE | FALSE |  TRUE | FALSE | FALSE | FALSE |\n",
       "| FALSE | FALSE | FALSE | FALSE |  TRUE | FALSE | FALSE | FALSE |\n",
       "| FALSE | FALSE | FALSE | FALSE |  TRUE | FALSE | FALSE | FALSE |\n",
       "| FALSE | FALSE | FALSE | FALSE |  TRUE | FALSE | FALSE | FALSE |\n",
       "| FALSE | FALSE | FALSE | FALSE |  TRUE | FALSE | FALSE | FALSE |\n",
       "| FALSE | FALSE | FALSE | FALSE |  TRUE | FALSE | FALSE | FALSE |\n",
       "| FALSE | FALSE | FALSE | FALSE |  TRUE | FALSE | FALSE | FALSE |\n",
       "| FALSE | FALSE | FALSE | FALSE |  TRUE | FALSE | FALSE | FALSE |\n",
       "| FALSE | FALSE | FALSE | FALSE |  TRUE | FALSE | FALSE | FALSE |\n",
       "| FALSE | FALSE | FALSE | FALSE |  TRUE | FALSE | FALSE | FALSE |\n",
       "| FALSE | FALSE | FALSE | FALSE |  TRUE | FALSE | FALSE | FALSE |\n",
       "| FALSE | FALSE | FALSE | FALSE |  TRUE | FALSE | FALSE | FALSE |\n",
       "| FALSE | FALSE | FALSE | FALSE |  TRUE | FALSE | FALSE | FALSE |\n",
       "| FALSE | FALSE | FALSE | FALSE |  TRUE | FALSE | FALSE | FALSE |\n",
       "| FALSE | FALSE | FALSE | FALSE |  TRUE | FALSE | FALSE | FALSE |\n",
       "| FALSE | FALSE | FALSE | FALSE |  TRUE | FALSE | FALSE | FALSE |\n",
       "| FALSE | FALSE | FALSE | FALSE |  TRUE | FALSE | FALSE | FALSE |\n",
       "| FALSE | FALSE | FALSE | FALSE |  TRUE | FALSE | FALSE | FALSE |\n",
       "| FALSE | FALSE | FALSE | FALSE |  TRUE | FALSE | FALSE | FALSE |\n",
       "| FALSE | FALSE | FALSE | FALSE |  TRUE | FALSE | FALSE | FALSE |\n",
       "| FALSE | FALSE | FALSE | FALSE |  TRUE | FALSE | FALSE | FALSE |\n",
       "| ⋮ | ⋮ | ⋮ | ⋮ | ⋮ | ⋮ | ⋮ | ⋮ |\n",
       "| FALSE | FALSE | FALSE | FALSE | TRUE | FALSE | FALSE | FALSE |\n",
       "| FALSE | FALSE | FALSE | FALSE | TRUE | FALSE | FALSE | FALSE |\n",
       "| FALSE | FALSE | FALSE | FALSE | TRUE | FALSE | FALSE | FALSE |\n",
       "| FALSE | FALSE | FALSE | FALSE | TRUE | FALSE | FALSE | FALSE |\n",
       "| FALSE | FALSE | FALSE | FALSE | TRUE | FALSE | FALSE | FALSE |\n",
       "| FALSE | FALSE | FALSE | FALSE | TRUE | FALSE | FALSE | FALSE |\n",
       "| FALSE | FALSE | FALSE | FALSE | TRUE | FALSE | FALSE | FALSE |\n",
       "| FALSE | FALSE | FALSE | FALSE | TRUE | FALSE | FALSE | FALSE |\n",
       "| FALSE | FALSE | FALSE | FALSE | TRUE | FALSE | FALSE | FALSE |\n",
       "| FALSE | FALSE | FALSE | FALSE | TRUE | FALSE | FALSE | FALSE |\n",
       "| FALSE | FALSE | FALSE | FALSE | TRUE | FALSE | FALSE | FALSE |\n",
       "| FALSE | FALSE | FALSE | FALSE | TRUE | FALSE | FALSE | FALSE |\n",
       "| FALSE | FALSE | FALSE | FALSE | TRUE | FALSE | FALSE | FALSE |\n",
       "| FALSE | FALSE | FALSE | FALSE | TRUE | FALSE | FALSE | FALSE |\n",
       "| FALSE | FALSE | FALSE | FALSE | TRUE | FALSE | FALSE | FALSE |\n",
       "| FALSE | FALSE | FALSE | FALSE | TRUE | FALSE | FALSE | FALSE |\n",
       "| FALSE | FALSE | FALSE | FALSE | TRUE | FALSE | FALSE | FALSE |\n",
       "| FALSE | FALSE | FALSE | FALSE | TRUE | FALSE | FALSE | FALSE |\n",
       "| FALSE | FALSE | FALSE | FALSE | TRUE | FALSE | FALSE | FALSE |\n",
       "| FALSE | FALSE | FALSE | FALSE | TRUE | FALSE | FALSE | FALSE |\n",
       "| FALSE | FALSE | FALSE | FALSE | TRUE | FALSE | FALSE | FALSE |\n",
       "| FALSE | FALSE | FALSE | FALSE | TRUE | FALSE | FALSE | FALSE |\n",
       "| FALSE | FALSE | FALSE | FALSE | TRUE | FALSE | FALSE | FALSE |\n",
       "| FALSE | FALSE | FALSE | FALSE | TRUE | FALSE | FALSE | FALSE |\n",
       "| FALSE | FALSE | FALSE | FALSE | TRUE | FALSE | FALSE | FALSE |\n",
       "| FALSE | FALSE | FALSE | FALSE | TRUE | FALSE | FALSE | FALSE |\n",
       "| FALSE | FALSE | FALSE | FALSE | TRUE | FALSE | FALSE | FALSE |\n",
       "| FALSE | FALSE | FALSE | FALSE | TRUE | FALSE | FALSE | FALSE |\n",
       "| FALSE | FALSE | FALSE | FALSE | TRUE | FALSE | FALSE | FALSE |\n",
       "| FALSE | FALSE | FALSE | FALSE | TRUE | FALSE | FALSE | FALSE |\n",
       "\n"
      ],
      "text/plain": [
       "      Id    Date  WeightKg WeightPounds Fat   BMI   IsManualReport LogId\n",
       " [1,] FALSE FALSE FALSE    FALSE        FALSE FALSE FALSE          FALSE\n",
       " [2,] FALSE FALSE FALSE    FALSE         TRUE FALSE FALSE          FALSE\n",
       " [3,] FALSE FALSE FALSE    FALSE         TRUE FALSE FALSE          FALSE\n",
       " [4,] FALSE FALSE FALSE    FALSE         TRUE FALSE FALSE          FALSE\n",
       " [5,] FALSE FALSE FALSE    FALSE         TRUE FALSE FALSE          FALSE\n",
       " [6,] FALSE FALSE FALSE    FALSE        FALSE FALSE FALSE          FALSE\n",
       " [7,] FALSE FALSE FALSE    FALSE         TRUE FALSE FALSE          FALSE\n",
       " [8,] FALSE FALSE FALSE    FALSE         TRUE FALSE FALSE          FALSE\n",
       " [9,] FALSE FALSE FALSE    FALSE         TRUE FALSE FALSE          FALSE\n",
       "[10,] FALSE FALSE FALSE    FALSE         TRUE FALSE FALSE          FALSE\n",
       "[11,] FALSE FALSE FALSE    FALSE         TRUE FALSE FALSE          FALSE\n",
       "[12,] FALSE FALSE FALSE    FALSE         TRUE FALSE FALSE          FALSE\n",
       "[13,] FALSE FALSE FALSE    FALSE         TRUE FALSE FALSE          FALSE\n",
       "[14,] FALSE FALSE FALSE    FALSE         TRUE FALSE FALSE          FALSE\n",
       "[15,] FALSE FALSE FALSE    FALSE         TRUE FALSE FALSE          FALSE\n",
       "[16,] FALSE FALSE FALSE    FALSE         TRUE FALSE FALSE          FALSE\n",
       "[17,] FALSE FALSE FALSE    FALSE         TRUE FALSE FALSE          FALSE\n",
       "[18,] FALSE FALSE FALSE    FALSE         TRUE FALSE FALSE          FALSE\n",
       "[19,] FALSE FALSE FALSE    FALSE         TRUE FALSE FALSE          FALSE\n",
       "[20,] FALSE FALSE FALSE    FALSE         TRUE FALSE FALSE          FALSE\n",
       "[21,] FALSE FALSE FALSE    FALSE         TRUE FALSE FALSE          FALSE\n",
       "[22,] FALSE FALSE FALSE    FALSE         TRUE FALSE FALSE          FALSE\n",
       "[23,] FALSE FALSE FALSE    FALSE         TRUE FALSE FALSE          FALSE\n",
       "[24,] FALSE FALSE FALSE    FALSE         TRUE FALSE FALSE          FALSE\n",
       "[25,] FALSE FALSE FALSE    FALSE         TRUE FALSE FALSE          FALSE\n",
       "[26,] FALSE FALSE FALSE    FALSE         TRUE FALSE FALSE          FALSE\n",
       "[27,] FALSE FALSE FALSE    FALSE         TRUE FALSE FALSE          FALSE\n",
       "[28,] FALSE FALSE FALSE    FALSE         TRUE FALSE FALSE          FALSE\n",
       "[29,] FALSE FALSE FALSE    FALSE         TRUE FALSE FALSE          FALSE\n",
       "[30,] FALSE FALSE FALSE    FALSE         TRUE FALSE FALSE          FALSE\n",
       "[31,] ⋮     ⋮     ⋮        ⋮            ⋮     ⋮     ⋮              ⋮    \n",
       "[32,] FALSE FALSE FALSE    FALSE        TRUE  FALSE FALSE          FALSE\n",
       "[33,] FALSE FALSE FALSE    FALSE        TRUE  FALSE FALSE          FALSE\n",
       "[34,] FALSE FALSE FALSE    FALSE        TRUE  FALSE FALSE          FALSE\n",
       "[35,] FALSE FALSE FALSE    FALSE        TRUE  FALSE FALSE          FALSE\n",
       "[36,] FALSE FALSE FALSE    FALSE        TRUE  FALSE FALSE          FALSE\n",
       "[37,] FALSE FALSE FALSE    FALSE        TRUE  FALSE FALSE          FALSE\n",
       "[38,] FALSE FALSE FALSE    FALSE        TRUE  FALSE FALSE          FALSE\n",
       "[39,] FALSE FALSE FALSE    FALSE        TRUE  FALSE FALSE          FALSE\n",
       "[40,] FALSE FALSE FALSE    FALSE        TRUE  FALSE FALSE          FALSE\n",
       "[41,] FALSE FALSE FALSE    FALSE        TRUE  FALSE FALSE          FALSE\n",
       "[42,] FALSE FALSE FALSE    FALSE        TRUE  FALSE FALSE          FALSE\n",
       "[43,] FALSE FALSE FALSE    FALSE        TRUE  FALSE FALSE          FALSE\n",
       "[44,] FALSE FALSE FALSE    FALSE        TRUE  FALSE FALSE          FALSE\n",
       "[45,] FALSE FALSE FALSE    FALSE        TRUE  FALSE FALSE          FALSE\n",
       "[46,] FALSE FALSE FALSE    FALSE        TRUE  FALSE FALSE          FALSE\n",
       "[47,] FALSE FALSE FALSE    FALSE        TRUE  FALSE FALSE          FALSE\n",
       "[48,] FALSE FALSE FALSE    FALSE        TRUE  FALSE FALSE          FALSE\n",
       "[49,] FALSE FALSE FALSE    FALSE        TRUE  FALSE FALSE          FALSE\n",
       "[50,] FALSE FALSE FALSE    FALSE        TRUE  FALSE FALSE          FALSE\n",
       "[51,] FALSE FALSE FALSE    FALSE        TRUE  FALSE FALSE          FALSE\n",
       "[52,] FALSE FALSE FALSE    FALSE        TRUE  FALSE FALSE          FALSE\n",
       "[53,] FALSE FALSE FALSE    FALSE        TRUE  FALSE FALSE          FALSE\n",
       "[54,] FALSE FALSE FALSE    FALSE        TRUE  FALSE FALSE          FALSE\n",
       "[55,] FALSE FALSE FALSE    FALSE        TRUE  FALSE FALSE          FALSE\n",
       "[56,] FALSE FALSE FALSE    FALSE        TRUE  FALSE FALSE          FALSE\n",
       "[57,] FALSE FALSE FALSE    FALSE        TRUE  FALSE FALSE          FALSE\n",
       "[58,] FALSE FALSE FALSE    FALSE        TRUE  FALSE FALSE          FALSE\n",
       "[59,] FALSE FALSE FALSE    FALSE        TRUE  FALSE FALSE          FALSE\n",
       "[60,] FALSE FALSE FALSE    FALSE        TRUE  FALSE FALSE          FALSE\n",
       "[61,] FALSE FALSE FALSE    FALSE        TRUE  FALSE FALSE          FALSE"
      ]
     },
     "metadata": {},
     "output_type": "display_data"
    }
   ],
   "source": [
    "is.na(daily_activity)\n",
    "is.na(hourly_calories)\n",
    "is.na(hourly_intensity)\n",
    "is.na(hourly_steps)\n",
    "is.na(sleepDay)\n",
    "is.na(weightLog)"
   ]
  },
  {
   "cell_type": "markdown",
   "id": "70169d69",
   "metadata": {
    "papermill": {
     "duration": 0.070511,
     "end_time": "2022-03-14T13:33:03.429890",
     "exception": false,
     "start_time": "2022-03-14T13:33:03.359379",
     "status": "completed"
    },
    "tags": []
   },
   "source": [
    "All the datasets have not null values except for the 'Fat' column in weightLog dataset. The 'Fat' column has few missing values."
   ]
  },
  {
   "cell_type": "markdown",
   "id": "0fbccafc",
   "metadata": {
    "papermill": {
     "duration": 0.070735,
     "end_time": "2022-03-14T13:33:03.571733",
     "exception": false,
     "start_time": "2022-03-14T13:33:03.500998",
     "status": "completed"
    },
    "tags": []
   },
   "source": [
    "**<H3>6. Transforming the data:**"
   ]
  },
  {
   "cell_type": "markdown",
   "id": "7a2024b3",
   "metadata": {
    "papermill": {
     "duration": 0.069954,
     "end_time": "2022-03-14T13:33:03.712619",
     "exception": false,
     "start_time": "2022-03-14T13:33:03.642665",
     "status": "completed"
    },
    "tags": []
   },
   "source": [
    "**<h4> 6.1 Working with DailyActivity dataset**"
   ]
  },
  {
   "cell_type": "markdown",
   "id": "1744b53e",
   "metadata": {
    "papermill": {
     "duration": 0.069838,
     "end_time": "2022-03-14T13:33:03.852760",
     "exception": false,
     "start_time": "2022-03-14T13:33:03.782922",
     "status": "completed"
    },
    "tags": []
   },
   "source": [
    "**<h5> 6.1.1 Converting the ActivityDate column to YYYY-MM-DD format:**"
   ]
  },
  {
   "cell_type": "code",
   "execution_count": 7,
   "id": "31885bf8",
   "metadata": {
    "execution": {
     "iopub.execute_input": "2022-03-14T13:33:04.011549Z",
     "iopub.status.busy": "2022-03-14T13:33:04.010031Z",
     "iopub.status.idle": "2022-03-14T13:33:04.049755Z",
     "shell.execute_reply": "2022-03-14T13:33:04.048383Z"
    },
    "papermill": {
     "duration": 0.114896,
     "end_time": "2022-03-14T13:33:04.049896",
     "exception": false,
     "start_time": "2022-03-14T13:33:03.935000",
     "status": "completed"
    },
    "tags": []
   },
   "outputs": [
    {
     "data": {
      "text/html": [
       "<table class=\"dataframe\">\n",
       "<caption>A tibble: 6 × 15</caption>\n",
       "<thead>\n",
       "\t<tr><th scope=col>Id</th><th scope=col>ActivityDate</th><th scope=col>TotalSteps</th><th scope=col>TotalDistance</th><th scope=col>TrackerDistance</th><th scope=col>LoggedActivitiesDistance</th><th scope=col>VeryActiveDistance</th><th scope=col>ModeratelyActiveDistance</th><th scope=col>LightActiveDistance</th><th scope=col>SedentaryActiveDistance</th><th scope=col>VeryActiveMinutes</th><th scope=col>FairlyActiveMinutes</th><th scope=col>LightlyActiveMinutes</th><th scope=col>SedentaryMinutes</th><th scope=col>Calories</th></tr>\n",
       "\t<tr><th scope=col>&lt;dbl&gt;</th><th scope=col>&lt;date&gt;</th><th scope=col>&lt;dbl&gt;</th><th scope=col>&lt;dbl&gt;</th><th scope=col>&lt;dbl&gt;</th><th scope=col>&lt;dbl&gt;</th><th scope=col>&lt;dbl&gt;</th><th scope=col>&lt;dbl&gt;</th><th scope=col>&lt;dbl&gt;</th><th scope=col>&lt;dbl&gt;</th><th scope=col>&lt;dbl&gt;</th><th scope=col>&lt;dbl&gt;</th><th scope=col>&lt;dbl&gt;</th><th scope=col>&lt;dbl&gt;</th><th scope=col>&lt;dbl&gt;</th></tr>\n",
       "</thead>\n",
       "<tbody>\n",
       "\t<tr><td>1503960366</td><td>2016-04-12</td><td>13162</td><td>8.50</td><td>8.50</td><td>0</td><td>1.88</td><td>0.55</td><td>6.06</td><td>0</td><td>25</td><td>13</td><td>328</td><td> 728</td><td>1985</td></tr>\n",
       "\t<tr><td>1503960366</td><td>2016-04-13</td><td>10735</td><td>6.97</td><td>6.97</td><td>0</td><td>1.57</td><td>0.69</td><td>4.71</td><td>0</td><td>21</td><td>19</td><td>217</td><td> 776</td><td>1797</td></tr>\n",
       "\t<tr><td>1503960366</td><td>2016-04-14</td><td>10460</td><td>6.74</td><td>6.74</td><td>0</td><td>2.44</td><td>0.40</td><td>3.91</td><td>0</td><td>30</td><td>11</td><td>181</td><td>1218</td><td>1776</td></tr>\n",
       "\t<tr><td>1503960366</td><td>2016-04-15</td><td> 9762</td><td>6.28</td><td>6.28</td><td>0</td><td>2.14</td><td>1.26</td><td>2.83</td><td>0</td><td>29</td><td>34</td><td>209</td><td> 726</td><td>1745</td></tr>\n",
       "\t<tr><td>1503960366</td><td>2016-04-16</td><td>12669</td><td>8.16</td><td>8.16</td><td>0</td><td>2.71</td><td>0.41</td><td>5.04</td><td>0</td><td>36</td><td>10</td><td>221</td><td> 773</td><td>1863</td></tr>\n",
       "\t<tr><td>1503960366</td><td>2016-04-17</td><td> 9705</td><td>6.48</td><td>6.48</td><td>0</td><td>3.19</td><td>0.78</td><td>2.51</td><td>0</td><td>38</td><td>20</td><td>164</td><td> 539</td><td>1728</td></tr>\n",
       "</tbody>\n",
       "</table>\n"
      ],
      "text/latex": [
       "A tibble: 6 × 15\n",
       "\\begin{tabular}{lllllllllllllll}\n",
       " Id & ActivityDate & TotalSteps & TotalDistance & TrackerDistance & LoggedActivitiesDistance & VeryActiveDistance & ModeratelyActiveDistance & LightActiveDistance & SedentaryActiveDistance & VeryActiveMinutes & FairlyActiveMinutes & LightlyActiveMinutes & SedentaryMinutes & Calories\\\\\n",
       " <dbl> & <date> & <dbl> & <dbl> & <dbl> & <dbl> & <dbl> & <dbl> & <dbl> & <dbl> & <dbl> & <dbl> & <dbl> & <dbl> & <dbl>\\\\\n",
       "\\hline\n",
       "\t 1503960366 & 2016-04-12 & 13162 & 8.50 & 8.50 & 0 & 1.88 & 0.55 & 6.06 & 0 & 25 & 13 & 328 &  728 & 1985\\\\\n",
       "\t 1503960366 & 2016-04-13 & 10735 & 6.97 & 6.97 & 0 & 1.57 & 0.69 & 4.71 & 0 & 21 & 19 & 217 &  776 & 1797\\\\\n",
       "\t 1503960366 & 2016-04-14 & 10460 & 6.74 & 6.74 & 0 & 2.44 & 0.40 & 3.91 & 0 & 30 & 11 & 181 & 1218 & 1776\\\\\n",
       "\t 1503960366 & 2016-04-15 &  9762 & 6.28 & 6.28 & 0 & 2.14 & 1.26 & 2.83 & 0 & 29 & 34 & 209 &  726 & 1745\\\\\n",
       "\t 1503960366 & 2016-04-16 & 12669 & 8.16 & 8.16 & 0 & 2.71 & 0.41 & 5.04 & 0 & 36 & 10 & 221 &  773 & 1863\\\\\n",
       "\t 1503960366 & 2016-04-17 &  9705 & 6.48 & 6.48 & 0 & 3.19 & 0.78 & 2.51 & 0 & 38 & 20 & 164 &  539 & 1728\\\\\n",
       "\\end{tabular}\n"
      ],
      "text/markdown": [
       "\n",
       "A tibble: 6 × 15\n",
       "\n",
       "| Id &lt;dbl&gt; | ActivityDate &lt;date&gt; | TotalSteps &lt;dbl&gt; | TotalDistance &lt;dbl&gt; | TrackerDistance &lt;dbl&gt; | LoggedActivitiesDistance &lt;dbl&gt; | VeryActiveDistance &lt;dbl&gt; | ModeratelyActiveDistance &lt;dbl&gt; | LightActiveDistance &lt;dbl&gt; | SedentaryActiveDistance &lt;dbl&gt; | VeryActiveMinutes &lt;dbl&gt; | FairlyActiveMinutes &lt;dbl&gt; | LightlyActiveMinutes &lt;dbl&gt; | SedentaryMinutes &lt;dbl&gt; | Calories &lt;dbl&gt; |\n",
       "|---|---|---|---|---|---|---|---|---|---|---|---|---|---|---|\n",
       "| 1503960366 | 2016-04-12 | 13162 | 8.50 | 8.50 | 0 | 1.88 | 0.55 | 6.06 | 0 | 25 | 13 | 328 |  728 | 1985 |\n",
       "| 1503960366 | 2016-04-13 | 10735 | 6.97 | 6.97 | 0 | 1.57 | 0.69 | 4.71 | 0 | 21 | 19 | 217 |  776 | 1797 |\n",
       "| 1503960366 | 2016-04-14 | 10460 | 6.74 | 6.74 | 0 | 2.44 | 0.40 | 3.91 | 0 | 30 | 11 | 181 | 1218 | 1776 |\n",
       "| 1503960366 | 2016-04-15 |  9762 | 6.28 | 6.28 | 0 | 2.14 | 1.26 | 2.83 | 0 | 29 | 34 | 209 |  726 | 1745 |\n",
       "| 1503960366 | 2016-04-16 | 12669 | 8.16 | 8.16 | 0 | 2.71 | 0.41 | 5.04 | 0 | 36 | 10 | 221 |  773 | 1863 |\n",
       "| 1503960366 | 2016-04-17 |  9705 | 6.48 | 6.48 | 0 | 3.19 | 0.78 | 2.51 | 0 | 38 | 20 | 164 |  539 | 1728 |\n",
       "\n"
      ],
      "text/plain": [
       "  Id         ActivityDate TotalSteps TotalDistance TrackerDistance\n",
       "1 1503960366 2016-04-12   13162      8.50          8.50           \n",
       "2 1503960366 2016-04-13   10735      6.97          6.97           \n",
       "3 1503960366 2016-04-14   10460      6.74          6.74           \n",
       "4 1503960366 2016-04-15    9762      6.28          6.28           \n",
       "5 1503960366 2016-04-16   12669      8.16          8.16           \n",
       "6 1503960366 2016-04-17    9705      6.48          6.48           \n",
       "  LoggedActivitiesDistance VeryActiveDistance ModeratelyActiveDistance\n",
       "1 0                        1.88               0.55                    \n",
       "2 0                        1.57               0.69                    \n",
       "3 0                        2.44               0.40                    \n",
       "4 0                        2.14               1.26                    \n",
       "5 0                        2.71               0.41                    \n",
       "6 0                        3.19               0.78                    \n",
       "  LightActiveDistance SedentaryActiveDistance VeryActiveMinutes\n",
       "1 6.06                0                       25               \n",
       "2 4.71                0                       21               \n",
       "3 3.91                0                       30               \n",
       "4 2.83                0                       29               \n",
       "5 5.04                0                       36               \n",
       "6 2.51                0                       38               \n",
       "  FairlyActiveMinutes LightlyActiveMinutes SedentaryMinutes Calories\n",
       "1 13                  328                   728             1985    \n",
       "2 19                  217                   776             1797    \n",
       "3 11                  181                  1218             1776    \n",
       "4 34                  209                   726             1745    \n",
       "5 10                  221                   773             1863    \n",
       "6 20                  164                   539             1728    "
      ]
     },
     "metadata": {},
     "output_type": "display_data"
    }
   ],
   "source": [
    "daily_activity $ ActivityDate <- mdy(daily_activity $ ActivityDate)\n",
    "head(daily_activity)"
   ]
  },
  {
   "cell_type": "markdown",
   "id": "846bbb22",
   "metadata": {
    "papermill": {
     "duration": 0.077108,
     "end_time": "2022-03-14T13:33:04.205938",
     "exception": false,
     "start_time": "2022-03-14T13:33:04.128830",
     "status": "completed"
    },
    "tags": []
   },
   "source": [
    "**Knowing the date range in DailyActivity dataset:**"
   ]
  },
  {
   "cell_type": "code",
   "execution_count": 8,
   "id": "55887840",
   "metadata": {
    "execution": {
     "iopub.execute_input": "2022-03-14T13:33:04.361051Z",
     "iopub.status.busy": "2022-03-14T13:33:04.358768Z",
     "iopub.status.idle": "2022-03-14T13:33:04.387993Z",
     "shell.execute_reply": "2022-03-14T13:33:04.386368Z"
    },
    "papermill": {
     "duration": 0.111388,
     "end_time": "2022-03-14T13:33:04.388140",
     "exception": false,
     "start_time": "2022-03-14T13:33:04.276752",
     "status": "completed"
    },
    "tags": []
   },
   "outputs": [
    {
     "data": {
      "text/html": [
       "<time datetime=\"2016-04-12\">2016-04-12</time>"
      ],
      "text/latex": [
       "2016-04-12"
      ],
      "text/markdown": [
       "2016-04-12"
      ],
      "text/plain": [
       "[1] \"2016-04-12\""
      ]
     },
     "metadata": {},
     "output_type": "display_data"
    },
    {
     "data": {
      "text/html": [
       "<time datetime=\"2016-05-12\">2016-05-12</time>"
      ],
      "text/latex": [
       "2016-05-12"
      ],
      "text/markdown": [
       "2016-05-12"
      ],
      "text/plain": [
       "[1] \"2016-05-12\""
      ]
     },
     "metadata": {},
     "output_type": "display_data"
    }
   ],
   "source": [
    "min(daily_activity $ ActivityDate)\n",
    "max(daily_activity $ ActivityDate)"
   ]
  },
  {
   "cell_type": "markdown",
   "id": "2f230e70",
   "metadata": {
    "papermill": {
     "duration": 0.072083,
     "end_time": "2022-03-14T13:33:04.534396",
     "exception": false,
     "start_time": "2022-03-14T13:33:04.462313",
     "status": "completed"
    },
    "tags": []
   },
   "source": [
    "The DailyActivity dataset covers the period from 12th April,2016-12th May,2016."
   ]
  },
  {
   "cell_type": "markdown",
   "id": "b79edec7",
   "metadata": {
    "papermill": {
     "duration": 0.071626,
     "end_time": "2022-03-14T13:33:04.677487",
     "exception": false,
     "start_time": "2022-03-14T13:33:04.605861",
     "status": "completed"
    },
    "tags": []
   },
   "source": [
    "**<h5> 6.1.2 Finding the day corresponding to each date:**"
   ]
  },
  {
   "cell_type": "code",
   "execution_count": 9,
   "id": "3d7608c5",
   "metadata": {
    "execution": {
     "iopub.execute_input": "2022-03-14T13:33:04.826172Z",
     "iopub.status.busy": "2022-03-14T13:33:04.824671Z",
     "iopub.status.idle": "2022-03-14T13:33:04.857503Z",
     "shell.execute_reply": "2022-03-14T13:33:04.855276Z"
    },
    "papermill": {
     "duration": 0.108908,
     "end_time": "2022-03-14T13:33:04.857724",
     "exception": false,
     "start_time": "2022-03-14T13:33:04.748816",
     "status": "completed"
    },
    "tags": []
   },
   "outputs": [
    {
     "data": {
      "text/html": [
       "<table class=\"dataframe\">\n",
       "<caption>A tibble: 6 × 16</caption>\n",
       "<thead>\n",
       "\t<tr><th scope=col>Id</th><th scope=col>ActivityDate</th><th scope=col>TotalSteps</th><th scope=col>TotalDistance</th><th scope=col>TrackerDistance</th><th scope=col>LoggedActivitiesDistance</th><th scope=col>VeryActiveDistance</th><th scope=col>ModeratelyActiveDistance</th><th scope=col>LightActiveDistance</th><th scope=col>SedentaryActiveDistance</th><th scope=col>VeryActiveMinutes</th><th scope=col>FairlyActiveMinutes</th><th scope=col>LightlyActiveMinutes</th><th scope=col>SedentaryMinutes</th><th scope=col>Calories</th><th scope=col>Day_of_week</th></tr>\n",
       "\t<tr><th scope=col>&lt;dbl&gt;</th><th scope=col>&lt;date&gt;</th><th scope=col>&lt;dbl&gt;</th><th scope=col>&lt;dbl&gt;</th><th scope=col>&lt;dbl&gt;</th><th scope=col>&lt;dbl&gt;</th><th scope=col>&lt;dbl&gt;</th><th scope=col>&lt;dbl&gt;</th><th scope=col>&lt;dbl&gt;</th><th scope=col>&lt;dbl&gt;</th><th scope=col>&lt;dbl&gt;</th><th scope=col>&lt;dbl&gt;</th><th scope=col>&lt;dbl&gt;</th><th scope=col>&lt;dbl&gt;</th><th scope=col>&lt;dbl&gt;</th><th scope=col>&lt;ord&gt;</th></tr>\n",
       "</thead>\n",
       "<tbody>\n",
       "\t<tr><td>1503960366</td><td>2016-04-12</td><td>13162</td><td>8.50</td><td>8.50</td><td>0</td><td>1.88</td><td>0.55</td><td>6.06</td><td>0</td><td>25</td><td>13</td><td>328</td><td> 728</td><td>1985</td><td>Tue</td></tr>\n",
       "\t<tr><td>1503960366</td><td>2016-04-13</td><td>10735</td><td>6.97</td><td>6.97</td><td>0</td><td>1.57</td><td>0.69</td><td>4.71</td><td>0</td><td>21</td><td>19</td><td>217</td><td> 776</td><td>1797</td><td>Wed</td></tr>\n",
       "\t<tr><td>1503960366</td><td>2016-04-14</td><td>10460</td><td>6.74</td><td>6.74</td><td>0</td><td>2.44</td><td>0.40</td><td>3.91</td><td>0</td><td>30</td><td>11</td><td>181</td><td>1218</td><td>1776</td><td>Thu</td></tr>\n",
       "\t<tr><td>1503960366</td><td>2016-04-15</td><td> 9762</td><td>6.28</td><td>6.28</td><td>0</td><td>2.14</td><td>1.26</td><td>2.83</td><td>0</td><td>29</td><td>34</td><td>209</td><td> 726</td><td>1745</td><td>Fri</td></tr>\n",
       "\t<tr><td>1503960366</td><td>2016-04-16</td><td>12669</td><td>8.16</td><td>8.16</td><td>0</td><td>2.71</td><td>0.41</td><td>5.04</td><td>0</td><td>36</td><td>10</td><td>221</td><td> 773</td><td>1863</td><td>Sat</td></tr>\n",
       "\t<tr><td>1503960366</td><td>2016-04-17</td><td> 9705</td><td>6.48</td><td>6.48</td><td>0</td><td>3.19</td><td>0.78</td><td>2.51</td><td>0</td><td>38</td><td>20</td><td>164</td><td> 539</td><td>1728</td><td>Sun</td></tr>\n",
       "</tbody>\n",
       "</table>\n"
      ],
      "text/latex": [
       "A tibble: 6 × 16\n",
       "\\begin{tabular}{llllllllllllllll}\n",
       " Id & ActivityDate & TotalSteps & TotalDistance & TrackerDistance & LoggedActivitiesDistance & VeryActiveDistance & ModeratelyActiveDistance & LightActiveDistance & SedentaryActiveDistance & VeryActiveMinutes & FairlyActiveMinutes & LightlyActiveMinutes & SedentaryMinutes & Calories & Day\\_of\\_week\\\\\n",
       " <dbl> & <date> & <dbl> & <dbl> & <dbl> & <dbl> & <dbl> & <dbl> & <dbl> & <dbl> & <dbl> & <dbl> & <dbl> & <dbl> & <dbl> & <ord>\\\\\n",
       "\\hline\n",
       "\t 1503960366 & 2016-04-12 & 13162 & 8.50 & 8.50 & 0 & 1.88 & 0.55 & 6.06 & 0 & 25 & 13 & 328 &  728 & 1985 & Tue\\\\\n",
       "\t 1503960366 & 2016-04-13 & 10735 & 6.97 & 6.97 & 0 & 1.57 & 0.69 & 4.71 & 0 & 21 & 19 & 217 &  776 & 1797 & Wed\\\\\n",
       "\t 1503960366 & 2016-04-14 & 10460 & 6.74 & 6.74 & 0 & 2.44 & 0.40 & 3.91 & 0 & 30 & 11 & 181 & 1218 & 1776 & Thu\\\\\n",
       "\t 1503960366 & 2016-04-15 &  9762 & 6.28 & 6.28 & 0 & 2.14 & 1.26 & 2.83 & 0 & 29 & 34 & 209 &  726 & 1745 & Fri\\\\\n",
       "\t 1503960366 & 2016-04-16 & 12669 & 8.16 & 8.16 & 0 & 2.71 & 0.41 & 5.04 & 0 & 36 & 10 & 221 &  773 & 1863 & Sat\\\\\n",
       "\t 1503960366 & 2016-04-17 &  9705 & 6.48 & 6.48 & 0 & 3.19 & 0.78 & 2.51 & 0 & 38 & 20 & 164 &  539 & 1728 & Sun\\\\\n",
       "\\end{tabular}\n"
      ],
      "text/markdown": [
       "\n",
       "A tibble: 6 × 16\n",
       "\n",
       "| Id &lt;dbl&gt; | ActivityDate &lt;date&gt; | TotalSteps &lt;dbl&gt; | TotalDistance &lt;dbl&gt; | TrackerDistance &lt;dbl&gt; | LoggedActivitiesDistance &lt;dbl&gt; | VeryActiveDistance &lt;dbl&gt; | ModeratelyActiveDistance &lt;dbl&gt; | LightActiveDistance &lt;dbl&gt; | SedentaryActiveDistance &lt;dbl&gt; | VeryActiveMinutes &lt;dbl&gt; | FairlyActiveMinutes &lt;dbl&gt; | LightlyActiveMinutes &lt;dbl&gt; | SedentaryMinutes &lt;dbl&gt; | Calories &lt;dbl&gt; | Day_of_week &lt;ord&gt; |\n",
       "|---|---|---|---|---|---|---|---|---|---|---|---|---|---|---|---|\n",
       "| 1503960366 | 2016-04-12 | 13162 | 8.50 | 8.50 | 0 | 1.88 | 0.55 | 6.06 | 0 | 25 | 13 | 328 |  728 | 1985 | Tue |\n",
       "| 1503960366 | 2016-04-13 | 10735 | 6.97 | 6.97 | 0 | 1.57 | 0.69 | 4.71 | 0 | 21 | 19 | 217 |  776 | 1797 | Wed |\n",
       "| 1503960366 | 2016-04-14 | 10460 | 6.74 | 6.74 | 0 | 2.44 | 0.40 | 3.91 | 0 | 30 | 11 | 181 | 1218 | 1776 | Thu |\n",
       "| 1503960366 | 2016-04-15 |  9762 | 6.28 | 6.28 | 0 | 2.14 | 1.26 | 2.83 | 0 | 29 | 34 | 209 |  726 | 1745 | Fri |\n",
       "| 1503960366 | 2016-04-16 | 12669 | 8.16 | 8.16 | 0 | 2.71 | 0.41 | 5.04 | 0 | 36 | 10 | 221 |  773 | 1863 | Sat |\n",
       "| 1503960366 | 2016-04-17 |  9705 | 6.48 | 6.48 | 0 | 3.19 | 0.78 | 2.51 | 0 | 38 | 20 | 164 |  539 | 1728 | Sun |\n",
       "\n"
      ],
      "text/plain": [
       "  Id         ActivityDate TotalSteps TotalDistance TrackerDistance\n",
       "1 1503960366 2016-04-12   13162      8.50          8.50           \n",
       "2 1503960366 2016-04-13   10735      6.97          6.97           \n",
       "3 1503960366 2016-04-14   10460      6.74          6.74           \n",
       "4 1503960366 2016-04-15    9762      6.28          6.28           \n",
       "5 1503960366 2016-04-16   12669      8.16          8.16           \n",
       "6 1503960366 2016-04-17    9705      6.48          6.48           \n",
       "  LoggedActivitiesDistance VeryActiveDistance ModeratelyActiveDistance\n",
       "1 0                        1.88               0.55                    \n",
       "2 0                        1.57               0.69                    \n",
       "3 0                        2.44               0.40                    \n",
       "4 0                        2.14               1.26                    \n",
       "5 0                        2.71               0.41                    \n",
       "6 0                        3.19               0.78                    \n",
       "  LightActiveDistance SedentaryActiveDistance VeryActiveMinutes\n",
       "1 6.06                0                       25               \n",
       "2 4.71                0                       21               \n",
       "3 3.91                0                       30               \n",
       "4 2.83                0                       29               \n",
       "5 5.04                0                       36               \n",
       "6 2.51                0                       38               \n",
       "  FairlyActiveMinutes LightlyActiveMinutes SedentaryMinutes Calories\n",
       "1 13                  328                   728             1985    \n",
       "2 19                  217                   776             1797    \n",
       "3 11                  181                  1218             1776    \n",
       "4 34                  209                   726             1745    \n",
       "5 10                  221                   773             1863    \n",
       "6 20                  164                   539             1728    \n",
       "  Day_of_week\n",
       "1 Tue        \n",
       "2 Wed        \n",
       "3 Thu        \n",
       "4 Fri        \n",
       "5 Sat        \n",
       "6 Sun        "
      ]
     },
     "metadata": {},
     "output_type": "display_data"
    }
   ],
   "source": [
    "daily_activity$Day_of_week <- wday(daily_activity$ActivityDate,label= TRUE)\n",
    "head(daily_activity)\n"
   ]
  },
  {
   "cell_type": "markdown",
   "id": "510d37c7",
   "metadata": {
    "papermill": {
     "duration": 0.075888,
     "end_time": "2022-03-14T13:33:05.006685",
     "exception": false,
     "start_time": "2022-03-14T13:33:04.930797",
     "status": "completed"
    },
    "tags": []
   },
   "source": [
    "**<h5> 6.1.3 Converting the very active,lightly active,fairly active,sedentary active minutes to hourly format by adding another columns:**"
   ]
  },
  {
   "cell_type": "code",
   "execution_count": 10,
   "id": "e22f5157",
   "metadata": {
    "execution": {
     "iopub.execute_input": "2022-03-14T13:33:05.158316Z",
     "iopub.status.busy": "2022-03-14T13:33:05.156939Z",
     "iopub.status.idle": "2022-03-14T13:33:05.214247Z",
     "shell.execute_reply": "2022-03-14T13:33:05.212826Z"
    },
    "papermill": {
     "duration": 0.134668,
     "end_time": "2022-03-14T13:33:05.214424",
     "exception": false,
     "start_time": "2022-03-14T13:33:05.079756",
     "status": "completed"
    },
    "tags": []
   },
   "outputs": [
    {
     "data": {
      "text/html": [
       "<table class=\"dataframe\">\n",
       "<caption>A tibble: 6 × 20</caption>\n",
       "<thead>\n",
       "\t<tr><th scope=col>Id</th><th scope=col>ActivityDate</th><th scope=col>TotalSteps</th><th scope=col>TotalDistance</th><th scope=col>TrackerDistance</th><th scope=col>LoggedActivitiesDistance</th><th scope=col>VeryActiveDistance</th><th scope=col>ModeratelyActiveDistance</th><th scope=col>LightActiveDistance</th><th scope=col>SedentaryActiveDistance</th><th scope=col>VeryActiveMinutes</th><th scope=col>FairlyActiveMinutes</th><th scope=col>LightlyActiveMinutes</th><th scope=col>SedentaryMinutes</th><th scope=col>Calories</th><th scope=col>Day_of_week</th><th scope=col>VeryActiveHour</th><th scope=col>FairlyActiveHour</th><th scope=col>LightlyActiveHour</th><th scope=col>SedentaryHour</th></tr>\n",
       "\t<tr><th scope=col>&lt;dbl&gt;</th><th scope=col>&lt;date&gt;</th><th scope=col>&lt;dbl&gt;</th><th scope=col>&lt;dbl&gt;</th><th scope=col>&lt;dbl&gt;</th><th scope=col>&lt;dbl&gt;</th><th scope=col>&lt;dbl&gt;</th><th scope=col>&lt;dbl&gt;</th><th scope=col>&lt;dbl&gt;</th><th scope=col>&lt;dbl&gt;</th><th scope=col>&lt;dbl&gt;</th><th scope=col>&lt;dbl&gt;</th><th scope=col>&lt;dbl&gt;</th><th scope=col>&lt;dbl&gt;</th><th scope=col>&lt;dbl&gt;</th><th scope=col>&lt;ord&gt;</th><th scope=col>&lt;dbl&gt;</th><th scope=col>&lt;dbl&gt;</th><th scope=col>&lt;dbl&gt;</th><th scope=col>&lt;dbl&gt;</th></tr>\n",
       "</thead>\n",
       "<tbody>\n",
       "\t<tr><td>1503960366</td><td>2016-04-12</td><td>13162</td><td>8.50</td><td>8.50</td><td>0</td><td>1.88</td><td>0.55</td><td>6.06</td><td>0</td><td>25</td><td>13</td><td>328</td><td> 728</td><td>1985</td><td>Tue</td><td>0.4166667</td><td>0.2166667</td><td>5.466667</td><td>12.133333</td></tr>\n",
       "\t<tr><td>1503960366</td><td>2016-04-13</td><td>10735</td><td>6.97</td><td>6.97</td><td>0</td><td>1.57</td><td>0.69</td><td>4.71</td><td>0</td><td>21</td><td>19</td><td>217</td><td> 776</td><td>1797</td><td>Wed</td><td>0.3500000</td><td>0.3166667</td><td>3.616667</td><td>12.933333</td></tr>\n",
       "\t<tr><td>1503960366</td><td>2016-04-14</td><td>10460</td><td>6.74</td><td>6.74</td><td>0</td><td>2.44</td><td>0.40</td><td>3.91</td><td>0</td><td>30</td><td>11</td><td>181</td><td>1218</td><td>1776</td><td>Thu</td><td>0.5000000</td><td>0.1833333</td><td>3.016667</td><td>20.300000</td></tr>\n",
       "\t<tr><td>1503960366</td><td>2016-04-15</td><td> 9762</td><td>6.28</td><td>6.28</td><td>0</td><td>2.14</td><td>1.26</td><td>2.83</td><td>0</td><td>29</td><td>34</td><td>209</td><td> 726</td><td>1745</td><td>Fri</td><td>0.4833333</td><td>0.5666667</td><td>3.483333</td><td>12.100000</td></tr>\n",
       "\t<tr><td>1503960366</td><td>2016-04-16</td><td>12669</td><td>8.16</td><td>8.16</td><td>0</td><td>2.71</td><td>0.41</td><td>5.04</td><td>0</td><td>36</td><td>10</td><td>221</td><td> 773</td><td>1863</td><td>Sat</td><td>0.6000000</td><td>0.1666667</td><td>3.683333</td><td>12.883333</td></tr>\n",
       "\t<tr><td>1503960366</td><td>2016-04-17</td><td> 9705</td><td>6.48</td><td>6.48</td><td>0</td><td>3.19</td><td>0.78</td><td>2.51</td><td>0</td><td>38</td><td>20</td><td>164</td><td> 539</td><td>1728</td><td>Sun</td><td>0.6333333</td><td>0.3333333</td><td>2.733333</td><td> 8.983333</td></tr>\n",
       "</tbody>\n",
       "</table>\n"
      ],
      "text/latex": [
       "A tibble: 6 × 20\n",
       "\\begin{tabular}{llllllllllllllllllll}\n",
       " Id & ActivityDate & TotalSteps & TotalDistance & TrackerDistance & LoggedActivitiesDistance & VeryActiveDistance & ModeratelyActiveDistance & LightActiveDistance & SedentaryActiveDistance & VeryActiveMinutes & FairlyActiveMinutes & LightlyActiveMinutes & SedentaryMinutes & Calories & Day\\_of\\_week & VeryActiveHour & FairlyActiveHour & LightlyActiveHour & SedentaryHour\\\\\n",
       " <dbl> & <date> & <dbl> & <dbl> & <dbl> & <dbl> & <dbl> & <dbl> & <dbl> & <dbl> & <dbl> & <dbl> & <dbl> & <dbl> & <dbl> & <ord> & <dbl> & <dbl> & <dbl> & <dbl>\\\\\n",
       "\\hline\n",
       "\t 1503960366 & 2016-04-12 & 13162 & 8.50 & 8.50 & 0 & 1.88 & 0.55 & 6.06 & 0 & 25 & 13 & 328 &  728 & 1985 & Tue & 0.4166667 & 0.2166667 & 5.466667 & 12.133333\\\\\n",
       "\t 1503960366 & 2016-04-13 & 10735 & 6.97 & 6.97 & 0 & 1.57 & 0.69 & 4.71 & 0 & 21 & 19 & 217 &  776 & 1797 & Wed & 0.3500000 & 0.3166667 & 3.616667 & 12.933333\\\\\n",
       "\t 1503960366 & 2016-04-14 & 10460 & 6.74 & 6.74 & 0 & 2.44 & 0.40 & 3.91 & 0 & 30 & 11 & 181 & 1218 & 1776 & Thu & 0.5000000 & 0.1833333 & 3.016667 & 20.300000\\\\\n",
       "\t 1503960366 & 2016-04-15 &  9762 & 6.28 & 6.28 & 0 & 2.14 & 1.26 & 2.83 & 0 & 29 & 34 & 209 &  726 & 1745 & Fri & 0.4833333 & 0.5666667 & 3.483333 & 12.100000\\\\\n",
       "\t 1503960366 & 2016-04-16 & 12669 & 8.16 & 8.16 & 0 & 2.71 & 0.41 & 5.04 & 0 & 36 & 10 & 221 &  773 & 1863 & Sat & 0.6000000 & 0.1666667 & 3.683333 & 12.883333\\\\\n",
       "\t 1503960366 & 2016-04-17 &  9705 & 6.48 & 6.48 & 0 & 3.19 & 0.78 & 2.51 & 0 & 38 & 20 & 164 &  539 & 1728 & Sun & 0.6333333 & 0.3333333 & 2.733333 &  8.983333\\\\\n",
       "\\end{tabular}\n"
      ],
      "text/markdown": [
       "\n",
       "A tibble: 6 × 20\n",
       "\n",
       "| Id &lt;dbl&gt; | ActivityDate &lt;date&gt; | TotalSteps &lt;dbl&gt; | TotalDistance &lt;dbl&gt; | TrackerDistance &lt;dbl&gt; | LoggedActivitiesDistance &lt;dbl&gt; | VeryActiveDistance &lt;dbl&gt; | ModeratelyActiveDistance &lt;dbl&gt; | LightActiveDistance &lt;dbl&gt; | SedentaryActiveDistance &lt;dbl&gt; | VeryActiveMinutes &lt;dbl&gt; | FairlyActiveMinutes &lt;dbl&gt; | LightlyActiveMinutes &lt;dbl&gt; | SedentaryMinutes &lt;dbl&gt; | Calories &lt;dbl&gt; | Day_of_week &lt;ord&gt; | VeryActiveHour &lt;dbl&gt; | FairlyActiveHour &lt;dbl&gt; | LightlyActiveHour &lt;dbl&gt; | SedentaryHour &lt;dbl&gt; |\n",
       "|---|---|---|---|---|---|---|---|---|---|---|---|---|---|---|---|---|---|---|---|\n",
       "| 1503960366 | 2016-04-12 | 13162 | 8.50 | 8.50 | 0 | 1.88 | 0.55 | 6.06 | 0 | 25 | 13 | 328 |  728 | 1985 | Tue | 0.4166667 | 0.2166667 | 5.466667 | 12.133333 |\n",
       "| 1503960366 | 2016-04-13 | 10735 | 6.97 | 6.97 | 0 | 1.57 | 0.69 | 4.71 | 0 | 21 | 19 | 217 |  776 | 1797 | Wed | 0.3500000 | 0.3166667 | 3.616667 | 12.933333 |\n",
       "| 1503960366 | 2016-04-14 | 10460 | 6.74 | 6.74 | 0 | 2.44 | 0.40 | 3.91 | 0 | 30 | 11 | 181 | 1218 | 1776 | Thu | 0.5000000 | 0.1833333 | 3.016667 | 20.300000 |\n",
       "| 1503960366 | 2016-04-15 |  9762 | 6.28 | 6.28 | 0 | 2.14 | 1.26 | 2.83 | 0 | 29 | 34 | 209 |  726 | 1745 | Fri | 0.4833333 | 0.5666667 | 3.483333 | 12.100000 |\n",
       "| 1503960366 | 2016-04-16 | 12669 | 8.16 | 8.16 | 0 | 2.71 | 0.41 | 5.04 | 0 | 36 | 10 | 221 |  773 | 1863 | Sat | 0.6000000 | 0.1666667 | 3.683333 | 12.883333 |\n",
       "| 1503960366 | 2016-04-17 |  9705 | 6.48 | 6.48 | 0 | 3.19 | 0.78 | 2.51 | 0 | 38 | 20 | 164 |  539 | 1728 | Sun | 0.6333333 | 0.3333333 | 2.733333 |  8.983333 |\n",
       "\n"
      ],
      "text/plain": [
       "  Id         ActivityDate TotalSteps TotalDistance TrackerDistance\n",
       "1 1503960366 2016-04-12   13162      8.50          8.50           \n",
       "2 1503960366 2016-04-13   10735      6.97          6.97           \n",
       "3 1503960366 2016-04-14   10460      6.74          6.74           \n",
       "4 1503960366 2016-04-15    9762      6.28          6.28           \n",
       "5 1503960366 2016-04-16   12669      8.16          8.16           \n",
       "6 1503960366 2016-04-17    9705      6.48          6.48           \n",
       "  LoggedActivitiesDistance VeryActiveDistance ModeratelyActiveDistance\n",
       "1 0                        1.88               0.55                    \n",
       "2 0                        1.57               0.69                    \n",
       "3 0                        2.44               0.40                    \n",
       "4 0                        2.14               1.26                    \n",
       "5 0                        2.71               0.41                    \n",
       "6 0                        3.19               0.78                    \n",
       "  LightActiveDistance SedentaryActiveDistance VeryActiveMinutes\n",
       "1 6.06                0                       25               \n",
       "2 4.71                0                       21               \n",
       "3 3.91                0                       30               \n",
       "4 2.83                0                       29               \n",
       "5 5.04                0                       36               \n",
       "6 2.51                0                       38               \n",
       "  FairlyActiveMinutes LightlyActiveMinutes SedentaryMinutes Calories\n",
       "1 13                  328                   728             1985    \n",
       "2 19                  217                   776             1797    \n",
       "3 11                  181                  1218             1776    \n",
       "4 34                  209                   726             1745    \n",
       "5 10                  221                   773             1863    \n",
       "6 20                  164                   539             1728    \n",
       "  Day_of_week VeryActiveHour FairlyActiveHour LightlyActiveHour SedentaryHour\n",
       "1 Tue         0.4166667      0.2166667        5.466667          12.133333    \n",
       "2 Wed         0.3500000      0.3166667        3.616667          12.933333    \n",
       "3 Thu         0.5000000      0.1833333        3.016667          20.300000    \n",
       "4 Fri         0.4833333      0.5666667        3.483333          12.100000    \n",
       "5 Sat         0.6000000      0.1666667        3.683333          12.883333    \n",
       "6 Sun         0.6333333      0.3333333        2.733333           8.983333    "
      ]
     },
     "metadata": {},
     "output_type": "display_data"
    }
   ],
   "source": [
    "daily_activity <-\n",
    "mutate(daily_activity , VeryActiveHour=daily_activity $ VeryActiveMinutes / 60) %>%\n",
    "mutate(daily_activity , FairlyActiveHour = daily_activity $ FairlyActiveMinutes / 60) %>%\n",
    "mutate(daily_activity , LightlyActiveHour = daily_activity $ LightlyActiveMinutes / 60) %>%\n",
    "mutate(daily_activity , SedentaryHour = daily_activity $ SedentaryMinutes / 60)\n",
    "\n",
    "head(daily_activity)\n",
    "\n"
   ]
  },
  {
   "cell_type": "markdown",
   "id": "d60cbb25",
   "metadata": {
    "papermill": {
     "duration": 0.073524,
     "end_time": "2022-03-14T13:33:05.362290",
     "exception": false,
     "start_time": "2022-03-14T13:33:05.288766",
     "status": "completed"
    },
    "tags": []
   },
   "source": [
    "**<h5> 6.1.5 Converting the hourly formatted columns to rows by using the pivot function:**"
   ]
  },
  {
   "cell_type": "code",
   "execution_count": 11,
   "id": "289565a9",
   "metadata": {
    "execution": {
     "iopub.execute_input": "2022-03-14T13:33:05.518626Z",
     "iopub.status.busy": "2022-03-14T13:33:05.517108Z",
     "iopub.status.idle": "2022-03-14T13:33:05.566311Z",
     "shell.execute_reply": "2022-03-14T13:33:05.564729Z"
    },
    "papermill": {
     "duration": 0.127321,
     "end_time": "2022-03-14T13:33:05.566483",
     "exception": false,
     "start_time": "2022-03-14T13:33:05.439162",
     "status": "completed"
    },
    "tags": []
   },
   "outputs": [
    {
     "data": {
      "text/html": [
       "<table class=\"dataframe\">\n",
       "<caption>A tibble: 6 × 18</caption>\n",
       "<thead>\n",
       "\t<tr><th scope=col>Id</th><th scope=col>ActivityDate</th><th scope=col>TotalSteps</th><th scope=col>TotalDistance</th><th scope=col>TrackerDistance</th><th scope=col>LoggedActivitiesDistance</th><th scope=col>VeryActiveDistance</th><th scope=col>ModeratelyActiveDistance</th><th scope=col>LightActiveDistance</th><th scope=col>SedentaryActiveDistance</th><th scope=col>VeryActiveMinutes</th><th scope=col>FairlyActiveMinutes</th><th scope=col>LightlyActiveMinutes</th><th scope=col>SedentaryMinutes</th><th scope=col>Calories</th><th scope=col>Day_of_week</th><th scope=col>ActivityType</th><th scope=col>Activity_hour</th></tr>\n",
       "\t<tr><th scope=col>&lt;dbl&gt;</th><th scope=col>&lt;date&gt;</th><th scope=col>&lt;dbl&gt;</th><th scope=col>&lt;dbl&gt;</th><th scope=col>&lt;dbl&gt;</th><th scope=col>&lt;dbl&gt;</th><th scope=col>&lt;dbl&gt;</th><th scope=col>&lt;dbl&gt;</th><th scope=col>&lt;dbl&gt;</th><th scope=col>&lt;dbl&gt;</th><th scope=col>&lt;dbl&gt;</th><th scope=col>&lt;dbl&gt;</th><th scope=col>&lt;dbl&gt;</th><th scope=col>&lt;dbl&gt;</th><th scope=col>&lt;dbl&gt;</th><th scope=col>&lt;ord&gt;</th><th scope=col>&lt;chr&gt;</th><th scope=col>&lt;dbl&gt;</th></tr>\n",
       "</thead>\n",
       "<tbody>\n",
       "\t<tr><td>1503960366</td><td>2016-04-12</td><td>13162</td><td>8.50</td><td>8.50</td><td>0</td><td>1.88</td><td>0.55</td><td>6.06</td><td>0</td><td>25</td><td>13</td><td>328</td><td>728</td><td>1985</td><td>Tue</td><td>VeryActiveHour   </td><td> 0.4166667</td></tr>\n",
       "\t<tr><td>1503960366</td><td>2016-04-12</td><td>13162</td><td>8.50</td><td>8.50</td><td>0</td><td>1.88</td><td>0.55</td><td>6.06</td><td>0</td><td>25</td><td>13</td><td>328</td><td>728</td><td>1985</td><td>Tue</td><td>FairlyActiveHour </td><td> 0.2166667</td></tr>\n",
       "\t<tr><td>1503960366</td><td>2016-04-12</td><td>13162</td><td>8.50</td><td>8.50</td><td>0</td><td>1.88</td><td>0.55</td><td>6.06</td><td>0</td><td>25</td><td>13</td><td>328</td><td>728</td><td>1985</td><td>Tue</td><td>LightlyActiveHour</td><td> 5.4666667</td></tr>\n",
       "\t<tr><td>1503960366</td><td>2016-04-12</td><td>13162</td><td>8.50</td><td>8.50</td><td>0</td><td>1.88</td><td>0.55</td><td>6.06</td><td>0</td><td>25</td><td>13</td><td>328</td><td>728</td><td>1985</td><td>Tue</td><td>SedentaryHour    </td><td>12.1333333</td></tr>\n",
       "\t<tr><td>1503960366</td><td>2016-04-13</td><td>10735</td><td>6.97</td><td>6.97</td><td>0</td><td>1.57</td><td>0.69</td><td>4.71</td><td>0</td><td>21</td><td>19</td><td>217</td><td>776</td><td>1797</td><td>Wed</td><td>VeryActiveHour   </td><td> 0.3500000</td></tr>\n",
       "\t<tr><td>1503960366</td><td>2016-04-13</td><td>10735</td><td>6.97</td><td>6.97</td><td>0</td><td>1.57</td><td>0.69</td><td>4.71</td><td>0</td><td>21</td><td>19</td><td>217</td><td>776</td><td>1797</td><td>Wed</td><td>FairlyActiveHour </td><td> 0.3166667</td></tr>\n",
       "</tbody>\n",
       "</table>\n"
      ],
      "text/latex": [
       "A tibble: 6 × 18\n",
       "\\begin{tabular}{llllllllllllllllll}\n",
       " Id & ActivityDate & TotalSteps & TotalDistance & TrackerDistance & LoggedActivitiesDistance & VeryActiveDistance & ModeratelyActiveDistance & LightActiveDistance & SedentaryActiveDistance & VeryActiveMinutes & FairlyActiveMinutes & LightlyActiveMinutes & SedentaryMinutes & Calories & Day\\_of\\_week & ActivityType & Activity\\_hour\\\\\n",
       " <dbl> & <date> & <dbl> & <dbl> & <dbl> & <dbl> & <dbl> & <dbl> & <dbl> & <dbl> & <dbl> & <dbl> & <dbl> & <dbl> & <dbl> & <ord> & <chr> & <dbl>\\\\\n",
       "\\hline\n",
       "\t 1503960366 & 2016-04-12 & 13162 & 8.50 & 8.50 & 0 & 1.88 & 0.55 & 6.06 & 0 & 25 & 13 & 328 & 728 & 1985 & Tue & VeryActiveHour    &  0.4166667\\\\\n",
       "\t 1503960366 & 2016-04-12 & 13162 & 8.50 & 8.50 & 0 & 1.88 & 0.55 & 6.06 & 0 & 25 & 13 & 328 & 728 & 1985 & Tue & FairlyActiveHour  &  0.2166667\\\\\n",
       "\t 1503960366 & 2016-04-12 & 13162 & 8.50 & 8.50 & 0 & 1.88 & 0.55 & 6.06 & 0 & 25 & 13 & 328 & 728 & 1985 & Tue & LightlyActiveHour &  5.4666667\\\\\n",
       "\t 1503960366 & 2016-04-12 & 13162 & 8.50 & 8.50 & 0 & 1.88 & 0.55 & 6.06 & 0 & 25 & 13 & 328 & 728 & 1985 & Tue & SedentaryHour     & 12.1333333\\\\\n",
       "\t 1503960366 & 2016-04-13 & 10735 & 6.97 & 6.97 & 0 & 1.57 & 0.69 & 4.71 & 0 & 21 & 19 & 217 & 776 & 1797 & Wed & VeryActiveHour    &  0.3500000\\\\\n",
       "\t 1503960366 & 2016-04-13 & 10735 & 6.97 & 6.97 & 0 & 1.57 & 0.69 & 4.71 & 0 & 21 & 19 & 217 & 776 & 1797 & Wed & FairlyActiveHour  &  0.3166667\\\\\n",
       "\\end{tabular}\n"
      ],
      "text/markdown": [
       "\n",
       "A tibble: 6 × 18\n",
       "\n",
       "| Id &lt;dbl&gt; | ActivityDate &lt;date&gt; | TotalSteps &lt;dbl&gt; | TotalDistance &lt;dbl&gt; | TrackerDistance &lt;dbl&gt; | LoggedActivitiesDistance &lt;dbl&gt; | VeryActiveDistance &lt;dbl&gt; | ModeratelyActiveDistance &lt;dbl&gt; | LightActiveDistance &lt;dbl&gt; | SedentaryActiveDistance &lt;dbl&gt; | VeryActiveMinutes &lt;dbl&gt; | FairlyActiveMinutes &lt;dbl&gt; | LightlyActiveMinutes &lt;dbl&gt; | SedentaryMinutes &lt;dbl&gt; | Calories &lt;dbl&gt; | Day_of_week &lt;ord&gt; | ActivityType &lt;chr&gt; | Activity_hour &lt;dbl&gt; |\n",
       "|---|---|---|---|---|---|---|---|---|---|---|---|---|---|---|---|---|---|\n",
       "| 1503960366 | 2016-04-12 | 13162 | 8.50 | 8.50 | 0 | 1.88 | 0.55 | 6.06 | 0 | 25 | 13 | 328 | 728 | 1985 | Tue | VeryActiveHour    |  0.4166667 |\n",
       "| 1503960366 | 2016-04-12 | 13162 | 8.50 | 8.50 | 0 | 1.88 | 0.55 | 6.06 | 0 | 25 | 13 | 328 | 728 | 1985 | Tue | FairlyActiveHour  |  0.2166667 |\n",
       "| 1503960366 | 2016-04-12 | 13162 | 8.50 | 8.50 | 0 | 1.88 | 0.55 | 6.06 | 0 | 25 | 13 | 328 | 728 | 1985 | Tue | LightlyActiveHour |  5.4666667 |\n",
       "| 1503960366 | 2016-04-12 | 13162 | 8.50 | 8.50 | 0 | 1.88 | 0.55 | 6.06 | 0 | 25 | 13 | 328 | 728 | 1985 | Tue | SedentaryHour     | 12.1333333 |\n",
       "| 1503960366 | 2016-04-13 | 10735 | 6.97 | 6.97 | 0 | 1.57 | 0.69 | 4.71 | 0 | 21 | 19 | 217 | 776 | 1797 | Wed | VeryActiveHour    |  0.3500000 |\n",
       "| 1503960366 | 2016-04-13 | 10735 | 6.97 | 6.97 | 0 | 1.57 | 0.69 | 4.71 | 0 | 21 | 19 | 217 | 776 | 1797 | Wed | FairlyActiveHour  |  0.3166667 |\n",
       "\n"
      ],
      "text/plain": [
       "  Id         ActivityDate TotalSteps TotalDistance TrackerDistance\n",
       "1 1503960366 2016-04-12   13162      8.50          8.50           \n",
       "2 1503960366 2016-04-12   13162      8.50          8.50           \n",
       "3 1503960366 2016-04-12   13162      8.50          8.50           \n",
       "4 1503960366 2016-04-12   13162      8.50          8.50           \n",
       "5 1503960366 2016-04-13   10735      6.97          6.97           \n",
       "6 1503960366 2016-04-13   10735      6.97          6.97           \n",
       "  LoggedActivitiesDistance VeryActiveDistance ModeratelyActiveDistance\n",
       "1 0                        1.88               0.55                    \n",
       "2 0                        1.88               0.55                    \n",
       "3 0                        1.88               0.55                    \n",
       "4 0                        1.88               0.55                    \n",
       "5 0                        1.57               0.69                    \n",
       "6 0                        1.57               0.69                    \n",
       "  LightActiveDistance SedentaryActiveDistance VeryActiveMinutes\n",
       "1 6.06                0                       25               \n",
       "2 6.06                0                       25               \n",
       "3 6.06                0                       25               \n",
       "4 6.06                0                       25               \n",
       "5 4.71                0                       21               \n",
       "6 4.71                0                       21               \n",
       "  FairlyActiveMinutes LightlyActiveMinutes SedentaryMinutes Calories\n",
       "1 13                  328                  728              1985    \n",
       "2 13                  328                  728              1985    \n",
       "3 13                  328                  728              1985    \n",
       "4 13                  328                  728              1985    \n",
       "5 19                  217                  776              1797    \n",
       "6 19                  217                  776              1797    \n",
       "  Day_of_week ActivityType      Activity_hour\n",
       "1 Tue         VeryActiveHour     0.4166667   \n",
       "2 Tue         FairlyActiveHour   0.2166667   \n",
       "3 Tue         LightlyActiveHour  5.4666667   \n",
       "4 Tue         SedentaryHour     12.1333333   \n",
       "5 Wed         VeryActiveHour     0.3500000   \n",
       "6 Wed         FairlyActiveHour   0.3166667   "
      ]
     },
     "metadata": {},
     "output_type": "display_data"
    }
   ],
   "source": [
    " daily_activity <-daily_activity %>%\n",
    "pivot_longer(c(VeryActiveHour,FairlyActiveHour,LightlyActiveHour,SedentaryHour),\n",
    "             names_to=\"ActivityType\",values_to=\"Activity_hour\")\n",
    "head(daily_activity)"
   ]
  },
  {
   "cell_type": "markdown",
   "id": "3cb3886f",
   "metadata": {
    "papermill": {
     "duration": 0.075399,
     "end_time": "2022-03-14T13:33:05.746213",
     "exception": false,
     "start_time": "2022-03-14T13:33:05.670814",
     "status": "completed"
    },
    "tags": []
   },
   "source": [
    "**<h4> 6.2 Checking the Sleep dataset:**"
   ]
  },
  {
   "cell_type": "code",
   "execution_count": 12,
   "id": "77d01289",
   "metadata": {
    "execution": {
     "iopub.execute_input": "2022-03-14T13:33:05.915742Z",
     "iopub.status.busy": "2022-03-14T13:33:05.913683Z",
     "iopub.status.idle": "2022-03-14T13:33:05.947702Z",
     "shell.execute_reply": "2022-03-14T13:33:05.944921Z"
    },
    "papermill": {
     "duration": 0.126766,
     "end_time": "2022-03-14T13:33:05.947956",
     "exception": false,
     "start_time": "2022-03-14T13:33:05.821190",
     "status": "completed"
    },
    "tags": []
   },
   "outputs": [
    {
     "data": {
      "text/html": [
       "1"
      ],
      "text/latex": [
       "1"
      ],
      "text/markdown": [
       "1"
      ],
      "text/plain": [
       "[1] 1"
      ]
     },
     "metadata": {},
     "output_type": "display_data"
    },
    {
     "data": {
      "text/html": [
       "3"
      ],
      "text/latex": [
       "3"
      ],
      "text/markdown": [
       "3"
      ],
      "text/plain": [
       "[1] 3"
      ]
     },
     "metadata": {},
     "output_type": "display_data"
    }
   ],
   "source": [
    "min(sleepDay $ TotalSleepRecords)\n",
    "max(sleepDay $ TotalSleepRecords)"
   ]
  },
  {
   "cell_type": "markdown",
   "id": "35f93343",
   "metadata": {
    "papermill": {
     "duration": 0.076689,
     "end_time": "2022-03-14T13:33:06.111495",
     "exception": false,
     "start_time": "2022-03-14T13:33:06.034806",
     "status": "completed"
    },
    "tags": []
   },
   "source": [
    "Minimum SleepRecord is 1 and maximum is 3"
   ]
  },
  {
   "cell_type": "markdown",
   "id": "83d772c6",
   "metadata": {
    "papermill": {
     "duration": 0.076435,
     "end_time": "2022-03-14T13:33:06.265909",
     "exception": false,
     "start_time": "2022-03-14T13:33:06.189474",
     "status": "completed"
    },
    "tags": []
   },
   "source": [
    "**<h5> 6.2.1 To find users with their SleepRecord count:**"
   ]
  },
  {
   "cell_type": "code",
   "execution_count": 13,
   "id": "fcae2812",
   "metadata": {
    "execution": {
     "iopub.execute_input": "2022-03-14T13:33:06.428045Z",
     "iopub.status.busy": "2022-03-14T13:33:06.425933Z",
     "iopub.status.idle": "2022-03-14T13:33:06.462921Z",
     "shell.execute_reply": "2022-03-14T13:33:06.461173Z"
    },
    "papermill": {
     "duration": 0.119713,
     "end_time": "2022-03-14T13:33:06.463066",
     "exception": false,
     "start_time": "2022-03-14T13:33:06.343353",
     "status": "completed"
    },
    "tags": []
   },
   "outputs": [
    {
     "data": {
      "text/html": [
       "<table class=\"dataframe\">\n",
       "<caption>A tibble: 6 × 5</caption>\n",
       "<thead>\n",
       "\t<tr><th scope=col>Id</th><th scope=col>SleepDay</th><th scope=col>TotalSleepRecords</th><th scope=col>TotalMinutesAsleep</th><th scope=col>TotalTimeInBed</th></tr>\n",
       "\t<tr><th scope=col>&lt;dbl&gt;</th><th scope=col>&lt;chr&gt;</th><th scope=col>&lt;dbl&gt;</th><th scope=col>&lt;dbl&gt;</th><th scope=col>&lt;dbl&gt;</th></tr>\n",
       "</thead>\n",
       "<tbody>\n",
       "\t<tr><td>1503960366</td><td>4/12/2016 12:00:00 AM</td><td>1</td><td>327</td><td>346</td></tr>\n",
       "\t<tr><td>1503960366</td><td>4/15/2016 12:00:00 AM</td><td>1</td><td>412</td><td>442</td></tr>\n",
       "\t<tr><td>1503960366</td><td>4/17/2016 12:00:00 AM</td><td>1</td><td>700</td><td>712</td></tr>\n",
       "\t<tr><td>1503960366</td><td>4/19/2016 12:00:00 AM</td><td>1</td><td>304</td><td>320</td></tr>\n",
       "\t<tr><td>1503960366</td><td>4/20/2016 12:00:00 AM</td><td>1</td><td>360</td><td>377</td></tr>\n",
       "\t<tr><td>1503960366</td><td>4/21/2016 12:00:00 AM</td><td>1</td><td>325</td><td>364</td></tr>\n",
       "</tbody>\n",
       "</table>\n"
      ],
      "text/latex": [
       "A tibble: 6 × 5\n",
       "\\begin{tabular}{lllll}\n",
       " Id & SleepDay & TotalSleepRecords & TotalMinutesAsleep & TotalTimeInBed\\\\\n",
       " <dbl> & <chr> & <dbl> & <dbl> & <dbl>\\\\\n",
       "\\hline\n",
       "\t 1503960366 & 4/12/2016 12:00:00 AM & 1 & 327 & 346\\\\\n",
       "\t 1503960366 & 4/15/2016 12:00:00 AM & 1 & 412 & 442\\\\\n",
       "\t 1503960366 & 4/17/2016 12:00:00 AM & 1 & 700 & 712\\\\\n",
       "\t 1503960366 & 4/19/2016 12:00:00 AM & 1 & 304 & 320\\\\\n",
       "\t 1503960366 & 4/20/2016 12:00:00 AM & 1 & 360 & 377\\\\\n",
       "\t 1503960366 & 4/21/2016 12:00:00 AM & 1 & 325 & 364\\\\\n",
       "\\end{tabular}\n"
      ],
      "text/markdown": [
       "\n",
       "A tibble: 6 × 5\n",
       "\n",
       "| Id &lt;dbl&gt; | SleepDay &lt;chr&gt; | TotalSleepRecords &lt;dbl&gt; | TotalMinutesAsleep &lt;dbl&gt; | TotalTimeInBed &lt;dbl&gt; |\n",
       "|---|---|---|---|---|\n",
       "| 1503960366 | 4/12/2016 12:00:00 AM | 1 | 327 | 346 |\n",
       "| 1503960366 | 4/15/2016 12:00:00 AM | 1 | 412 | 442 |\n",
       "| 1503960366 | 4/17/2016 12:00:00 AM | 1 | 700 | 712 |\n",
       "| 1503960366 | 4/19/2016 12:00:00 AM | 1 | 304 | 320 |\n",
       "| 1503960366 | 4/20/2016 12:00:00 AM | 1 | 360 | 377 |\n",
       "| 1503960366 | 4/21/2016 12:00:00 AM | 1 | 325 | 364 |\n",
       "\n"
      ],
      "text/plain": [
       "  Id         SleepDay              TotalSleepRecords TotalMinutesAsleep\n",
       "1 1503960366 4/12/2016 12:00:00 AM 1                 327               \n",
       "2 1503960366 4/15/2016 12:00:00 AM 1                 412               \n",
       "3 1503960366 4/17/2016 12:00:00 AM 1                 700               \n",
       "4 1503960366 4/19/2016 12:00:00 AM 1                 304               \n",
       "5 1503960366 4/20/2016 12:00:00 AM 1                 360               \n",
       "6 1503960366 4/21/2016 12:00:00 AM 1                 325               \n",
       "  TotalTimeInBed\n",
       "1 346           \n",
       "2 442           \n",
       "3 712           \n",
       "4 320           \n",
       "5 377           \n",
       "6 364           "
      ]
     },
     "metadata": {},
     "output_type": "display_data"
    }
   ],
   "source": [
    "no_of_users <- (group_by(sleepDay , Id)%>%\n",
    "            summarise(no_of_records = n_distinct(TotalSleepRecords)))\n",
    "            head(arrange(sleepDay, TotalSleepRecords))"
   ]
  },
  {
   "cell_type": "markdown",
   "id": "5c549f07",
   "metadata": {
    "papermill": {
     "duration": 0.081064,
     "end_time": "2022-03-14T13:33:06.626654",
     "exception": false,
     "start_time": "2022-03-14T13:33:06.545590",
     "status": "completed"
    },
    "tags": []
   },
   "source": [
    "**<h5> 6.2.2 Converting the DateTime column to 'YYYY-MM-DD' format and seperating date in another column**"
   ]
  },
  {
   "cell_type": "code",
   "execution_count": 14,
   "id": "2f0e37fb",
   "metadata": {
    "execution": {
     "iopub.execute_input": "2022-03-14T13:33:06.788765Z",
     "iopub.status.busy": "2022-03-14T13:33:06.787357Z",
     "iopub.status.idle": "2022-03-14T13:33:06.832929Z",
     "shell.execute_reply": "2022-03-14T13:33:06.831525Z"
    },
    "papermill": {
     "duration": 0.129197,
     "end_time": "2022-03-14T13:33:06.833066",
     "exception": false,
     "start_time": "2022-03-14T13:33:06.703869",
     "status": "completed"
    },
    "tags": []
   },
   "outputs": [
    {
     "data": {
      "text/html": [
       "<table class=\"dataframe\">\n",
       "<caption>A tibble: 6 × 6</caption>\n",
       "<thead>\n",
       "\t<tr><th scope=col>Id</th><th scope=col>SleepDay</th><th scope=col>TotalSleepRecords</th><th scope=col>TotalMinutesAsleep</th><th scope=col>TotalTimeInBed</th><th scope=col>Date</th></tr>\n",
       "\t<tr><th scope=col>&lt;dbl&gt;</th><th scope=col>&lt;dttm&gt;</th><th scope=col>&lt;dbl&gt;</th><th scope=col>&lt;dbl&gt;</th><th scope=col>&lt;dbl&gt;</th><th scope=col>&lt;date&gt;</th></tr>\n",
       "</thead>\n",
       "<tbody>\n",
       "\t<tr><td>1503960366</td><td>2016-04-12</td><td>1</td><td>327</td><td>346</td><td>2016-04-12</td></tr>\n",
       "\t<tr><td>1503960366</td><td>2016-04-13</td><td>2</td><td>384</td><td>407</td><td>2016-04-13</td></tr>\n",
       "\t<tr><td>1503960366</td><td>2016-04-15</td><td>1</td><td>412</td><td>442</td><td>2016-04-15</td></tr>\n",
       "\t<tr><td>1503960366</td><td>2016-04-16</td><td>2</td><td>340</td><td>367</td><td>2016-04-16</td></tr>\n",
       "\t<tr><td>1503960366</td><td>2016-04-17</td><td>1</td><td>700</td><td>712</td><td>2016-04-17</td></tr>\n",
       "\t<tr><td>1503960366</td><td>2016-04-19</td><td>1</td><td>304</td><td>320</td><td>2016-04-19</td></tr>\n",
       "</tbody>\n",
       "</table>\n"
      ],
      "text/latex": [
       "A tibble: 6 × 6\n",
       "\\begin{tabular}{llllll}\n",
       " Id & SleepDay & TotalSleepRecords & TotalMinutesAsleep & TotalTimeInBed & Date\\\\\n",
       " <dbl> & <dttm> & <dbl> & <dbl> & <dbl> & <date>\\\\\n",
       "\\hline\n",
       "\t 1503960366 & 2016-04-12 & 1 & 327 & 346 & 2016-04-12\\\\\n",
       "\t 1503960366 & 2016-04-13 & 2 & 384 & 407 & 2016-04-13\\\\\n",
       "\t 1503960366 & 2016-04-15 & 1 & 412 & 442 & 2016-04-15\\\\\n",
       "\t 1503960366 & 2016-04-16 & 2 & 340 & 367 & 2016-04-16\\\\\n",
       "\t 1503960366 & 2016-04-17 & 1 & 700 & 712 & 2016-04-17\\\\\n",
       "\t 1503960366 & 2016-04-19 & 1 & 304 & 320 & 2016-04-19\\\\\n",
       "\\end{tabular}\n"
      ],
      "text/markdown": [
       "\n",
       "A tibble: 6 × 6\n",
       "\n",
       "| Id &lt;dbl&gt; | SleepDay &lt;dttm&gt; | TotalSleepRecords &lt;dbl&gt; | TotalMinutesAsleep &lt;dbl&gt; | TotalTimeInBed &lt;dbl&gt; | Date &lt;date&gt; |\n",
       "|---|---|---|---|---|---|\n",
       "| 1503960366 | 2016-04-12 | 1 | 327 | 346 | 2016-04-12 |\n",
       "| 1503960366 | 2016-04-13 | 2 | 384 | 407 | 2016-04-13 |\n",
       "| 1503960366 | 2016-04-15 | 1 | 412 | 442 | 2016-04-15 |\n",
       "| 1503960366 | 2016-04-16 | 2 | 340 | 367 | 2016-04-16 |\n",
       "| 1503960366 | 2016-04-17 | 1 | 700 | 712 | 2016-04-17 |\n",
       "| 1503960366 | 2016-04-19 | 1 | 304 | 320 | 2016-04-19 |\n",
       "\n"
      ],
      "text/plain": [
       "  Id         SleepDay   TotalSleepRecords TotalMinutesAsleep TotalTimeInBed\n",
       "1 1503960366 2016-04-12 1                 327                346           \n",
       "2 1503960366 2016-04-13 2                 384                407           \n",
       "3 1503960366 2016-04-15 1                 412                442           \n",
       "4 1503960366 2016-04-16 2                 340                367           \n",
       "5 1503960366 2016-04-17 1                 700                712           \n",
       "6 1503960366 2016-04-19 1                 304                320           \n",
       "  Date      \n",
       "1 2016-04-12\n",
       "2 2016-04-13\n",
       "3 2016-04-15\n",
       "4 2016-04-16\n",
       "5 2016-04-17\n",
       "6 2016-04-19"
      ]
     },
     "metadata": {},
     "output_type": "display_data"
    }
   ],
   "source": [
    "sleepDay_df <- sleepDay\n",
    "sleepDay_df $ SleepDay <- mdy_hms(sleepDay_df $ SleepDay)\n",
    "sleepDay_df $ Date <- as_date(sleepDay_df $ SleepDay)\n",
    "head(sleepDay_df)"
   ]
  },
  {
   "cell_type": "markdown",
   "id": "dc1ed57f",
   "metadata": {
    "papermill": {
     "duration": 0.08131,
     "end_time": "2022-03-14T13:33:06.993827",
     "exception": false,
     "start_time": "2022-03-14T13:33:06.912517",
     "status": "completed"
    },
    "tags": []
   },
   "source": [
    "**Finding the minimum and maximum sleep duration:**"
   ]
  },
  {
   "cell_type": "code",
   "execution_count": 15,
   "id": "bfc176b8",
   "metadata": {
    "execution": {
     "iopub.execute_input": "2022-03-14T13:33:07.157694Z",
     "iopub.status.busy": "2022-03-14T13:33:07.156076Z",
     "iopub.status.idle": "2022-03-14T13:33:07.186602Z",
     "shell.execute_reply": "2022-03-14T13:33:07.185187Z"
    },
    "papermill": {
     "duration": 0.113671,
     "end_time": "2022-03-14T13:33:07.186744",
     "exception": false,
     "start_time": "2022-03-14T13:33:07.073073",
     "status": "completed"
    },
    "tags": []
   },
   "outputs": [
    {
     "data": {
      "text/html": [
       "58"
      ],
      "text/latex": [
       "58"
      ],
      "text/markdown": [
       "58"
      ],
      "text/plain": [
       "[1] 58"
      ]
     },
     "metadata": {},
     "output_type": "display_data"
    },
    {
     "data": {
      "text/html": [
       "796"
      ],
      "text/latex": [
       "796"
      ],
      "text/markdown": [
       "796"
      ],
      "text/plain": [
       "[1] 796"
      ]
     },
     "metadata": {},
     "output_type": "display_data"
    }
   ],
   "source": [
    "min(sleepDay_df $ TotalMinutesAsleep)\n",
    "max(sleepDay_df $ TotalMinutesAsleep)"
   ]
  },
  {
   "cell_type": "markdown",
   "id": "31f3d16a",
   "metadata": {
    "papermill": {
     "duration": 0.080089,
     "end_time": "2022-03-14T13:33:07.346187",
     "exception": false,
     "start_time": "2022-03-14T13:33:07.266098",
     "status": "completed"
    },
    "tags": []
   },
   "source": [
    "**<h5> 6.2.3 Considering 8-10 hours sleep is normal & healthy, categorising the sleep duration into less sleep,normal sleep and more sleep:**"
   ]
  },
  {
   "cell_type": "code",
   "execution_count": 16,
   "id": "6c4a973c",
   "metadata": {
    "execution": {
     "iopub.execute_input": "2022-03-14T13:33:07.510726Z",
     "iopub.status.busy": "2022-03-14T13:33:07.509054Z",
     "iopub.status.idle": "2022-03-14T13:33:07.541173Z",
     "shell.execute_reply": "2022-03-14T13:33:07.539688Z"
    },
    "papermill": {
     "duration": 0.116032,
     "end_time": "2022-03-14T13:33:07.541336",
     "exception": false,
     "start_time": "2022-03-14T13:33:07.425304",
     "status": "completed"
    },
    "tags": []
   },
   "outputs": [
    {
     "data": {
      "text/html": [
       "<table class=\"dataframe\">\n",
       "<caption>A tibble: 6 × 7</caption>\n",
       "<thead>\n",
       "\t<tr><th scope=col>Id</th><th scope=col>SleepDay</th><th scope=col>TotalSleepRecords</th><th scope=col>TotalMinutesAsleep</th><th scope=col>TotalTimeInBed</th><th scope=col>Date</th><th scope=col>Sleeptype</th></tr>\n",
       "\t<tr><th scope=col>&lt;dbl&gt;</th><th scope=col>&lt;dttm&gt;</th><th scope=col>&lt;dbl&gt;</th><th scope=col>&lt;dbl&gt;</th><th scope=col>&lt;dbl&gt;</th><th scope=col>&lt;date&gt;</th><th scope=col>&lt;chr&gt;</th></tr>\n",
       "</thead>\n",
       "<tbody>\n",
       "\t<tr><td>1503960366</td><td>2016-04-12</td><td>1</td><td>327</td><td>346</td><td>2016-04-12</td><td>Less Sleep  </td></tr>\n",
       "\t<tr><td>1503960366</td><td>2016-04-13</td><td>2</td><td>384</td><td>407</td><td>2016-04-13</td><td>Less Sleep  </td></tr>\n",
       "\t<tr><td>1503960366</td><td>2016-04-15</td><td>1</td><td>412</td><td>442</td><td>2016-04-15</td><td>Normal Sleep</td></tr>\n",
       "\t<tr><td>1503960366</td><td>2016-04-16</td><td>2</td><td>340</td><td>367</td><td>2016-04-16</td><td>Less Sleep  </td></tr>\n",
       "\t<tr><td>1503960366</td><td>2016-04-17</td><td>1</td><td>700</td><td>712</td><td>2016-04-17</td><td>More Sleep  </td></tr>\n",
       "\t<tr><td>1503960366</td><td>2016-04-19</td><td>1</td><td>304</td><td>320</td><td>2016-04-19</td><td>Less Sleep  </td></tr>\n",
       "</tbody>\n",
       "</table>\n"
      ],
      "text/latex": [
       "A tibble: 6 × 7\n",
       "\\begin{tabular}{lllllll}\n",
       " Id & SleepDay & TotalSleepRecords & TotalMinutesAsleep & TotalTimeInBed & Date & Sleeptype\\\\\n",
       " <dbl> & <dttm> & <dbl> & <dbl> & <dbl> & <date> & <chr>\\\\\n",
       "\\hline\n",
       "\t 1503960366 & 2016-04-12 & 1 & 327 & 346 & 2016-04-12 & Less Sleep  \\\\\n",
       "\t 1503960366 & 2016-04-13 & 2 & 384 & 407 & 2016-04-13 & Less Sleep  \\\\\n",
       "\t 1503960366 & 2016-04-15 & 1 & 412 & 442 & 2016-04-15 & Normal Sleep\\\\\n",
       "\t 1503960366 & 2016-04-16 & 2 & 340 & 367 & 2016-04-16 & Less Sleep  \\\\\n",
       "\t 1503960366 & 2016-04-17 & 1 & 700 & 712 & 2016-04-17 & More Sleep  \\\\\n",
       "\t 1503960366 & 2016-04-19 & 1 & 304 & 320 & 2016-04-19 & Less Sleep  \\\\\n",
       "\\end{tabular}\n"
      ],
      "text/markdown": [
       "\n",
       "A tibble: 6 × 7\n",
       "\n",
       "| Id &lt;dbl&gt; | SleepDay &lt;dttm&gt; | TotalSleepRecords &lt;dbl&gt; | TotalMinutesAsleep &lt;dbl&gt; | TotalTimeInBed &lt;dbl&gt; | Date &lt;date&gt; | Sleeptype &lt;chr&gt; |\n",
       "|---|---|---|---|---|---|---|\n",
       "| 1503960366 | 2016-04-12 | 1 | 327 | 346 | 2016-04-12 | Less Sleep   |\n",
       "| 1503960366 | 2016-04-13 | 2 | 384 | 407 | 2016-04-13 | Less Sleep   |\n",
       "| 1503960366 | 2016-04-15 | 1 | 412 | 442 | 2016-04-15 | Normal Sleep |\n",
       "| 1503960366 | 2016-04-16 | 2 | 340 | 367 | 2016-04-16 | Less Sleep   |\n",
       "| 1503960366 | 2016-04-17 | 1 | 700 | 712 | 2016-04-17 | More Sleep   |\n",
       "| 1503960366 | 2016-04-19 | 1 | 304 | 320 | 2016-04-19 | Less Sleep   |\n",
       "\n"
      ],
      "text/plain": [
       "  Id         SleepDay   TotalSleepRecords TotalMinutesAsleep TotalTimeInBed\n",
       "1 1503960366 2016-04-12 1                 327                346           \n",
       "2 1503960366 2016-04-13 2                 384                407           \n",
       "3 1503960366 2016-04-15 1                 412                442           \n",
       "4 1503960366 2016-04-16 2                 340                367           \n",
       "5 1503960366 2016-04-17 1                 700                712           \n",
       "6 1503960366 2016-04-19 1                 304                320           \n",
       "  Date       Sleeptype   \n",
       "1 2016-04-12 Less Sleep  \n",
       "2 2016-04-13 Less Sleep  \n",
       "3 2016-04-15 Normal Sleep\n",
       "4 2016-04-16 Less Sleep  \n",
       "5 2016-04-17 More Sleep  \n",
       "6 2016-04-19 Less Sleep  "
      ]
     },
     "metadata": {},
     "output_type": "display_data"
    }
   ],
   "source": [
    "sleepDay_df<- sleepDay %>%\n",
    "mutate(sleepDay_df,Sleeptype = case_when((TotalMinutesAsleep<=400) ~ \"Less Sleep\" ,\n",
    "       (TotalMinutesAsleep>400 & TotalMinutesAsleep<=600)~ \"Normal Sleep\" ,\n",
    "       TotalMinutesAsleep>600 ~ \"More Sleep\")\n",
    "       \n",
    "      )\n",
    "head(sleepDay_df)"
   ]
  },
  {
   "cell_type": "markdown",
   "id": "823ae043",
   "metadata": {
    "papermill": {
     "duration": 0.081808,
     "end_time": "2022-03-14T13:33:07.704020",
     "exception": false,
     "start_time": "2022-03-14T13:33:07.622212",
     "status": "completed"
    },
    "tags": []
   },
   "source": [
    "**<h4> 6.3 Working with Hourly Data:**"
   ]
  },
  {
   "cell_type": "markdown",
   "id": "26bfbcba",
   "metadata": {
    "papermill": {
     "duration": 0.08307,
     "end_time": "2022-03-14T13:33:07.867546",
     "exception": false,
     "start_time": "2022-03-14T13:33:07.784476",
     "status": "completed"
    },
    "tags": []
   },
   "source": [
    " **<h5> 6.3.1 Combining the three hourly datasets- hourly_steps,hourly_calories,hourly_intensity into one dataset- hourly_dfp**"
   ]
  },
  {
   "cell_type": "code",
   "execution_count": 17,
   "id": "9e61ca73",
   "metadata": {
    "execution": {
     "iopub.execute_input": "2022-03-14T13:33:08.058229Z",
     "iopub.status.busy": "2022-03-14T13:33:08.055667Z",
     "iopub.status.idle": "2022-03-14T13:33:08.117052Z",
     "shell.execute_reply": "2022-03-14T13:33:08.115660Z"
    },
    "papermill": {
     "duration": 0.160683,
     "end_time": "2022-03-14T13:33:08.117288",
     "exception": false,
     "start_time": "2022-03-14T13:33:07.956605",
     "status": "completed"
    },
    "tags": []
   },
   "outputs": [
    {
     "data": {
      "text/html": [
       "<table class=\"dataframe\">\n",
       "<caption>A tibble: 6 × 6</caption>\n",
       "<thead>\n",
       "\t<tr><th scope=col>Id</th><th scope=col>ActivityHour</th><th scope=col>StepTotal</th><th scope=col>Calories</th><th scope=col>TotalIntensity</th><th scope=col>AverageIntensity</th></tr>\n",
       "\t<tr><th scope=col>&lt;dbl&gt;</th><th scope=col>&lt;chr&gt;</th><th scope=col>&lt;dbl&gt;</th><th scope=col>&lt;dbl&gt;</th><th scope=col>&lt;dbl&gt;</th><th scope=col>&lt;dbl&gt;</th></tr>\n",
       "</thead>\n",
       "<tbody>\n",
       "\t<tr><td>1503960366</td><td>4/12/2016 12:00:00 AM</td><td>373</td><td>81</td><td>20</td><td>0.333333</td></tr>\n",
       "\t<tr><td>1503960366</td><td>4/12/2016 1:00:00 AM </td><td>160</td><td>61</td><td> 8</td><td>0.133333</td></tr>\n",
       "\t<tr><td>1503960366</td><td>4/12/2016 2:00:00 AM </td><td>151</td><td>59</td><td> 7</td><td>0.116667</td></tr>\n",
       "\t<tr><td>1503960366</td><td>4/12/2016 3:00:00 AM </td><td>  0</td><td>47</td><td> 0</td><td>0.000000</td></tr>\n",
       "\t<tr><td>1503960366</td><td>4/12/2016 4:00:00 AM </td><td>  0</td><td>48</td><td> 0</td><td>0.000000</td></tr>\n",
       "\t<tr><td>1503960366</td><td>4/12/2016 5:00:00 AM </td><td>  0</td><td>48</td><td> 0</td><td>0.000000</td></tr>\n",
       "</tbody>\n",
       "</table>\n"
      ],
      "text/latex": [
       "A tibble: 6 × 6\n",
       "\\begin{tabular}{llllll}\n",
       " Id & ActivityHour & StepTotal & Calories & TotalIntensity & AverageIntensity\\\\\n",
       " <dbl> & <chr> & <dbl> & <dbl> & <dbl> & <dbl>\\\\\n",
       "\\hline\n",
       "\t 1503960366 & 4/12/2016 12:00:00 AM & 373 & 81 & 20 & 0.333333\\\\\n",
       "\t 1503960366 & 4/12/2016 1:00:00 AM  & 160 & 61 &  8 & 0.133333\\\\\n",
       "\t 1503960366 & 4/12/2016 2:00:00 AM  & 151 & 59 &  7 & 0.116667\\\\\n",
       "\t 1503960366 & 4/12/2016 3:00:00 AM  &   0 & 47 &  0 & 0.000000\\\\\n",
       "\t 1503960366 & 4/12/2016 4:00:00 AM  &   0 & 48 &  0 & 0.000000\\\\\n",
       "\t 1503960366 & 4/12/2016 5:00:00 AM  &   0 & 48 &  0 & 0.000000\\\\\n",
       "\\end{tabular}\n"
      ],
      "text/markdown": [
       "\n",
       "A tibble: 6 × 6\n",
       "\n",
       "| Id &lt;dbl&gt; | ActivityHour &lt;chr&gt; | StepTotal &lt;dbl&gt; | Calories &lt;dbl&gt; | TotalIntensity &lt;dbl&gt; | AverageIntensity &lt;dbl&gt; |\n",
       "|---|---|---|---|---|---|\n",
       "| 1503960366 | 4/12/2016 12:00:00 AM | 373 | 81 | 20 | 0.333333 |\n",
       "| 1503960366 | 4/12/2016 1:00:00 AM  | 160 | 61 |  8 | 0.133333 |\n",
       "| 1503960366 | 4/12/2016 2:00:00 AM  | 151 | 59 |  7 | 0.116667 |\n",
       "| 1503960366 | 4/12/2016 3:00:00 AM  |   0 | 47 |  0 | 0.000000 |\n",
       "| 1503960366 | 4/12/2016 4:00:00 AM  |   0 | 48 |  0 | 0.000000 |\n",
       "| 1503960366 | 4/12/2016 5:00:00 AM  |   0 | 48 |  0 | 0.000000 |\n",
       "\n"
      ],
      "text/plain": [
       "  Id         ActivityHour          StepTotal Calories TotalIntensity\n",
       "1 1503960366 4/12/2016 12:00:00 AM 373       81       20            \n",
       "2 1503960366 4/12/2016 1:00:00 AM  160       61        8            \n",
       "3 1503960366 4/12/2016 2:00:00 AM  151       59        7            \n",
       "4 1503960366 4/12/2016 3:00:00 AM    0       47        0            \n",
       "5 1503960366 4/12/2016 4:00:00 AM    0       48        0            \n",
       "6 1503960366 4/12/2016 5:00:00 AM    0       48        0            \n",
       "  AverageIntensity\n",
       "1 0.333333        \n",
       "2 0.133333        \n",
       "3 0.116667        \n",
       "4 0.000000        \n",
       "5 0.000000        \n",
       "6 0.000000        "
      ]
     },
     "metadata": {},
     "output_type": "display_data"
    }
   ],
   "source": [
    "hourly_df <-inner_join(hourly_steps,hourly_calories,by= c(\"Id\",\"ActivityHour\"))\n",
    "hourly_dfp <- inner_join(hourly_df,hourly_intensity, by = c(\"Id\",\"ActivityHour\"))\n",
    "head(hourly_dfp)"
   ]
  },
  {
   "cell_type": "markdown",
   "id": "c87e7a66",
   "metadata": {
    "papermill": {
     "duration": 0.090795,
     "end_time": "2022-03-14T13:33:08.312360",
     "exception": false,
     "start_time": "2022-03-14T13:33:08.221565",
     "status": "completed"
    },
    "tags": []
   },
   "source": [
    "**<h5> 6.3.2 Converting the datetime column into 'YYYY-MM-DD' format and seperating the datetime column into date and time columns:**"
   ]
  },
  {
   "cell_type": "code",
   "execution_count": 18,
   "id": "0c60f984",
   "metadata": {
    "execution": {
     "iopub.execute_input": "2022-03-14T13:33:08.485403Z",
     "iopub.status.busy": "2022-03-14T13:33:08.482956Z",
     "iopub.status.idle": "2022-03-14T13:33:08.588995Z",
     "shell.execute_reply": "2022-03-14T13:33:08.587366Z"
    },
    "papermill": {
     "duration": 0.194144,
     "end_time": "2022-03-14T13:33:08.589143",
     "exception": false,
     "start_time": "2022-03-14T13:33:08.394999",
     "status": "completed"
    },
    "tags": []
   },
   "outputs": [
    {
     "data": {
      "text/html": [
       "<table class=\"dataframe\">\n",
       "<caption>A tibble: 6 × 8</caption>\n",
       "<thead>\n",
       "\t<tr><th scope=col>Id</th><th scope=col>ActivityHour</th><th scope=col>StepTotal</th><th scope=col>Calories</th><th scope=col>TotalIntensity</th><th scope=col>AverageIntensity</th><th scope=col>Date</th><th scope=col>Time</th></tr>\n",
       "\t<tr><th scope=col>&lt;dbl&gt;</th><th scope=col>&lt;dttm&gt;</th><th scope=col>&lt;dbl&gt;</th><th scope=col>&lt;dbl&gt;</th><th scope=col>&lt;dbl&gt;</th><th scope=col>&lt;dbl&gt;</th><th scope=col>&lt;date&gt;</th><th scope=col>&lt;time&gt;</th></tr>\n",
       "</thead>\n",
       "<tbody>\n",
       "\t<tr><td>1503960366</td><td>2016-04-12 00:00:00</td><td>373</td><td>81</td><td>20</td><td>0.333333</td><td>2016-04-12</td><td>00:00:00</td></tr>\n",
       "\t<tr><td>1503960366</td><td>2016-04-12 01:00:00</td><td>160</td><td>61</td><td> 8</td><td>0.133333</td><td>2016-04-12</td><td>01:00:00</td></tr>\n",
       "\t<tr><td>1503960366</td><td>2016-04-12 02:00:00</td><td>151</td><td>59</td><td> 7</td><td>0.116667</td><td>2016-04-12</td><td>02:00:00</td></tr>\n",
       "\t<tr><td>1503960366</td><td>2016-04-12 03:00:00</td><td>  0</td><td>47</td><td> 0</td><td>0.000000</td><td>2016-04-12</td><td>03:00:00</td></tr>\n",
       "\t<tr><td>1503960366</td><td>2016-04-12 04:00:00</td><td>  0</td><td>48</td><td> 0</td><td>0.000000</td><td>2016-04-12</td><td>04:00:00</td></tr>\n",
       "\t<tr><td>1503960366</td><td>2016-04-12 05:00:00</td><td>  0</td><td>48</td><td> 0</td><td>0.000000</td><td>2016-04-12</td><td>05:00:00</td></tr>\n",
       "</tbody>\n",
       "</table>\n"
      ],
      "text/latex": [
       "A tibble: 6 × 8\n",
       "\\begin{tabular}{llllllll}\n",
       " Id & ActivityHour & StepTotal & Calories & TotalIntensity & AverageIntensity & Date & Time\\\\\n",
       " <dbl> & <dttm> & <dbl> & <dbl> & <dbl> & <dbl> & <date> & <time>\\\\\n",
       "\\hline\n",
       "\t 1503960366 & 2016-04-12 00:00:00 & 373 & 81 & 20 & 0.333333 & 2016-04-12 & 00:00:00\\\\\n",
       "\t 1503960366 & 2016-04-12 01:00:00 & 160 & 61 &  8 & 0.133333 & 2016-04-12 & 01:00:00\\\\\n",
       "\t 1503960366 & 2016-04-12 02:00:00 & 151 & 59 &  7 & 0.116667 & 2016-04-12 & 02:00:00\\\\\n",
       "\t 1503960366 & 2016-04-12 03:00:00 &   0 & 47 &  0 & 0.000000 & 2016-04-12 & 03:00:00\\\\\n",
       "\t 1503960366 & 2016-04-12 04:00:00 &   0 & 48 &  0 & 0.000000 & 2016-04-12 & 04:00:00\\\\\n",
       "\t 1503960366 & 2016-04-12 05:00:00 &   0 & 48 &  0 & 0.000000 & 2016-04-12 & 05:00:00\\\\\n",
       "\\end{tabular}\n"
      ],
      "text/markdown": [
       "\n",
       "A tibble: 6 × 8\n",
       "\n",
       "| Id &lt;dbl&gt; | ActivityHour &lt;dttm&gt; | StepTotal &lt;dbl&gt; | Calories &lt;dbl&gt; | TotalIntensity &lt;dbl&gt; | AverageIntensity &lt;dbl&gt; | Date &lt;date&gt; | Time &lt;time&gt; |\n",
       "|---|---|---|---|---|---|---|---|\n",
       "| 1503960366 | 2016-04-12 00:00:00 | 373 | 81 | 20 | 0.333333 | 2016-04-12 | 00:00:00 |\n",
       "| 1503960366 | 2016-04-12 01:00:00 | 160 | 61 |  8 | 0.133333 | 2016-04-12 | 01:00:00 |\n",
       "| 1503960366 | 2016-04-12 02:00:00 | 151 | 59 |  7 | 0.116667 | 2016-04-12 | 02:00:00 |\n",
       "| 1503960366 | 2016-04-12 03:00:00 |   0 | 47 |  0 | 0.000000 | 2016-04-12 | 03:00:00 |\n",
       "| 1503960366 | 2016-04-12 04:00:00 |   0 | 48 |  0 | 0.000000 | 2016-04-12 | 04:00:00 |\n",
       "| 1503960366 | 2016-04-12 05:00:00 |   0 | 48 |  0 | 0.000000 | 2016-04-12 | 05:00:00 |\n",
       "\n"
      ],
      "text/plain": [
       "  Id         ActivityHour        StepTotal Calories TotalIntensity\n",
       "1 1503960366 2016-04-12 00:00:00 373       81       20            \n",
       "2 1503960366 2016-04-12 01:00:00 160       61        8            \n",
       "3 1503960366 2016-04-12 02:00:00 151       59        7            \n",
       "4 1503960366 2016-04-12 03:00:00   0       47        0            \n",
       "5 1503960366 2016-04-12 04:00:00   0       48        0            \n",
       "6 1503960366 2016-04-12 05:00:00   0       48        0            \n",
       "  AverageIntensity Date       Time    \n",
       "1 0.333333         2016-04-12 00:00:00\n",
       "2 0.133333         2016-04-12 01:00:00\n",
       "3 0.116667         2016-04-12 02:00:00\n",
       "4 0.000000         2016-04-12 03:00:00\n",
       "5 0.000000         2016-04-12 04:00:00\n",
       "6 0.000000         2016-04-12 05:00:00"
      ]
     },
     "metadata": {},
     "output_type": "display_data"
    }
   ],
   "source": [
    "hourly_dfp $ ActivityHour <- mdy_hms(hourly_dfp $ ActivityHour)\n",
    "\n",
    "hourly_dfp $ Date <- as_date(hourly_dfp $ ActivityHour)\n",
    "hourly_dfp $ Time <- as_hms(hourly_dfp $ ActivityHour)\n",
    "\n",
    "head(hourly_dfp)"
   ]
  },
  {
   "cell_type": "markdown",
   "id": "8e4a5b56",
   "metadata": {
    "papermill": {
     "duration": 0.084665,
     "end_time": "2022-03-14T13:33:08.756354",
     "exception": false,
     "start_time": "2022-03-14T13:33:08.671689",
     "status": "completed"
    },
    "tags": []
   },
   "source": [
    "**Finding the minimum & maximum Step count:**"
   ]
  },
  {
   "cell_type": "code",
   "execution_count": 19,
   "id": "5e704e3f",
   "metadata": {
    "execution": {
     "iopub.execute_input": "2022-03-14T13:33:08.926462Z",
     "iopub.status.busy": "2022-03-14T13:33:08.924903Z",
     "iopub.status.idle": "2022-03-14T13:33:08.946528Z",
     "shell.execute_reply": "2022-03-14T13:33:08.944943Z"
    },
    "papermill": {
     "duration": 0.107651,
     "end_time": "2022-03-14T13:33:08.946663",
     "exception": false,
     "start_time": "2022-03-14T13:33:08.839012",
     "status": "completed"
    },
    "tags": []
   },
   "outputs": [
    {
     "data": {
      "text/html": [
       "0"
      ],
      "text/latex": [
       "0"
      ],
      "text/markdown": [
       "0"
      ],
      "text/plain": [
       "[1] 0"
      ]
     },
     "metadata": {},
     "output_type": "display_data"
    },
    {
     "data": {
      "text/html": [
       "10554"
      ],
      "text/latex": [
       "10554"
      ],
      "text/markdown": [
       "10554"
      ],
      "text/plain": [
       "[1] 10554"
      ]
     },
     "metadata": {},
     "output_type": "display_data"
    }
   ],
   "source": [
    "min(hourly_dfp $ StepTotal)\n",
    "max(hourly_dfp $ StepTotal)"
   ]
  },
  {
   "cell_type": "markdown",
   "id": "f3b406b4",
   "metadata": {
    "papermill": {
     "duration": 0.083652,
     "end_time": "2022-03-14T13:33:09.114514",
     "exception": false,
     "start_time": "2022-03-14T13:33:09.030862",
     "status": "completed"
    },
    "tags": []
   },
   "source": [
    "**<h5> 6.3.3 Categorizing the totalstep count into Sedentary,Active,VeryActive:**"
   ]
  },
  {
   "cell_type": "code",
   "execution_count": 20,
   "id": "9fe13ce9",
   "metadata": {
    "execution": {
     "iopub.execute_input": "2022-03-14T13:33:09.285276Z",
     "iopub.status.busy": "2022-03-14T13:33:09.283693Z",
     "iopub.status.idle": "2022-03-14T13:33:09.383672Z",
     "shell.execute_reply": "2022-03-14T13:33:09.382104Z"
    },
    "papermill": {
     "duration": 0.186785,
     "end_time": "2022-03-14T13:33:09.383844",
     "exception": false,
     "start_time": "2022-03-14T13:33:09.197059",
     "status": "completed"
    },
    "tags": []
   },
   "outputs": [
    {
     "data": {
      "text/html": [
       "<table class=\"dataframe\">\n",
       "<caption>A tibble: 6 × 9</caption>\n",
       "<thead>\n",
       "\t<tr><th scope=col>Id</th><th scope=col>ActivityHour</th><th scope=col>StepTotal</th><th scope=col>Calories</th><th scope=col>TotalIntensity</th><th scope=col>AverageIntensity</th><th scope=col>Date</th><th scope=col>Time</th><th scope=col>ActivityType</th></tr>\n",
       "\t<tr><th scope=col>&lt;dbl&gt;</th><th scope=col>&lt;dttm&gt;</th><th scope=col>&lt;dbl&gt;</th><th scope=col>&lt;dbl&gt;</th><th scope=col>&lt;dbl&gt;</th><th scope=col>&lt;dbl&gt;</th><th scope=col>&lt;date&gt;</th><th scope=col>&lt;time&gt;</th><th scope=col>&lt;chr&gt;</th></tr>\n",
       "</thead>\n",
       "<tbody>\n",
       "\t<tr><td>1503960366</td><td>2016-04-12 00:00:00</td><td>373</td><td>81</td><td>20</td><td>0.333333</td><td>2016-04-12</td><td>00:00:00</td><td>Sedentary</td></tr>\n",
       "\t<tr><td>1503960366</td><td>2016-04-12 01:00:00</td><td>160</td><td>61</td><td> 8</td><td>0.133333</td><td>2016-04-12</td><td>01:00:00</td><td>Sedentary</td></tr>\n",
       "\t<tr><td>1503960366</td><td>2016-04-12 02:00:00</td><td>151</td><td>59</td><td> 7</td><td>0.116667</td><td>2016-04-12</td><td>02:00:00</td><td>Sedentary</td></tr>\n",
       "\t<tr><td>1503960366</td><td>2016-04-12 03:00:00</td><td>  0</td><td>47</td><td> 0</td><td>0.000000</td><td>2016-04-12</td><td>03:00:00</td><td>Sedentary</td></tr>\n",
       "\t<tr><td>1503960366</td><td>2016-04-12 04:00:00</td><td>  0</td><td>48</td><td> 0</td><td>0.000000</td><td>2016-04-12</td><td>04:00:00</td><td>Sedentary</td></tr>\n",
       "\t<tr><td>1503960366</td><td>2016-04-12 05:00:00</td><td>  0</td><td>48</td><td> 0</td><td>0.000000</td><td>2016-04-12</td><td>05:00:00</td><td>Sedentary</td></tr>\n",
       "</tbody>\n",
       "</table>\n"
      ],
      "text/latex": [
       "A tibble: 6 × 9\n",
       "\\begin{tabular}{lllllllll}\n",
       " Id & ActivityHour & StepTotal & Calories & TotalIntensity & AverageIntensity & Date & Time & ActivityType\\\\\n",
       " <dbl> & <dttm> & <dbl> & <dbl> & <dbl> & <dbl> & <date> & <time> & <chr>\\\\\n",
       "\\hline\n",
       "\t 1503960366 & 2016-04-12 00:00:00 & 373 & 81 & 20 & 0.333333 & 2016-04-12 & 00:00:00 & Sedentary\\\\\n",
       "\t 1503960366 & 2016-04-12 01:00:00 & 160 & 61 &  8 & 0.133333 & 2016-04-12 & 01:00:00 & Sedentary\\\\\n",
       "\t 1503960366 & 2016-04-12 02:00:00 & 151 & 59 &  7 & 0.116667 & 2016-04-12 & 02:00:00 & Sedentary\\\\\n",
       "\t 1503960366 & 2016-04-12 03:00:00 &   0 & 47 &  0 & 0.000000 & 2016-04-12 & 03:00:00 & Sedentary\\\\\n",
       "\t 1503960366 & 2016-04-12 04:00:00 &   0 & 48 &  0 & 0.000000 & 2016-04-12 & 04:00:00 & Sedentary\\\\\n",
       "\t 1503960366 & 2016-04-12 05:00:00 &   0 & 48 &  0 & 0.000000 & 2016-04-12 & 05:00:00 & Sedentary\\\\\n",
       "\\end{tabular}\n"
      ],
      "text/markdown": [
       "\n",
       "A tibble: 6 × 9\n",
       "\n",
       "| Id &lt;dbl&gt; | ActivityHour &lt;dttm&gt; | StepTotal &lt;dbl&gt; | Calories &lt;dbl&gt; | TotalIntensity &lt;dbl&gt; | AverageIntensity &lt;dbl&gt; | Date &lt;date&gt; | Time &lt;time&gt; | ActivityType &lt;chr&gt; |\n",
       "|---|---|---|---|---|---|---|---|---|\n",
       "| 1503960366 | 2016-04-12 00:00:00 | 373 | 81 | 20 | 0.333333 | 2016-04-12 | 00:00:00 | Sedentary |\n",
       "| 1503960366 | 2016-04-12 01:00:00 | 160 | 61 |  8 | 0.133333 | 2016-04-12 | 01:00:00 | Sedentary |\n",
       "| 1503960366 | 2016-04-12 02:00:00 | 151 | 59 |  7 | 0.116667 | 2016-04-12 | 02:00:00 | Sedentary |\n",
       "| 1503960366 | 2016-04-12 03:00:00 |   0 | 47 |  0 | 0.000000 | 2016-04-12 | 03:00:00 | Sedentary |\n",
       "| 1503960366 | 2016-04-12 04:00:00 |   0 | 48 |  0 | 0.000000 | 2016-04-12 | 04:00:00 | Sedentary |\n",
       "| 1503960366 | 2016-04-12 05:00:00 |   0 | 48 |  0 | 0.000000 | 2016-04-12 | 05:00:00 | Sedentary |\n",
       "\n"
      ],
      "text/plain": [
       "  Id         ActivityHour        StepTotal Calories TotalIntensity\n",
       "1 1503960366 2016-04-12 00:00:00 373       81       20            \n",
       "2 1503960366 2016-04-12 01:00:00 160       61        8            \n",
       "3 1503960366 2016-04-12 02:00:00 151       59        7            \n",
       "4 1503960366 2016-04-12 03:00:00   0       47        0            \n",
       "5 1503960366 2016-04-12 04:00:00   0       48        0            \n",
       "6 1503960366 2016-04-12 05:00:00   0       48        0            \n",
       "  AverageIntensity Date       Time     ActivityType\n",
       "1 0.333333         2016-04-12 00:00:00 Sedentary   \n",
       "2 0.133333         2016-04-12 01:00:00 Sedentary   \n",
       "3 0.116667         2016-04-12 02:00:00 Sedentary   \n",
       "4 0.000000         2016-04-12 03:00:00 Sedentary   \n",
       "5 0.000000         2016-04-12 04:00:00 Sedentary   \n",
       "6 0.000000         2016-04-12 05:00:00 Sedentary   "
      ]
     },
     "metadata": {},
     "output_type": "display_data"
    }
   ],
   "source": [
    "hourly_dfp <- hourly_dfp %>%\n",
    "mutate(hourly_df, ActivityType = case_when ((StepTotal >=0 & StepTotal <=500) ~ \"Sedentary\",\n",
    "                                          (StepTotal >= 501 & StepTotal <=5000) ~ \"Active\",\n",
    "                                          (StepTotal > 5000) ~  \"VeryActive\"))\n",
    " \n",
    "hourly_dfp $ ActivityHour <- mdy_hms(hourly_dfp $ ActivityHour)\n",
    "                                         \n",
    "head(hourly_dfp)"
   ]
  },
  {
   "cell_type": "markdown",
   "id": "be96a1d9",
   "metadata": {
    "papermill": {
     "duration": 0.083646,
     "end_time": "2022-03-14T13:33:09.551746",
     "exception": false,
     "start_time": "2022-03-14T13:33:09.468100",
     "status": "completed"
    },
    "tags": []
   },
   "source": [
    "**<h4> 6.4 Checking the WeightLog data:**"
   ]
  },
  {
   "cell_type": "markdown",
   "id": "fb3c9624",
   "metadata": {
    "papermill": {
     "duration": 0.083664,
     "end_time": "2022-03-14T13:33:09.719563",
     "exception": false,
     "start_time": "2022-03-14T13:33:09.635899",
     "status": "completed"
    },
    "tags": []
   },
   "source": [
    "**<h5> 6.4.1 Converting the date format in datetime column to YYYY-MM-DD format and seperating into date and time columns:**"
   ]
  },
  {
   "cell_type": "code",
   "execution_count": 21,
   "id": "216a745e",
   "metadata": {
    "execution": {
     "iopub.execute_input": "2022-03-14T13:33:09.900615Z",
     "iopub.status.busy": "2022-03-14T13:33:09.898909Z",
     "iopub.status.idle": "2022-03-14T13:33:09.947038Z",
     "shell.execute_reply": "2022-03-14T13:33:09.945450Z"
    },
    "papermill": {
     "duration": 0.143665,
     "end_time": "2022-03-14T13:33:09.947185",
     "exception": false,
     "start_time": "2022-03-14T13:33:09.803520",
     "status": "completed"
    },
    "tags": []
   },
   "outputs": [
    {
     "data": {
      "text/html": [
       "<table class=\"dataframe\">\n",
       "<caption>A tibble: 6 × 10</caption>\n",
       "<thead>\n",
       "\t<tr><th scope=col>Id</th><th scope=col>Date</th><th scope=col>WeightKg</th><th scope=col>WeightPounds</th><th scope=col>Fat</th><th scope=col>BMI</th><th scope=col>IsManualReport</th><th scope=col>LogId</th><th scope=col>Dates</th><th scope=col>Time</th></tr>\n",
       "\t<tr><th scope=col>&lt;dbl&gt;</th><th scope=col>&lt;dttm&gt;</th><th scope=col>&lt;dbl&gt;</th><th scope=col>&lt;dbl&gt;</th><th scope=col>&lt;dbl&gt;</th><th scope=col>&lt;dbl&gt;</th><th scope=col>&lt;lgl&gt;</th><th scope=col>&lt;dbl&gt;</th><th scope=col>&lt;date&gt;</th><th scope=col>&lt;time&gt;</th></tr>\n",
       "</thead>\n",
       "<tbody>\n",
       "\t<tr><td>1503960366</td><td>2016-05-02 23:59:59</td><td> 52.6</td><td>115.9631</td><td>22</td><td>22.65</td><td> TRUE</td><td>1.462234e+12</td><td>2016-05-02</td><td>23:59:59</td></tr>\n",
       "\t<tr><td>1503960366</td><td>2016-05-03 23:59:59</td><td> 52.6</td><td>115.9631</td><td>NA</td><td>22.65</td><td> TRUE</td><td>1.462320e+12</td><td>2016-05-03</td><td>23:59:59</td></tr>\n",
       "\t<tr><td>1927972279</td><td>2016-04-13 01:08:52</td><td>133.5</td><td>294.3171</td><td>NA</td><td>47.54</td><td>FALSE</td><td>1.460510e+12</td><td>2016-04-13</td><td>01:08:52</td></tr>\n",
       "\t<tr><td>2873212765</td><td>2016-04-21 23:59:59</td><td> 56.7</td><td>125.0021</td><td>NA</td><td>21.45</td><td> TRUE</td><td>1.461283e+12</td><td>2016-04-21</td><td>23:59:59</td></tr>\n",
       "\t<tr><td>2873212765</td><td>2016-05-12 23:59:59</td><td> 57.3</td><td>126.3249</td><td>NA</td><td>21.69</td><td> TRUE</td><td>1.463098e+12</td><td>2016-05-12</td><td>23:59:59</td></tr>\n",
       "\t<tr><td>4319703577</td><td>2016-04-17 23:59:59</td><td> 72.4</td><td>159.6147</td><td>25</td><td>27.45</td><td> TRUE</td><td>1.460938e+12</td><td>2016-04-17</td><td>23:59:59</td></tr>\n",
       "</tbody>\n",
       "</table>\n"
      ],
      "text/latex": [
       "A tibble: 6 × 10\n",
       "\\begin{tabular}{llllllllll}\n",
       " Id & Date & WeightKg & WeightPounds & Fat & BMI & IsManualReport & LogId & Dates & Time\\\\\n",
       " <dbl> & <dttm> & <dbl> & <dbl> & <dbl> & <dbl> & <lgl> & <dbl> & <date> & <time>\\\\\n",
       "\\hline\n",
       "\t 1503960366 & 2016-05-02 23:59:59 &  52.6 & 115.9631 & 22 & 22.65 &  TRUE & 1.462234e+12 & 2016-05-02 & 23:59:59\\\\\n",
       "\t 1503960366 & 2016-05-03 23:59:59 &  52.6 & 115.9631 & NA & 22.65 &  TRUE & 1.462320e+12 & 2016-05-03 & 23:59:59\\\\\n",
       "\t 1927972279 & 2016-04-13 01:08:52 & 133.5 & 294.3171 & NA & 47.54 & FALSE & 1.460510e+12 & 2016-04-13 & 01:08:52\\\\\n",
       "\t 2873212765 & 2016-04-21 23:59:59 &  56.7 & 125.0021 & NA & 21.45 &  TRUE & 1.461283e+12 & 2016-04-21 & 23:59:59\\\\\n",
       "\t 2873212765 & 2016-05-12 23:59:59 &  57.3 & 126.3249 & NA & 21.69 &  TRUE & 1.463098e+12 & 2016-05-12 & 23:59:59\\\\\n",
       "\t 4319703577 & 2016-04-17 23:59:59 &  72.4 & 159.6147 & 25 & 27.45 &  TRUE & 1.460938e+12 & 2016-04-17 & 23:59:59\\\\\n",
       "\\end{tabular}\n"
      ],
      "text/markdown": [
       "\n",
       "A tibble: 6 × 10\n",
       "\n",
       "| Id &lt;dbl&gt; | Date &lt;dttm&gt; | WeightKg &lt;dbl&gt; | WeightPounds &lt;dbl&gt; | Fat &lt;dbl&gt; | BMI &lt;dbl&gt; | IsManualReport &lt;lgl&gt; | LogId &lt;dbl&gt; | Dates &lt;date&gt; | Time &lt;time&gt; |\n",
       "|---|---|---|---|---|---|---|---|---|---|\n",
       "| 1503960366 | 2016-05-02 23:59:59 |  52.6 | 115.9631 | 22 | 22.65 |  TRUE | 1.462234e+12 | 2016-05-02 | 23:59:59 |\n",
       "| 1503960366 | 2016-05-03 23:59:59 |  52.6 | 115.9631 | NA | 22.65 |  TRUE | 1.462320e+12 | 2016-05-03 | 23:59:59 |\n",
       "| 1927972279 | 2016-04-13 01:08:52 | 133.5 | 294.3171 | NA | 47.54 | FALSE | 1.460510e+12 | 2016-04-13 | 01:08:52 |\n",
       "| 2873212765 | 2016-04-21 23:59:59 |  56.7 | 125.0021 | NA | 21.45 |  TRUE | 1.461283e+12 | 2016-04-21 | 23:59:59 |\n",
       "| 2873212765 | 2016-05-12 23:59:59 |  57.3 | 126.3249 | NA | 21.69 |  TRUE | 1.463098e+12 | 2016-05-12 | 23:59:59 |\n",
       "| 4319703577 | 2016-04-17 23:59:59 |  72.4 | 159.6147 | 25 | 27.45 |  TRUE | 1.460938e+12 | 2016-04-17 | 23:59:59 |\n",
       "\n"
      ],
      "text/plain": [
       "  Id         Date                WeightKg WeightPounds Fat BMI   IsManualReport\n",
       "1 1503960366 2016-05-02 23:59:59  52.6    115.9631     22  22.65  TRUE         \n",
       "2 1503960366 2016-05-03 23:59:59  52.6    115.9631     NA  22.65  TRUE         \n",
       "3 1927972279 2016-04-13 01:08:52 133.5    294.3171     NA  47.54 FALSE         \n",
       "4 2873212765 2016-04-21 23:59:59  56.7    125.0021     NA  21.45  TRUE         \n",
       "5 2873212765 2016-05-12 23:59:59  57.3    126.3249     NA  21.69  TRUE         \n",
       "6 4319703577 2016-04-17 23:59:59  72.4    159.6147     25  27.45  TRUE         \n",
       "  LogId        Dates      Time    \n",
       "1 1.462234e+12 2016-05-02 23:59:59\n",
       "2 1.462320e+12 2016-05-03 23:59:59\n",
       "3 1.460510e+12 2016-04-13 01:08:52\n",
       "4 1.461283e+12 2016-04-21 23:59:59\n",
       "5 1.463098e+12 2016-05-12 23:59:59\n",
       "6 1.460938e+12 2016-04-17 23:59:59"
      ]
     },
     "metadata": {},
     "output_type": "display_data"
    }
   ],
   "source": [
    "weightLog $ Date <- mdy_hms(weightLog $ Date)\n",
    "weightLog $ Dates <- as_date(weightLog $ Date)\n",
    "weightLog $ Time <- as_hms(weightLog $ Date)\n",
    "head(weightLog)"
   ]
  },
  {
   "cell_type": "markdown",
   "id": "a21f5065",
   "metadata": {
    "papermill": {
     "duration": 0.083702,
     "end_time": "2022-03-14T13:33:10.117112",
     "exception": false,
     "start_time": "2022-03-14T13:33:10.033410",
     "status": "completed"
    },
    "tags": []
   },
   "source": [
    "**<h5> 6.4.2 Classifying the BMI values into Underweight,Normal weight,Overweight,Obese weight:**"
   ]
  },
  {
   "cell_type": "code",
   "execution_count": 22,
   "id": "c1c36db3",
   "metadata": {
    "execution": {
     "iopub.execute_input": "2022-03-14T13:33:10.290900Z",
     "iopub.status.busy": "2022-03-14T13:33:10.289330Z",
     "iopub.status.idle": "2022-03-14T13:33:10.339394Z",
     "shell.execute_reply": "2022-03-14T13:33:10.337671Z"
    },
    "papermill": {
     "duration": 0.138746,
     "end_time": "2022-03-14T13:33:10.339726",
     "exception": false,
     "start_time": "2022-03-14T13:33:10.200980",
     "status": "completed"
    },
    "tags": []
   },
   "outputs": [
    {
     "data": {
      "text/html": [
       "<table class=\"dataframe\">\n",
       "<caption>A tibble: 6 × 11</caption>\n",
       "<thead>\n",
       "\t<tr><th scope=col>Id</th><th scope=col>Date</th><th scope=col>WeightKg</th><th scope=col>WeightPounds</th><th scope=col>Fat</th><th scope=col>BMI</th><th scope=col>IsManualReport</th><th scope=col>LogId</th><th scope=col>Dates</th><th scope=col>Time</th><th scope=col>WeightType</th></tr>\n",
       "\t<tr><th scope=col>&lt;dbl&gt;</th><th scope=col>&lt;dttm&gt;</th><th scope=col>&lt;dbl&gt;</th><th scope=col>&lt;dbl&gt;</th><th scope=col>&lt;dbl&gt;</th><th scope=col>&lt;dbl&gt;</th><th scope=col>&lt;lgl&gt;</th><th scope=col>&lt;dbl&gt;</th><th scope=col>&lt;date&gt;</th><th scope=col>&lt;time&gt;</th><th scope=col>&lt;chr&gt;</th></tr>\n",
       "</thead>\n",
       "<tbody>\n",
       "\t<tr><td>1503960366</td><td>2016-05-02 23:59:59</td><td> 52.6</td><td>115.9631</td><td>22</td><td>22.65</td><td> TRUE</td><td>1.462234e+12</td><td>2016-05-02</td><td>23:59:59</td><td>Normal weight</td></tr>\n",
       "\t<tr><td>1503960366</td><td>2016-05-03 23:59:59</td><td> 52.6</td><td>115.9631</td><td>NA</td><td>22.65</td><td> TRUE</td><td>1.462320e+12</td><td>2016-05-03</td><td>23:59:59</td><td>Normal weight</td></tr>\n",
       "\t<tr><td>1927972279</td><td>2016-04-13 01:08:52</td><td>133.5</td><td>294.3171</td><td>NA</td><td>47.54</td><td>FALSE</td><td>1.460510e+12</td><td>2016-04-13</td><td>01:08:52</td><td>Obese        </td></tr>\n",
       "\t<tr><td>2873212765</td><td>2016-04-21 23:59:59</td><td> 56.7</td><td>125.0021</td><td>NA</td><td>21.45</td><td> TRUE</td><td>1.461283e+12</td><td>2016-04-21</td><td>23:59:59</td><td>Normal weight</td></tr>\n",
       "\t<tr><td>2873212765</td><td>2016-05-12 23:59:59</td><td> 57.3</td><td>126.3249</td><td>NA</td><td>21.69</td><td> TRUE</td><td>1.463098e+12</td><td>2016-05-12</td><td>23:59:59</td><td>Normal weight</td></tr>\n",
       "\t<tr><td>4319703577</td><td>2016-04-17 23:59:59</td><td> 72.4</td><td>159.6147</td><td>25</td><td>27.45</td><td> TRUE</td><td>1.460938e+12</td><td>2016-04-17</td><td>23:59:59</td><td>Overweight   </td></tr>\n",
       "</tbody>\n",
       "</table>\n"
      ],
      "text/latex": [
       "A tibble: 6 × 11\n",
       "\\begin{tabular}{lllllllllll}\n",
       " Id & Date & WeightKg & WeightPounds & Fat & BMI & IsManualReport & LogId & Dates & Time & WeightType\\\\\n",
       " <dbl> & <dttm> & <dbl> & <dbl> & <dbl> & <dbl> & <lgl> & <dbl> & <date> & <time> & <chr>\\\\\n",
       "\\hline\n",
       "\t 1503960366 & 2016-05-02 23:59:59 &  52.6 & 115.9631 & 22 & 22.65 &  TRUE & 1.462234e+12 & 2016-05-02 & 23:59:59 & Normal weight\\\\\n",
       "\t 1503960366 & 2016-05-03 23:59:59 &  52.6 & 115.9631 & NA & 22.65 &  TRUE & 1.462320e+12 & 2016-05-03 & 23:59:59 & Normal weight\\\\\n",
       "\t 1927972279 & 2016-04-13 01:08:52 & 133.5 & 294.3171 & NA & 47.54 & FALSE & 1.460510e+12 & 2016-04-13 & 01:08:52 & Obese        \\\\\n",
       "\t 2873212765 & 2016-04-21 23:59:59 &  56.7 & 125.0021 & NA & 21.45 &  TRUE & 1.461283e+12 & 2016-04-21 & 23:59:59 & Normal weight\\\\\n",
       "\t 2873212765 & 2016-05-12 23:59:59 &  57.3 & 126.3249 & NA & 21.69 &  TRUE & 1.463098e+12 & 2016-05-12 & 23:59:59 & Normal weight\\\\\n",
       "\t 4319703577 & 2016-04-17 23:59:59 &  72.4 & 159.6147 & 25 & 27.45 &  TRUE & 1.460938e+12 & 2016-04-17 & 23:59:59 & Overweight   \\\\\n",
       "\\end{tabular}\n"
      ],
      "text/markdown": [
       "\n",
       "A tibble: 6 × 11\n",
       "\n",
       "| Id &lt;dbl&gt; | Date &lt;dttm&gt; | WeightKg &lt;dbl&gt; | WeightPounds &lt;dbl&gt; | Fat &lt;dbl&gt; | BMI &lt;dbl&gt; | IsManualReport &lt;lgl&gt; | LogId &lt;dbl&gt; | Dates &lt;date&gt; | Time &lt;time&gt; | WeightType &lt;chr&gt; |\n",
       "|---|---|---|---|---|---|---|---|---|---|---|\n",
       "| 1503960366 | 2016-05-02 23:59:59 |  52.6 | 115.9631 | 22 | 22.65 |  TRUE | 1.462234e+12 | 2016-05-02 | 23:59:59 | Normal weight |\n",
       "| 1503960366 | 2016-05-03 23:59:59 |  52.6 | 115.9631 | NA | 22.65 |  TRUE | 1.462320e+12 | 2016-05-03 | 23:59:59 | Normal weight |\n",
       "| 1927972279 | 2016-04-13 01:08:52 | 133.5 | 294.3171 | NA | 47.54 | FALSE | 1.460510e+12 | 2016-04-13 | 01:08:52 | Obese         |\n",
       "| 2873212765 | 2016-04-21 23:59:59 |  56.7 | 125.0021 | NA | 21.45 |  TRUE | 1.461283e+12 | 2016-04-21 | 23:59:59 | Normal weight |\n",
       "| 2873212765 | 2016-05-12 23:59:59 |  57.3 | 126.3249 | NA | 21.69 |  TRUE | 1.463098e+12 | 2016-05-12 | 23:59:59 | Normal weight |\n",
       "| 4319703577 | 2016-04-17 23:59:59 |  72.4 | 159.6147 | 25 | 27.45 |  TRUE | 1.460938e+12 | 2016-04-17 | 23:59:59 | Overweight    |\n",
       "\n"
      ],
      "text/plain": [
       "  Id         Date                WeightKg WeightPounds Fat BMI   IsManualReport\n",
       "1 1503960366 2016-05-02 23:59:59  52.6    115.9631     22  22.65  TRUE         \n",
       "2 1503960366 2016-05-03 23:59:59  52.6    115.9631     NA  22.65  TRUE         \n",
       "3 1927972279 2016-04-13 01:08:52 133.5    294.3171     NA  47.54 FALSE         \n",
       "4 2873212765 2016-04-21 23:59:59  56.7    125.0021     NA  21.45  TRUE         \n",
       "5 2873212765 2016-05-12 23:59:59  57.3    126.3249     NA  21.69  TRUE         \n",
       "6 4319703577 2016-04-17 23:59:59  72.4    159.6147     25  27.45  TRUE         \n",
       "  LogId        Dates      Time     WeightType   \n",
       "1 1.462234e+12 2016-05-02 23:59:59 Normal weight\n",
       "2 1.462320e+12 2016-05-03 23:59:59 Normal weight\n",
       "3 1.460510e+12 2016-04-13 01:08:52 Obese        \n",
       "4 1.461283e+12 2016-04-21 23:59:59 Normal weight\n",
       "5 1.463098e+12 2016-05-12 23:59:59 Normal weight\n",
       "6 1.460938e+12 2016-04-17 23:59:59 Overweight   "
      ]
     },
     "metadata": {},
     "output_type": "display_data"
    }
   ],
   "source": [
    "weightLog $ Date <- ymd_hms(weightLog $ Date)\n",
    "weightLog $ Dates <- as_date(weightLog $ Date)\n",
    "weightLog $ Time <- as_hms(weightLog $ Date)\n",
    "weightLog <- weightLog %>%\n",
    "mutate(weightLog , WeightType  = case_when(BMI < 18.5  ~ \"Underwight\",\n",
    "                                  BMI >= 18.5 & BMI <= 24.9 ~ \"Normal weight\",\n",
    "                                  BMI >= 25 & BMI <=29.9 ~ \"Overweight\",\n",
    "                                  BMI >= 30 ~ \"Obese\"))\n",
    "\n",
    "\n",
    "head(weightLog)"
   ]
  },
  {
   "cell_type": "markdown",
   "id": "379f4804",
   "metadata": {
    "papermill": {
     "duration": 0.086898,
     "end_time": "2022-03-14T13:33:10.511280",
     "exception": false,
     "start_time": "2022-03-14T13:33:10.424382",
     "status": "completed"
    },
    "tags": []
   },
   "source": [
    "Body Mass Index(BMI) is a measurement of a person's weight with respect to his or her height. It is more of an indicator than a direct measurement of a person's total body fat."
   ]
  },
  {
   "cell_type": "markdown",
   "id": "a3ee33e4",
   "metadata": {
    "papermill": {
     "duration": 0.088246,
     "end_time": "2022-03-14T13:33:10.686587",
     "exception": false,
     "start_time": "2022-03-14T13:33:10.598341",
     "status": "completed"
    },
    "tags": []
   },
   "source": [
    "**<H3> 7. Analysis:**"
   ]
  },
  {
   "cell_type": "markdown",
   "id": "d316f01f",
   "metadata": {
    "papermill": {
     "duration": 0.085343,
     "end_time": "2022-03-14T13:33:10.857946",
     "exception": false,
     "start_time": "2022-03-14T13:33:10.772603",
     "status": "completed"
    },
    "tags": []
   },
   "source": [
    "**<H4>7.1 To understand the patterns in daily activity:**"
   ]
  },
  {
   "cell_type": "code",
   "execution_count": 23,
   "id": "6f9e0d88",
   "metadata": {
    "execution": {
     "iopub.execute_input": "2022-03-14T13:33:11.035516Z",
     "iopub.status.busy": "2022-03-14T13:33:11.033405Z",
     "iopub.status.idle": "2022-03-14T13:33:11.941752Z",
     "shell.execute_reply": "2022-03-14T13:33:11.940846Z"
    },
    "papermill": {
     "duration": 0.998405,
     "end_time": "2022-03-14T13:33:11.941897",
     "exception": false,
     "start_time": "2022-03-14T13:33:10.943492",
     "status": "completed"
    },
    "tags": []
   },
   "outputs": [
    {
     "name": "stderr",
     "output_type": "stream",
     "text": [
      "`summarise()` has grouped output by 'Day_of_week'. You can override using the `.groups` argument.\n",
      "\n"
     ]
    },
    {
     "data": {
      "text/html": [
       "<table class=\"dataframe\">\n",
       "<caption>A grouped_df: 6 × 3</caption>\n",
       "<thead>\n",
       "\t<tr><th scope=col>Day_of_week</th><th scope=col>ActivityType</th><th scope=col>Avg_hour</th></tr>\n",
       "\t<tr><th scope=col>&lt;ord&gt;</th><th scope=col>&lt;chr&gt;</th><th scope=col>&lt;dbl&gt;</th></tr>\n",
       "</thead>\n",
       "<tbody>\n",
       "\t<tr><td>Sun</td><td>FairlyActiveHour </td><td> 0.2421488</td></tr>\n",
       "\t<tr><td>Sun</td><td>LightlyActiveHour</td><td> 2.8995868</td></tr>\n",
       "\t<tr><td>Sun</td><td>SedentaryHour    </td><td>16.5042700</td></tr>\n",
       "\t<tr><td>Sun</td><td>VeryActiveHour   </td><td> 0.3330579</td></tr>\n",
       "\t<tr><td>Mon</td><td>FairlyActiveHour </td><td> 0.2333333</td></tr>\n",
       "\t<tr><td>Mon</td><td>LightlyActiveHour</td><td> 3.2009722</td></tr>\n",
       "</tbody>\n",
       "</table>\n"
      ],
      "text/latex": [
       "A grouped\\_df: 6 × 3\n",
       "\\begin{tabular}{lll}\n",
       " Day\\_of\\_week & ActivityType & Avg\\_hour\\\\\n",
       " <ord> & <chr> & <dbl>\\\\\n",
       "\\hline\n",
       "\t Sun & FairlyActiveHour  &  0.2421488\\\\\n",
       "\t Sun & LightlyActiveHour &  2.8995868\\\\\n",
       "\t Sun & SedentaryHour     & 16.5042700\\\\\n",
       "\t Sun & VeryActiveHour    &  0.3330579\\\\\n",
       "\t Mon & FairlyActiveHour  &  0.2333333\\\\\n",
       "\t Mon & LightlyActiveHour &  3.2009722\\\\\n",
       "\\end{tabular}\n"
      ],
      "text/markdown": [
       "\n",
       "A grouped_df: 6 × 3\n",
       "\n",
       "| Day_of_week &lt;ord&gt; | ActivityType &lt;chr&gt; | Avg_hour &lt;dbl&gt; |\n",
       "|---|---|---|\n",
       "| Sun | FairlyActiveHour  |  0.2421488 |\n",
       "| Sun | LightlyActiveHour |  2.8995868 |\n",
       "| Sun | SedentaryHour     | 16.5042700 |\n",
       "| Sun | VeryActiveHour    |  0.3330579 |\n",
       "| Mon | FairlyActiveHour  |  0.2333333 |\n",
       "| Mon | LightlyActiveHour |  3.2009722 |\n",
       "\n"
      ],
      "text/plain": [
       "  Day_of_week ActivityType      Avg_hour  \n",
       "1 Sun         FairlyActiveHour   0.2421488\n",
       "2 Sun         LightlyActiveHour  2.8995868\n",
       "3 Sun         SedentaryHour     16.5042700\n",
       "4 Sun         VeryActiveHour     0.3330579\n",
       "5 Mon         FairlyActiveHour   0.2333333\n",
       "6 Mon         LightlyActiveHour  3.2009722"
      ]
     },
     "metadata": {},
     "output_type": "display_data"
    },
    {
     "data": {
      "image/png": "[encoded data removed]"
     },
     "metadata": {
      "image/png": {
       "height": 420,
       "width": 420
      }
     },
     "output_type": "display_data"
    }
   ],
   "source": [
    "daily_activity_df <- group_by(daily_activity,Day_of_week,ActivityType)%>%\n",
    "                    summarise(Avg_hour=mean(Activity_hour))\n",
    "                      \n",
    "head(daily_activity_df)\n",
    "\n",
    "\n",
    "ggplot(data=daily_activity_df)+\n",
    "geom_bar(aes(x=Day_of_week,y=Avg_hour,fill=ActivityType),stat=\"identity\")+\n",
    "facet_wrap(~ActivityType)+\n",
    "labs(title=\"Average duration of each activity type\")+\n",
    "xlab(\"Day_of_week\")+\n",
    "ylab(\"Average_hours in a day\")"
   ]
  },
  {
   "cell_type": "markdown",
   "id": "2a7f3e32",
   "metadata": {
    "papermill": {
     "duration": 0.088946,
     "end_time": "2022-03-14T13:33:12.121883",
     "exception": false,
     "start_time": "2022-03-14T13:33:12.032937",
     "status": "completed"
    },
    "tags": []
   },
   "source": [
    "* From the above grid chart, it can be seen that the Fitbit users spend most of their day sedentarily, on an average. About 15 hours,in a day comes under sedentary lifestyle which also includes their sleeping hours.\n",
    "* About 4 average hours in a day count as Lightly Active activity type.\n",
    "* While only about 1 hour can be counted for Very Active and Fairly active activity types."
   ]
  },
  {
   "cell_type": "markdown",
   "id": "e561cc4e",
   "metadata": {
    "papermill": {
     "duration": 0.089198,
     "end_time": "2022-03-14T13:33:12.299882",
     "exception": false,
     "start_time": "2022-03-14T13:33:12.210684",
     "status": "completed"
    },
    "tags": []
   },
   "source": [
    "**<H4> 7.2 To observe the walking duration pattern:**"
   ]
  },
  {
   "cell_type": "code",
   "execution_count": 24,
   "id": "47f8fe41",
   "metadata": {
    "execution": {
     "iopub.execute_input": "2022-03-14T13:33:12.483908Z",
     "iopub.status.busy": "2022-03-14T13:33:12.482141Z",
     "iopub.status.idle": "2022-03-14T13:33:12.730749Z",
     "shell.execute_reply": "2022-03-14T13:33:12.729142Z"
    },
    "papermill": {
     "duration": 0.341345,
     "end_time": "2022-03-14T13:33:12.730903",
     "exception": false,
     "start_time": "2022-03-14T13:33:12.389558",
     "status": "completed"
    },
    "tags": []
   },
   "outputs": [
    {
     "data": {
      "text/html": [
       "<table class=\"dataframe\">\n",
       "<caption>A tibble: 7 × 2</caption>\n",
       "<thead>\n",
       "\t<tr><th scope=col>Day_of_week</th><th scope=col>average_steps</th></tr>\n",
       "\t<tr><th scope=col>&lt;ord&gt;</th><th scope=col>&lt;dbl&gt;</th></tr>\n",
       "</thead>\n",
       "<tbody>\n",
       "\t<tr><td>Sun</td><td>6933.231</td></tr>\n",
       "\t<tr><td>Mon</td><td>7780.867</td></tr>\n",
       "\t<tr><td>Tue</td><td>8125.007</td></tr>\n",
       "\t<tr><td>Wed</td><td>7559.373</td></tr>\n",
       "\t<tr><td>Thu</td><td>7405.837</td></tr>\n",
       "\t<tr><td>Fri</td><td>7448.230</td></tr>\n",
       "\t<tr><td>Sat</td><td>8152.976</td></tr>\n",
       "</tbody>\n",
       "</table>\n"
      ],
      "text/latex": [
       "A tibble: 7 × 2\n",
       "\\begin{tabular}{ll}\n",
       " Day\\_of\\_week & average\\_steps\\\\\n",
       " <ord> & <dbl>\\\\\n",
       "\\hline\n",
       "\t Sun & 6933.231\\\\\n",
       "\t Mon & 7780.867\\\\\n",
       "\t Tue & 8125.007\\\\\n",
       "\t Wed & 7559.373\\\\\n",
       "\t Thu & 7405.837\\\\\n",
       "\t Fri & 7448.230\\\\\n",
       "\t Sat & 8152.976\\\\\n",
       "\\end{tabular}\n"
      ],
      "text/markdown": [
       "\n",
       "A tibble: 7 × 2\n",
       "\n",
       "| Day_of_week &lt;ord&gt; | average_steps &lt;dbl&gt; |\n",
       "|---|---|\n",
       "| Sun | 6933.231 |\n",
       "| Mon | 7780.867 |\n",
       "| Tue | 8125.007 |\n",
       "| Wed | 7559.373 |\n",
       "| Thu | 7405.837 |\n",
       "| Fri | 7448.230 |\n",
       "| Sat | 8152.976 |\n",
       "\n"
      ],
      "text/plain": [
       "  Day_of_week average_steps\n",
       "1 Sun         6933.231     \n",
       "2 Mon         7780.867     \n",
       "3 Tue         8125.007     \n",
       "4 Wed         7559.373     \n",
       "5 Thu         7405.837     \n",
       "6 Fri         7448.230     \n",
       "7 Sat         8152.976     "
      ]
     },
     "metadata": {},
     "output_type": "display_data"
    },
    {
     "data": {
      "image/png": "[encoded data removed]"
     },
     "metadata": {
      "image/png": {
       "height": 420,
       "width": 420
      }
     },
     "output_type": "display_data"
    }
   ],
   "source": [
    "daily_dfs <- group_by(daily_activity,Day_of_week)%>%\n",
    "            summarise(average_steps=mean(TotalSteps)) \n",
    "(daily_dfs)\n",
    "\n",
    "## Plotting a visualisation on the average number of steps per day of week\n",
    "\n",
    "ggplot(daily_dfs)+geom_bar(aes(Day_of_week,average_steps),stat=\"identity\",fill='royal blue')+\n",
    "labs(title=\"Average Steps from Monday to Sunday\")+\n",
    "     xlab(\"Day_of_week\")+ \n",
    "ylab(\"Average Steps\")"
   ]
  },
  {
   "cell_type": "markdown",
   "id": "7e0e99aa",
   "metadata": {
    "papermill": {
     "duration": 0.090601,
     "end_time": "2022-03-14T13:33:12.912840",
     "exception": false,
     "start_time": "2022-03-14T13:33:12.822239",
     "status": "completed"
    },
    "tags": []
   },
   "source": [
    "It can be seen that the users tend to cover maximum steps on Saturday followed by Tuesday. The steps start decreasing from Tuesday and spike up the most on Saturday; with the least number of steps on Sunday.\n",
    "This shows that users are most active with walking on Tuesday and Saturday, with the least walking on Sunday."
   ]
  },
  {
   "cell_type": "markdown",
   "id": "d0ce6a37",
   "metadata": {
    "papermill": {
     "duration": 0.091165,
     "end_time": "2022-03-14T13:33:13.094367",
     "exception": false,
     "start_time": "2022-03-14T13:33:13.003202",
     "status": "completed"
    },
    "tags": []
   },
   "source": [
    "**<H4> 7.3 To notice the period during which people are most active:**"
   ]
  },
  {
   "cell_type": "code",
   "execution_count": 25,
   "id": "c0967cad",
   "metadata": {
    "execution": {
     "iopub.execute_input": "2022-03-14T13:33:13.282473Z",
     "iopub.status.busy": "2022-03-14T13:33:13.280405Z",
     "iopub.status.idle": "2022-03-14T13:33:17.101616Z",
     "shell.execute_reply": "2022-03-14T13:33:17.102103Z"
    },
    "papermill": {
     "duration": 3.916544,
     "end_time": "2022-03-14T13:33:17.102284",
     "exception": false,
     "start_time": "2022-03-14T13:33:13.185740",
     "status": "completed"
    },
    "tags": []
   },
   "outputs": [
    {
     "name": "stderr",
     "output_type": "stream",
     "text": [
      "`geom_smooth()` using method = 'gam' and formula 'y ~ s(x, bs = \"cs\")'\n",
      "\n"
     ]
    },
    {
     "data": {
      "image/png": "[encoded data removed]"
     },
     "metadata": {
      "image/png": {
       "height": 420,
       "width": 420
      }
     },
     "output_type": "display_data"
    }
   ],
   "source": [
    "ggplot(data=hourly_dfp)+\n",
    "geom_point(mapping=aes(x=Time,y=TotalIntensity))+\n",
    "geom_smooth(mapping=aes(x=Time,y=TotalIntensity))+\n",
    "xlab(\"Time\")+\n",
    "ylab(\"Workout Intensity\")+\n",
    "labs(title=\"To find out when are people most Active\")"
   ]
  },
  {
   "cell_type": "markdown",
   "id": "ffc67a93",
   "metadata": {
    "papermill": {
     "duration": 0.095132,
     "end_time": "2022-03-14T13:33:17.292721",
     "exception": false,
     "start_time": "2022-03-14T13:33:17.197589",
     "status": "completed"
    },
    "tags": []
   },
   "source": [
    "It can be observed that people start working out from 4 A.M with steady rise in number till 12 P.M. There is a spike at 6 P.M in the next half day, so users start working out with full intensity from 4 P.M with rising curve till 6 PM, where it reaches the peak. After 6 PM, people tend to stop working out."
   ]
  },
  {
   "cell_type": "markdown",
   "id": "c72cfc67",
   "metadata": {
    "papermill": {
     "duration": 0.094918,
     "end_time": "2022-03-14T13:33:17.482921",
     "exception": false,
     "start_time": "2022-03-14T13:33:17.388003",
     "status": "completed"
    },
    "tags": []
   },
   "source": [
    "**<H4> 7.4 To find out which ActivityType burns the most Calories:**"
   ]
  },
  {
   "cell_type": "code",
   "execution_count": 26,
   "id": "9589d3f2",
   "metadata": {
    "execution": {
     "iopub.execute_input": "2022-03-14T13:33:17.680077Z",
     "iopub.status.busy": "2022-03-14T13:33:17.678450Z",
     "iopub.status.idle": "2022-03-14T13:33:18.907564Z",
     "shell.execute_reply": "2022-03-14T13:33:18.906380Z"
    },
    "papermill": {
     "duration": 1.329067,
     "end_time": "2022-03-14T13:33:18.907882",
     "exception": false,
     "start_time": "2022-03-14T13:33:17.578815",
     "status": "completed"
    },
    "tags": []
   },
   "outputs": [
    {
     "data": {
      "image/png": "[encoded data removed]"
     },
     "metadata": {
      "image/png": {
       "height": 420,
       "width": 420
      }
     },
     "output_type": "display_data"
    }
   ],
   "source": [
    "ggplot(data=hourly_dfp)+geom_point(mapping=aes(ActivityType,Calories))+\n",
    "labs(title= \"Which Activity Type burns out the most Calories?\")+\n",
    "    xlab(\"ActivityType\")+\n",
    "    ylab(\"Calories burnt\")"
   ]
  },
  {
   "cell_type": "markdown",
   "id": "bb78b2c2",
   "metadata": {
    "papermill": {
     "duration": 0.097842,
     "end_time": "2022-03-14T13:33:19.103791",
     "exception": false,
     "start_time": "2022-03-14T13:33:19.005949",
     "status": "completed"
    },
    "tags": []
   },
   "source": [
    "'VeryActive' category tends to burn out the most calories followed by Active and Sedentary categories. Sedentary activitytype burns the least calories. "
   ]
  },
  {
   "cell_type": "markdown",
   "id": "9824e724",
   "metadata": {
    "papermill": {
     "duration": 0.096576,
     "end_time": "2022-03-14T13:33:19.297028",
     "exception": false,
     "start_time": "2022-03-14T13:33:19.200452",
     "status": "completed"
    },
    "tags": []
   },
   "source": [
    "<H4>"
   ]
  },
  {
   "cell_type": "markdown",
   "id": "74824dd6",
   "metadata": {
    "papermill": {
     "duration": 0.096332,
     "end_time": "2022-03-14T13:33:19.491224",
     "exception": false,
     "start_time": "2022-03-14T13:33:19.394892",
     "status": "completed"
    },
    "tags": []
   },
   "source": [
    "**<h4> 7.5 To observe the Sleeping pattern of the users:**"
   ]
  },
  {
   "cell_type": "markdown",
   "id": "452164e8",
   "metadata": {
    "papermill": {
     "duration": 0.096321,
     "end_time": "2022-03-14T13:33:19.684067",
     "exception": false,
     "start_time": "2022-03-14T13:33:19.587746",
     "status": "completed"
    },
    "tags": []
   },
   "source": [
    "**Joining the sleep data with daily data to find a relation between the sleeping pattern of the users and the calories burnt during workouts:**"
   ]
  },
  {
   "cell_type": "code",
   "execution_count": 27,
   "id": "dccdfc17",
   "metadata": {
    "execution": {
     "iopub.execute_input": "2022-03-14T13:33:19.883549Z",
     "iopub.status.busy": "2022-03-14T13:33:19.881943Z",
     "iopub.status.idle": "2022-03-14T13:33:19.921768Z",
     "shell.execute_reply": "2022-03-14T13:33:19.920169Z"
    },
    "papermill": {
     "duration": 0.141575,
     "end_time": "2022-03-14T13:33:19.921926",
     "exception": false,
     "start_time": "2022-03-14T13:33:19.780351",
     "status": "completed"
    },
    "tags": []
   },
   "outputs": [
    {
     "data": {
      "text/html": [
       "<table class=\"dataframe\">\n",
       "<caption>A tibble: 6 × 24</caption>\n",
       "<thead>\n",
       "\t<tr><th scope=col>Id</th><th scope=col>ActivityDate</th><th scope=col>TotalSteps</th><th scope=col>TotalDistance</th><th scope=col>TrackerDistance</th><th scope=col>LoggedActivitiesDistance</th><th scope=col>VeryActiveDistance</th><th scope=col>ModeratelyActiveDistance</th><th scope=col>LightActiveDistance</th><th scope=col>SedentaryActiveDistance</th><th scope=col>⋯</th><th scope=col>Calories</th><th scope=col>Day_of_week</th><th scope=col>ActivityType</th><th scope=col>Activity_hour</th><th scope=col>SleepDay</th><th scope=col>TotalSleepRecords</th><th scope=col>TotalMinutesAsleep</th><th scope=col>TotalTimeInBed</th><th scope=col>Date</th><th scope=col>Sleeptype</th></tr>\n",
       "\t<tr><th scope=col>&lt;dbl&gt;</th><th scope=col>&lt;date&gt;</th><th scope=col>&lt;dbl&gt;</th><th scope=col>&lt;dbl&gt;</th><th scope=col>&lt;dbl&gt;</th><th scope=col>&lt;dbl&gt;</th><th scope=col>&lt;dbl&gt;</th><th scope=col>&lt;dbl&gt;</th><th scope=col>&lt;dbl&gt;</th><th scope=col>&lt;dbl&gt;</th><th scope=col>⋯</th><th scope=col>&lt;dbl&gt;</th><th scope=col>&lt;ord&gt;</th><th scope=col>&lt;chr&gt;</th><th scope=col>&lt;dbl&gt;</th><th scope=col>&lt;dttm&gt;</th><th scope=col>&lt;dbl&gt;</th><th scope=col>&lt;dbl&gt;</th><th scope=col>&lt;dbl&gt;</th><th scope=col>&lt;date&gt;</th><th scope=col>&lt;chr&gt;</th></tr>\n",
       "</thead>\n",
       "<tbody>\n",
       "\t<tr><td>1503960366</td><td>2016-04-12</td><td>13162</td><td>8.5</td><td>8.5</td><td>0</td><td>1.88</td><td>0.55</td><td>6.06</td><td>0</td><td>⋯</td><td>1985</td><td>Tue</td><td>VeryActiveHour</td><td>0.4166667</td><td>2016-04-12</td><td>1</td><td>327</td><td>346</td><td>2016-04-12</td><td>Less Sleep  </td></tr>\n",
       "\t<tr><td>1503960366</td><td>2016-04-12</td><td>13162</td><td>8.5</td><td>8.5</td><td>0</td><td>1.88</td><td>0.55</td><td>6.06</td><td>0</td><td>⋯</td><td>1985</td><td>Tue</td><td>VeryActiveHour</td><td>0.4166667</td><td>2016-04-13</td><td>2</td><td>384</td><td>407</td><td>2016-04-13</td><td>Less Sleep  </td></tr>\n",
       "\t<tr><td>1503960366</td><td>2016-04-12</td><td>13162</td><td>8.5</td><td>8.5</td><td>0</td><td>1.88</td><td>0.55</td><td>6.06</td><td>0</td><td>⋯</td><td>1985</td><td>Tue</td><td>VeryActiveHour</td><td>0.4166667</td><td>2016-04-15</td><td>1</td><td>412</td><td>442</td><td>2016-04-15</td><td>Normal Sleep</td></tr>\n",
       "\t<tr><td>1503960366</td><td>2016-04-12</td><td>13162</td><td>8.5</td><td>8.5</td><td>0</td><td>1.88</td><td>0.55</td><td>6.06</td><td>0</td><td>⋯</td><td>1985</td><td>Tue</td><td>VeryActiveHour</td><td>0.4166667</td><td>2016-04-16</td><td>2</td><td>340</td><td>367</td><td>2016-04-16</td><td>Less Sleep  </td></tr>\n",
       "\t<tr><td>1503960366</td><td>2016-04-12</td><td>13162</td><td>8.5</td><td>8.5</td><td>0</td><td>1.88</td><td>0.55</td><td>6.06</td><td>0</td><td>⋯</td><td>1985</td><td>Tue</td><td>VeryActiveHour</td><td>0.4166667</td><td>2016-04-17</td><td>1</td><td>700</td><td>712</td><td>2016-04-17</td><td>More Sleep  </td></tr>\n",
       "\t<tr><td>1503960366</td><td>2016-04-12</td><td>13162</td><td>8.5</td><td>8.5</td><td>0</td><td>1.88</td><td>0.55</td><td>6.06</td><td>0</td><td>⋯</td><td>1985</td><td>Tue</td><td>VeryActiveHour</td><td>0.4166667</td><td>2016-04-19</td><td>1</td><td>304</td><td>320</td><td>2016-04-19</td><td>Less Sleep  </td></tr>\n",
       "</tbody>\n",
       "</table>\n"
      ],
      "text/latex": [
       "A tibble: 6 × 24\n",
       "\\begin{tabular}{lllllllllllllllllllll}\n",
       " Id & ActivityDate & TotalSteps & TotalDistance & TrackerDistance & LoggedActivitiesDistance & VeryActiveDistance & ModeratelyActiveDistance & LightActiveDistance & SedentaryActiveDistance & ⋯ & Calories & Day\\_of\\_week & ActivityType & Activity\\_hour & SleepDay & TotalSleepRecords & TotalMinutesAsleep & TotalTimeInBed & Date & Sleeptype\\\\\n",
       " <dbl> & <date> & <dbl> & <dbl> & <dbl> & <dbl> & <dbl> & <dbl> & <dbl> & <dbl> & ⋯ & <dbl> & <ord> & <chr> & <dbl> & <dttm> & <dbl> & <dbl> & <dbl> & <date> & <chr>\\\\\n",
       "\\hline\n",
       "\t 1503960366 & 2016-04-12 & 13162 & 8.5 & 8.5 & 0 & 1.88 & 0.55 & 6.06 & 0 & ⋯ & 1985 & Tue & VeryActiveHour & 0.4166667 & 2016-04-12 & 1 & 327 & 346 & 2016-04-12 & Less Sleep  \\\\\n",
       "\t 1503960366 & 2016-04-12 & 13162 & 8.5 & 8.5 & 0 & 1.88 & 0.55 & 6.06 & 0 & ⋯ & 1985 & Tue & VeryActiveHour & 0.4166667 & 2016-04-13 & 2 & 384 & 407 & 2016-04-13 & Less Sleep  \\\\\n",
       "\t 1503960366 & 2016-04-12 & 13162 & 8.5 & 8.5 & 0 & 1.88 & 0.55 & 6.06 & 0 & ⋯ & 1985 & Tue & VeryActiveHour & 0.4166667 & 2016-04-15 & 1 & 412 & 442 & 2016-04-15 & Normal Sleep\\\\\n",
       "\t 1503960366 & 2016-04-12 & 13162 & 8.5 & 8.5 & 0 & 1.88 & 0.55 & 6.06 & 0 & ⋯ & 1985 & Tue & VeryActiveHour & 0.4166667 & 2016-04-16 & 2 & 340 & 367 & 2016-04-16 & Less Sleep  \\\\\n",
       "\t 1503960366 & 2016-04-12 & 13162 & 8.5 & 8.5 & 0 & 1.88 & 0.55 & 6.06 & 0 & ⋯ & 1985 & Tue & VeryActiveHour & 0.4166667 & 2016-04-17 & 1 & 700 & 712 & 2016-04-17 & More Sleep  \\\\\n",
       "\t 1503960366 & 2016-04-12 & 13162 & 8.5 & 8.5 & 0 & 1.88 & 0.55 & 6.06 & 0 & ⋯ & 1985 & Tue & VeryActiveHour & 0.4166667 & 2016-04-19 & 1 & 304 & 320 & 2016-04-19 & Less Sleep  \\\\\n",
       "\\end{tabular}\n"
      ],
      "text/markdown": [
       "\n",
       "A tibble: 6 × 24\n",
       "\n",
       "| Id &lt;dbl&gt; | ActivityDate &lt;date&gt; | TotalSteps &lt;dbl&gt; | TotalDistance &lt;dbl&gt; | TrackerDistance &lt;dbl&gt; | LoggedActivitiesDistance &lt;dbl&gt; | VeryActiveDistance &lt;dbl&gt; | ModeratelyActiveDistance &lt;dbl&gt; | LightActiveDistance &lt;dbl&gt; | SedentaryActiveDistance &lt;dbl&gt; | ⋯ ⋯ | Calories &lt;dbl&gt; | Day_of_week &lt;ord&gt; | ActivityType &lt;chr&gt; | Activity_hour &lt;dbl&gt; | SleepDay &lt;dttm&gt; | TotalSleepRecords &lt;dbl&gt; | TotalMinutesAsleep &lt;dbl&gt; | TotalTimeInBed &lt;dbl&gt; | Date &lt;date&gt; | Sleeptype &lt;chr&gt; |\n",
       "|---|---|---|---|---|---|---|---|---|---|---|---|---|---|---|---|---|---|---|---|---|\n",
       "| 1503960366 | 2016-04-12 | 13162 | 8.5 | 8.5 | 0 | 1.88 | 0.55 | 6.06 | 0 | ⋯ | 1985 | Tue | VeryActiveHour | 0.4166667 | 2016-04-12 | 1 | 327 | 346 | 2016-04-12 | Less Sleep   |\n",
       "| 1503960366 | 2016-04-12 | 13162 | 8.5 | 8.5 | 0 | 1.88 | 0.55 | 6.06 | 0 | ⋯ | 1985 | Tue | VeryActiveHour | 0.4166667 | 2016-04-13 | 2 | 384 | 407 | 2016-04-13 | Less Sleep   |\n",
       "| 1503960366 | 2016-04-12 | 13162 | 8.5 | 8.5 | 0 | 1.88 | 0.55 | 6.06 | 0 | ⋯ | 1985 | Tue | VeryActiveHour | 0.4166667 | 2016-04-15 | 1 | 412 | 442 | 2016-04-15 | Normal Sleep |\n",
       "| 1503960366 | 2016-04-12 | 13162 | 8.5 | 8.5 | 0 | 1.88 | 0.55 | 6.06 | 0 | ⋯ | 1985 | Tue | VeryActiveHour | 0.4166667 | 2016-04-16 | 2 | 340 | 367 | 2016-04-16 | Less Sleep   |\n",
       "| 1503960366 | 2016-04-12 | 13162 | 8.5 | 8.5 | 0 | 1.88 | 0.55 | 6.06 | 0 | ⋯ | 1985 | Tue | VeryActiveHour | 0.4166667 | 2016-04-17 | 1 | 700 | 712 | 2016-04-17 | More Sleep   |\n",
       "| 1503960366 | 2016-04-12 | 13162 | 8.5 | 8.5 | 0 | 1.88 | 0.55 | 6.06 | 0 | ⋯ | 1985 | Tue | VeryActiveHour | 0.4166667 | 2016-04-19 | 1 | 304 | 320 | 2016-04-19 | Less Sleep   |\n",
       "\n"
      ],
      "text/plain": [
       "  Id         ActivityDate TotalSteps TotalDistance TrackerDistance\n",
       "1 1503960366 2016-04-12   13162      8.5           8.5            \n",
       "2 1503960366 2016-04-12   13162      8.5           8.5            \n",
       "3 1503960366 2016-04-12   13162      8.5           8.5            \n",
       "4 1503960366 2016-04-12   13162      8.5           8.5            \n",
       "5 1503960366 2016-04-12   13162      8.5           8.5            \n",
       "6 1503960366 2016-04-12   13162      8.5           8.5            \n",
       "  LoggedActivitiesDistance VeryActiveDistance ModeratelyActiveDistance\n",
       "1 0                        1.88               0.55                    \n",
       "2 0                        1.88               0.55                    \n",
       "3 0                        1.88               0.55                    \n",
       "4 0                        1.88               0.55                    \n",
       "5 0                        1.88               0.55                    \n",
       "6 0                        1.88               0.55                    \n",
       "  LightActiveDistance SedentaryActiveDistance ⋯ Calories Day_of_week\n",
       "1 6.06                0                       ⋯ 1985     Tue        \n",
       "2 6.06                0                       ⋯ 1985     Tue        \n",
       "3 6.06                0                       ⋯ 1985     Tue        \n",
       "4 6.06                0                       ⋯ 1985     Tue        \n",
       "5 6.06                0                       ⋯ 1985     Tue        \n",
       "6 6.06                0                       ⋯ 1985     Tue        \n",
       "  ActivityType   Activity_hour SleepDay   TotalSleepRecords TotalMinutesAsleep\n",
       "1 VeryActiveHour 0.4166667     2016-04-12 1                 327               \n",
       "2 VeryActiveHour 0.4166667     2016-04-13 2                 384               \n",
       "3 VeryActiveHour 0.4166667     2016-04-15 1                 412               \n",
       "4 VeryActiveHour 0.4166667     2016-04-16 2                 340               \n",
       "5 VeryActiveHour 0.4166667     2016-04-17 1                 700               \n",
       "6 VeryActiveHour 0.4166667     2016-04-19 1                 304               \n",
       "  TotalTimeInBed Date       Sleeptype   \n",
       "1 346            2016-04-12 Less Sleep  \n",
       "2 407            2016-04-13 Less Sleep  \n",
       "3 442            2016-04-15 Normal Sleep\n",
       "4 367            2016-04-16 Less Sleep  \n",
       "5 712            2016-04-17 More Sleep  \n",
       "6 320            2016-04-19 Less Sleep  "
      ]
     },
     "metadata": {},
     "output_type": "display_data"
    }
   ],
   "source": [
    "sleep_data <- inner_join(daily_activity,sleepDay_df,by=\"Id\")\n",
    "head(sleep_data)"
   ]
  },
  {
   "cell_type": "code",
   "execution_count": 28,
   "id": "90990ae0",
   "metadata": {
    "execution": {
     "iopub.execute_input": "2022-03-14T13:33:20.125795Z",
     "iopub.status.busy": "2022-03-14T13:33:20.124407Z",
     "iopub.status.idle": "2022-03-14T13:33:20.342009Z",
     "shell.execute_reply": "2022-03-14T13:33:20.340634Z"
    },
    "papermill": {
     "duration": 0.320615,
     "end_time": "2022-03-14T13:33:20.342150",
     "exception": false,
     "start_time": "2022-03-14T13:33:20.021535",
     "status": "completed"
    },
    "tags": []
   },
   "outputs": [
    {
     "data": {
      "text/html": [
       "<table class=\"dataframe\">\n",
       "<caption>A tibble: 3 × 2</caption>\n",
       "<thead>\n",
       "\t<tr><th scope=col>Sleeptype</th><th scope=col>Avg_cal</th></tr>\n",
       "\t<tr><th scope=col>&lt;chr&gt;</th><th scope=col>&lt;dbl&gt;</th></tr>\n",
       "</thead>\n",
       "<tbody>\n",
       "\t<tr><td>Less Sleep  </td><td>2272.585</td></tr>\n",
       "\t<tr><td>More Sleep  </td><td>2224.542</td></tr>\n",
       "\t<tr><td>Normal Sleep</td><td>2373.456</td></tr>\n",
       "</tbody>\n",
       "</table>\n"
      ],
      "text/latex": [
       "A tibble: 3 × 2\n",
       "\\begin{tabular}{ll}\n",
       " Sleeptype & Avg\\_cal\\\\\n",
       " <chr> & <dbl>\\\\\n",
       "\\hline\n",
       "\t Less Sleep   & 2272.585\\\\\n",
       "\t More Sleep   & 2224.542\\\\\n",
       "\t Normal Sleep & 2373.456\\\\\n",
       "\\end{tabular}\n"
      ],
      "text/markdown": [
       "\n",
       "A tibble: 3 × 2\n",
       "\n",
       "| Sleeptype &lt;chr&gt; | Avg_cal &lt;dbl&gt; |\n",
       "|---|---|\n",
       "| Less Sleep   | 2272.585 |\n",
       "| More Sleep   | 2224.542 |\n",
       "| Normal Sleep | 2373.456 |\n",
       "\n"
      ],
      "text/plain": [
       "  Sleeptype    Avg_cal \n",
       "1 Less Sleep   2272.585\n",
       "2 More Sleep   2224.542\n",
       "3 Normal Sleep 2373.456"
      ]
     },
     "metadata": {},
     "output_type": "display_data"
    },
    {
     "data": {
      "image/png": "[encoded data removed]"
     },
     "metadata": {
      "image/png": {
       "height": 420,
       "width": 420
      }
     },
     "output_type": "display_data"
    }
   ],
   "source": [
    "\n",
    "sleep_data_df <- select(sleep_data, Calories, Sleeptype)%>%\n",
    "            group_by(Sleeptype)%>%\n",
    "            summarise(Avg_cal=mean(Calories))\n",
    "head(sleep_data_df)\n",
    "\n",
    "\n",
    "ggplot(data=sleep_data_df)+geom_bar(aes(x=Sleeptype,y=Avg_cal),stat=\"identity\", fill=\"royalblue\")+\n",
    "            labs(title=\"How do Active people sleep?\")+\n",
    "            xlab(\"Sleep Type\")+\n",
    "            ylab(\" Average calories burnt during the day\")"
   ]
  },
  {
   "cell_type": "markdown",
   "id": "96f5644f",
   "metadata": {
    "papermill": {
     "duration": 0.101567,
     "end_time": "2022-03-14T13:33:20.543864",
     "exception": false,
     "start_time": "2022-03-14T13:33:20.442297",
     "status": "completed"
    },
    "tags": []
   },
   "source": [
    "It can be observed that the people burning maximum calories in the day tend to have normal sleep cycle, ranging 8-10 hours. While people with less and more sleep shed few calories during the day compared to the people with normal sleep."
   ]
  },
  {
   "cell_type": "markdown",
   "id": "735813b6",
   "metadata": {
    "papermill": {
     "duration": 0.103311,
     "end_time": "2022-03-14T13:33:20.751155",
     "exception": false,
     "start_time": "2022-03-14T13:33:20.647844",
     "status": "completed"
    },
    "tags": []
   },
   "source": [
    "**<H4> 7.6 To observe the pattern in Calories burn out for each Activity Type:**"
   ]
  },
  {
   "cell_type": "code",
   "execution_count": 29,
   "id": "d56cea7a",
   "metadata": {
    "execution": {
     "iopub.execute_input": "2022-03-14T13:33:20.962579Z",
     "iopub.status.busy": "2022-03-14T13:33:20.960565Z",
     "iopub.status.idle": "2022-03-14T13:33:21.013688Z",
     "shell.execute_reply": "2022-03-14T13:33:21.011554Z"
    },
    "papermill": {
     "duration": 0.160793,
     "end_time": "2022-03-14T13:33:21.013843",
     "exception": false,
     "start_time": "2022-03-14T13:33:20.853050",
     "status": "completed"
    },
    "tags": []
   },
   "outputs": [
    {
     "data": {
      "text/html": [
       "<table class=\"dataframe\">\n",
       "<caption>A tibble: 6 × 28</caption>\n",
       "<thead>\n",
       "\t<tr><th scope=col>Id</th><th scope=col>ActivityDate</th><th scope=col>TotalSteps</th><th scope=col>TotalDistance</th><th scope=col>TrackerDistance</th><th scope=col>LoggedActivitiesDistance</th><th scope=col>VeryActiveDistance</th><th scope=col>ModeratelyActiveDistance</th><th scope=col>LightActiveDistance</th><th scope=col>SedentaryActiveDistance</th><th scope=col>⋯</th><th scope=col>Date</th><th scope=col>WeightKg</th><th scope=col>WeightPounds</th><th scope=col>Fat</th><th scope=col>BMI</th><th scope=col>IsManualReport</th><th scope=col>LogId</th><th scope=col>Dates</th><th scope=col>Time</th><th scope=col>WeightType</th></tr>\n",
       "\t<tr><th scope=col>&lt;dbl&gt;</th><th scope=col>&lt;date&gt;</th><th scope=col>&lt;dbl&gt;</th><th scope=col>&lt;dbl&gt;</th><th scope=col>&lt;dbl&gt;</th><th scope=col>&lt;dbl&gt;</th><th scope=col>&lt;dbl&gt;</th><th scope=col>&lt;dbl&gt;</th><th scope=col>&lt;dbl&gt;</th><th scope=col>&lt;dbl&gt;</th><th scope=col>⋯</th><th scope=col>&lt;dttm&gt;</th><th scope=col>&lt;dbl&gt;</th><th scope=col>&lt;dbl&gt;</th><th scope=col>&lt;dbl&gt;</th><th scope=col>&lt;dbl&gt;</th><th scope=col>&lt;lgl&gt;</th><th scope=col>&lt;dbl&gt;</th><th scope=col>&lt;date&gt;</th><th scope=col>&lt;time&gt;</th><th scope=col>&lt;chr&gt;</th></tr>\n",
       "</thead>\n",
       "<tbody>\n",
       "\t<tr><td>1503960366</td><td>2016-04-12</td><td>13162</td><td>8.5</td><td>8.5</td><td>0</td><td>1.88</td><td>0.55</td><td>6.06</td><td>0</td><td>⋯</td><td>2016-05-02 23:59:59</td><td>52.6</td><td>115.9631</td><td>22</td><td>22.65</td><td>TRUE</td><td>1.462234e+12</td><td>2016-05-02</td><td>23:59:59</td><td>Normal weight</td></tr>\n",
       "\t<tr><td>1503960366</td><td>2016-04-12</td><td>13162</td><td>8.5</td><td>8.5</td><td>0</td><td>1.88</td><td>0.55</td><td>6.06</td><td>0</td><td>⋯</td><td>2016-05-03 23:59:59</td><td>52.6</td><td>115.9631</td><td>NA</td><td>22.65</td><td>TRUE</td><td>1.462320e+12</td><td>2016-05-03</td><td>23:59:59</td><td>Normal weight</td></tr>\n",
       "\t<tr><td>1503960366</td><td>2016-04-12</td><td>13162</td><td>8.5</td><td>8.5</td><td>0</td><td>1.88</td><td>0.55</td><td>6.06</td><td>0</td><td>⋯</td><td>2016-05-02 23:59:59</td><td>52.6</td><td>115.9631</td><td>22</td><td>22.65</td><td>TRUE</td><td>1.462234e+12</td><td>2016-05-02</td><td>23:59:59</td><td>Normal weight</td></tr>\n",
       "\t<tr><td>1503960366</td><td>2016-04-12</td><td>13162</td><td>8.5</td><td>8.5</td><td>0</td><td>1.88</td><td>0.55</td><td>6.06</td><td>0</td><td>⋯</td><td>2016-05-03 23:59:59</td><td>52.6</td><td>115.9631</td><td>NA</td><td>22.65</td><td>TRUE</td><td>1.462320e+12</td><td>2016-05-03</td><td>23:59:59</td><td>Normal weight</td></tr>\n",
       "\t<tr><td>1503960366</td><td>2016-04-12</td><td>13162</td><td>8.5</td><td>8.5</td><td>0</td><td>1.88</td><td>0.55</td><td>6.06</td><td>0</td><td>⋯</td><td>2016-05-02 23:59:59</td><td>52.6</td><td>115.9631</td><td>22</td><td>22.65</td><td>TRUE</td><td>1.462234e+12</td><td>2016-05-02</td><td>23:59:59</td><td>Normal weight</td></tr>\n",
       "\t<tr><td>1503960366</td><td>2016-04-12</td><td>13162</td><td>8.5</td><td>8.5</td><td>0</td><td>1.88</td><td>0.55</td><td>6.06</td><td>0</td><td>⋯</td><td>2016-05-03 23:59:59</td><td>52.6</td><td>115.9631</td><td>NA</td><td>22.65</td><td>TRUE</td><td>1.462320e+12</td><td>2016-05-03</td><td>23:59:59</td><td>Normal weight</td></tr>\n",
       "</tbody>\n",
       "</table>\n"
      ],
      "text/latex": [
       "A tibble: 6 × 28\n",
       "\\begin{tabular}{lllllllllllllllllllll}\n",
       " Id & ActivityDate & TotalSteps & TotalDistance & TrackerDistance & LoggedActivitiesDistance & VeryActiveDistance & ModeratelyActiveDistance & LightActiveDistance & SedentaryActiveDistance & ⋯ & Date & WeightKg & WeightPounds & Fat & BMI & IsManualReport & LogId & Dates & Time & WeightType\\\\\n",
       " <dbl> & <date> & <dbl> & <dbl> & <dbl> & <dbl> & <dbl> & <dbl> & <dbl> & <dbl> & ⋯ & <dttm> & <dbl> & <dbl> & <dbl> & <dbl> & <lgl> & <dbl> & <date> & <time> & <chr>\\\\\n",
       "\\hline\n",
       "\t 1503960366 & 2016-04-12 & 13162 & 8.5 & 8.5 & 0 & 1.88 & 0.55 & 6.06 & 0 & ⋯ & 2016-05-02 23:59:59 & 52.6 & 115.9631 & 22 & 22.65 & TRUE & 1.462234e+12 & 2016-05-02 & 23:59:59 & Normal weight\\\\\n",
       "\t 1503960366 & 2016-04-12 & 13162 & 8.5 & 8.5 & 0 & 1.88 & 0.55 & 6.06 & 0 & ⋯ & 2016-05-03 23:59:59 & 52.6 & 115.9631 & NA & 22.65 & TRUE & 1.462320e+12 & 2016-05-03 & 23:59:59 & Normal weight\\\\\n",
       "\t 1503960366 & 2016-04-12 & 13162 & 8.5 & 8.5 & 0 & 1.88 & 0.55 & 6.06 & 0 & ⋯ & 2016-05-02 23:59:59 & 52.6 & 115.9631 & 22 & 22.65 & TRUE & 1.462234e+12 & 2016-05-02 & 23:59:59 & Normal weight\\\\\n",
       "\t 1503960366 & 2016-04-12 & 13162 & 8.5 & 8.5 & 0 & 1.88 & 0.55 & 6.06 & 0 & ⋯ & 2016-05-03 23:59:59 & 52.6 & 115.9631 & NA & 22.65 & TRUE & 1.462320e+12 & 2016-05-03 & 23:59:59 & Normal weight\\\\\n",
       "\t 1503960366 & 2016-04-12 & 13162 & 8.5 & 8.5 & 0 & 1.88 & 0.55 & 6.06 & 0 & ⋯ & 2016-05-02 23:59:59 & 52.6 & 115.9631 & 22 & 22.65 & TRUE & 1.462234e+12 & 2016-05-02 & 23:59:59 & Normal weight\\\\\n",
       "\t 1503960366 & 2016-04-12 & 13162 & 8.5 & 8.5 & 0 & 1.88 & 0.55 & 6.06 & 0 & ⋯ & 2016-05-03 23:59:59 & 52.6 & 115.9631 & NA & 22.65 & TRUE & 1.462320e+12 & 2016-05-03 & 23:59:59 & Normal weight\\\\\n",
       "\\end{tabular}\n"
      ],
      "text/markdown": [
       "\n",
       "A tibble: 6 × 28\n",
       "\n",
       "| Id &lt;dbl&gt; | ActivityDate &lt;date&gt; | TotalSteps &lt;dbl&gt; | TotalDistance &lt;dbl&gt; | TrackerDistance &lt;dbl&gt; | LoggedActivitiesDistance &lt;dbl&gt; | VeryActiveDistance &lt;dbl&gt; | ModeratelyActiveDistance &lt;dbl&gt; | LightActiveDistance &lt;dbl&gt; | SedentaryActiveDistance &lt;dbl&gt; | ⋯ ⋯ | Date &lt;dttm&gt; | WeightKg &lt;dbl&gt; | WeightPounds &lt;dbl&gt; | Fat &lt;dbl&gt; | BMI &lt;dbl&gt; | IsManualReport &lt;lgl&gt; | LogId &lt;dbl&gt; | Dates &lt;date&gt; | Time &lt;time&gt; | WeightType &lt;chr&gt; |\n",
       "|---|---|---|---|---|---|---|---|---|---|---|---|---|---|---|---|---|---|---|---|---|\n",
       "| 1503960366 | 2016-04-12 | 13162 | 8.5 | 8.5 | 0 | 1.88 | 0.55 | 6.06 | 0 | ⋯ | 2016-05-02 23:59:59 | 52.6 | 115.9631 | 22 | 22.65 | TRUE | 1.462234e+12 | 2016-05-02 | 23:59:59 | Normal weight |\n",
       "| 1503960366 | 2016-04-12 | 13162 | 8.5 | 8.5 | 0 | 1.88 | 0.55 | 6.06 | 0 | ⋯ | 2016-05-03 23:59:59 | 52.6 | 115.9631 | NA | 22.65 | TRUE | 1.462320e+12 | 2016-05-03 | 23:59:59 | Normal weight |\n",
       "| 1503960366 | 2016-04-12 | 13162 | 8.5 | 8.5 | 0 | 1.88 | 0.55 | 6.06 | 0 | ⋯ | 2016-05-02 23:59:59 | 52.6 | 115.9631 | 22 | 22.65 | TRUE | 1.462234e+12 | 2016-05-02 | 23:59:59 | Normal weight |\n",
       "| 1503960366 | 2016-04-12 | 13162 | 8.5 | 8.5 | 0 | 1.88 | 0.55 | 6.06 | 0 | ⋯ | 2016-05-03 23:59:59 | 52.6 | 115.9631 | NA | 22.65 | TRUE | 1.462320e+12 | 2016-05-03 | 23:59:59 | Normal weight |\n",
       "| 1503960366 | 2016-04-12 | 13162 | 8.5 | 8.5 | 0 | 1.88 | 0.55 | 6.06 | 0 | ⋯ | 2016-05-02 23:59:59 | 52.6 | 115.9631 | 22 | 22.65 | TRUE | 1.462234e+12 | 2016-05-02 | 23:59:59 | Normal weight |\n",
       "| 1503960366 | 2016-04-12 | 13162 | 8.5 | 8.5 | 0 | 1.88 | 0.55 | 6.06 | 0 | ⋯ | 2016-05-03 23:59:59 | 52.6 | 115.9631 | NA | 22.65 | TRUE | 1.462320e+12 | 2016-05-03 | 23:59:59 | Normal weight |\n",
       "\n"
      ],
      "text/plain": [
       "  Id         ActivityDate TotalSteps TotalDistance TrackerDistance\n",
       "1 1503960366 2016-04-12   13162      8.5           8.5            \n",
       "2 1503960366 2016-04-12   13162      8.5           8.5            \n",
       "3 1503960366 2016-04-12   13162      8.5           8.5            \n",
       "4 1503960366 2016-04-12   13162      8.5           8.5            \n",
       "5 1503960366 2016-04-12   13162      8.5           8.5            \n",
       "6 1503960366 2016-04-12   13162      8.5           8.5            \n",
       "  LoggedActivitiesDistance VeryActiveDistance ModeratelyActiveDistance\n",
       "1 0                        1.88               0.55                    \n",
       "2 0                        1.88               0.55                    \n",
       "3 0                        1.88               0.55                    \n",
       "4 0                        1.88               0.55                    \n",
       "5 0                        1.88               0.55                    \n",
       "6 0                        1.88               0.55                    \n",
       "  LightActiveDistance SedentaryActiveDistance ⋯ Date                WeightKg\n",
       "1 6.06                0                       ⋯ 2016-05-02 23:59:59 52.6    \n",
       "2 6.06                0                       ⋯ 2016-05-03 23:59:59 52.6    \n",
       "3 6.06                0                       ⋯ 2016-05-02 23:59:59 52.6    \n",
       "4 6.06                0                       ⋯ 2016-05-03 23:59:59 52.6    \n",
       "5 6.06                0                       ⋯ 2016-05-02 23:59:59 52.6    \n",
       "6 6.06                0                       ⋯ 2016-05-03 23:59:59 52.6    \n",
       "  WeightPounds Fat BMI   IsManualReport LogId        Dates      Time    \n",
       "1 115.9631     22  22.65 TRUE           1.462234e+12 2016-05-02 23:59:59\n",
       "2 115.9631     NA  22.65 TRUE           1.462320e+12 2016-05-03 23:59:59\n",
       "3 115.9631     22  22.65 TRUE           1.462234e+12 2016-05-02 23:59:59\n",
       "4 115.9631     NA  22.65 TRUE           1.462320e+12 2016-05-03 23:59:59\n",
       "5 115.9631     22  22.65 TRUE           1.462234e+12 2016-05-02 23:59:59\n",
       "6 115.9631     NA  22.65 TRUE           1.462320e+12 2016-05-03 23:59:59\n",
       "  WeightType   \n",
       "1 Normal weight\n",
       "2 Normal weight\n",
       "3 Normal weight\n",
       "4 Normal weight\n",
       "5 Normal weight\n",
       "6 Normal weight"
      ]
     },
     "metadata": {},
     "output_type": "display_data"
    }
   ],
   "source": [
    "weight_data <- inner_join(daily_activity,weightLog,by=\"Id\")\n",
    "head(weight_data)\n"
   ]
  },
  {
   "cell_type": "code",
   "execution_count": 30,
   "id": "453b0605",
   "metadata": {
    "execution": {
     "iopub.execute_input": "2022-03-14T13:33:21.233202Z",
     "iopub.status.busy": "2022-03-14T13:33:21.231090Z",
     "iopub.status.idle": "2022-03-14T13:33:21.445099Z",
     "shell.execute_reply": "2022-03-14T13:33:21.443481Z"
    },
    "papermill": {
     "duration": 0.327651,
     "end_time": "2022-03-14T13:33:21.445446",
     "exception": false,
     "start_time": "2022-03-14T13:33:21.117795",
     "status": "completed"
    },
    "tags": []
   },
   "outputs": [
    {
     "data": {
      "text/html": [
       "<table class=\"dataframe\">\n",
       "<caption>A tibble: 3 × 2</caption>\n",
       "<thead>\n",
       "\t<tr><th scope=col>WeightType</th><th scope=col>Avg_Calories</th></tr>\n",
       "\t<tr><th scope=col>&lt;chr&gt;</th><th scope=col>&lt;dbl&gt;</th></tr>\n",
       "</thead>\n",
       "<tbody>\n",
       "\t<tr><td>Normal weight</td><td>1968.463</td></tr>\n",
       "\t<tr><td>Obese        </td><td>2172.806</td></tr>\n",
       "\t<tr><td>Overweight   </td><td>3114.987</td></tr>\n",
       "</tbody>\n",
       "</table>\n"
      ],
      "text/latex": [
       "A tibble: 3 × 2\n",
       "\\begin{tabular}{ll}\n",
       " WeightType & Avg\\_Calories\\\\\n",
       " <chr> & <dbl>\\\\\n",
       "\\hline\n",
       "\t Normal weight & 1968.463\\\\\n",
       "\t Obese         & 2172.806\\\\\n",
       "\t Overweight    & 3114.987\\\\\n",
       "\\end{tabular}\n"
      ],
      "text/markdown": [
       "\n",
       "A tibble: 3 × 2\n",
       "\n",
       "| WeightType &lt;chr&gt; | Avg_Calories &lt;dbl&gt; |\n",
       "|---|---|\n",
       "| Normal weight | 1968.463 |\n",
       "| Obese         | 2172.806 |\n",
       "| Overweight    | 3114.987 |\n",
       "\n"
      ],
      "text/plain": [
       "  WeightType    Avg_Calories\n",
       "1 Normal weight 1968.463    \n",
       "2 Obese         2172.806    \n",
       "3 Overweight    3114.987    "
      ]
     },
     "metadata": {},
     "output_type": "display_data"
    },
    {
     "data": {
      "image/png": "[encoded data removed]"
     },
     "metadata": {
      "image/png": {
       "height": 420,
       "width": 420
      }
     },
     "output_type": "display_data"
    }
   ],
   "source": [
    "weight_data_df <-weight_data %>% \n",
    "             group_by(WeightType)%>%\n",
    "            summarise(Avg_Calories= mean(Calories))\n",
    "head(weight_data_df)\n",
    "\n",
    "\n",
    "ggplot(data=weight_data_df)+geom_bar(aes(x=WeightType,y=Avg_Calories),stat=\"identity\", fill=\"royalblue\")+\n",
    "labs(title=\" Which category burns out the most calories?\")+\n",
    "xlab(\"Weight Type\")+\n",
    "ylab(\"Avg. Calories burnt\")"
   ]
  },
  {
   "cell_type": "markdown",
   "id": "b3db7a10",
   "metadata": {
    "papermill": {
     "duration": 0.102175,
     "end_time": "2022-03-14T13:33:21.650296",
     "exception": false,
     "start_time": "2022-03-14T13:33:21.548121",
     "status": "completed"
    },
    "tags": []
   },
   "source": [
    "It can be seen that Overweight category people burnout the most Calories followed by Obese and Normal weight categories. Obese and normal categories burn almost same amount of calories."
   ]
  },
  {
   "cell_type": "markdown",
   "id": "0ba1cbc7",
   "metadata": {
    "papermill": {
     "duration": 0.102678,
     "end_time": "2022-03-14T13:33:21.855272",
     "exception": false,
     "start_time": "2022-03-14T13:33:21.752594",
     "status": "completed"
    },
    "tags": []
   },
   "source": [
    "**<H3> 8. Summary:**"
   ]
  },
  {
   "cell_type": "markdown",
   "id": "5c1bc2ef",
   "metadata": {
    "_kg_hide-output": false,
    "papermill": {
     "duration": 0.103781,
     "end_time": "2022-03-14T13:33:22.061537",
     "exception": false,
     "start_time": "2022-03-14T13:33:21.957756",
     "status": "completed"
    },
    "tags": []
   },
   "source": [
    "Here is the summarised set of analysis:\n",
    "\n",
    "1. The datasets cover the range from 12th April,2016 to 12th May,2016.\n",
    "2. From the daily dataset, I observed that, on an average, the users spend about 15 hours of their day in Sedentary lifestyle(including Sleep hours) with about 4 hours with Lightly active and 1 hour with Very Active activity.\n",
    "3. The Overweight and the VeryActive category burns the most calories.\n",
    "4. The Fitbit users tend to walk the most on Saturday and Tuesday.\n",
    "5. Few people start working out from 4 am till 12 pm. Maximum Fitbit users' workout period is observed to be from 4 pm to 6 pm. \n",
    "6. From the sleeping pattern, i was able to infer that people buring out maximum calories during the day tend to have a normal sleep routine(8-10hours).\n"
   ]
  },
  {
   "cell_type": "markdown",
   "id": "b880df73",
   "metadata": {
    "papermill": {
     "duration": 0.102952,
     "end_time": "2022-03-14T13:33:22.268424",
     "exception": false,
     "start_time": "2022-03-14T13:33:22.165472",
     "status": "completed"
    },
    "tags": []
   },
   "source": [
    "**<H3> 9. Act:**"
   ]
  },
  {
   "cell_type": "markdown",
   "id": "ca6d7605",
   "metadata": {
    "papermill": {
     "duration": 0.102082,
     "end_time": "2022-03-14T13:33:22.475156",
     "exception": false,
     "start_time": "2022-03-14T13:33:22.373074",
     "status": "completed"
    },
    "tags": []
   },
   "source": [
    " After analysing the datasets, here are a few strategies/personal recommendations, that i think, can guide the marketing team to help Bellabeat achieve greater heights  :\n",
    "\n",
    "##### **1.  Since most of the users workout during 4-6 PM, the company can announce some competition on their app and declare winners daily based on their workout intensity and the calories burnt.These winners will then be eligible for some benefits.Few of these benefits include earning points/coupons which they can redeem in outlets selling sports accessories globally or getting free training sessions on any activity that the user prefers(swimming,yoga)**\n",
    "\n",
    "* This marketing strategy will be hightly beneficial to Bellabeat as Bellabeat can have a tie-up with multiple sports outlets thus increasing its chances of getting recognised globally.\n",
    "* The training sessions can be a win-win for the company by getting their users engaged and to the customers for improving their fitness.\n",
    "\n",
    "##### **2. Bellabeat can plan for '3 months weight loss challenge' especially for the obese/over weight categories followed by few inspirational quotes notifications with every training video, released for this plan.**\n",
    "\n",
    "*  This plan/motivation will help the overweight/obese class to believe in Bellabeat as they will feel included.\n",
    "* This way, the company can display about inclusion/diversity for people of all sizes. Thus allowing Bellabeat to gain trust globally followed by an increase in its users.\n",
    "\n",
    "##### **3. Bellabeat can also try to incorporate additional activity tracking features with their time duration that can track activities like Swimming, Cycling, Gymnastics,Yoga or any Sports games( Football,Wrestling,etc)**\n",
    "\n",
    "* This can help Bellabeat to closely track their users' activity. Bellabeat can be informed of the activities that the users prefer,its frequency and duration.\n",
    "* This will help Bellabeat to increase its business by including these activities in the form of customized trainings/challenges. This will positively impact the users and they will feel connected to it as their preferred activity's sessions have been tailored for them explicitly.\n",
    "* This will heavily benefit Bellabeat's business with a strongly satisfied customer base worldwide. "
   ]
  }
 ],
 "metadata": {
  "kernelspec": {
   "display_name": "R",
   "language": "R",
   "name": "ir"
  },
  "language_info": {
   "codemirror_mode": "r",
   "file_extension": ".r",
   "mimetype": "text/x-r-source",
   "name": "R",
   "pygments_lexer": "r",
   "version": "4.0.5"
  },
  "papermill": {
   "default_parameters": {},
   "duration": 28.246012,
   "end_time": "2022-03-14T13:33:22.688210",
   "environment_variables": {},
   "exception": null,
   "input_path": "__notebook__.ipynb",
   "output_path": "__notebook__.ipynb",
   "parameters": {},
   "start_time": "2022-03-14T13:32:54.442198",
   "version": "2.3.3"
  }
 },
 "nbformat": 4,
 "nbformat_minor": 5
}
